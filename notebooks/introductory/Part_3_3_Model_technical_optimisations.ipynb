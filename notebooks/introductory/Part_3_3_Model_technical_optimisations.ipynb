{
 "cells": [
  {
   "attachments": {},
   "cell_type": "markdown",
   "metadata": {
    "id": "cfsWRsujEj4X"
   },
   "source": [
    "# Now let's look at ways to optimise the model for our specific use case\n"
   ]
  },
  {
   "cell_type": "code",
   "execution_count": 8,
   "metadata": {
    "colab": {
     "base_uri": "https://localhost:8080/",
     "height": 1000
    },
    "id": "9A2H649kF2EE",
    "outputId": "907a9eb4-580a-485f-c9e1-28beee312081"
   },
   "outputs": [
    {
     "name": "stdout",
     "output_type": "stream",
     "text": [
      "Collecting medcat==1.8.0\n",
      "  Downloading medcat-1.8.0-py3-none-any.whl (182 kB)\n",
      "\u001b[2K     \u001b[90m━━━━━━━━━━━━━━━━━━━━━━━━━━━━━━━━━━━━━━━\u001b[0m \u001b[32m182.4/182.4 kB\u001b[0m \u001b[31m3.7 MB/s\u001b[0m eta \u001b[36m0:00:00\u001b[0ma \u001b[36m0:00:01\u001b[0m\n",
      "\u001b[?25hRequirement already satisfied: scikit-learn>=1.1.3 in /Users/martratas/Documents/CogStack/.MedCAT.nosync/MedCATtutorials/tvenv/lib/python3.9/site-packages (from medcat==1.8.0) (1.2.1)\n",
      "Requirement already satisfied: psutil>=5.8.0 in /Users/martratas/Documents/CogStack/.MedCAT.nosync/MedCATtutorials/tvenv/lib/python3.9/site-packages (from medcat==1.8.0) (5.9.2)\n",
      "Requirement already satisfied: jsonpickle>=2.0.0 in /Users/martratas/Documents/CogStack/.MedCAT.nosync/MedCATtutorials/tvenv/lib/python3.9/site-packages (from medcat==1.8.0) (2.0.0)\n",
      "Requirement already satisfied: scipy~=1.9.2 in /Users/martratas/Documents/CogStack/.MedCAT.nosync/MedCATtutorials/tvenv/lib/python3.9/site-packages (from medcat==1.8.0) (1.9.3)\n",
      "Requirement already satisfied: blis<0.8.0,>=0.7.8 in /Users/martratas/Documents/CogStack/.MedCAT.nosync/MedCATtutorials/tvenv/lib/python3.9/site-packages (from medcat==1.8.0) (0.7.9)\n",
      "Requirement already satisfied: numpy>=1.22.0 in /Users/martratas/Documents/CogStack/.MedCAT.nosync/MedCATtutorials/tvenv/lib/python3.9/site-packages (from medcat==1.8.0) (1.23.3)\n",
      "Requirement already satisfied: dill>=0.3.4 in /Users/martratas/Documents/CogStack/.MedCAT.nosync/MedCATtutorials/tvenv/lib/python3.9/site-packages (from medcat==1.8.0) (0.3.4)\n",
      "Requirement already satisfied: aiohttp==3.8.3 in /Users/martratas/Documents/CogStack/.MedCAT.nosync/MedCATtutorials/tvenv/lib/python3.9/site-packages (from medcat==1.8.0) (3.8.3)\n",
      "Requirement already satisfied: pandas>=1.4.2 in /Users/martratas/Documents/CogStack/.MedCAT.nosync/MedCATtutorials/tvenv/lib/python3.9/site-packages (from medcat==1.8.0) (1.4.2)\n",
      "Requirement already satisfied: torch>=1.13.0 in /Users/martratas/Documents/CogStack/.MedCAT.nosync/MedCATtutorials/tvenv/lib/python3.9/site-packages (from medcat==1.8.0) (1.13.1)\n",
      "Requirement already satisfied: gensim>=4.3.0 in /Users/martratas/Documents/CogStack/.MedCAT.nosync/MedCATtutorials/tvenv/lib/python3.9/site-packages (from medcat==1.8.0) (4.3.0)\n",
      "Requirement already satisfied: ipywidgets>=7.6.5 in /Users/martratas/Documents/CogStack/.MedCAT.nosync/MedCATtutorials/tvenv/lib/python3.9/site-packages (from medcat==1.8.0) (7.6.6)\n",
      "Requirement already satisfied: datasets>=2.2.2 in /Users/martratas/Documents/CogStack/.MedCAT.nosync/MedCATtutorials/tvenv/lib/python3.9/site-packages (from medcat==1.8.0) (2.2.2)\n",
      "Requirement already satisfied: multiprocess~=0.70.12 in /Users/martratas/Documents/CogStack/.MedCAT.nosync/MedCATtutorials/tvenv/lib/python3.9/site-packages (from medcat==1.8.0) (0.70.12)\n",
      "Requirement already satisfied: py2neo~=2021.2.3 in /Users/martratas/Documents/CogStack/.MedCAT.nosync/MedCATtutorials/tvenv/lib/python3.9/site-packages (from medcat==1.8.0) (2021.2.3)\n",
      "Requirement already satisfied: tqdm>=4.27 in /Users/martratas/Documents/CogStack/.MedCAT.nosync/MedCATtutorials/tvenv/lib/python3.9/site-packages (from medcat==1.8.0) (4.64.1)\n",
      "Requirement already satisfied: pydantic<2.0,>=1.10.0 in /Users/martratas/Documents/CogStack/.MedCAT.nosync/MedCATtutorials/tvenv/lib/python3.9/site-packages (from medcat==1.8.0) (1.10.5)\n",
      "Requirement already satisfied: click>=8.0.4 in /Users/martratas/Documents/CogStack/.MedCAT.nosync/MedCATtutorials/tvenv/lib/python3.9/site-packages (from medcat==1.8.0) (8.0.4)\n",
      "Requirement already satisfied: transformers<4.22.0,>=4.19.2 in /Users/martratas/Documents/CogStack/.MedCAT.nosync/MedCATtutorials/tvenv/lib/python3.9/site-packages (from medcat==1.8.0) (4.19.4)\n",
      "Requirement already satisfied: spacy>=3.1.0 in /Users/martratas/Documents/CogStack/.MedCAT.nosync/MedCATtutorials/tvenv/lib/python3.9/site-packages (from medcat==1.8.0) (3.5.0)\n",
      "Requirement already satisfied: xxhash>=3.0.0 in /Users/martratas/Documents/CogStack/.MedCAT.nosync/MedCATtutorials/tvenv/lib/python3.9/site-packages (from medcat==1.8.0) (3.0.0)\n",
      "Requirement already satisfied: aiofiles>=0.8.0 in /Users/martratas/Documents/CogStack/.MedCAT.nosync/MedCATtutorials/tvenv/lib/python3.9/site-packages (from medcat==1.8.0) (0.8.0)\n",
      "Requirement already satisfied: frozenlist>=1.1.1 in /Users/martratas/Documents/CogStack/.MedCAT.nosync/MedCATtutorials/tvenv/lib/python3.9/site-packages (from aiohttp==3.8.3->medcat==1.8.0) (1.3.1)\n",
      "Requirement already satisfied: charset-normalizer<3.0,>=2.0 in /Users/martratas/Documents/CogStack/.MedCAT.nosync/MedCATtutorials/tvenv/lib/python3.9/site-packages (from aiohttp==3.8.3->medcat==1.8.0) (2.1.1)\n",
      "Requirement already satisfied: aiosignal>=1.1.2 in /Users/martratas/Documents/CogStack/.MedCAT.nosync/MedCATtutorials/tvenv/lib/python3.9/site-packages (from aiohttp==3.8.3->medcat==1.8.0) (1.2.0)\n",
      "Requirement already satisfied: attrs>=17.3.0 in /Users/martratas/Documents/CogStack/.MedCAT.nosync/MedCATtutorials/tvenv/lib/python3.9/site-packages (from aiohttp==3.8.3->medcat==1.8.0) (22.1.0)\n",
      "Requirement already satisfied: multidict<7.0,>=4.5 in /Users/martratas/Documents/CogStack/.MedCAT.nosync/MedCATtutorials/tvenv/lib/python3.9/site-packages (from aiohttp==3.8.3->medcat==1.8.0) (6.0.2)\n",
      "Requirement already satisfied: async-timeout<5.0,>=4.0.0a3 in /Users/martratas/Documents/CogStack/.MedCAT.nosync/MedCATtutorials/tvenv/lib/python3.9/site-packages (from aiohttp==3.8.3->medcat==1.8.0) (4.0.2)\n",
      "Requirement already satisfied: yarl<2.0,>=1.0 in /Users/martratas/Documents/CogStack/.MedCAT.nosync/MedCATtutorials/tvenv/lib/python3.9/site-packages (from aiohttp==3.8.3->medcat==1.8.0) (1.8.1)\n",
      "Requirement already satisfied: pyarrow>=6.0.0 in /Users/martratas/Documents/CogStack/.MedCAT.nosync/MedCATtutorials/tvenv/lib/python3.9/site-packages (from datasets>=2.2.2->medcat==1.8.0) (9.0.0)\n",
      "Requirement already satisfied: packaging in /Users/martratas/Documents/CogStack/.MedCAT.nosync/MedCATtutorials/tvenv/lib/python3.9/site-packages (from datasets>=2.2.2->medcat==1.8.0) (21.3)\n",
      "Requirement already satisfied: huggingface-hub<1.0.0,>=0.1.0 in /Users/martratas/Documents/CogStack/.MedCAT.nosync/MedCATtutorials/tvenv/lib/python3.9/site-packages (from datasets>=2.2.2->medcat==1.8.0) (0.9.1)\n",
      "Requirement already satisfied: fsspec[http]>=2021.05.0 in /Users/martratas/Documents/CogStack/.MedCAT.nosync/MedCATtutorials/tvenv/lib/python3.9/site-packages (from datasets>=2.2.2->medcat==1.8.0) (2022.8.2)\n",
      "Requirement already satisfied: responses<0.19 in /Users/martratas/Documents/CogStack/.MedCAT.nosync/MedCATtutorials/tvenv/lib/python3.9/site-packages (from datasets>=2.2.2->medcat==1.8.0) (0.18.0)\n",
      "Requirement already satisfied: requests>=2.19.0 in /Users/martratas/Documents/CogStack/.MedCAT.nosync/MedCATtutorials/tvenv/lib/python3.9/site-packages (from datasets>=2.2.2->medcat==1.8.0) (2.28.1)\n",
      "Requirement already satisfied: smart_open>=1.8.1 in /Users/martratas/Documents/CogStack/.MedCAT.nosync/MedCATtutorials/tvenv/lib/python3.9/site-packages (from gensim>=4.3.0->medcat==1.8.0) (5.2.1)\n",
      "Requirement already satisfied: FuzzyTM>=0.4.0 in /Users/martratas/Documents/CogStack/.MedCAT.nosync/MedCATtutorials/tvenv/lib/python3.9/site-packages (from gensim>=4.3.0->medcat==1.8.0) (2.0.5)\n",
      "Requirement already satisfied: jupyterlab-widgets<3,>=1.0.0 in /Users/martratas/Documents/CogStack/.MedCAT.nosync/MedCATtutorials/tvenv/lib/python3.9/site-packages (from ipywidgets>=7.6.5->medcat==1.8.0) (1.1.1)\n",
      "Requirement already satisfied: traitlets>=4.3.1 in /Users/martratas/Documents/CogStack/.MedCAT.nosync/MedCATtutorials/tvenv/lib/python3.9/site-packages (from ipywidgets>=7.6.5->medcat==1.8.0) (5.4.0)\n",
      "Requirement already satisfied: ipython-genutils~=0.2.0 in /Users/martratas/Documents/CogStack/.MedCAT.nosync/MedCATtutorials/tvenv/lib/python3.9/site-packages (from ipywidgets>=7.6.5->medcat==1.8.0) (0.2.0)\n",
      "Requirement already satisfied: widgetsnbextension~=3.5.0 in /Users/martratas/Documents/CogStack/.MedCAT.nosync/MedCATtutorials/tvenv/lib/python3.9/site-packages (from ipywidgets>=7.6.5->medcat==1.8.0) (3.5.2)\n",
      "Requirement already satisfied: ipykernel>=4.5.1 in /Users/martratas/Documents/CogStack/.MedCAT.nosync/MedCATtutorials/tvenv/lib/python3.9/site-packages (from ipywidgets>=7.6.5->medcat==1.8.0) (6.15.3)\n",
      "Requirement already satisfied: ipython>=4.0.0 in /Users/martratas/Documents/CogStack/.MedCAT.nosync/MedCATtutorials/tvenv/lib/python3.9/site-packages (from ipywidgets>=7.6.5->medcat==1.8.0) (8.5.0)\n",
      "Requirement already satisfied: nbformat>=4.2.0 in /Users/martratas/Documents/CogStack/.MedCAT.nosync/MedCATtutorials/tvenv/lib/python3.9/site-packages (from ipywidgets>=7.6.5->medcat==1.8.0) (5.5.0)\n",
      "Requirement already satisfied: pytz>=2020.1 in /Users/martratas/Documents/CogStack/.MedCAT.nosync/MedCATtutorials/tvenv/lib/python3.9/site-packages (from pandas>=1.4.2->medcat==1.8.0) (2022.2.1)\n",
      "Requirement already satisfied: python-dateutil>=2.8.1 in /Users/martratas/Documents/CogStack/.MedCAT.nosync/MedCATtutorials/tvenv/lib/python3.9/site-packages (from pandas>=1.4.2->medcat==1.8.0) (2.8.2)\n",
      "Requirement already satisfied: interchange~=2021.0.4 in /Users/martratas/Documents/CogStack/.MedCAT.nosync/MedCATtutorials/tvenv/lib/python3.9/site-packages (from py2neo~=2021.2.3->medcat==1.8.0) (2021.0.4)\n",
      "Requirement already satisfied: pansi>=2020.7.3 in /Users/martratas/Documents/CogStack/.MedCAT.nosync/MedCATtutorials/tvenv/lib/python3.9/site-packages (from py2neo~=2021.2.3->medcat==1.8.0) (2020.7.3)\n",
      "Requirement already satisfied: urllib3 in /Users/martratas/Documents/CogStack/.MedCAT.nosync/MedCATtutorials/tvenv/lib/python3.9/site-packages (from py2neo~=2021.2.3->medcat==1.8.0) (1.26.12)\n",
      "Requirement already satisfied: pygments>=2.0.0 in /Users/martratas/Documents/CogStack/.MedCAT.nosync/MedCATtutorials/tvenv/lib/python3.9/site-packages (from py2neo~=2021.2.3->medcat==1.8.0) (2.13.0)\n",
      "Requirement already satisfied: six>=1.15.0 in /Users/martratas/Documents/CogStack/.MedCAT.nosync/MedCATtutorials/tvenv/lib/python3.9/site-packages (from py2neo~=2021.2.3->medcat==1.8.0) (1.16.0)\n",
      "Requirement already satisfied: certifi in /Users/martratas/Documents/CogStack/.MedCAT.nosync/MedCATtutorials/tvenv/lib/python3.9/site-packages (from py2neo~=2021.2.3->medcat==1.8.0) (2022.9.14)\n",
      "Requirement already satisfied: monotonic in /Users/martratas/Documents/CogStack/.MedCAT.nosync/MedCATtutorials/tvenv/lib/python3.9/site-packages (from py2neo~=2021.2.3->medcat==1.8.0) (1.6)\n",
      "Requirement already satisfied: typing-extensions>=4.2.0 in /Users/martratas/Documents/CogStack/.MedCAT.nosync/MedCATtutorials/tvenv/lib/python3.9/site-packages (from pydantic<2.0,>=1.10.0->medcat==1.8.0) (4.3.0)\n",
      "Requirement already satisfied: joblib>=1.1.1 in /Users/martratas/Documents/CogStack/.MedCAT.nosync/MedCATtutorials/tvenv/lib/python3.9/site-packages (from scikit-learn>=1.1.3->medcat==1.8.0) (1.2.0)\n",
      "Requirement already satisfied: threadpoolctl>=2.0.0 in /Users/martratas/Documents/CogStack/.MedCAT.nosync/MedCATtutorials/tvenv/lib/python3.9/site-packages (from scikit-learn>=1.1.3->medcat==1.8.0) (3.1.0)\n",
      "Requirement already satisfied: preshed<3.1.0,>=3.0.2 in /Users/martratas/Documents/CogStack/.MedCAT.nosync/MedCATtutorials/tvenv/lib/python3.9/site-packages (from spacy>=3.1.0->medcat==1.8.0) (3.0.7)\n",
      "Requirement already satisfied: wasabi<1.2.0,>=0.9.1 in /Users/martratas/Documents/CogStack/.MedCAT.nosync/MedCATtutorials/tvenv/lib/python3.9/site-packages (from spacy>=3.1.0->medcat==1.8.0) (0.10.1)\n",
      "Requirement already satisfied: pathy>=0.10.0 in /Users/martratas/Documents/CogStack/.MedCAT.nosync/MedCATtutorials/tvenv/lib/python3.9/site-packages (from spacy>=3.1.0->medcat==1.8.0) (0.10.1)\n",
      "Requirement already satisfied: cymem<2.1.0,>=2.0.2 in /Users/martratas/Documents/CogStack/.MedCAT.nosync/MedCATtutorials/tvenv/lib/python3.9/site-packages (from spacy>=3.1.0->medcat==1.8.0) (2.0.6)\n",
      "Requirement already satisfied: thinc<8.2.0,>=8.1.0 in /Users/martratas/Documents/CogStack/.MedCAT.nosync/MedCATtutorials/tvenv/lib/python3.9/site-packages (from spacy>=3.1.0->medcat==1.8.0) (8.1.8)\n",
      "Requirement already satisfied: spacy-legacy<3.1.0,>=3.0.11 in /Users/martratas/Documents/CogStack/.MedCAT.nosync/MedCATtutorials/tvenv/lib/python3.9/site-packages (from spacy>=3.1.0->medcat==1.8.0) (3.0.12)\n",
      "Requirement already satisfied: srsly<3.0.0,>=2.4.3 in /Users/martratas/Documents/CogStack/.MedCAT.nosync/MedCATtutorials/tvenv/lib/python3.9/site-packages (from spacy>=3.1.0->medcat==1.8.0) (2.4.4)\n",
      "Requirement already satisfied: setuptools in /Users/martratas/Documents/CogStack/.MedCAT.nosync/MedCATtutorials/tvenv/lib/python3.9/site-packages (from spacy>=3.1.0->medcat==1.8.0) (58.0.4)\n",
      "Requirement already satisfied: langcodes<4.0.0,>=3.2.0 in /Users/martratas/Documents/CogStack/.MedCAT.nosync/MedCATtutorials/tvenv/lib/python3.9/site-packages (from spacy>=3.1.0->medcat==1.8.0) (3.3.0)\n",
      "Requirement already satisfied: typer<0.8.0,>=0.3.0 in /Users/martratas/Documents/CogStack/.MedCAT.nosync/MedCATtutorials/tvenv/lib/python3.9/site-packages (from spacy>=3.1.0->medcat==1.8.0) (0.4.2)\n",
      "Requirement already satisfied: catalogue<2.1.0,>=2.0.6 in /Users/martratas/Documents/CogStack/.MedCAT.nosync/MedCATtutorials/tvenv/lib/python3.9/site-packages (from spacy>=3.1.0->medcat==1.8.0) (2.0.8)\n",
      "Requirement already satisfied: murmurhash<1.1.0,>=0.28.0 in /Users/martratas/Documents/CogStack/.MedCAT.nosync/MedCATtutorials/tvenv/lib/python3.9/site-packages (from spacy>=3.1.0->medcat==1.8.0) (1.0.8)\n",
      "Requirement already satisfied: jinja2 in /Users/martratas/Documents/CogStack/.MedCAT.nosync/MedCATtutorials/tvenv/lib/python3.9/site-packages (from spacy>=3.1.0->medcat==1.8.0) (3.0.0)\n",
      "Requirement already satisfied: spacy-loggers<2.0.0,>=1.0.0 in /Users/martratas/Documents/CogStack/.MedCAT.nosync/MedCATtutorials/tvenv/lib/python3.9/site-packages (from spacy>=3.1.0->medcat==1.8.0) (1.0.4)\n",
      "Requirement already satisfied: regex!=2019.12.17 in /Users/martratas/Documents/CogStack/.MedCAT.nosync/MedCATtutorials/tvenv/lib/python3.9/site-packages (from transformers<4.22.0,>=4.19.2->medcat==1.8.0) (2022.9.13)\n",
      "Requirement already satisfied: tokenizers!=0.11.3,<0.13,>=0.11.1 in /Users/martratas/Documents/CogStack/.MedCAT.nosync/MedCATtutorials/tvenv/lib/python3.9/site-packages (from transformers<4.22.0,>=4.19.2->medcat==1.8.0) (0.12.1)\n",
      "Requirement already satisfied: pyyaml>=5.1 in /Users/martratas/Documents/CogStack/.MedCAT.nosync/MedCATtutorials/tvenv/lib/python3.9/site-packages (from transformers<4.22.0,>=4.19.2->medcat==1.8.0) (6.0)\n",
      "Requirement already satisfied: filelock in /Users/martratas/Documents/CogStack/.MedCAT.nosync/MedCATtutorials/tvenv/lib/python3.9/site-packages (from transformers<4.22.0,>=4.19.2->medcat==1.8.0) (3.8.0)\n",
      "Requirement already satisfied: pyfume in /Users/martratas/Documents/CogStack/.MedCAT.nosync/MedCATtutorials/tvenv/lib/python3.9/site-packages (from FuzzyTM>=0.4.0->gensim>=4.3.0->medcat==1.8.0) (0.2.25)\n",
      "Requirement already satisfied: tornado>=6.1 in /Users/martratas/Documents/CogStack/.MedCAT.nosync/MedCATtutorials/tvenv/lib/python3.9/site-packages (from ipykernel>=4.5.1->ipywidgets>=7.6.5->medcat==1.8.0) (6.2)\n",
      "Requirement already satisfied: nest-asyncio in /Users/martratas/Documents/CogStack/.MedCAT.nosync/MedCATtutorials/tvenv/lib/python3.9/site-packages (from ipykernel>=4.5.1->ipywidgets>=7.6.5->medcat==1.8.0) (1.5.5)\n",
      "Requirement already satisfied: jupyter-client>=6.1.12 in /Users/martratas/Documents/CogStack/.MedCAT.nosync/MedCATtutorials/tvenv/lib/python3.9/site-packages (from ipykernel>=4.5.1->ipywidgets>=7.6.5->medcat==1.8.0) (7.3.5)\n",
      "Requirement already satisfied: pyzmq>=17 in /Users/martratas/Documents/CogStack/.MedCAT.nosync/MedCATtutorials/tvenv/lib/python3.9/site-packages (from ipykernel>=4.5.1->ipywidgets>=7.6.5->medcat==1.8.0) (23.2.1)\n",
      "Requirement already satisfied: matplotlib-inline>=0.1 in /Users/martratas/Documents/CogStack/.MedCAT.nosync/MedCATtutorials/tvenv/lib/python3.9/site-packages (from ipykernel>=4.5.1->ipywidgets>=7.6.5->medcat==1.8.0) (0.1.6)\n",
      "Requirement already satisfied: debugpy>=1.0 in /Users/martratas/Documents/CogStack/.MedCAT.nosync/MedCATtutorials/tvenv/lib/python3.9/site-packages (from ipykernel>=4.5.1->ipywidgets>=7.6.5->medcat==1.8.0) (1.6.3)\n",
      "Requirement already satisfied: appnope in /Users/martratas/Documents/CogStack/.MedCAT.nosync/MedCATtutorials/tvenv/lib/python3.9/site-packages (from ipykernel>=4.5.1->ipywidgets>=7.6.5->medcat==1.8.0) (0.1.3)\n",
      "Requirement already satisfied: decorator in /Users/martratas/Documents/CogStack/.MedCAT.nosync/MedCATtutorials/tvenv/lib/python3.9/site-packages (from ipython>=4.0.0->ipywidgets>=7.6.5->medcat==1.8.0) (5.1.1)\n",
      "Requirement already satisfied: prompt-toolkit<3.1.0,>3.0.1 in /Users/martratas/Documents/CogStack/.MedCAT.nosync/MedCATtutorials/tvenv/lib/python3.9/site-packages (from ipython>=4.0.0->ipywidgets>=7.6.5->medcat==1.8.0) (3.0.31)\n",
      "Requirement already satisfied: backcall in /Users/martratas/Documents/CogStack/.MedCAT.nosync/MedCATtutorials/tvenv/lib/python3.9/site-packages (from ipython>=4.0.0->ipywidgets>=7.6.5->medcat==1.8.0) (0.2.0)\n",
      "Requirement already satisfied: stack-data in /Users/martratas/Documents/CogStack/.MedCAT.nosync/MedCATtutorials/tvenv/lib/python3.9/site-packages (from ipython>=4.0.0->ipywidgets>=7.6.5->medcat==1.8.0) (0.5.0)\n",
      "Requirement already satisfied: pickleshare in /Users/martratas/Documents/CogStack/.MedCAT.nosync/MedCATtutorials/tvenv/lib/python3.9/site-packages (from ipython>=4.0.0->ipywidgets>=7.6.5->medcat==1.8.0) (0.7.5)\n",
      "Requirement already satisfied: pexpect>4.3 in /Users/martratas/Documents/CogStack/.MedCAT.nosync/MedCATtutorials/tvenv/lib/python3.9/site-packages (from ipython>=4.0.0->ipywidgets>=7.6.5->medcat==1.8.0) (4.8.0)\n",
      "Requirement already satisfied: jedi>=0.16 in /Users/martratas/Documents/CogStack/.MedCAT.nosync/MedCATtutorials/tvenv/lib/python3.9/site-packages (from ipython>=4.0.0->ipywidgets>=7.6.5->medcat==1.8.0) (0.18.1)\n",
      "Requirement already satisfied: jsonschema>=2.6 in /Users/martratas/Documents/CogStack/.MedCAT.nosync/MedCATtutorials/tvenv/lib/python3.9/site-packages (from nbformat>=4.2.0->ipywidgets>=7.6.5->medcat==1.8.0) (4.16.0)\n",
      "Requirement already satisfied: fastjsonschema in /Users/martratas/Documents/CogStack/.MedCAT.nosync/MedCATtutorials/tvenv/lib/python3.9/site-packages (from nbformat>=4.2.0->ipywidgets>=7.6.5->medcat==1.8.0) (2.16.1)\n",
      "Requirement already satisfied: jupyter_core in /Users/martratas/Documents/CogStack/.MedCAT.nosync/MedCATtutorials/tvenv/lib/python3.9/site-packages (from nbformat>=4.2.0->ipywidgets>=7.6.5->medcat==1.8.0) (4.11.1)\n",
      "Requirement already satisfied: pyparsing!=3.0.5,>=2.0.2 in /Users/martratas/Documents/CogStack/.MedCAT.nosync/MedCATtutorials/tvenv/lib/python3.9/site-packages (from packaging->datasets>=2.2.2->medcat==1.8.0) (3.0.9)\n",
      "Requirement already satisfied: idna<4,>=2.5 in /Users/martratas/Documents/CogStack/.MedCAT.nosync/MedCATtutorials/tvenv/lib/python3.9/site-packages (from requests>=2.19.0->datasets>=2.2.2->medcat==1.8.0) (3.4)\n",
      "Requirement already satisfied: confection<1.0.0,>=0.0.1 in /Users/martratas/Documents/CogStack/.MedCAT.nosync/MedCATtutorials/tvenv/lib/python3.9/site-packages (from thinc<8.2.0,>=8.1.0->spacy>=3.1.0->medcat==1.8.0) (0.0.4)\n",
      "Requirement already satisfied: notebook>=4.4.1 in /Users/martratas/Documents/CogStack/.MedCAT.nosync/MedCATtutorials/tvenv/lib/python3.9/site-packages (from widgetsnbextension~=3.5.0->ipywidgets>=7.6.5->medcat==1.8.0) (6.4.12)\n",
      "Requirement already satisfied: MarkupSafe>=2.0.0rc2 in /Users/martratas/Documents/CogStack/.MedCAT.nosync/MedCATtutorials/tvenv/lib/python3.9/site-packages (from jinja2->spacy>=3.1.0->medcat==1.8.0) (2.1.1)\n",
      "Requirement already satisfied: parso<0.9.0,>=0.8.0 in /Users/martratas/Documents/CogStack/.MedCAT.nosync/MedCATtutorials/tvenv/lib/python3.9/site-packages (from jedi>=0.16->ipython>=4.0.0->ipywidgets>=7.6.5->medcat==1.8.0) (0.8.3)\n",
      "Requirement already satisfied: pyrsistent!=0.17.0,!=0.17.1,!=0.17.2,>=0.14.0 in /Users/martratas/Documents/CogStack/.MedCAT.nosync/MedCATtutorials/tvenv/lib/python3.9/site-packages (from jsonschema>=2.6->nbformat>=4.2.0->ipywidgets>=7.6.5->medcat==1.8.0) (0.18.1)\n",
      "Requirement already satisfied: entrypoints in /Users/martratas/Documents/CogStack/.MedCAT.nosync/MedCATtutorials/tvenv/lib/python3.9/site-packages (from jupyter-client>=6.1.12->ipykernel>=4.5.1->ipywidgets>=7.6.5->medcat==1.8.0) (0.4)\n",
      "Requirement already satisfied: terminado>=0.8.3 in /Users/martratas/Documents/CogStack/.MedCAT.nosync/MedCATtutorials/tvenv/lib/python3.9/site-packages (from notebook>=4.4.1->widgetsnbextension~=3.5.0->ipywidgets>=7.6.5->medcat==1.8.0) (0.15.0)\n",
      "Requirement already satisfied: nbconvert>=5 in /Users/martratas/Documents/CogStack/.MedCAT.nosync/MedCATtutorials/tvenv/lib/python3.9/site-packages (from notebook>=4.4.1->widgetsnbextension~=3.5.0->ipywidgets>=7.6.5->medcat==1.8.0) (5.6.1)\n",
      "Requirement already satisfied: Send2Trash>=1.8.0 in /Users/martratas/Documents/CogStack/.MedCAT.nosync/MedCATtutorials/tvenv/lib/python3.9/site-packages (from notebook>=4.4.1->widgetsnbextension~=3.5.0->ipywidgets>=7.6.5->medcat==1.8.0) (1.8.0)\n",
      "Requirement already satisfied: prometheus-client in /Users/martratas/Documents/CogStack/.MedCAT.nosync/MedCATtutorials/tvenv/lib/python3.9/site-packages (from notebook>=4.4.1->widgetsnbextension~=3.5.0->ipywidgets>=7.6.5->medcat==1.8.0) (0.14.1)\n",
      "Requirement already satisfied: argon2-cffi in /Users/martratas/Documents/CogStack/.MedCAT.nosync/MedCATtutorials/tvenv/lib/python3.9/site-packages (from notebook>=4.4.1->widgetsnbextension~=3.5.0->ipywidgets>=7.6.5->medcat==1.8.0) (21.3.0)\n",
      "Requirement already satisfied: ptyprocess>=0.5 in /Users/martratas/Documents/CogStack/.MedCAT.nosync/MedCATtutorials/tvenv/lib/python3.9/site-packages (from pexpect>4.3->ipython>=4.0.0->ipywidgets>=7.6.5->medcat==1.8.0) (0.7.0)\n",
      "Requirement already satisfied: wcwidth in /Users/martratas/Documents/CogStack/.MedCAT.nosync/MedCATtutorials/tvenv/lib/python3.9/site-packages (from prompt-toolkit<3.1.0,>3.0.1->ipython>=4.0.0->ipywidgets>=7.6.5->medcat==1.8.0) (0.2.5)\n",
      "Requirement already satisfied: fst-pso in /Users/martratas/Documents/CogStack/.MedCAT.nosync/MedCATtutorials/tvenv/lib/python3.9/site-packages (from pyfume->FuzzyTM>=0.4.0->gensim>=4.3.0->medcat==1.8.0) (1.8.1)\n",
      "Requirement already satisfied: simpful in /Users/martratas/Documents/CogStack/.MedCAT.nosync/MedCATtutorials/tvenv/lib/python3.9/site-packages (from pyfume->FuzzyTM>=0.4.0->gensim>=4.3.0->medcat==1.8.0) (2.10.0)\n",
      "Requirement already satisfied: executing in /Users/martratas/Documents/CogStack/.MedCAT.nosync/MedCATtutorials/tvenv/lib/python3.9/site-packages (from stack-data->ipython>=4.0.0->ipywidgets>=7.6.5->medcat==1.8.0) (1.0.0)\n",
      "Requirement already satisfied: pure-eval in /Users/martratas/Documents/CogStack/.MedCAT.nosync/MedCATtutorials/tvenv/lib/python3.9/site-packages (from stack-data->ipython>=4.0.0->ipywidgets>=7.6.5->medcat==1.8.0) (0.2.2)\n",
      "Requirement already satisfied: asttokens in /Users/martratas/Documents/CogStack/.MedCAT.nosync/MedCATtutorials/tvenv/lib/python3.9/site-packages (from stack-data->ipython>=4.0.0->ipywidgets>=7.6.5->medcat==1.8.0) (2.0.8)\n",
      "Requirement already satisfied: bleach in /Users/martratas/Documents/CogStack/.MedCAT.nosync/MedCATtutorials/tvenv/lib/python3.9/site-packages (from nbconvert>=5->notebook>=4.4.1->widgetsnbextension~=3.5.0->ipywidgets>=7.6.5->medcat==1.8.0) (5.0.1)\n",
      "Requirement already satisfied: mistune<2,>=0.8.1 in /Users/martratas/Documents/CogStack/.MedCAT.nosync/MedCATtutorials/tvenv/lib/python3.9/site-packages (from nbconvert>=5->notebook>=4.4.1->widgetsnbextension~=3.5.0->ipywidgets>=7.6.5->medcat==1.8.0) (0.8.4)\n",
      "Requirement already satisfied: defusedxml in /Users/martratas/Documents/CogStack/.MedCAT.nosync/MedCATtutorials/tvenv/lib/python3.9/site-packages (from nbconvert>=5->notebook>=4.4.1->widgetsnbextension~=3.5.0->ipywidgets>=7.6.5->medcat==1.8.0) (0.7.1)\n",
      "Requirement already satisfied: testpath in /Users/martratas/Documents/CogStack/.MedCAT.nosync/MedCATtutorials/tvenv/lib/python3.9/site-packages (from nbconvert>=5->notebook>=4.4.1->widgetsnbextension~=3.5.0->ipywidgets>=7.6.5->medcat==1.8.0) (0.6.0)\n",
      "Requirement already satisfied: pandocfilters>=1.4.1 in /Users/martratas/Documents/CogStack/.MedCAT.nosync/MedCATtutorials/tvenv/lib/python3.9/site-packages (from nbconvert>=5->notebook>=4.4.1->widgetsnbextension~=3.5.0->ipywidgets>=7.6.5->medcat==1.8.0) (1.5.0)\n",
      "Requirement already satisfied: argon2-cffi-bindings in /Users/martratas/Documents/CogStack/.MedCAT.nosync/MedCATtutorials/tvenv/lib/python3.9/site-packages (from argon2-cffi->notebook>=4.4.1->widgetsnbextension~=3.5.0->ipywidgets>=7.6.5->medcat==1.8.0) (21.2.0)\n",
      "Requirement already satisfied: miniful in /Users/martratas/Documents/CogStack/.MedCAT.nosync/MedCATtutorials/tvenv/lib/python3.9/site-packages (from fst-pso->pyfume->FuzzyTM>=0.4.0->gensim>=4.3.0->medcat==1.8.0) (0.0.6)\n",
      "Requirement already satisfied: cffi>=1.0.1 in /Users/martratas/Documents/CogStack/.MedCAT.nosync/MedCATtutorials/tvenv/lib/python3.9/site-packages (from argon2-cffi-bindings->argon2-cffi->notebook>=4.4.1->widgetsnbextension~=3.5.0->ipywidgets>=7.6.5->medcat==1.8.0) (1.15.1)\n",
      "Requirement already satisfied: webencodings in /Users/martratas/Documents/CogStack/.MedCAT.nosync/MedCATtutorials/tvenv/lib/python3.9/site-packages (from bleach->nbconvert>=5->notebook>=4.4.1->widgetsnbextension~=3.5.0->ipywidgets>=7.6.5->medcat==1.8.0) (0.5.1)\n",
      "Requirement already satisfied: pycparser in /Users/martratas/Documents/CogStack/.MedCAT.nosync/MedCATtutorials/tvenv/lib/python3.9/site-packages (from cffi>=1.0.1->argon2-cffi-bindings->argon2-cffi->notebook>=4.4.1->widgetsnbextension~=3.5.0->ipywidgets>=7.6.5->medcat==1.8.0) (2.21)\n",
      "Installing collected packages: medcat\n",
      "  Attempting uninstall: medcat\n",
      "    Found existing installation: medcat 1.7.1\n",
      "    Uninstalling medcat-1.7.1:\n",
      "      Successfully uninstalled medcat-1.7.1\n",
      "Successfully installed medcat-1.8.0\n",
      "\n",
      "\u001b[1m[\u001b[0m\u001b[34;49mnotice\u001b[0m\u001b[1;39;49m]\u001b[0m\u001b[39;49m A new release of pip available: \u001b[0m\u001b[31;49m22.2.2\u001b[0m\u001b[39;49m -> \u001b[0m\u001b[32;49m23.1.2\u001b[0m\n",
      "\u001b[1m[\u001b[0m\u001b[34;49mnotice\u001b[0m\u001b[1;39;49m]\u001b[0m\u001b[39;49m To update, run: \u001b[0m\u001b[32;49mpip install --upgrade pip\u001b[0m\n"
     ]
    }
   ],
   "source": [
    "# Install medcat\n",
    "! pip install medcat==1.8.0\n",
    "try:\n",
    "    from medcat.cat import CAT\n",
    "except:\n",
    "    print(\"WARNING: Runtime will restart automatically and please run other cells thereafter.\")\n",
    "    exit()"
   ]
  },
  {
   "attachments": {},
   "cell_type": "markdown",
   "metadata": {
    "id": "3OLVuMJE03da"
   },
   "source": [
    "**Restart the runtime if on colab, sometimes necessary after installing models**"
   ]
  },
  {
   "cell_type": "code",
   "execution_count": 9,
   "metadata": {
    "colab": {
     "base_uri": "https://localhost:8080/"
    },
    "id": "lho2dmm1VffS",
    "outputId": "f21bc7e4-f8f0-424f-b74d-eb24fc22e38a"
   },
   "outputs": [],
   "source": [
    "from medcat.utils import memory_optimiser"
   ]
  },
  {
   "cell_type": "code",
   "execution_count": 10,
   "metadata": {
    "id": "VH8L597aVffZ"
   },
   "outputs": [],
   "source": [
    "DATA_DIR = \"./data_p3.3/\"\n",
    "! DATA_DIR=\"./data_p3.3/\"\n",
    "model_pack_path = DATA_DIR + \"medmen_wstatus_2021_oct.zip\""
   ]
  },
  {
   "cell_type": "code",
   "execution_count": 11,
   "metadata": {
    "colab": {
     "base_uri": "https://localhost:8080/"
    },
    "id": "ics9eFrUI5lo",
    "outputId": "ff99d62e-02a3-4255-c4dd-947db4d3425b"
   },
   "outputs": [
    {
     "name": "stdout",
     "output_type": "stream",
     "text": [
      "--2023-07-07 10:39:55--  https://medcat.rosalind.kcl.ac.uk/media/medmen_wstatus_2021_oct.zip\n",
      "Resolving medcat.rosalind.kcl.ac.uk (medcat.rosalind.kcl.ac.uk)... 193.61.202.225\n",
      "Connecting to medcat.rosalind.kcl.ac.uk (medcat.rosalind.kcl.ac.uk)|193.61.202.225|:443... connected.\n",
      "HTTP request sent, awaiting response... 304 Not Modified\n",
      "File ‘./data_p3.3/medmen_wstatus_2021_oct.zip’ not modified on server. Omitting download.\n",
      "\n"
     ]
    }
   ],
   "source": [
    "# Download the models and required data\n",
    "!wget -N https://cogstack-medcat-example-models.s3.eu-west-2.amazonaws.com/medcat-example-models/medmen_wstatus_2021_oct.zip -P $DATA_DIR"
   ]
  },
  {
   "attachments": {},
   "cell_type": "markdown",
   "metadata": {
    "id": "_thSfOjVVffc"
   },
   "source": [
    "## Loading the MedCAT modelpack"
   ]
  },
  {
   "cell_type": "code",
   "execution_count": 12,
   "metadata": {
    "colab": {
     "base_uri": "https://localhost:8080/"
    },
    "id": "LFgIA5tSVffd",
    "outputId": "c96d50a2-cf1d-4d4e-a45d-6aecb6f16ddc"
   },
   "outputs": [
    {
     "name": "stderr",
     "output_type": "stream",
     "text": [
      "/Users/martratas/Documents/CogStack/.MedCAT.nosync/MedCATtutorials/tvenv/lib/python3.9/site-packages/spacy/util.py:877: UserWarning: [W095] Model 'en_core_web_md' (3.1.0) was trained with spaCy v3.1 and may not be 100% compatible with the current version (3.5.0). If you see errors or degraded performance, download a newer compatible model or retrain your custom model with the current spaCy version. For more details and available updates, run: python -m spacy validate\n",
      "  warnings.warn(warn_msg)\n"
     ]
    }
   ],
   "source": [
    "# Load model pack and Create CAT - the main class from medcat used for concept annotation\n",
    "cat = CAT.load_model_pack(model_pack_path)\n"
   ]
  },
  {
   "attachments": {},
   "cell_type": "markdown",
   "metadata": {
    "id": "f7VxmscmVffi"
   },
   "source": [
    "## Ability to save the CDB in JSON format to save on load times\n",
    "MedCAT model save files can take a long time to load off disk.\n",
    "Because of this, we've added a method that allows part of the model's CDB\n",
    "to be saved in JSON format to allow for faster reading off disk.\n",
    "\n",
    "However, it must be noted, that this load time improvement will come at a cost\n",
    "in terms of file size on disk. In the limited testing, a model would become\n",
    "around 35% faster to load off disk while gaining size of around 35% on disk.\n",
    "The disk size increase happens for the unzipped model pack. The compressed\n",
    ".zip files would be expected to be roughly the same size in either case.\n",
    "\n",
    "PS! Memory-optimised models cannot be meaningfully loaded using medcat versions before 1.8.0."
   ]
  },
  {
   "cell_type": "code",
   "execution_count": 13,
   "metadata": {
    "colab": {
     "base_uri": "https://localhost:8080/"
    },
    "id": "7_L4-zPPVffj",
    "outputId": "a019ac36-b267-46d5-92fb-b268f1bece54"
   },
   "outputs": [
    {
     "data": {
      "text/plain": [
       "'medcat_model_pack_3754129a0c28ebbf'"
      ]
     },
     "execution_count": 13,
     "metadata": {},
     "output_type": "execute_result"
    }
   ],
   "source": [
    "save_dir = DATA_DIR + '/' + 'cdb_json_model'\n",
    "# to save CDB as json\n",
    "cat.create_model_pack(save_dir, cdb_format='json')  # the default format is dill"
   ]
  },
  {
   "attachments": {},
   "cell_type": "markdown",
   "metadata": {
    "id": "et68xVzxVffr"
   },
   "source": [
    "## Ability to memory-optimise the medcat model\n",
    "\n",
    "Many MedCAT models take up a lot of memory when loaded.\n",
    "That's why there's now (since 1.8.0) a method to optimise\n",
    "the model for lower memory usage. However, as expected,\n",
    "this comes at the expense of _some_ performance (in terms\n",
    "of execution time, not model performance).\n",
    "\n",
    "The user can specify which parts of the memroy optimisation\n",
    "they wish to use. However, the limited testing suggests\n",
    "that the default (optimising on CUIs and snames) works best\n",
    "and doing so on names as well will actually have the opposite\n",
    "effect."
   ]
  },
  {
   "cell_type": "code",
   "execution_count": 14,
   "metadata": {
    "id": "j7krcYDyVffr"
   },
   "outputs": [
    {
     "data": {
      "text/plain": [
       "{'CUIS', 'snames'}"
      ]
     },
     "execution_count": 14,
     "metadata": {},
     "output_type": "execute_result"
    }
   ],
   "source": [
    "# perform memory optimisation\n",
    "memory_optimiser.perform_optimisation(cat.cdb, optimise_cuis=True,\n",
    "                                      optimise_names=False,\n",
    "                                      optimise_snames=True)\n",
    "# look at the parts that are memory-optimised\n",
    "cat.cdb._memory_optimised_parts"
   ]
  },
  {
   "attachments": {},
   "cell_type": "markdown",
   "metadata": {},
   "source": [
    "The above method performs some optimisation on the model for memory usage.\n",
    "The resulting model can be saved on disk just as a regular method.\n",
    "And the memory optimisation will be remain available in the saved model as well."
   ]
  },
  {
   "attachments": {},
   "cell_type": "markdown",
   "metadata": {},
   "source": [
    "### Undoing the memory opytimisation\n",
    "There may be reasons one may want to undo the memory optimisations above.\n",
    "One reason might be for use with an older version of medcat.\n",
    "We've provided a method to do that."
   ]
  },
  {
   "cell_type": "code",
   "execution_count": 15,
   "metadata": {},
   "outputs": [],
   "source": [
    "# undo memory optimisation\n",
    "memory_optimiser.unoptimise_cdb(cat.cdb)\n",
    "# the method will look at the CDB and reverse the optimisation process"
   ]
  }
 ],
 "metadata": {
  "colab": {
   "collapsed_sections": [],
   "name": "MedCAT Tutorial | Part 3.2 - Extracting Diseases from Electronic Health Records.ipynb",
   "provenance": []
  },
  "kernelspec": {
   "display_name": "Python 3.8.5 ('.venv': venv)",
   "language": "python",
   "name": "python3"
  },
  "language_info": {
   "codemirror_mode": {
    "name": "ipython",
    "version": 3
   },
   "file_extension": ".py",
   "mimetype": "text/x-python",
   "name": "python",
   "nbconvert_exporter": "python",
   "pygments_lexer": "ipython3",
   "version": "3.9.6"
  },
  "vscode": {
   "interpreter": {
    "hash": "60954f76b319195d8b66f263176ecf047c3a086773bff2d42e03144b47421836"
   }
  }
 },
 "nbformat": 4,
 "nbformat_minor": 0
}
