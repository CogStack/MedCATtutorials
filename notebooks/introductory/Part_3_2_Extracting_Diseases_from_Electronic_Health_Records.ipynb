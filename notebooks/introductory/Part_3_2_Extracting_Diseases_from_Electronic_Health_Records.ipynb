{
 "cells": [
  {
   "cell_type": "markdown",
   "metadata": {
    "id": "cfsWRsujEj4X"
   },
   "source": [
    "# Now let's start extracting concepts from unstructured text!\n"
   ]
  },
  {
   "cell_type": "code",
   "execution_count": null,
   "metadata": {
    "colab": {
     "base_uri": "https://localhost:8080/",
     "height": 1000
    },
    "id": "9A2H649kF2EE",
    "outputId": "78b31fec-5598-4056-cfd2-5d5c0b366661"
   },
   "outputs": [],
   "source": [
    "# Install medcat into the local environment\n",
    "! pip install medcat==1.2.7"
   ]
  },
  {
   "cell_type": "markdown",
   "metadata": {
    "id": "3OLVuMJE03da"
   },
   "source": [
    "**Restart the runtime if on colab, sometimes necessary after installing models**"
   ]
  },
  {
   "cell_type": "code",
   "execution_count": null,
   "metadata": {
    "colab": {
     "base_uri": "https://localhost:8080/"
    },
    "id": "lho2dmm1VffS",
    "outputId": "0ae9dd14-615b-4014-8727-fcb1e1f9b176"
   },
   "outputs": [],
   "source": [
    "import pandas as pd\n",
    "import numpy as np\n",
    "import pickle\n",
    "import seaborn as sns\n",
    "\n",
    "from matplotlib import pyplot as plt\n",
    "from medcat.cat import CAT"
   ]
  },
  {
   "cell_type": "code",
   "execution_count": null,
   "metadata": {
    "id": "VH8L597aVffZ"
   },
   "outputs": [],
   "source": [
    "DATA_DIR = \"./data/\"\n",
    "model_pack_path = DATA_DIR + \"medmen_wstatus_2021_oct.zip\""
   ]
  },
  {
   "cell_type": "code",
   "execution_count": null,
   "metadata": {
    "colab": {
     "base_uri": "https://localhost:8080/"
    },
    "id": "ics9eFrUI5lo",
    "outputId": "4a352f1b-4d86-4df8-a890-19d1ac8bd561"
   },
   "outputs": [],
   "source": [
    "# Download the models and required data\n",
    "!wget https://medcat.rosalind.kcl.ac.uk/media/medmen_wstatus_2021_oct.zip -P ./data/\n",
    "!wget https://raw.githubusercontent.com/CogStack/MedCATtutorials/main/notebooks/introductory/data/pt_notes.csv -P ./data/"
   ]
  },
  {
   "cell_type": "markdown",
   "metadata": {
    "id": "_thSfOjVVffc"
   },
   "source": [
    "## Loading the MedCAT modelpack"
   ]
  },
  {
   "cell_type": "code",
   "execution_count": null,
   "metadata": {
    "colab": {
     "base_uri": "https://localhost:8080/"
    },
    "id": "LFgIA5tSVffd",
    "outputId": "cdf59579-5306-4bb8-9bf6-8e5fc74d3551"
   },
   "outputs": [],
   "source": [
    "# Load model pack and Create CAT - the main class from medcat used for concept annotation\n",
    "cat = CAT.load_model_pack(model_pack_path)\n"
   ]
  },
  {
   "cell_type": "markdown",
   "metadata": {
    "id": "f7VxmscmVffi"
   },
   "source": [
    "## Testing Named Entity Recognition + Linking (NER+L)"
   ]
  },
  {
   "cell_type": "code",
   "execution_count": null,
   "metadata": {
    "colab": {
     "base_uri": "https://localhost:8080/"
    },
    "id": "7_L4-zPPVffj",
    "outputId": "c3cea51e-5892-4456-e098-a8ec7f644148"
   },
   "outputs": [],
   "source": [
    "text = \"He was diagnosed with kidney failure\"\n",
    "doc = cat(text)\n",
    "print(doc.ents)"
   ]
  },
  {
   "cell_type": "code",
   "execution_count": null,
   "metadata": {
    "colab": {
     "base_uri": "https://localhost:8080/"
    },
    "id": "wX64EAXGuEi3",
    "outputId": "b237b854-1bf0-4695-e860-4da74b63e031"
   },
   "outputs": [],
   "source": [
    "# To see all entities and corresponding meta-data\n",
    "cat.get_entities(\"He was diagnosed with kidney failure\", only_cui=False)"
   ]
  },
  {
   "cell_type": "code",
   "execution_count": null,
   "metadata": {
    "colab": {
     "base_uri": "https://localhost:8080/"
    },
    "id": "kDN04vBbVffl",
    "outputId": "94c42b74-0d2a-4824-d23b-7ca9a91a7270"
   },
   "outputs": [],
   "source": [
    "# If we want to see the CUI (ID) for each entity\n",
    "for ent in doc.ents:\n",
    "    print(ent, \" - \", ent._.cui)"
   ]
  },
  {
   "cell_type": "code",
   "execution_count": null,
   "metadata": {
    "colab": {
     "base_uri": "https://localhost:8080/"
    },
    "id": "ggj45cnLcAgh",
    "outputId": "385c4f7c-2f49-40bd-a901-56f2db10cd6f"
   },
   "outputs": [],
   "source": [
    "# To show type_ids and types for each entity\n",
    "for ent in doc.ents:\n",
    "  print(ent, \" - \", cat.cdb.cui2type_ids.get(ent._.cui))"
   ]
  },
  {
   "cell_type": "code",
   "execution_count": null,
   "metadata": {
    "colab": {
     "base_uri": "https://localhost:8080/",
     "height": 52
    },
    "id": "7hZPUuf1Vffo",
    "outputId": "3f8af194-8e4e-44ec-9315-2366dd50d355"
   },
   "outputs": [],
   "source": [
    "# We can also show the entities in a nicer way using displacy form spaCy\n",
    "from spacy import displacy\n",
    "displacy.render(doc, style='ent', jupyter=True)"
   ]
  },
  {
   "cell_type": "markdown",
   "metadata": {
    "id": "et68xVzxVffr"
   },
   "source": [
    "## Load the data"
   ]
  },
  {
   "cell_type": "code",
   "execution_count": null,
   "metadata": {
    "id": "j7krcYDyVffr"
   },
   "outputs": [],
   "source": [
    "# Load the dataset - the one we saved in the last step of Part 2.\n",
    "#If using MIMIC-III this is a very big dataset, be careful with memory requirements.\n",
    "data = pd.read_csv(DATA_DIR + \"pt_notes.csv\")"
   ]
  },
  {
   "cell_type": "code",
   "execution_count": null,
   "metadata": {
    "colab": {
     "base_uri": "https://localhost:8080/",
     "height": 354
    },
    "id": "nOPdyOoQVffv",
    "outputId": "e7f082d9-1486-4557-d27d-ccb61613e8cf"
   },
   "outputs": [],
   "source": [
    "# In this step we are only interested in the *text* column\n",
    "data.head()"
   ]
  },
  {
   "cell_type": "markdown",
   "metadata": {
    "id": "3CERW88jVffz"
   },
   "source": [
    "## Run unsupervised training"
   ]
  },
  {
   "cell_type": "code",
   "execution_count": null,
   "metadata": {
    "colab": {
     "base_uri": "https://localhost:8080/"
    },
    "id": "jHYbsOriVff0",
    "outputId": "e5c51ec3-15bb-41ca-b528-7d6db4677e06"
   },
   "outputs": [],
   "source": [
    "# The first step that we want to do when using MedCAT is unsupervised training.\n",
    "# You can find a full explanation of this process in the paper:\n",
    "# https://doi.org/10.1016/j.artmed.2021.102083\n",
    "\n",
    "# Print statistics on the CDB before training (note that if you are using the \n",
    "#medmen cdb it will already have some training)\n",
    "\n",
    "cat.cdb.print_stats()\n",
    "\n",
    "# Run the annotation procedure over all the documents we have,\n",
    "#given that we have a large number of documents this can take quite some time.\n",
    "print()\n",
    "print(f\"There are {len(data['text'])} documents to train...\")\n",
    "\n",
    "cat.train(data.text.values, progress_print=100)\n",
    "\n",
    "# Now print statistics on the CDB after training\n",
    "cat.cdb.print_stats()"
   ]
  },
  {
   "cell_type": "markdown",
   "metadata": {
    "id": "TsMpg0JSTdYm"
   },
   "source": [
    "## Save the new MedCAT modelpack"
   ]
  },
  {
   "cell_type": "code",
   "execution_count": null,
   "metadata": {
    "colab": {
     "base_uri": "https://localhost:8080/"
    },
    "id": "hPQdflWxTcSB",
    "outputId": "78ce4a52-f2ac-4767-9bb2-e7da88ca3f5f"
   },
   "outputs": [],
   "source": [
    "# unsupervised trained model\n",
    "model_pack_name = cat.create_model_pack(DATA_DIR + \"unsupervised_trained_model_pack\")"
   ]
  },
  {
   "cell_type": "markdown",
   "metadata": {
    "id": "9Wf7ugKkVff3"
   },
   "source": [
    "# Annotate Documents\n",
    "\n",
    "For this task we will annotate documents using the UMLS unsupervised model created above.\n",
    "\n",
    "The Type_ids in this CDB correspond to the Semantic Type(TUI) found within UMLS"
   ]
  },
  {
   "cell_type": "code",
   "execution_count": null,
   "metadata": {
    "colab": {
     "base_uri": "https://localhost:8080/"
    },
    "id": "9ASkdddmKZMY",
    "outputId": "abc25287-1b08-4f29-bfab-acf4fce94ee8"
   },
   "outputs": [],
   "source": [
    "# Load the newly created MedCAT modelpack\n",
    "model_pack_path_2 = DATA_DIR + \"unsupervised_trained_model_pack/\" + model_pack_name + \".zip\"\n",
    "cat = CAT.load_model_pack(model_pack_path_2)"
   ]
  },
  {
   "cell_type": "markdown",
   "metadata": {
    "id": "rpzhuFFyVff3"
   },
   "source": [
    "We are not interested in all medical concepts that exist in UMLS, that is why we will filter by Semantic Type (TUI) to only:\n",
    "1. T047 - Disease or Syndrome\n",
    "2. T048 - Mental or Behavioral Dysfunction\n",
    "\n",
    "It is possible to filter after the detection process, but always better to define the filter as part of MedCAT\n",
    "\n",
    "A full list of semantic types in UMLS is available [here](https://metamap.nlm.nih.gov/Docs/SemanticTypes_2018AB.txt)."
   ]
  },
  {
   "cell_type": "code",
   "execution_count": null,
   "metadata": {
    "colab": {
     "base_uri": "https://localhost:8080/"
    },
    "id": "8WAS38nNVff4",
    "outputId": "40a9d496-535e-4f05-9317-0973e022496c"
   },
   "outputs": [],
   "source": [
    "# IMPORTANT: Set TUI/Type Ids filters\n",
    "# |T047|Disease or Syndrome\n",
    "# |T048|Mental or Behavioral Dysfunction\n",
    "type_ids_filter = ['T047', 'T048']\n",
    "cui_filters = set()\n",
    "for type_ids in type_ids_filter:\n",
    "  cui_filters.update(cat.cdb.addl_info['type_id2cuis'][type_ids])\n",
    "cat.cdb.config.linking['filters']['cuis'] = cui_filters\n",
    "print(f\"The size of the cdb is now: {len(cui_filters)}\")\n"
   ]
  },
  {
   "cell_type": "markdown",
   "metadata": {
    "id": "HSMCmCkQVff6"
   },
   "source": [
    "For each row in our dataframe `data` we want to get all diseases that appear in the `text` column. In UMLS a disease is defined by a CUI, so we want to have the following output after the annotation is done:\n",
    "```\n",
    "cui_location = {<CUI>: [<row_id>, <row_id>, ...], ...}\n",
    "```"
   ]
  },
  {
   "cell_type": "markdown",
   "metadata": {
    "id": "d_SdVDC92TtM"
   },
   "source": [
    "## Get entities from unstructured text\n",
    "We can annotate a portion of text."
   ]
  },
  {
   "cell_type": "code",
   "execution_count": null,
   "metadata": {
    "id": "JF3OmtKk2RXM"
   },
   "outputs": [],
   "source": [
    "annotated_text = cat.get_entities(\"This patient suffers from diabetes.\")"
   ]
  },
  {
   "cell_type": "code",
   "execution_count": null,
   "metadata": {
    "colab": {
     "base_uri": "https://localhost:8080/"
    },
    "id": "XmIql-9k2vp2",
    "outputId": "83d661f7-de31-440b-deec-bb173b1563bb"
   },
   "outputs": [],
   "source": [
    "annotated_text"
   ]
  },
  {
   "cell_type": "markdown",
   "metadata": {
    "id": "kAwQU5HI3UnX"
   },
   "source": [
    "There is one concept Entity extracted from the sample text above. Feel free to try it out for yourself by altering the text.\n",
    "\n",
    "Don't forget that we applied the type_ids filter for [T047 & T048] so only concepts which fall within these categories will be shown."
   ]
  },
  {
   "cell_type": "markdown",
   "metadata": {
    "id": "rfHRh8C9Vff9"
   },
   "source": [
    "## Use Multiprocessing\n",
    "\n",
    "Although we can annotate documents one by one, using the `annotated_document = cat(text)` option, but it will work much faster if we do it using the `multi_processing` method from medcat.\n",
    "\n",
    "When using multi_processing medcat requires the following format for input documents:\n",
    "```\n",
    "in_data = [(doc_id, doc_text), (doc_id, doc_text), ...]\n",
    "```\n",
    "The output is (return from medcat):\n",
    "```\n",
    "out_data = [(doc_id, {'entities': [...], 'text': <...>), (doc_id, {'entities': [...], 'text': <...>}), ...]\n",
    "```\n",
    "\n",
    "NOTE: If using the full UMLS CDB and a lot of processors (e.g. 32) it is very memory demanding (~ 32GB). The annotation process on 32 processors and 1M large text documents takes ~1h. "
   ]
  },
  {
   "cell_type": "code",
   "execution_count": null,
   "metadata": {
    "colab": {
     "base_uri": "https://localhost:8080/",
     "height": 343
    },
    "id": "6RET9-y9xZGK",
    "outputId": "2857b1f9-b0cb-4f96-ccba-a6217340d836"
   },
   "outputs": [],
   "source": [
    "# Let's test the multi processing function first\n",
    "in_data = [(1, \"He was a diabetic patient\")]\n",
    "results = cat.multiprocessing(in_data, nproc=2)\n",
    "results_pipe = cat.multiprocessing_pipe(in_data, nproc=2)\n",
    "assert results == results_pipe\n",
    "results"
   ]
  },
  {
   "cell_type": "markdown",
   "metadata": {
    "id": "YIw5f-SpyoPC"
   },
   "source": [
    "The returned list of `entities` contains the following:\n",
    "\n",
    "`acc` - Confidence score for this detection\n",
    "\n",
    "`cui` - ID of the detected entity in the CDB (in our case UMLS)\n",
    "\n",
    "`pretty_name` - The pretty name for this entity linked with the CUI\n",
    "\n",
    "`detected_name` - What exact source value was detected\n",
    "\n",
    "`type_ids` - The category code\n",
    "\n",
    "`types` - Description label of the type_ids\n",
    "\n",
    "`start` - The start character for the entity in the original string\n",
    "\n",
    "`end` - End character for the entity in the original string\n",
    "\n",
    "`id` - Internal ID, each entity inside a document has an unique ID\n",
    "\n",
    "\n",
    "__Optional parameters which can also be set:__\n",
    "\n",
    "The following can also be set to be returned during the creation of the MedCAT CDB within the model pack\n",
    "\n",
    "`icd10` - If we are using a medical CDB, we'll also get ICD10 codes\n",
    "\n",
    "`umls` - If the CDB was something other than UMLS, we would get the potential link to UMLS.\n",
    "\n",
    "`snomed` - If we are using a medical CDB this would link to the equivalent SNOMED concept"
   ]
  },
  {
   "cell_type": "code",
   "execution_count": null,
   "metadata": {
    "colab": {
     "base_uri": "https://localhost:8080/"
    },
    "id": "SrIR0vGsJZui",
    "outputId": "4f6bed01-4534-49ed-be46-fa58583a9005"
   },
   "outputs": [],
   "source": [
    "data.shape"
   ]
  },
  {
   "cell_type": "code",
   "execution_count": null,
   "metadata": {
    "id": "FD0DJFrVR_CG"
   },
   "outputs": [],
   "source": [
    "# Think about removing text you don't want to annotate. E.g <10 characters\n",
    "data = data[data.text.apply(lambda x: len(str(x))>10)]"
   ]
  },
  {
   "cell_type": "code",
   "execution_count": null,
   "metadata": {
    "id": "PinJkXTZQpjh"
   },
   "outputs": [],
   "source": [
    "# format the df to match: in_data = [(doc_id, doc_text), (doc_id, doc_text), ...]\n",
    "in_data = []\n",
    "for id, row in data[['text']].iterrows():\n",
    "  text = row['text']\n",
    "  in_data.append((id, text))"
   ]
  },
  {
   "cell_type": "code",
   "execution_count": null,
   "metadata": {
    "colab": {
     "base_uri": "https://localhost:8080/"
    },
    "id": "o3KvcklTPGvB",
    "outputId": "d078fd97-a30b-4915-d1a6-c889f5407d4c"
   },
   "outputs": [],
   "source": [
    "# Set a batch size to control for the variablity between document sizes\n",
    "batch_size_chars = 500000 # Batch size (BS) in number of characters\n",
    "\n",
    "# Run model\n",
    "results = cat.multiprocessing(in_data,  # Formatted data\n",
    "                              batch_size_chars = batch_size_chars,\n",
    "                              nproc=8) # Number of processors"
   ]
  },
  {
   "cell_type": "markdown",
   "metadata": {
    "id": "f-gRm2WKsq5n"
   },
   "source": [
    "To batch on the number of documents, you can use `multiprocessing_pipe` alternatively, which also supports Windows platforms:"
   ]
  },
  {
   "cell_type": "code",
   "execution_count": null,
   "metadata": {
    "colab": {
     "base_uri": "https://localhost:8080/",
     "height": 49
    },
    "id": "TFc7XkGbtclt",
    "outputId": "aec3ada9-9475-413b-d254-bc00b73787e5"
   },
   "outputs": [],
   "source": [
    "# Set the batch size to the number of documents\n",
    "batch_size = 10 # Batch size (BS) in number of documents\n",
    "\n",
    "# Run model\n",
    "results = cat.multiprocessing_pipe(in_data[:200], # Formatted data\n",
    "                                   batch_size = batch_size,\n",
    "                                   nproc=1) # Increase it when having more cores available"
   ]
  },
  {
   "cell_type": "markdown",
   "metadata": {
    "id": "p3ykzPULg8Y4"
   },
   "source": [
    "For a quick sanity check. Let's inspect a document and the annotations that our unsupervised model has produced."
   ]
  },
  {
   "cell_type": "code",
   "execution_count": null,
   "metadata": {
    "colab": {
     "base_uri": "https://localhost:8080/",
     "height": 165
    },
    "id": "7PxUejjbgWAX",
    "outputId": "d14e8866-876e-42ff-8119-cdcef5ad50fb"
   },
   "outputs": [],
   "source": [
    "# Check one of the returned results, just in case\n",
    "data.iloc[0]['text']"
   ]
  },
  {
   "cell_type": "code",
   "execution_count": null,
   "metadata": {
    "colab": {
     "base_uri": "https://localhost:8080/"
    },
    "id": "IKBEPp2aR265",
    "outputId": "fa0ea963-ce41-4b46-ca9b-172c47515c0d"
   },
   "outputs": [],
   "source": [
    "# See all annotations based on the filter set above. \n",
    "# Notice that entities not present in the filter are filtered out.\n",
    "cui_list = []\n",
    "for annotation in list(results[0]['entities'].values()):\n",
    "  print(annotation['cui'], annotation['pretty_name'])\n",
    "  print()"
   ]
  },
  {
   "cell_type": "markdown",
   "metadata": {
    "id": "AuTcMJWlmLiX"
   },
   "source": [
    "For an unsupervised model, not too bad right?\n",
    "\n",
    "Later we'll explore how we can boost the models performance even further through providing annotation labels created via the annotation tool: MedCATtrainer!"
   ]
  },
  {
   "cell_type": "code",
   "execution_count": null,
   "metadata": {
    "colab": {
     "base_uri": "https://localhost:8080/",
     "height": 36
    },
    "id": "0IN7FeHbhF5Y",
    "outputId": "ee1ab01c-2ccf-4fe0-9159-49b84514d95e"
   },
   "outputs": [],
   "source": [
    "# If we want to convert a CUI back to its name\n",
    "cat.cdb.cui2preferred_name['C0041834']"
   ]
  },
  {
   "cell_type": "code",
   "execution_count": null,
   "metadata": {
    "colab": {
     "base_uri": "https://localhost:8080/"
    },
    "id": "FvkndApC_0eU",
    "outputId": "00e405a6-eb7e-487e-a415-c586e75c1651"
   },
   "outputs": [],
   "source": [
    "# To see all names in the concept db\n",
    "cat.cdb.cui2names['C0041834']"
   ]
  },
  {
   "cell_type": "code",
   "execution_count": null,
   "metadata": {
    "colab": {
     "base_uri": "https://localhost:8080/"
    },
    "id": "q5w8Y9Aqw1FY",
    "outputId": "f0371a89-28a5-4228-d028-f64e71802b7f"
   },
   "outputs": [],
   "source": [
    "# If we want to see the type_ids\n",
    "cat.cdb.cui2type_ids['C0041834']"
   ]
  },
  {
   "cell_type": "markdown",
   "metadata": {
    "id": "dzXf2V9PkaEj"
   },
   "source": [
    "Now that you have created a structured annotation dataset you can now use this for any number of downstream applications! \n",
    "\n",
    "But for now let's continue on with the task and explore the annotations by finding the UMLS cui and type_ids (TUI as it is from UMLS) and their corresponding list of documents in which they are mentioned."
   ]
  },
  {
   "cell_type": "code",
   "execution_count": null,
   "metadata": {
    "id": "X1n4f9HTy3di"
   },
   "outputs": [],
   "source": [
    "# This will be a map from CUI to a list of documents where it appears: {\"cui\": [<doc_id>, <doc_id>, ...], ..}\n",
    "cui_location = {}\n",
    "# Let's also save the type_ids location\n",
    "type_ids_location = {}"
   ]
  },
  {
   "cell_type": "code",
   "execution_count": null,
   "metadata": {
    "id": "sJaXR6rto5Tl"
   },
   "outputs": [],
   "source": [
    "# For the cui and thier corresponding documents\n",
    "for doc in list(results.keys()):\n",
    "  for annotation in list(results[doc]['entities'].values()):\n",
    "    if annotation['cui'] in cui_location:\n",
    "      cui_location[annotation['cui']].append(doc)\n",
    "    else:\n",
    "      cui_location[annotation['cui']] = [doc]\n"
   ]
  },
  {
   "cell_type": "code",
   "execution_count": null,
   "metadata": {
    "id": "AltdvluPvoaa"
   },
   "outputs": [],
   "source": [
    "# For the type_ids and their corresponding documents\n",
    "# Remember that a cui may map to more than one type_ids (one to many mapping)\n",
    "for cui in cui_location.keys():\n",
    "  type_ids_location[list(cat.cdb.cui2type_ids[cui])[0]] = cui_location[cui]"
   ]
  },
  {
   "cell_type": "code",
   "execution_count": null,
   "metadata": {
    "id": "_7lSXtHEVfgA"
   },
   "outputs": [],
   "source": [
    "# Save the data so that we don't have to do the annotation again\n",
    "pickle.dump(cui_location, open(DATA_DIR + \"cui_location.dat\", 'wb'))\n",
    "pickle.dump(type_ids_location, open(DATA_DIR + \"type_ids_location.dat\", 'wb'))"
   ]
  },
  {
   "cell_type": "code",
   "execution_count": null,
   "metadata": {
    "id": "Am1xTX25VfgC"
   },
   "outputs": [],
   "source": [
    "# Load\n",
    "cui_location = pickle.load(open(DATA_DIR + \"cui_location.dat\", 'rb'))\n",
    "type_ids_location = pickle.load(open(DATA_DIR + \"type_ids_location.dat\", 'rb'))"
   ]
  },
  {
   "cell_type": "markdown",
   "metadata": {
    "id": "1fkbtINHVfgF"
   },
   "source": [
    "## Visualise the annotation frequency\n",
    "Let's explore the annotation counts visually to double check that everything makes sense."
   ]
  },
  {
   "cell_type": "code",
   "execution_count": null,
   "metadata": {
    "id": "8lrAhiODVfgF"
   },
   "outputs": [],
   "source": [
    "# We are going to count the number of subjects (patients) for each CUI\n",
    "cui_subjects = {}\n",
    "cui_subjects_unique = {}\n",
    "for cui in cui_location:\n",
    "    for location in cui_location[cui]:\n",
    "        subject_id = data.iat[location, list(data.columns).index('subject_id')]\n",
    "        if cui in cui_subjects:\n",
    "            cui_subjects[cui].append(subject_id)\n",
    "            cui_subjects_unique[cui].add(subject_id)\n",
    "        else:\n",
    "            cui_subjects[cui] = [subject_id]\n",
    "            cui_subjects_unique[cui] = {subject_id}"
   ]
  },
  {
   "cell_type": "code",
   "execution_count": null,
   "metadata": {
    "id": "8u6jOrsJVfgH"
   },
   "outputs": [],
   "source": [
    "cui_nsubjects = [('cui', 'nsubjects')]\n",
    "for cui in cui_subjects_unique.keys():\n",
    "    cui_nsubjects.append((cui, len(cui_subjects_unique[cui])))\n",
    "df_cui_nsubjects = pd.DataFrame(cui_nsubjects[1:], columns=cui_nsubjects[0])"
   ]
  },
  {
   "cell_type": "markdown",
   "metadata": {
    "id": "0P1YlxKwVfgJ"
   },
   "source": [
    "Add a couple of columns that can be useful"
   ]
  },
  {
   "cell_type": "code",
   "execution_count": null,
   "metadata": {
    "id": "bgMVLkQLVfgK"
   },
   "outputs": [],
   "source": [
    "df_cui_nsubjects = df_cui_nsubjects.sort_values('nsubjects', ascending=False)\n",
    "# Add type_ids for each CUI\n",
    "df_cui_nsubjects['type_ids'] = ['unk'] * len(df_cui_nsubjects)\n",
    "cols = list(df_cui_nsubjects.columns)\n",
    "for i in range(len(df_cui_nsubjects)):\n",
    "    cui = df_cui_nsubjects.iat[i, cols.index('cui')]\n",
    "    type_ids = cat.cdb.cui2type_ids.get(cui, 'unk')\n",
    "    df_cui_nsubjects.iat[i, cols.index('type_ids')] = type_ids\n",
    "    \n",
    "# Add name for each CUI\n",
    "df_cui_nsubjects['name'] = ['unk'] * len(df_cui_nsubjects)\n",
    "cols = list(df_cui_nsubjects.columns)\n",
    "for i in range(len(df_cui_nsubjects)):\n",
    "    cui = df_cui_nsubjects.iat[i, cols.index('cui')]\n",
    "    name = cat.cdb.cui2preferred_name.get(cui, 'unk')\n",
    "    df_cui_nsubjects.iat[i, cols.index('name')] = name\n",
    "\n",
    "\n",
    "# Add the percentage column\n",
    "total_subjects = len(data['subject_id'].unique())\n",
    "df_cui_nsubjects['perc_subjects'] = (df_cui_nsubjects['nsubjects'] / total_subjects) * 100\n",
    "\n",
    "df_cui_nsubjects.reset_index(drop=True, inplace=True)"
   ]
  },
  {
   "cell_type": "code",
   "execution_count": null,
   "metadata": {
    "colab": {
     "base_uri": "https://localhost:8080/",
     "height": 206
    },
    "id": "xsaOGdQFgkFG",
    "outputId": "68a73fae-a122-4cd2-a499-1426bf6ba070"
   },
   "outputs": [],
   "source": [
    "# Inspect newly created df\n",
    "df_cui_nsubjects.head()"
   ]
  },
  {
   "cell_type": "code",
   "execution_count": null,
   "metadata": {
    "colab": {
     "base_uri": "https://localhost:8080/",
     "height": 1000
    },
    "id": "TupbSS6OVfgM",
    "outputId": "9abc0781-5178-4036-cde2-e10c025a4ade"
   },
   "outputs": [],
   "source": [
    "# Plot the top 30 diseases\n",
    "sns.reset_defaults()\n",
    "sns.set(\n",
    "    rc={'figure.figsize':(5,12)}, \n",
    "    style=\"whitegrid\",\n",
    "    palette='pastel'\n",
    ")\n",
    "f, ax = plt.subplots()\n",
    "_data = df_cui_nsubjects.iloc[0:30]\n",
    "sns.barplot(x=\"perc_subjects\", y=\"name\", data=_data, label=\"Disorder Name\", color=\"b\")\n",
    "_ = ax.set(xlim=(0, 70), ylabel=\"Disease Name\", xlabel=\"Percentage of patients with disease\")\n",
    "plt.show()"
   ]
  },
  {
   "cell_type": "markdown",
   "metadata": {
    "id": "-ChkW6MiVfgO"
   },
   "source": [
    "# Preparing data for supervised training (MedCATtrainer)\n",
    "\n",
    "As we want to do some fine-tuning on the models and also some meta-annotations (e.g. Status and Temporality), we'll take the top 100 CUIs from each TUI and for each take 2 examples. We'll do this because randomly choosing documents will give us only (most likely) the concepts on the very top by frequency (especially when there is a large drop between the top concepts).\n",
    "\n",
    "The required output format for supervised training via MedCATtrainer is CSV with `columns=(name, text)`"
   ]
  },
  {
   "cell_type": "code",
   "execution_count": null,
   "metadata": {
    "colab": {
     "base_uri": "https://localhost:8080/",
     "height": 206
    },
    "id": "9rp0fn5MfUQS",
    "outputId": "5693be34-125f-4f54-e12b-3f247dbbba4f"
   },
   "outputs": [],
   "source": [
    "df_cui_nsubjects.head()"
   ]
  },
  {
   "cell_type": "code",
   "execution_count": null,
   "metadata": {
    "id": "ghSpoAbJVfgO"
   },
   "outputs": [],
   "source": [
    "# For each of the top 30 diseases/mental_disorders take 2 examples of documents/text\n",
    "#where they appear\n",
    "nexamples = 2\n",
    "size = 40\n",
    "loc_047_top = []\n",
    "loc_048_top = []\n",
    "\n",
    "for cui in df_cui_nsubjects[df_cui_nsubjects['type_ids'].apply(lambda x: 'T047' in x)]['cui'].values[0:size]:\n",
    "    loc_047_top.extend(np.array(cui_location[cui])[np.random.randint(0, len(cui_location[cui]), nexamples)])\n",
    "    \n",
    "for cui in df_cui_nsubjects[df_cui_nsubjects['type_ids'].apply(lambda x: 'T048' in x)]['cui'].values[0:size]:\n",
    "    loc_048_top.extend(np.array(cui_location[cui])[np.random.randint(0, len(cui_location[cui]), nexamples)])\n",
    "\n",
    "data_047_top = data.iloc[loc_047_top]\n",
    "data_048_top = data.iloc[loc_048_top]"
   ]
  },
  {
   "cell_type": "code",
   "execution_count": null,
   "metadata": {
    "id": "7L8UhCSsVfgQ"
   },
   "outputs": [],
   "source": [
    "# Combine everything\n",
    "train_data = pd.concat([data_047_top, data_048_top])"
   ]
  },
  {
   "cell_type": "code",
   "execution_count": null,
   "metadata": {
    "colab": {
     "base_uri": "https://localhost:8080/",
     "height": 372
    },
    "id": "kUsJajw8fOMe",
    "outputId": "17315e8c-0dd7-4b81-d0ce-aa2725ddc41b"
   },
   "outputs": [],
   "source": [
    "train_data.head()"
   ]
  },
  {
   "cell_type": "code",
   "execution_count": null,
   "metadata": {
    "colab": {
     "base_uri": "https://localhost:8080/",
     "height": 206
    },
    "id": "n-ds8nosVfgR",
    "outputId": "67635b42-78d3-4e84-f301-fa87e1059d6f"
   },
   "outputs": [],
   "source": [
    "train_data = train_data.rename(columns={'Unnamed: 0_x': \"name\"})\n",
    "train_data = train_data[['name', 'text']]\n",
    "train_data.reset_index(drop=True, inplace=True)\n",
    "train_data.head()"
   ]
  },
  {
   "cell_type": "code",
   "execution_count": null,
   "metadata": {
    "id": "HvrkaDbBVfgU"
   },
   "outputs": [],
   "source": [
    "# Remove duplicates if we have them. \n",
    "train_data = train_data.drop_duplicates(['text'])\n",
    "\n",
    "# Save the data so that it can be imported into MedCATtrainer\n",
    "train_data.to_csv(DATA_DIR + \"train_data.csv\", index=False)"
   ]
  },
  {
   "cell_type": "markdown",
   "metadata": {
    "id": "dMyoHDjPxxAH"
   },
   "source": [
    "End of Tutorial"
   ]
  }
 ],
 "metadata": {
  "colab": {
   "collapsed_sections": [],
   "name": "MedCAT Tutorial | Part 3.2 - Extracting Diseases from Electronic Health Records.ipynb",
   "provenance": []
  },
  "kernelspec": {
   "display_name": "Python 3",
   "language": "python",
   "name": "python3"
  },
  "language_info": {
   "codemirror_mode": {
    "name": "ipython",
    "version": 3
   },
   "file_extension": ".py",
   "mimetype": "text/x-python",
   "name": "python",
   "nbconvert_exporter": "python",
   "pygments_lexer": "ipython3",
   "version": "3.7.0"
  }
 },
 "nbformat": 4,
 "nbformat_minor": 0
}
