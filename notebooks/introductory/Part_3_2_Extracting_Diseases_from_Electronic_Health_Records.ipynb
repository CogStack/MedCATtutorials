{
 "cells": [
  {
   "cell_type": "markdown",
   "metadata": {
    "id": "cfsWRsujEj4X"
   },
   "source": [
    "# Now let's start extracting concepts from unstructured text!\n"
   ]
  },
  {
   "cell_type": "code",
   "execution_count": 1,
   "metadata": {
    "colab": {
     "base_uri": "https://localhost:8080/",
     "height": 1000
    },
    "id": "9A2H649kF2EE",
    "outputId": "907a9eb4-580a-485f-c9e1-28beee312081"
   },
   "outputs": [
    {
     "name": "stdout",
     "output_type": "stream",
     "text": [
      "Looking in indexes: https://pypi.org/simple, https://us-python.pkg.dev/colab-wheels/public/simple/\n",
      "Collecting medcat==1.3.0\n",
      " Downloading medcat-1.3.0-py3-none-any.whl (133 kB)\n",
      "\u001b[K |████████████████████████████████| 133 kB 5.0 MB/s \n",
      "\u001b[?25hRequirement already satisfied: torch>=1.0 in /usr/local/lib/python3.7/dist-packages (from medcat==1.3.0) (1.12.1+cu113)\n",
      "Requirement already satisfied: tqdm>=4.27 in /usr/local/lib/python3.7/dist-packages (from medcat==1.3.0) (4.64.0)\n",
      "Collecting psutil<6.0.0,>=5.8.0\n",
      " Downloading psutil-5.9.1-cp37-cp37m-manylinux_2_12_x86_64.manylinux2010_x86_64.manylinux_2_17_x86_64.manylinux2014_x86_64.whl (281 kB)\n",
      "\u001b[K |████████████████████████████████| 281 kB 33.2 MB/s \n",
      "\u001b[?25hCollecting multiprocess\n",
      " Downloading multiprocess-0.70.13-py37-none-any.whl (115 kB)\n",
      "\u001b[K |████████████████████████████████| 115 kB 17.8 MB/s \n",
      "\u001b[?25hRequirement already satisfied: pandas<=1.4.2,>=1.1.5 in /usr/local/lib/python3.7/dist-packages (from medcat==1.3.0) (1.3.5)\n",
      "Collecting sklearn~=0.0\n",
      " Downloading sklearn-0.0.tar.gz (1.1 kB)\n",
      "Collecting jsonpickle~=2.0.0\n",
      " Downloading jsonpickle-2.0.0-py2.py3-none-any.whl (37 kB)\n",
      "Collecting spacy<3.1.4,>=3.1.0\n",
      " Downloading spacy-3.1.3-cp37-cp37m-manylinux_2_17_x86_64.manylinux2014_x86_64.whl (5.9 MB)\n",
      "\u001b[K |████████████████████████████████| 5.9 MB 6.9 MB/s \n",
      "\u001b[?25hCollecting aiofiles~=0.8.0\n",
      " Downloading aiofiles-0.8.0-py3-none-any.whl (13 kB)\n",
      "Collecting transformers~=4.19.2\n",
      " Downloading transformers-4.19.4-py3-none-any.whl (4.2 MB)\n",
      "\u001b[K |████████████████████████████████| 4.2 MB 25.4 MB/s \n",
      "\u001b[?25hRequirement already satisfied: dill~=0.3.4 in /usr/local/lib/python3.7/dist-packages (from medcat==1.3.0) (0.3.5.1)\n",
      "Collecting xxhash==3.0.0\n",
      " Downloading xxhash-3.0.0-cp37-cp37m-manylinux_2_17_x86_64.manylinux2014_x86_64.whl (212 kB)\n",
      "\u001b[K |████████████████████████████████| 212 kB 42.0 MB/s \n",
      "\u001b[?25hCollecting gensim~=4.1.2\n",
      " Downloading gensim-4.1.2-cp37-cp37m-manylinux_2_12_x86_64.manylinux2010_x86_64.whl (24.1 MB)\n",
      "\u001b[K |████████████████████████████████| 24.1 MB 1.7 MB/s \n",
      "\u001b[?25hRequirement already satisfied: click<=8.0.4 in /usr/local/lib/python3.7/dist-packages (from medcat==1.3.0) (7.1.2)\n",
      "Requirement already satisfied: scipy<=1.8.1,>=1.5.4 in /usr/local/lib/python3.7/dist-packages (from medcat==1.3.0) (1.7.3)\n",
      "Collecting py2neo==2021.2.3\n",
      " Downloading py2neo-2021.2.3-py2.py3-none-any.whl (177 kB)\n",
      "\u001b[K |████████████████████████████████| 177 kB 38.8 MB/s \n",
      "\u001b[?25hCollecting datasets~=2.2.2\n",
      " Downloading datasets-2.2.2-py3-none-any.whl (346 kB)\n",
      "\u001b[K |████████████████████████████████| 346 kB 40.0 MB/s \n",
      "\u001b[?25hCollecting elasticsearch<8.0.0,>=7.10\n",
      " Downloading elasticsearch-7.17.4-py2.py3-none-any.whl (385 kB)\n",
      "\u001b[K |████████████████████████████████| 385 kB 39.7 MB/s \n",
      "\u001b[?25hCollecting ipywidgets~=7.6.5\n",
      " Downloading ipywidgets-7.6.6-py2.py3-none-any.whl (121 kB)\n",
      "\u001b[K |████████████████████████████████| 121 kB 36.9 MB/s \n",
      "\u001b[?25hCollecting blis<=0.7.5\n",
      " Downloading blis-0.7.5-cp37-cp37m-manylinux_2_17_x86_64.manylinux2014_x86_64.whl (9.9 MB)\n",
      "\u001b[K |████████████████████████████████| 9.9 MB 10.5 MB/s \n",
      "\u001b[?25hRequirement already satisfied: numpy>=1.21.4 in /usr/local/lib/python3.7/dist-packages (from medcat==1.3.0) (1.21.6)\n",
      "Requirement already satisfied: pygments>=2.0.0 in /usr/local/lib/python3.7/dist-packages (from py2neo==2021.2.3->medcat==1.3.0) (2.6.1)\n",
      "Collecting interchange~=2021.0.4\n",
      " Downloading interchange-2021.0.4-py2.py3-none-any.whl (28 kB)\n",
      "Requirement already satisfied: packaging in /usr/local/lib/python3.7/dist-packages (from py2neo==2021.2.3->medcat==1.3.0) (21.3)\n",
      "Collecting monotonic\n",
      " Downloading monotonic-1.6-py2.py3-none-any.whl (8.2 kB)\n",
      "Requirement already satisfied: certifi in /usr/local/lib/python3.7/dist-packages (from py2neo==2021.2.3->medcat==1.3.0) (2022.6.15)\n",
      "Requirement already satisfied: urllib3 in /usr/local/lib/python3.7/dist-packages (from py2neo==2021.2.3->medcat==1.3.0) (1.24.3)\n",
      "Requirement already satisfied: six>=1.15.0 in /usr/local/lib/python3.7/dist-packages (from py2neo==2021.2.3->medcat==1.3.0) (1.15.0)\n",
      "Collecting pansi>=2020.7.3\n",
      " Downloading pansi-2020.7.3-py2.py3-none-any.whl (10 kB)\n",
      "Collecting dill~=0.3.4\n",
      " Downloading dill-0.3.4-py2.py3-none-any.whl (86 kB)\n",
      "\u001b[K |████████████████████████████████| 86 kB 4.7 MB/s \n",
      "\u001b[?25hCollecting responses<0.19\n",
      " Downloading responses-0.18.0-py3-none-any.whl (38 kB)\n",
      "Collecting huggingface-hub<1.0.0,>=0.1.0\n",
      " Downloading huggingface_hub-0.9.0-py3-none-any.whl (120 kB)\n",
      "\u001b[K |████████████████████████████████| 120 kB 40.8 MB/s \n",
      "\u001b[?25hRequirement already satisfied: requests>=2.19.0 in /usr/local/lib/python3.7/dist-packages (from datasets~=2.2.2->medcat==1.3.0) (2.23.0)\n",
      "Requirement already satisfied: aiohttp in /usr/local/lib/python3.7/dist-packages (from datasets~=2.2.2->medcat==1.3.0) (3.8.1)\n",
      "Requirement already satisfied: pyarrow>=6.0.0 in /usr/local/lib/python3.7/dist-packages (from datasets~=2.2.2->medcat==1.3.0) (6.0.1)\n",
      "Requirement already satisfied: fsspec[http]>=2021.05.0 in /usr/local/lib/python3.7/dist-packages (from datasets~=2.2.2->medcat==1.3.0) (2022.7.1)\n",
      "Requirement already satisfied: importlib-metadata in /usr/local/lib/python3.7/dist-packages (from datasets~=2.2.2->medcat==1.3.0) (4.12.0)\n",
      "Requirement already satisfied: smart-open>=1.8.1 in /usr/local/lib/python3.7/dist-packages (from gensim~=4.1.2->medcat==1.3.0) (5.2.1)\n",
      "Requirement already satisfied: filelock in /usr/local/lib/python3.7/dist-packages (from huggingface-hub<1.0.0,>=0.1.0->datasets~=2.2.2->medcat==1.3.0) (3.8.0)\n",
      "Requirement already satisfied: pyyaml>=5.1 in /usr/local/lib/python3.7/dist-packages (from huggingface-hub<1.0.0,>=0.1.0->datasets~=2.2.2->medcat==1.3.0) (6.0)\n",
      "Requirement already satisfied: typing-extensions>=3.7.4.3 in /usr/local/lib/python3.7/dist-packages (from huggingface-hub<1.0.0,>=0.1.0->datasets~=2.2.2->medcat==1.3.0) (4.1.1)\n",
      "Requirement already satisfied: pytz in /usr/local/lib/python3.7/dist-packages (from interchange~=2021.0.4->py2neo==2021.2.3->medcat==1.3.0) (2022.2.1)\n",
      "Requirement already satisfied: nbformat>=4.2.0 in /usr/local/lib/python3.7/dist-packages (from ipywidgets~=7.6.5->medcat==1.3.0) (5.4.0)\n",
      "Requirement already satisfied: ipython-genutils~=0.2.0 in /usr/local/lib/python3.7/dist-packages (from ipywidgets~=7.6.5->medcat==1.3.0) (0.2.0)\n",
      "Requirement already satisfied: ipython>=4.0.0 in /usr/local/lib/python3.7/dist-packages (from ipywidgets~=7.6.5->medcat==1.3.0) (7.9.0)\n",
      "Requirement already satisfied: traitlets>=4.3.1 in /usr/local/lib/python3.7/dist-packages (from ipywidgets~=7.6.5->medcat==1.3.0) (5.1.1)\n",
      "Collecting widgetsnbextension~=3.5.0\n",
      " Downloading widgetsnbextension-3.5.2-py2.py3-none-any.whl (1.6 MB)\n",
      "\u001b[K |████████████████████████████████| 1.6 MB 17.3 MB/s \n",
      "\u001b[?25hRequirement already satisfied: ipykernel>=4.5.1 in /usr/local/lib/python3.7/dist-packages (from ipywidgets~=7.6.5->medcat==1.3.0) (5.3.4)\n",
      "Collecting jupyterlab-widgets<3,>=1.0.0\n",
      " Downloading jupyterlab_widgets-1.1.1-py3-none-any.whl (245 kB)\n",
      "\u001b[K |████████████████████████████████| 245 kB 34.8 MB/s \n",
      "\u001b[?25hRequirement already satisfied: tornado>=4.2 in /usr/local/lib/python3.7/dist-packages (from ipykernel>=4.5.1->ipywidgets~=7.6.5->medcat==1.3.0) (5.1.1)\n",
      "Requirement already satisfied: jupyter-client in /usr/local/lib/python3.7/dist-packages (from ipykernel>=4.5.1->ipywidgets~=7.6.5->medcat==1.3.0) (6.1.12)\n",
      "Requirement already satisfied: prompt-toolkit<2.1.0,>=2.0.0 in /usr/local/lib/python3.7/dist-packages (from ipython>=4.0.0->ipywidgets~=7.6.5->medcat==1.3.0) (2.0.10)\n",
      "Requirement already satisfied: backcall in /usr/local/lib/python3.7/dist-packages (from ipython>=4.0.0->ipywidgets~=7.6.5->medcat==1.3.0) (0.2.0)\n",
      "Collecting jedi>=0.10\n",
      " Downloading jedi-0.18.1-py2.py3-none-any.whl (1.6 MB)\n",
      "\u001b[K |████████████████████████████████| 1.6 MB 40.1 MB/s \n",
      "\u001b[?25hRequirement already satisfied: pexpect in /usr/local/lib/python3.7/dist-packages (from ipython>=4.0.0->ipywidgets~=7.6.5->medcat==1.3.0) (4.8.0)\n",
      "Requirement already satisfied: decorator in /usr/local/lib/python3.7/dist-packages (from ipython>=4.0.0->ipywidgets~=7.6.5->medcat==1.3.0) (4.4.2)\n",
      "Requirement already satisfied: pickleshare in /usr/local/lib/python3.7/dist-packages (from ipython>=4.0.0->ipywidgets~=7.6.5->medcat==1.3.0) (0.7.5)\n",
      "Requirement already satisfied: setuptools>=18.5 in /usr/local/lib/python3.7/dist-packages (from ipython>=4.0.0->ipywidgets~=7.6.5->medcat==1.3.0) (57.4.0)\n",
      "Requirement already satisfied: parso<0.9.0,>=0.8.0 in /usr/local/lib/python3.7/dist-packages (from jedi>=0.10->ipython>=4.0.0->ipywidgets~=7.6.5->medcat==1.3.0) (0.8.3)\n",
      "Requirement already satisfied: fastjsonschema in /usr/local/lib/python3.7/dist-packages (from nbformat>=4.2.0->ipywidgets~=7.6.5->medcat==1.3.0) (2.16.1)\n",
      "Requirement already satisfied: jsonschema>=2.6 in /usr/local/lib/python3.7/dist-packages (from nbformat>=4.2.0->ipywidgets~=7.6.5->medcat==1.3.0) (4.3.3)\n",
      "Requirement already satisfied: jupyter-core in /usr/local/lib/python3.7/dist-packages (from nbformat>=4.2.0->ipywidgets~=7.6.5->medcat==1.3.0) (4.11.1)\n",
      "Requirement already satisfied: importlib-resources>=1.4.0 in /usr/local/lib/python3.7/dist-packages (from jsonschema>=2.6->nbformat>=4.2.0->ipywidgets~=7.6.5->medcat==1.3.0) (5.9.0)\n",
      "Requirement already satisfied: pyrsistent!=0.17.0,!=0.17.1,!=0.17.2,>=0.14.0 in /usr/local/lib/python3.7/dist-packages (from jsonschema>=2.6->nbformat>=4.2.0->ipywidgets~=7.6.5->medcat==1.3.0) (0.18.1)\n",
      "Requirement already satisfied: attrs>=17.4.0 in /usr/local/lib/python3.7/dist-packages (from jsonschema>=2.6->nbformat>=4.2.0->ipywidgets~=7.6.5->medcat==1.3.0) (22.1.0)\n",
      "Requirement already satisfied: zipp>=3.1.0 in /usr/local/lib/python3.7/dist-packages (from importlib-resources>=1.4.0->jsonschema>=2.6->nbformat>=4.2.0->ipywidgets~=7.6.5->medcat==1.3.0) (3.8.1)\n",
      "Requirement already satisfied: pyparsing!=3.0.5,>=2.0.2 in /usr/local/lib/python3.7/dist-packages (from packaging->py2neo==2021.2.3->medcat==1.3.0) (3.0.9)\n",
      "Requirement already satisfied: python-dateutil>=2.7.3 in /usr/local/lib/python3.7/dist-packages (from pandas<=1.4.2,>=1.1.5->medcat==1.3.0) (2.8.2)\n",
      "Requirement already satisfied: wcwidth in /usr/local/lib/python3.7/dist-packages (from prompt-toolkit<2.1.0,>=2.0.0->ipython>=4.0.0->ipywidgets~=7.6.5->medcat==1.3.0) (0.2.5)\n",
      "Requirement already satisfied: chardet<4,>=3.0.2 in /usr/local/lib/python3.7/dist-packages (from requests>=2.19.0->datasets~=2.2.2->medcat==1.3.0) (3.0.4)\n",
      "Requirement already satisfied: idna<3,>=2.5 in /usr/local/lib/python3.7/dist-packages (from requests>=2.19.0->datasets~=2.2.2->medcat==1.3.0) (2.10)\n",
      "Collecting urllib3\n",
      " Downloading urllib3-1.25.11-py2.py3-none-any.whl (127 kB)\n",
      "\u001b[K |████████████████████████████████| 127 kB 40.1 MB/s \n",
      "\u001b[?25hRequirement already satisfied: scikit-learn in /usr/local/lib/python3.7/dist-packages (from sklearn~=0.0->medcat==1.3.0) (1.0.2)\n",
      "Requirement already satisfied: preshed<3.1.0,>=3.0.2 in /usr/local/lib/python3.7/dist-packages (from spacy<3.1.4,>=3.1.0->medcat==1.3.0) (3.0.7)\n",
      "Requirement already satisfied: wasabi<1.1.0,>=0.8.1 in /usr/local/lib/python3.7/dist-packages (from spacy<3.1.4,>=3.1.0->medcat==1.3.0) (0.10.1)\n",
      "Requirement already satisfied: jinja2 in /usr/local/lib/python3.7/dist-packages (from spacy<3.1.4,>=3.1.0->medcat==1.3.0) (2.11.3)\n",
      "Requirement already satisfied: pathy>=0.3.5 in /usr/local/lib/python3.7/dist-packages (from spacy<3.1.4,>=3.1.0->medcat==1.3.0) (0.6.2)\n",
      "Collecting typing-extensions>=3.7.4.3\n",
      " Downloading typing_extensions-3.10.0.2-py3-none-any.whl (26 kB)\n",
      "Requirement already satisfied: srsly<3.0.0,>=2.4.1 in /usr/local/lib/python3.7/dist-packages (from spacy<3.1.4,>=3.1.0->medcat==1.3.0) (2.4.4)\n",
      "Requirement already satisfied: catalogue<2.1.0,>=2.0.6 in /usr/local/lib/python3.7/dist-packages (from spacy<3.1.4,>=3.1.0->medcat==1.3.0) (2.0.8)\n",
      "Requirement already satisfied: murmurhash<1.1.0,>=0.28.0 in /usr/local/lib/python3.7/dist-packages (from spacy<3.1.4,>=3.1.0->medcat==1.3.0) (1.0.8)\n",
      "Requirement already satisfied: typer<0.5.0,>=0.3.0 in /usr/local/lib/python3.7/dist-packages (from spacy<3.1.4,>=3.1.0->medcat==1.3.0) (0.4.2)\n",
      "Requirement already satisfied: spacy-legacy<3.1.0,>=3.0.8 in /usr/local/lib/python3.7/dist-packages (from spacy<3.1.4,>=3.1.0->medcat==1.3.0) (3.0.10)\n",
      "Requirement already satisfied: cymem<2.1.0,>=2.0.2 in /usr/local/lib/python3.7/dist-packages (from spacy<3.1.4,>=3.1.0->medcat==1.3.0) (2.0.6)\n",
      "Collecting pydantic!=1.8,!=1.8.1,<1.9.0,>=1.7.4\n",
      " Downloading pydantic-1.8.2-cp37-cp37m-manylinux2014_x86_64.whl (10.1 MB)\n",
      "\u001b[K |████████████████████████████████| 10.1 MB 37.9 MB/s \n",
      "\u001b[?25hCollecting thinc<8.1.0,>=8.0.9\n",
      " Downloading thinc-8.0.17-cp37-cp37m-manylinux_2_17_x86_64.manylinux2014_x86_64.whl (660 kB)\n",
      "\u001b[K |████████████████████████████████| 660 kB 54.1 MB/s \n",
      "\u001b[?25hRequirement already satisfied: regex!=2019.12.17 in /usr/local/lib/python3.7/dist-packages (from transformers~=4.19.2->medcat==1.3.0) (2022.6.2)\n",
      "Collecting tokenizers!=0.11.3,<0.13,>=0.11.1\n",
      " Downloading tokenizers-0.12.1-cp37-cp37m-manylinux_2_12_x86_64.manylinux2010_x86_64.whl (6.6 MB)\n",
      "\u001b[K |████████████████████████████████| 6.6 MB 49.9 MB/s \n",
      "\u001b[?25hRequirement already satisfied: notebook>=4.4.1 in /usr/local/lib/python3.7/dist-packages (from widgetsnbextension~=3.5.0->ipywidgets~=7.6.5->medcat==1.3.0) (5.3.1)\n",
      "Requirement already satisfied: terminado>=0.8.1 in /usr/local/lib/python3.7/dist-packages (from notebook>=4.4.1->widgetsnbextension~=3.5.0->ipywidgets~=7.6.5->medcat==1.3.0) (0.13.3)\n",
      "Requirement already satisfied: Send2Trash in /usr/local/lib/python3.7/dist-packages (from notebook>=4.4.1->widgetsnbextension~=3.5.0->ipywidgets~=7.6.5->medcat==1.3.0) (1.8.0)\n",
      "Requirement already satisfied: nbconvert in /usr/local/lib/python3.7/dist-packages (from notebook>=4.4.1->widgetsnbextension~=3.5.0->ipywidgets~=7.6.5->medcat==1.3.0) (5.6.1)\n",
      "Requirement already satisfied: pyzmq>=13 in /usr/local/lib/python3.7/dist-packages (from jupyter-client->ipykernel>=4.5.1->ipywidgets~=7.6.5->medcat==1.3.0) (23.2.1)\n",
      "Requirement already satisfied: ptyprocess in /usr/local/lib/python3.7/dist-packages (from terminado>=0.8.1->notebook>=4.4.1->widgetsnbextension~=3.5.0->ipywidgets~=7.6.5->medcat==1.3.0) (0.7.0)\n",
      "Requirement already satisfied: multidict<7.0,>=4.5 in /usr/local/lib/python3.7/dist-packages (from aiohttp->datasets~=2.2.2->medcat==1.3.0) (6.0.2)\n",
      "Requirement already satisfied: asynctest==0.13.0 in /usr/local/lib/python3.7/dist-packages (from aiohttp->datasets~=2.2.2->medcat==1.3.0) (0.13.0)\n",
      "Requirement already satisfied: async-timeout<5.0,>=4.0.0a3 in /usr/local/lib/python3.7/dist-packages (from aiohttp->datasets~=2.2.2->medcat==1.3.0) (4.0.2)\n",
      "Requirement already satisfied: frozenlist>=1.1.1 in /usr/local/lib/python3.7/dist-packages (from aiohttp->datasets~=2.2.2->medcat==1.3.0) (1.3.1)\n",
      "Requirement already satisfied: charset-normalizer<3.0,>=2.0 in /usr/local/lib/python3.7/dist-packages (from aiohttp->datasets~=2.2.2->medcat==1.3.0) (2.1.0)\n",
      "Requirement already satisfied: aiosignal>=1.1.2 in /usr/local/lib/python3.7/dist-packages (from aiohttp->datasets~=2.2.2->medcat==1.3.0) (1.2.0)\n",
      "Requirement already satisfied: yarl<2.0,>=1.0 in /usr/local/lib/python3.7/dist-packages (from aiohttp->datasets~=2.2.2->medcat==1.3.0) (1.8.1)\n",
      "Requirement already satisfied: MarkupSafe>=0.23 in /usr/local/lib/python3.7/dist-packages (from jinja2->spacy<3.1.4,>=3.1.0->medcat==1.3.0) (2.0.1)\n",
      "Collecting multiprocess\n",
      " Downloading multiprocess-0.70.12.2-py37-none-any.whl (112 kB)\n",
      "\u001b[K |████████████████████████████████| 112 kB 46.1 MB/s \n",
      "\u001b[?25hRequirement already satisfied: testpath in /usr/local/lib/python3.7/dist-packages (from nbconvert->notebook>=4.4.1->widgetsnbextension~=3.5.0->ipywidgets~=7.6.5->medcat==1.3.0) (0.6.0)\n",
      "Requirement already satisfied: mistune<2,>=0.8.1 in /usr/local/lib/python3.7/dist-packages (from nbconvert->notebook>=4.4.1->widgetsnbextension~=3.5.0->ipywidgets~=7.6.5->medcat==1.3.0) (0.8.4)\n",
      "Requirement already satisfied: pandocfilters>=1.4.1 in /usr/local/lib/python3.7/dist-packages (from nbconvert->notebook>=4.4.1->widgetsnbextension~=3.5.0->ipywidgets~=7.6.5->medcat==1.3.0) (1.5.0)\n",
      "Requirement already satisfied: defusedxml in /usr/local/lib/python3.7/dist-packages (from nbconvert->notebook>=4.4.1->widgetsnbextension~=3.5.0->ipywidgets~=7.6.5->medcat==1.3.0) (0.7.1)\n",
      "Requirement already satisfied: bleach in /usr/local/lib/python3.7/dist-packages (from nbconvert->notebook>=4.4.1->widgetsnbextension~=3.5.0->ipywidgets~=7.6.5->medcat==1.3.0) (5.0.1)\n",
      "Requirement already satisfied: entrypoints>=0.2.2 in /usr/local/lib/python3.7/dist-packages (from nbconvert->notebook>=4.4.1->widgetsnbextension~=3.5.0->ipywidgets~=7.6.5->medcat==1.3.0) (0.4)\n",
      "Requirement already satisfied: webencodings in /usr/local/lib/python3.7/dist-packages (from bleach->nbconvert->notebook>=4.4.1->widgetsnbextension~=3.5.0->ipywidgets~=7.6.5->medcat==1.3.0) (0.5.1)\n",
      "Requirement already satisfied: threadpoolctl>=2.0.0 in /usr/local/lib/python3.7/dist-packages (from scikit-learn->sklearn~=0.0->medcat==1.3.0) (3.1.0)\n",
      "Requirement already satisfied: joblib>=0.11 in /usr/local/lib/python3.7/dist-packages (from scikit-learn->sklearn~=0.0->medcat==1.3.0) (1.1.0)\n",
      "Building wheels for collected packages: sklearn\n",
      " Building wheel for sklearn (setup.py) ... \u001b[?25l\u001b[?25hdone\n",
      " Created wheel for sklearn: filename=sklearn-0.0-py2.py3-none-any.whl size=1310 sha256=2f3cc1b6266ead1ea4bb19751fd03bcbc5309aed5c487aaa7a9496c22235bdf9\n",
      " Stored in directory: /root/.cache/pip/wheels/46/ef/c3/157e41f5ee1372d1be90b09f74f82b10e391eaacca8f22d33e\n",
      "Successfully built sklearn\n",
      "Installing collected packages: typing-extensions, jedi, urllib3, pydantic, dill, blis, xxhash, widgetsnbextension, tokenizers, thinc, responses, pansi, multiprocess, monotonic, jupyterlab-widgets, interchange, huggingface-hub, transformers, spacy, sklearn, py2neo, psutil, jsonpickle, ipywidgets, gensim, elasticsearch, datasets, aiofiles, medcat\n",
      " Attempting uninstall: typing-extensions\n",
      " Found existing installation: typing-extensions 4.1.1\n",
      " Uninstalling typing-extensions-4.1.1:\n",
      " Successfully uninstalled typing-extensions-4.1.1\n",
      " Attempting uninstall: urllib3\n",
      " Found existing installation: urllib3 1.24.3\n",
      " Uninstalling urllib3-1.24.3:\n",
      " Successfully uninstalled urllib3-1.24.3\n",
      " Attempting uninstall: pydantic\n",
      " Found existing installation: pydantic 1.9.2\n",
      " Uninstalling pydantic-1.9.2:\n",
      " Successfully uninstalled pydantic-1.9.2\n",
      " Attempting uninstall: dill\n",
      " Found existing installation: dill 0.3.5.1\n",
      " Uninstalling dill-0.3.5.1:\n",
      " Successfully uninstalled dill-0.3.5.1\n",
      " Attempting uninstall: blis\n",
      " Found existing installation: blis 0.7.8\n",
      " Uninstalling blis-0.7.8:\n",
      " Successfully uninstalled blis-0.7.8\n",
      " Attempting uninstall: widgetsnbextension\n",
      " Found existing installation: widgetsnbextension 3.6.1\n",
      " Uninstalling widgetsnbextension-3.6.1:\n",
      " Successfully uninstalled widgetsnbextension-3.6.1\n",
      " Attempting uninstall: thinc\n",
      " Found existing installation: thinc 8.1.0\n",
      " Uninstalling thinc-8.1.0:\n",
      " Successfully uninstalled thinc-8.1.0\n",
      " Attempting uninstall: jupyterlab-widgets\n",
      " Found existing installation: jupyterlab-widgets 3.0.2\n",
      " Uninstalling jupyterlab-widgets-3.0.2:\n",
      " Successfully uninstalled jupyterlab-widgets-3.0.2\n",
      " Attempting uninstall: spacy\n",
      " Found existing installation: spacy 3.4.1\n",
      " Uninstalling spacy-3.4.1:\n",
      " Successfully uninstalled spacy-3.4.1\n",
      " Attempting uninstall: psutil\n",
      " Found existing installation: psutil 5.4.8\n",
      " Uninstalling psutil-5.4.8:\n",
      " Successfully uninstalled psutil-5.4.8\n",
      " Attempting uninstall: ipywidgets\n",
      " Found existing installation: ipywidgets 7.7.1\n",
      " Uninstalling ipywidgets-7.7.1:\n",
      " Successfully uninstalled ipywidgets-7.7.1\n",
      " Attempting uninstall: gensim\n",
      " Found existing installation: gensim 3.6.0\n",
      " Uninstalling gensim-3.6.0:\n",
      " Successfully uninstalled gensim-3.6.0\n",
      "\u001b[31mERROR: pip's dependency resolver does not currently take into account all the packages that are installed. This behaviour is the source of the following dependency conflicts.\n",
      "en-core-web-sm 3.4.0 requires spacy<3.5.0,>=3.4.0, but you have spacy 3.1.3 which is incompatible.\u001b[0m\n",
      "Successfully installed aiofiles-0.8.0 blis-0.7.5 datasets-2.2.2 dill-0.3.4 elasticsearch-7.17.4 gensim-4.1.2 huggingface-hub-0.9.0 interchange-2021.0.4 ipywidgets-7.6.6 jedi-0.18.1 jsonpickle-2.0.0 jupyterlab-widgets-1.1.1 medcat-1.3.0 monotonic-1.6 multiprocess-0.70.12.2 pansi-2020.7.3 psutil-5.9.1 py2neo-2021.2.3 pydantic-1.8.2 responses-0.18.0 sklearn-0.0 spacy-3.1.3 thinc-8.0.17 tokenizers-0.12.1 transformers-4.19.4 typing-extensions-3.10.0.2 urllib3-1.25.11 widgetsnbextension-3.5.2 xxhash-3.0.0\n"
     ]
    },
    {
     "data": {
      "application/vnd.colab-display-data+json": {
       "pip_warning": {
        "packages": [
         "psutil",
         "typing_extensions"
        ]
       }
      }
     },
     "metadata": {},
     "output_type": "display_data"
    },
    {
     "name": "stdout",
     "output_type": "stream",
     "text": [
      "WARNING: Runtime will restart automatically and please run other cells thereafter.\n"
     ]
    }
   ],
   "source": [
    "# Install medcat\n",
    "! pip install medcat==1.3.0\n",
    "try:\n",
    "    from medcat.cat import CAT\n",
    "except:\n",
    "    print(\"WARNING: Runtime will restart automatically and please run other cells thereafter.\")\n",
    "    exit()"
   ]
  },
  {
   "cell_type": "markdown",
   "metadata": {
    "id": "3OLVuMJE03da"
   },
   "source": [
    "**Restart the runtime if on colab, sometimes necessary after installing models**"
   ]
  },
  {
   "cell_type": "code",
   "execution_count": 1,
   "metadata": {
    "colab": {
     "base_uri": "https://localhost:8080/"
    },
    "id": "lho2dmm1VffS",
    "outputId": "f21bc7e4-f8f0-424f-b74d-eb24fc22e38a"
   },
   "outputs": [
    {
     "name": "stderr",
     "output_type": "stream",
     "text": [
      "/usr/local/lib/python3.7/dist-packages/medcat/cat.py:18: TqdmExperimentalWarning: Using `tqdm.autonotebook.tqdm` in notebook mode. Use `tqdm.tqdm` instead to force console mode (e.g. in jupyter console)\n",
      " from tqdm.autonotebook import tqdm, trange\n"
     ]
    }
   ],
   "source": [
    "import pandas as pd\n",
    "import numpy as np\n",
    "import pickle\n",
    "import seaborn as sns\n",
    "\n",
    "from matplotlib import pyplot as plt\n",
    "from medcat.cat import CAT"
   ]
  },
  {
   "cell_type": "code",
   "execution_count": 2,
   "metadata": {
    "id": "VH8L597aVffZ"
   },
   "outputs": [],
   "source": [
    "DATA_DIR = \"./data_p3.2/\"\n",
    "! DATA_DIR=\"./data_p3.2/\"\n",
    "model_pack_path = DATA_DIR + \"medmen_wstatus_2021_oct.zip\""
   ]
  },
  {
   "cell_type": "code",
   "execution_count": 3,
   "metadata": {
    "colab": {
     "base_uri": "https://localhost:8080/"
    },
    "id": "ics9eFrUI5lo",
    "outputId": "ff99d62e-02a3-4255-c4dd-947db4d3425b"
   },
   "outputs": [
    {
     "name": "stdout",
     "output_type": "stream",
     "text": [
      "--2022-08-25 11:58:20-- https://medcat.rosalind.kcl.ac.uk/media/medmen_wstatus_2021_oct.zip\n",
      "Resolving medcat.rosalind.kcl.ac.uk (medcat.rosalind.kcl.ac.uk)... 193.61.202.225\n",
      "Connecting to medcat.rosalind.kcl.ac.uk (medcat.rosalind.kcl.ac.uk)|193.61.202.225|:443... connected.\n",
      "HTTP request sent, awaiting response... 200 OK\n",
      "Length: 561947681 (536M) [application/zip]\n",
      "Saving to: ‘./data/medmen_wstatus_2021_oct.zip.1’\n",
      "\n",
      "medmen_wstatus_2021 100%[===================>] 535.92M 27.2MB/s in 20s \n",
      "\n",
      "2022-08-25 11:58:41 (26.6 MB/s) - ‘./data/medmen_wstatus_2021_oct.zip.1’ saved [561947681/561947681]\n",
      "\n",
      "--2022-08-25 11:58:41-- https://raw.githubusercontent.com/CogStack/MedCATtutorials/main/notebooks/introductory/data/pt_notes.csv\n",
      "Resolving raw.githubusercontent.com (raw.githubusercontent.com)... 185.199.108.133, 185.199.109.133, 185.199.110.133, ...\n",
      "Connecting to raw.githubusercontent.com (raw.githubusercontent.com)|185.199.108.133|:443... connected.\n",
      "HTTP request sent, awaiting response... 200 OK\n",
      "Length: 3644222 (3.5M) [text/plain]\n",
      "Saving to: ‘./data/pt_notes.csv.1’\n",
      "\n",
      "pt_notes.csv.1 100%[===================>] 3.47M --.-KB/s in 0.07s \n",
      "\n",
      "2022-08-25 11:58:41 (50.5 MB/s) - ‘./data/pt_notes.csv.1’ saved [3644222/3644222]\n",
      "\n"
     ]
    }
   ],
   "source": [
    "# Download the models and required data\n",
    "!wget -N https://medcat.rosalind.kcl.ac.uk/media/medmen_wstatus_2021_oct.zip -P $DATA_DIR\n",
    "!wget -N https://raw.githubusercontent.com/CogStack/MedCATtutorials/main/notebooks/introductory/data/pt_notes.csv -P $DATA_DIR"
   ]
  },
  {
   "cell_type": "markdown",
   "metadata": {
    "id": "_thSfOjVVffc"
   },
   "source": [
    "## Loading the MedCAT modelpack"
   ]
  },
  {
   "cell_type": "code",
   "execution_count": 4,
   "metadata": {
    "colab": {
     "base_uri": "https://localhost:8080/"
    },
    "id": "LFgIA5tSVffd",
    "outputId": "c96d50a2-cf1d-4d4e-a45d-6aecb6f16ddc"
   },
   "outputs": [
    {
     "name": "stderr",
     "output_type": "stream",
     "text": [
      "WARNING:medcat.cdb:The CDB was exported by an unknown version of MedCAT.\n",
      "INFO:medcat:{\n",
      " \"Model ID\": null,\n",
      " \"Last Modified On\": null,\n",
      " \"History (from least to most recent)\": [],\n",
      " \"Description\": \"No description\",\n",
      " \"Source Ontology\": null,\n",
      " \"Location\": null,\n",
      " \"MetaCAT models\": {},\n",
      " \"Basic CDB Stats\": {},\n",
      " \"Performance\": {\n",
      " \"ner\": {},\n",
      " \"meta\": {}\n",
      " },\n",
      " \"Important Parameters (Partial view, all available in cat.config)\": {\n",
      " \"config.ner['min_name_len']\": {\n",
      " \"value\": 3,\n",
      " \"description\": \"Minimum detection length (found terms/mentions shorter than this will not be detected).\"\n",
      " },\n",
      " \"config.ner['upper_case_limit_len']\": {\n",
      " \"value\": 3,\n",
      " \"description\": \"All detected terms shorter than this value have to be uppercase, otherwise they will be ignored.\"\n",
      " },\n",
      " \"config.linking['similarity_threshold']\": {\n",
      " \"value\": 0.2,\n",
      " \"description\": \"If the confidence of the model is lower than this a detection will be ignore.\"\n",
      " },\n",
      " \"config.general['spell_check']\": {\n",
      " \"value\": true,\n",
      " \"description\": \"Is spell checking enabled.\"\n",
      " },\n",
      " \"config.general['spell_check_len_limit']\": {\n",
      " \"value\": 7,\n",
      " \"description\": \"Words shorter than this will not be spell checked.\"\n",
      " }\n",
      " },\n",
      " \"MedCAT Version\": null\n",
      "}\n"
     ]
    }
   ],
   "source": [
    "# Load model pack and Create CAT - the main class from medcat used for concept annotation\n",
    "cat = CAT.load_model_pack(model_pack_path)\n"
   ]
  },
  {
   "cell_type": "markdown",
   "metadata": {
    "id": "f7VxmscmVffi"
   },
   "source": [
    "## Testing Named Entity Recognition + Linking (NER+L)"
   ]
  },
  {
   "cell_type": "code",
   "execution_count": 5,
   "metadata": {
    "colab": {
     "base_uri": "https://localhost:8080/"
    },
    "id": "7_L4-zPPVffj",
    "outputId": "a019ac36-b267-46d5-92fb-b268f1bece54"
   },
   "outputs": [
    {
     "name": "stdout",
     "output_type": "stream",
     "text": [
      "(diagnosed, kidney failure)\n"
     ]
    }
   ],
   "source": [
    "text = \"He was diagnosed with kidney failure\"\n",
    "doc = cat(text)\n",
    "print(doc.ents)"
   ]
  },
  {
   "cell_type": "code",
   "execution_count": 6,
   "metadata": {
    "colab": {
     "base_uri": "https://localhost:8080/"
    },
    "id": "wX64EAXGuEi3",
    "outputId": "6d980aea-af56-4259-b8b0-6af11fb3d3fa"
   },
   "outputs": [
    {
     "data": {
      "text/plain": [
       "{'entities': {0: {'pretty_name': 'Diagnosis',\n",
       " 'cui': 'C0011900',\n",
       " 'type_ids': ['T060'],\n",
       " 'types': ['Diagnostic Procedure'],\n",
       " 'source_value': 'diagnosed',\n",
       " 'detected_name': 'diagnosed',\n",
       " 'acc': 0.3913008909798732,\n",
       " 'context_similarity': 0.3913008909798732,\n",
       " 'start': 7,\n",
       " 'end': 16,\n",
       " 'icd10': [],\n",
       " 'ontologies': [],\n",
       " 'snomed': [],\n",
       " 'id': 0,\n",
       " 'meta_anns': {'Status': {'value': 'Affirmed',\n",
       " 'confidence': 0.9999933838844299,\n",
       " 'name': 'Status'}}},\n",
       " 2: {'pretty_name': 'Kidney Failure',\n",
       " 'cui': 'C0035078',\n",
       " 'type_ids': ['T047'],\n",
       " 'types': ['Disease or Syndrome'],\n",
       " 'source_value': 'kidney failure',\n",
       " 'detected_name': 'kidney~failure',\n",
       " 'acc': 1.0,\n",
       " 'context_similarity': 1.0,\n",
       " 'start': 22,\n",
       " 'end': 36,\n",
       " 'icd10': [],\n",
       " 'ontologies': [],\n",
       " 'snomed': [],\n",
       " 'id': 2,\n",
       " 'meta_anns': {'Status': {'value': 'Affirmed',\n",
       " 'confidence': 0.9999961853027344,\n",
       " 'name': 'Status'}}}},\n",
       " 'tokens': []}"
      ]
     },
     "execution_count": 6,
     "metadata": {},
     "output_type": "execute_result"
    }
   ],
   "source": [
    "# To see all entities and corresponding meta-data\n",
    "cat.get_entities(\"He was diagnosed with kidney failure\", only_cui=False)"
   ]
  },
  {
   "cell_type": "code",
   "execution_count": 7,
   "metadata": {
    "colab": {
     "base_uri": "https://localhost:8080/"
    },
    "id": "kDN04vBbVffl",
    "outputId": "5501658a-f509-4121-a76d-b5ed2c1ec120"
   },
   "outputs": [
    {
     "name": "stdout",
     "output_type": "stream",
     "text": [
      "diagnosed - C0011900\n",
      "kidney failure - C0035078\n"
     ]
    }
   ],
   "source": [
    "# If we want to see the CUI (ID) for each entity\n",
    "for ent in doc.ents:\n",
    "    print(ent, \" - \", ent._.cui)"
   ]
  },
  {
   "cell_type": "code",
   "execution_count": 8,
   "metadata": {
    "colab": {
     "base_uri": "https://localhost:8080/"
    },
    "id": "ggj45cnLcAgh",
    "outputId": "c5a16c2a-5362-44c7-f906-0c5b24713d1b"
   },
   "outputs": [
    {
     "name": "stdout",
     "output_type": "stream",
     "text": [
      "diagnosed - {'T060'}\n",
      "kidney failure - {'T047'}\n"
     ]
    }
   ],
   "source": [
    "# To show type_ids and types for each entity\n",
    "for ent in doc.ents:\n",
    "    print(ent, \" - \", cat.cdb.cui2type_ids.get(ent._.cui))"
   ]
  },
  {
   "cell_type": "code",
   "execution_count": 9,
   "metadata": {
    "colab": {
     "base_uri": "https://localhost:8080/",
     "height": 45
    },
    "id": "7hZPUuf1Vffo",
    "outputId": "fc2350fa-e812-49cf-9add-0780a7e02468"
   },
   "outputs": [
    {
     "data": {
      "text/html": [
       "<span class=\"tex2jax_ignore\"><div class=\"entities\" style=\"line-height: 2.5; direction: ltr\">He was \n",
       "<mark class=\"entity\" style=\"background: #ddd; padding: 0.45em 0.6em; margin: 0 0.25em; line-height: 1; border-radius: 0.35em;\">\n",
       " diagnosed\n",
       " <span style=\"font-size: 0.8em; font-weight: bold; line-height: 1; border-radius: 0.35em; vertical-align: middle; margin-left: 0.5rem\">concept</span>\n",
       "</mark>\n",
       " with \n",
       "<mark class=\"entity\" style=\"background: #ddd; padding: 0.45em 0.6em; margin: 0 0.25em; line-height: 1; border-radius: 0.35em;\">\n",
       " kidney failure\n",
       " <span style=\"font-size: 0.8em; font-weight: bold; line-height: 1; border-radius: 0.35em; vertical-align: middle; margin-left: 0.5rem\">concept</span>\n",
       "</mark>\n",
       "</div></span>"
      ],
      "text/plain": [
       "<IPython.core.display.HTML object>"
      ]
     },
     "metadata": {},
     "output_type": "display_data"
    }
   ],
   "source": [
    "# We can also show the entities in a nicer way using displacy form spaCy\n",
    "from spacy import displacy\n",
    "displacy.render(doc, style='ent', jupyter=True)"
   ]
  },
  {
   "cell_type": "markdown",
   "metadata": {
    "id": "et68xVzxVffr"
   },
   "source": [
    "## Load the data"
   ]
  },
  {
   "cell_type": "code",
   "execution_count": 10,
   "metadata": {
    "id": "j7krcYDyVffr"
   },
   "outputs": [],
   "source": [
    "# Load the dataset - the one we saved in the last step of Part 2.\n",
    "#If using MIMIC-III this is a very big dataset, be careful with memory requirements.\n",
    "data = pd.read_csv(DATA_DIR + \"pt_notes.csv\")"
   ]
  },
  {
   "cell_type": "code",
   "execution_count": 11,
   "metadata": {
    "colab": {
     "base_uri": "https://localhost:8080/",
     "height": 169
    },
    "id": "nOPdyOoQVffv",
    "outputId": "51f895b7-24f5-4a5e-e929-0755ea72d4ba"
   },
   "outputs": [
    {
     "data": {
      "text/html": [
       "\n",
       " <div id=\"df-a977503e-e207-45dd-b554-c4bdbcdd7de0\">\n",
       " <div class=\"colab-df-container\">\n",
       " <div>\n",
       "<style scoped>\n",
       " .dataframe tbody tr th:only-of-type {\n",
       " vertical-align: middle;\n",
       " }\n",
       "\n",
       " .dataframe tbody tr th {\n",
       " vertical-align: top;\n",
       " }\n",
       "\n",
       " .dataframe thead th {\n",
       " text-align: right;\n",
       " }\n",
       "</style>\n",
       "<table border=\"1\" class=\"dataframe\">\n",
       " <thead>\n",
       " <tr style=\"text-align: right;\">\n",
       " <th></th>\n",
       " <th>Unnamed: 0_x</th>\n",
       " <th>subject_id</th>\n",
       " <th>chartdate</th>\n",
       " <th>category</th>\n",
       " <th>text</th>\n",
       " <th>create_year</th>\n",
       " <th>Unnamed: 0_y</th>\n",
       " <th>gender</th>\n",
       " <th>dob</th>\n",
       " <th>dob_year</th>\n",
       " <th>age_year</th>\n",
       " </tr>\n",
       " </thead>\n",
       " <tbody>\n",
       " <tr>\n",
       " <th>0</th>\n",
       " <td>6</td>\n",
       " <td>1</td>\n",
       " <td>2079-01-01</td>\n",
       " <td>General Medicine</td>\n",
       " <td>HISTORY OF PRESENT ILLNESS:, The patient is a ...</td>\n",
       " <td>2079</td>\n",
       " <td>1</td>\n",
       " <td>F</td>\n",
       " <td>2018-01-01</td>\n",
       " <td>2018</td>\n",
       " <td>61</td>\n",
       " </tr>\n",
       " <tr>\n",
       " <th>1</th>\n",
       " <td>7</td>\n",
       " <td>1</td>\n",
       " <td>2079-01-01</td>\n",
       " <td>Rheumatology</td>\n",
       " <td>HISTORY OF PRESENT ILLNESS: , A 71-year-old fe...</td>\n",
       " <td>2079</td>\n",
       " <td>1</td>\n",
       " <td>F</td>\n",
       " <td>2018-01-01</td>\n",
       " <td>2018</td>\n",
       " <td>61</td>\n",
       " </tr>\n",
       " <tr>\n",
       " <th>2</th>\n",
       " <td>8</td>\n",
       " <td>1</td>\n",
       " <td>2079-01-01</td>\n",
       " <td>Consult - History and Phy.</td>\n",
       " <td>HISTORY OF PRESENT ILLNESS:, The patient is a ...</td>\n",
       " <td>2079</td>\n",
       " <td>1</td>\n",
       " <td>F</td>\n",
       " <td>2018-01-01</td>\n",
       " <td>2018</td>\n",
       " <td>61</td>\n",
       " </tr>\n",
       " <tr>\n",
       " <th>3</th>\n",
       " <td>9</td>\n",
       " <td>2</td>\n",
       " <td>2037-01-01</td>\n",
       " <td>Consult - History and Phy.</td>\n",
       " <td>CHIEF COMPLAINT:,1. Infection.,2. Pelvic pai...</td>\n",
       " <td>2037</td>\n",
       " <td>2</td>\n",
       " <td>F</td>\n",
       " <td>2018-01-01</td>\n",
       " <td>2018</td>\n",
       " <td>19</td>\n",
       " </tr>\n",
       " <tr>\n",
       " <th>4</th>\n",
       " <td>10</td>\n",
       " <td>2</td>\n",
       " <td>2037-01-01</td>\n",
       " <td>Dermatology</td>\n",
       " <td>SUBJECTIVE:, This is a 29-year-old Vietnamese...</td>\n",
       " <td>2037</td>\n",
       " <td>2</td>\n",
       " <td>F</td>\n",
       " <td>2018-01-01</td>\n",
       " <td>2018</td>\n",
       " <td>19</td>\n",
       " </tr>\n",
       " </tbody>\n",
       "</table>\n",
       "</div>\n",
       " <button class=\"colab-df-convert\" onclick=\"convertToInteractive('df-a977503e-e207-45dd-b554-c4bdbcdd7de0')\"\n",
       " title=\"Convert this dataframe to an interactive table.\"\n",
       " style=\"display:none;\">\n",
       " \n",
       " <svg xmlns=\"http://www.w3.org/2000/svg\" height=\"24px\"viewBox=\"0 0 24 24\"\n",
       " width=\"24px\">\n",
       " <path d=\"M0 0h24v24H0V0z\" fill=\"none\"/>\n",
       " <path d=\"M18.56 5.44l.94 2.06.94-2.06 2.06-.94-2.06-.94-.94-2.06-.94 2.06-2.06.94zm-11 1L8.5 8.5l.94-2.06 2.06-.94-2.06-.94L8.5 2.5l-.94 2.06-2.06.94zm10 10l.94 2.06.94-2.06 2.06-.94-2.06-.94-.94-2.06-.94 2.06-2.06.94z\"/><path d=\"M17.41 7.96l-1.37-1.37c-.4-.4-.92-.59-1.43-.59-.52 0-1.04.2-1.43.59L10.3 9.45l-7.72 7.72c-.78.78-.78 2.05 0 2.83L4 21.41c.39.39.9.59 1.41.59.51 0 1.02-.2 1.41-.59l7.78-7.78 2.81-2.81c.8-.78.8-2.07 0-2.86zM5.41 20L4 18.59l7.72-7.72 1.47 1.35L5.41 20z\"/>\n",
       " </svg>\n",
       " </button>\n",
       " \n",
       " <style>\n",
       " .colab-df-container {\n",
       " display:flex;\n",
       " flex-wrap:wrap;\n",
       " gap: 12px;\n",
       " }\n",
       "\n",
       " .colab-df-convert {\n",
       " background-color: #E8F0FE;\n",
       " border: none;\n",
       " border-radius: 50%;\n",
       " cursor: pointer;\n",
       " display: none;\n",
       " fill: #1967D2;\n",
       " height: 32px;\n",
       " padding: 0 0 0 0;\n",
       " width: 32px;\n",
       " }\n",
       "\n",
       " .colab-df-convert:hover {\n",
       " background-color: #E2EBFA;\n",
       " box-shadow: 0px 1px 2px rgba(60, 64, 67, 0.3), 0px 1px 3px 1px rgba(60, 64, 67, 0.15);\n",
       " fill: #174EA6;\n",
       " }\n",
       "\n",
       " [theme=dark] .colab-df-convert {\n",
       " background-color: #3B4455;\n",
       " fill: #D2E3FC;\n",
       " }\n",
       "\n",
       " [theme=dark] .colab-df-convert:hover {\n",
       " background-color: #434B5C;\n",
       " box-shadow: 0px 1px 3px 1px rgba(0, 0, 0, 0.15);\n",
       " filter: drop-shadow(0px 1px 2px rgba(0, 0, 0, 0.3));\n",
       " fill: #FFFFFF;\n",
       " }\n",
       " </style>\n",
       "\n",
       " <script>\n",
       " const buttonEl =\n",
       " document.querySelector('#df-a977503e-e207-45dd-b554-c4bdbcdd7de0 button.colab-df-convert');\n",
       " buttonEl.style.display =\n",
       " google.colab.kernel.accessAllowed ? 'block' : 'none';\n",
       "\n",
       " async function convertToInteractive(key) {\n",
       " const element = document.querySelector('#df-a977503e-e207-45dd-b554-c4bdbcdd7de0');\n",
       " const dataTable =\n",
       " await google.colab.kernel.invokeFunction('convertToInteractive',\n",
       " [key], {});\n",
       " if (!dataTable) return;\n",
       "\n",
       " const docLinkHtml = 'Like what you see? Visit the ' +\n",
       " '<a target=\"_blank\" href=https://colab.research.google.com/notebooks/data_table.ipynb>data table notebook</a>'\n",
       " + ' to learn more about interactive tables.';\n",
       " element.innerHTML = '';\n",
       " dataTable['output_type'] = 'display_data';\n",
       " await google.colab.output.renderOutput(dataTable, element);\n",
       " const docLink = document.createElement('div');\n",
       " docLink.innerHTML = docLinkHtml;\n",
       " element.appendChild(docLink);\n",
       " }\n",
       " </script>\n",
       " </div>\n",
       " </div>\n",
       " "
      ],
      "text/plain": [
       " Unnamed: 0_x subject_id chartdate category \\\n",
       "0 6 1 2079-01-01 General Medicine \n",
       "1 7 1 2079-01-01 Rheumatology \n",
       "2 8 1 2079-01-01 Consult - History and Phy. \n",
       "3 9 2 2037-01-01 Consult - History and Phy. \n",
       "4 10 2 2037-01-01 Dermatology \n",
       "\n",
       " text create_year \\\n",
       "0 HISTORY OF PRESENT ILLNESS:, The patient is a ... 2079 \n",
       "1 HISTORY OF PRESENT ILLNESS: , A 71-year-old fe... 2079 \n",
       "2 HISTORY OF PRESENT ILLNESS:, The patient is a ... 2079 \n",
       "3 CHIEF COMPLAINT:,1. Infection.,2. Pelvic pai... 2037 \n",
       "4 SUBJECTIVE:, This is a 29-year-old Vietnamese... 2037 \n",
       "\n",
       " Unnamed: 0_y gender dob dob_year age_year \n",
       "0 1 F 2018-01-01 2018 61 \n",
       "1 1 F 2018-01-01 2018 61 \n",
       "2 1 F 2018-01-01 2018 61 \n",
       "3 2 F 2018-01-01 2018 19 \n",
       "4 2 F 2018-01-01 2018 19 "
      ]
     },
     "execution_count": 11,
     "metadata": {},
     "output_type": "execute_result"
    }
   ],
   "source": [
    "# In this step we are only interested in the *text* column\n",
    "data.head()"
   ]
  },
  {
   "cell_type": "markdown",
   "metadata": {
    "id": "3CERW88jVffz"
   },
   "source": [
    "## Run unsupervised training"
   ]
  },
  {
   "cell_type": "code",
   "execution_count": 12,
   "metadata": {
    "colab": {
     "base_uri": "https://localhost:8080/"
    },
    "id": "jHYbsOriVff0",
    "outputId": "fcc440e3-b8a6-4c1b-9914-ca68ed48e82d"
   },
   "outputs": [
    {
     "name": "stderr",
     "output_type": "stream",
     "text": [
      "INFO:medcat.cdb:{\n",
      " \"Number of concepts\": 34724,\n",
      " \"Number of names\": 92740,\n",
      " \"Number of concepts that received training\": 34724,\n",
      " \"Number of seen training examples in total\": 4079076,\n",
      " \"Average training examples per concept\": 117.47137426563759\n",
      "}\n"
     ]
    },
    {
     "name": "stdout",
     "output_type": "stream",
     "text": [
      "\n",
      "There are 1088 documents to train...\n"
     ]
    },
    {
     "name": "stderr",
     "output_type": "stream",
     "text": [
      "INFO:medcat:DONE: 100\n",
      "INFO:medcat:DONE: 200\n",
      "INFO:medcat:DONE: 300\n",
      "INFO:medcat:DONE: 400\n",
      "INFO:medcat:DONE: 500\n",
      "INFO:medcat:DONE: 600\n",
      "INFO:medcat:DONE: 700\n",
      "INFO:medcat:DONE: 800\n",
      "INFO:medcat:DONE: 900\n",
      "INFO:medcat:DONE: 1000\n",
      "INFO:medcat.cdb:{\n",
      " \"Number of concepts\": 34724,\n",
      " \"Number of names\": 92740,\n",
      " \"Number of concepts that received training\": 34724,\n",
      " \"Number of seen training examples in total\": 4098994,\n",
      " \"Average training examples per concept\": 118.04498329685521\n",
      "}\n"
     ]
    }
   ],
   "source": [
    "# The first step that we want to do when using MedCAT is unsupervised training.\n",
    "# You can find a full explanation of this process in the paper:\n",
    "# https://doi.org/10.1016/j.artmed.2021.102083\n",
    "\n",
    "# Print statistics on the CDB before training (note that if you are using the \n",
    "#medmen cdb it will already have some training)\n",
    "\n",
    "cat.cdb.print_stats()\n",
    "\n",
    "# Run the annotation procedure over all the documents we have,\n",
    "#given that we have a large number of documents this can take quite some time.\n",
    "print()\n",
    "print(f\"There are {len(data['text'])} documents to train...\")\n",
    "\n",
    "cat.train(data.text.values, progress_print=100)\n",
    "\n",
    "# Now print statistics on the CDB after training\n",
    "cat.cdb.print_stats()"
   ]
  },
  {
   "cell_type": "markdown",
   "metadata": {
    "id": "TsMpg0JSTdYm"
   },
   "source": [
    "## Save the new MedCAT modelpack"
   ]
  },
  {
   "cell_type": "code",
   "execution_count": 13,
   "metadata": {
    "colab": {
     "base_uri": "https://localhost:8080/"
    },
    "id": "hPQdflWxTcSB",
    "outputId": "e0fe0a95-af9a-4877-9f6b-74d6ac24d0f1"
   },
   "outputs": [
    {
     "name": "stderr",
     "output_type": "stream",
     "text": [
      "WARNING:medcat:Please consider populating the version information [description, performance, location, ontology] in cat.config.version\n",
      "WARNING:medcat:Please consider updating [description, performance, location, ontology] in cat.config.version\n",
      "WARNING:medcat:This will save all models into a zip file, can take some time and require quite a bit of disk space.\n",
      "INFO:medcat:{\n",
      " \"Model ID\": \"2983a0bc35c323cf\",\n",
      " \"Last Modified On\": \"25 August 2022\",\n",
      " \"History (from least to most recent)\": [],\n",
      " \"Description\": \"No description\",\n",
      " \"Source Ontology\": null,\n",
      " \"Location\": null,\n",
      " \"MetaCAT models\": [\n",
      " {\n",
      " \"Category Name\": \"Status\",\n",
      " \"Description\": \"No description\",\n",
      " \"Classes\": {\n",
      " \"Affirmed\": 0,\n",
      " \"Other\": 1\n",
      " },\n",
      " \"Model\": \"lstm\"\n",
      " }\n",
      " ],\n",
      " \"Basic CDB Stats\": {\n",
      " \"Number of concepts\": 34724,\n",
      " \"Number of names\": 92740,\n",
      " \"Number of concepts that received training\": 34724,\n",
      " \"Number of seen training examples in total\": 4098994,\n",
      " \"Average training examples per concept\": 118.04498329685521\n",
      " },\n",
      " \"Performance\": {\n",
      " \"ner\": {},\n",
      " \"meta\": {}\n",
      " },\n",
      " \"Important Parameters (Partial view, all available in cat.config)\": {\n",
      " \"config.ner['min_name_len']\": {\n",
      " \"value\": 3,\n",
      " \"description\": \"Minimum detection length (found terms/mentions shorter than this will not be detected).\"\n",
      " },\n",
      " \"config.ner['upper_case_limit_len']\": {\n",
      " \"value\": 3,\n",
      " \"description\": \"All detected terms shorter than this value have to be uppercase, otherwise they will be ignored.\"\n",
      " },\n",
      " \"config.linking['similarity_threshold']\": {\n",
      " \"value\": 0.2,\n",
      " \"description\": \"If the confidence of the model is lower than this a detection will be ignore.\"\n",
      " },\n",
      " \"config.general['spell_check']\": {\n",
      " \"value\": true,\n",
      " \"description\": \"Is spell checking enabled.\"\n",
      " },\n",
      " \"config.general['spell_check_len_limit']\": {\n",
      " \"value\": 7,\n",
      " \"description\": \"Words shorter than this will not be spell checked.\"\n",
      " }\n",
      " },\n",
      " \"MedCAT Version\": \"1.3.0\"\n",
      "}\n"
     ]
    }
   ],
   "source": [
    "# unsupervised trained model\n",
    "model_pack_name = cat.create_model_pack(DATA_DIR + \"unsupervised_trained_model_pack\")"
   ]
  },
  {
   "cell_type": "markdown",
   "metadata": {
    "id": "9Wf7ugKkVff3"
   },
   "source": [
    "# Annotate Documents\n",
    "\n",
    "For this task we will annotate documents using the UMLS unsupervised model created above.\n",
    "\n",
    "The Type_ids in this CDB correspond to the Semantic Type(TUI) found within UMLS"
   ]
  },
  {
   "cell_type": "code",
   "execution_count": 14,
   "metadata": {
    "colab": {
     "base_uri": "https://localhost:8080/"
    },
    "id": "9ASkdddmKZMY",
    "outputId": "d2c52eee-6f1d-47dd-9511-c3bef2e82dcf"
   },
   "outputs": [
    {
     "name": "stderr",
     "output_type": "stream",
     "text": [
      "INFO:medcat:Found an existing unziped model pack at: ./data/unsupervised_trained_model_pack/medcat_model_pack_2983a0bc35c323cf, the provided zip will not be touched.\n",
      "INFO:medcat:{\n",
      " \"Model ID\": \"2983a0bc35c323cf\",\n",
      " \"Last Modified On\": \"25 August 2022\",\n",
      " \"History (from least to most recent)\": [],\n",
      " \"Description\": \"No description\",\n",
      " \"Source Ontology\": null,\n",
      " \"Location\": null,\n",
      " \"MetaCAT models\": [\n",
      " {\n",
      " \"Category Name\": \"Status\",\n",
      " \"Description\": \"No description\",\n",
      " \"Classes\": {\n",
      " \"Affirmed\": 0,\n",
      " \"Other\": 1\n",
      " },\n",
      " \"Model\": \"lstm\"\n",
      " }\n",
      " ],\n",
      " \"Basic CDB Stats\": {\n",
      " \"Number of concepts\": 34724,\n",
      " \"Number of names\": 92740,\n",
      " \"Number of concepts that received training\": 34724,\n",
      " \"Number of seen training examples in total\": 4098994,\n",
      " \"Average training examples per concept\": 118.04498329685521\n",
      " },\n",
      " \"Performance\": {\n",
      " \"ner\": {},\n",
      " \"meta\": {}\n",
      " },\n",
      " \"Important Parameters (Partial view, all available in cat.config)\": {\n",
      " \"config.ner['min_name_len']\": {\n",
      " \"value\": 3,\n",
      " \"description\": \"Minimum detection length (found terms/mentions shorter than this will not be detected).\"\n",
      " },\n",
      " \"config.ner['upper_case_limit_len']\": {\n",
      " \"value\": 3,\n",
      " \"description\": \"All detected terms shorter than this value have to be uppercase, otherwise they will be ignored.\"\n",
      " },\n",
      " \"config.linking['similarity_threshold']\": {\n",
      " \"value\": 0.2,\n",
      " \"description\": \"If the confidence of the model is lower than this a detection will be ignore.\"\n",
      " },\n",
      " \"config.general['spell_check']\": {\n",
      " \"value\": true,\n",
      " \"description\": \"Is spell checking enabled.\"\n",
      " },\n",
      " \"config.general['spell_check_len_limit']\": {\n",
      " \"value\": 7,\n",
      " \"description\": \"Words shorter than this will not be spell checked.\"\n",
      " }\n",
      " },\n",
      " \"MedCAT Version\": \"1.3.0\"\n",
      "}\n"
     ]
    }
   ],
   "source": [
    "# Load the newly created MedCAT modelpack\n",
    "model_pack_path_2 = DATA_DIR + \"unsupervised_trained_model_pack/\" + model_pack_name + \".zip\"\n",
    "cat = CAT.load_model_pack(model_pack_path_2)"
   ]
  },
  {
   "cell_type": "markdown",
   "metadata": {
    "id": "rpzhuFFyVff3"
   },
   "source": [
    "We are not interested in all medical concepts that exist in UMLS, that is why we will filter by Semantic Type (TUI) to only:\n",
    "1. T047 - Disease or Syndrome\n",
    "2. T048 - Mental or Behavioral Dysfunction\n",
    "\n",
    "It is possible to filter after the detection process, but always better to define the filter as part of MedCAT\n",
    "\n",
    "A full list of semantic types in UMLS is available [here](https://metamap.nlm.nih.gov/Docs/SemanticTypes_2018AB.txt)."
   ]
  },
  {
   "cell_type": "code",
   "execution_count": 15,
   "metadata": {
    "colab": {
     "base_uri": "https://localhost:8080/"
    },
    "id": "8WAS38nNVff4",
    "outputId": "572fc858-450a-44db-adb0-4739ff9b9a1f"
   },
   "outputs": [
    {
     "name": "stdout",
     "output_type": "stream",
     "text": [
      "The size of the cdb is now: 1763\n"
     ]
    }
   ],
   "source": [
    "# IMPORTANT: Set TUI/Type Ids filters\n",
    "# |T047|Disease or Syndrome\n",
    "# |T048|Mental or Behavioral Dysfunction\n",
    "type_ids_filter = ['T047', 'T048']\n",
    "cui_filters = set()\n",
    "for type_ids in type_ids_filter:\n",
    "    cui_filters.update(cat.cdb.addl_info['type_id2cuis'][type_ids])\n",
    "cat.cdb.config.linking['filters']['cuis'] = cui_filters\n",
    "print(f\"The size of the cdb is now: {len(cui_filters)}\")\n"
   ]
  },
  {
   "cell_type": "markdown",
   "metadata": {
    "id": "HSMCmCkQVff6"
   },
   "source": [
    "For each row in our dataframe `data` we want to get all diseases that appear in the `text` column. In UMLS a disease is defined by a CUI, so we want to have the following output after the annotation is done:\n",
    "```\n",
    "cui_location = {<CUI>: [<row_id>, <row_id>, ...], ...}\n",
    "```"
   ]
  },
  {
   "cell_type": "markdown",
   "metadata": {
    "id": "d_SdVDC92TtM"
   },
   "source": [
    "## Get entities from unstructured text\n",
    "We can annotate a portion of text."
   ]
  },
  {
   "cell_type": "code",
   "execution_count": 16,
   "metadata": {
    "id": "JF3OmtKk2RXM"
   },
   "outputs": [],
   "source": [
    "annotated_text = cat.get_entities(\"This patient suffers from diabetes.\")"
   ]
  },
  {
   "cell_type": "code",
   "execution_count": 17,
   "metadata": {
    "colab": {
     "base_uri": "https://localhost:8080/"
    },
    "id": "XmIql-9k2vp2",
    "outputId": "790ac6be-be87-4699-88e8-486746797de7"
   },
   "outputs": [
    {
     "data": {
      "text/plain": [
       "{'entities': {2: {'pretty_name': 'Diabetes',\n",
       " 'cui': 'C0011847',\n",
       " 'type_ids': ['T047'],\n",
       " 'types': ['Disease or Syndrome'],\n",
       " 'source_value': 'diabetes',\n",
       " 'detected_name': 'diabete',\n",
       " 'acc': 0.7613368393011193,\n",
       " 'context_similarity': 0.7613368393011193,\n",
       " 'start': 26,\n",
       " 'end': 34,\n",
       " 'icd10': [],\n",
       " 'ontologies': [],\n",
       " 'snomed': [],\n",
       " 'id': 2,\n",
       " 'meta_anns': {'Status': {'value': 'Affirmed',\n",
       " 'confidence': 0.9999899864196777,\n",
       " 'name': 'Status'}}}},\n",
       " 'tokens': []}"
      ]
     },
     "execution_count": 17,
     "metadata": {},
     "output_type": "execute_result"
    }
   ],
   "source": [
    "annotated_text"
   ]
  },
  {
   "cell_type": "markdown",
   "metadata": {
    "id": "kAwQU5HI3UnX"
   },
   "source": [
    "There is one concept Entity extracted from the sample text above. Feel free to try it out for yourself by altering the text.\n",
    "\n",
    "Don't forget that we applied the type_ids filter for [T047 & T048] so only concepts which fall within these categories will be shown."
   ]
  },
  {
   "cell_type": "markdown",
   "metadata": {
    "id": "rfHRh8C9Vff9"
   },
   "source": [
    "## Use Multiprocessing\n",
    "\n",
    "Although we can annotate documents one by one, using the `annotated_document = cat(text)` option, but it will work much faster if we do it using the `multi_processing` method from medcat.\n",
    "\n",
    "When using multi_processing medcat requires the following format for input documents:\n",
    "```\n",
    "in_data = [(doc_id, doc_text), (doc_id, doc_text), ...]\n",
    "```\n",
    "The output is (return from medcat):\n",
    "```\n",
    "out_data = [(doc_id, {'entities': [...], 'text': <...>), (doc_id, {'entities': [...], 'text': <...>}), ...]\n",
    "```\n",
    "\n",
    "NOTE: If using the full UMLS CDB and a lot of processors (e.g. 32) it is very memory demanding (~ 32GB). The annotation process on 32 processors and 1M large text documents takes ~1h. "
   ]
  },
  {
   "cell_type": "code",
   "execution_count": 18,
   "metadata": {
    "colab": {
     "base_uri": "https://localhost:8080/"
    },
    "id": "6RET9-y9xZGK",
    "outputId": "a345edee-6d33-4253-80b3-f095f958906e"
   },
   "outputs": [
    {
     "name": "stderr",
     "output_type": "stream",
     "text": [
      "INFO:medcat:Annotated until now: 0 docs; Current BS: 1 docs; Elapsed time: 0.00 minutes\n"
     ]
    },
    {
     "data": {
      "text/plain": [
       "{1: {'entities': {0: {'pretty_name': 'Diabetes',\n",
       " 'cui': 'C0011847',\n",
       " 'type_ids': ['T047'],\n",
       " 'types': ['Disease or Syndrome'],\n",
       " 'source_value': 'diabetic',\n",
       " 'detected_name': 'diabetic',\n",
       " 'acc': 0.824328935192448,\n",
       " 'context_similarity': 0.824328935192448,\n",
       " 'start': 9,\n",
       " 'end': 17,\n",
       " 'id': 0,\n",
       " 'meta_anns': {'Status': {'value': 'Affirmed',\n",
       " 'confidence': 0.999995231628418,\n",
       " 'name': 'Status'}}}},\n",
       " 'tokens': []}}"
      ]
     },
     "execution_count": 18,
     "metadata": {},
     "output_type": "execute_result"
    }
   ],
   "source": [
    "# Let's test the multi processing function first\n",
    "in_data = [(1, \"He was a diabetic patient\")]\n",
    "results = cat.multiprocessing(in_data, nproc=2)\n",
    "results"
   ]
  },
  {
   "cell_type": "markdown",
   "metadata": {
    "id": "YIw5f-SpyoPC"
   },
   "source": [
    "The returned list of `entities` contains the following:\n",
    "\n",
    "`acc` - Confidence score for this detection\n",
    "\n",
    "`cui` - ID of the detected entity in the CDB (in our case UMLS)\n",
    "\n",
    "`pretty_name` - The pretty name for this entity linked with the CUI\n",
    "\n",
    "`detected_name` - What exact source value was detected\n",
    "\n",
    "`type_ids` - The category code\n",
    "\n",
    "`types` - Description label of the type_ids\n",
    "\n",
    "`start` - The start character for the entity in the original string\n",
    "\n",
    "`end` - End character for the entity in the original string\n",
    "\n",
    "`id` - Internal ID, each entity inside a document has an unique ID\n",
    "\n",
    "\n",
    "__Optional parameters which can also be set:__\n",
    "\n",
    "The following can also be set to be returned during the creation of the MedCAT CDB within the model pack\n",
    "\n",
    "`icd10` - If we are using a medical CDB, we'll also get ICD10 codes\n",
    "\n",
    "`umls` - If the CDB was something other than UMLS, we would get the potential link to UMLS.\n",
    "\n",
    "`snomed` - If we are using a medical CDB this would link to the equivalent SNOMED concept"
   ]
  },
  {
   "cell_type": "code",
   "execution_count": 19,
   "metadata": {
    "colab": {
     "base_uri": "https://localhost:8080/"
    },
    "id": "SrIR0vGsJZui",
    "outputId": "411b6af1-fc7c-4715-8fa7-6eb8a9a8bbe9"
   },
   "outputs": [
    {
     "data": {
      "text/plain": [
       "(1088, 11)"
      ]
     },
     "execution_count": 19,
     "metadata": {},
     "output_type": "execute_result"
    }
   ],
   "source": [
    "data.shape"
   ]
  },
  {
   "cell_type": "code",
   "execution_count": 20,
   "metadata": {
    "id": "FD0DJFrVR_CG"
   },
   "outputs": [],
   "source": [
    "# Think about removing text you don't want to annotate. E.g <10 characters\n",
    "data = data[data.text.apply(lambda x: len(str(x))>10)]"
   ]
  },
  {
   "cell_type": "code",
   "execution_count": 21,
   "metadata": {
    "id": "PinJkXTZQpjh"
   },
   "outputs": [],
   "source": [
    "# format the df to match: in_data = [(doc_id, doc_text), (doc_id, doc_text), ...]\n",
    "in_data = []\n",
    "for id, row in data[['text']].iterrows():\n",
    "    text = row['text']\n",
    "    in_data.append((id, text))"
   ]
  },
  {
   "cell_type": "code",
   "execution_count": 22,
   "metadata": {
    "colab": {
     "base_uri": "https://localhost:8080/"
    },
    "id": "o3KvcklTPGvB",
    "outputId": "08c6a654-130d-4d8b-d003-bf90c2c8cc98"
   },
   "outputs": [
    {
     "name": "stderr",
     "output_type": "stream",
     "text": [
      "INFO:medcat:Annotated until now: 0 docs; Current BS: 157 docs; Elapsed time: 0.00 minutes\n",
      "INFO:medcat:Annotated until now: 157 docs; Current BS: 165 docs; Elapsed time: 1.42 minutes\n",
      "INFO:medcat:Annotated until now: 322 docs; Current BS: 151 docs; Elapsed time: 2.89 minutes\n",
      "INFO:medcat:Annotated until now: 473 docs; Current BS: 160 docs; Elapsed time: 4.30 minutes\n",
      "INFO:medcat:Annotated until now: 633 docs; Current BS: 152 docs; Elapsed time: 5.68 minutes\n",
      "INFO:medcat:Annotated until now: 785 docs; Current BS: 130 docs; Elapsed time: 7.06 minutes\n",
      "INFO:medcat:Annotated until now: 915 docs; Current BS: 157 docs; Elapsed time: 8.42 minutes\n",
      "INFO:medcat:Annotated until now: 1072 docs; Current BS: 16 docs; Elapsed time: 9.91 minutes\n"
     ]
    }
   ],
   "source": [
    "# Set a batch size to control for the variablity between document sizes\n",
    "batch_size_chars = 500000 # Batch size (BS) in number of characters\n",
    "\n",
    "# Run model\n",
    "results = cat.multiprocessing(in_data, # Formatted data\n",
    "                              batch_size_chars = batch_size_chars,\n",
    "                              nproc=8) # Number of processors"
   ]
  },
  {
   "cell_type": "markdown",
   "metadata": {
    "id": "f-gRm2WKsq5n"
   },
   "source": [
    "To batch on the number of documents, you can use `multiprocessing_pipe` alternatively, which also supports Windows platforms:"
   ]
  },
  {
   "cell_type": "code",
   "execution_count": 23,
   "metadata": {
    "colab": {
     "base_uri": "https://localhost:8080/",
     "height": 49,
     "referenced_widgets": [
      "05b18c97da9d4d05b9280df006a5fb82",
      "8129c3a9f445404bb8b06f3968a50bac",
      "15a1684be9a44119a28a33856c06452a",
      "6f0ac283cf174f779bcea60de66bde65",
      "a0bafd7b236e46349aac20b35ad5abf9",
      "cf9465a7cab742b0a3c5bb59ccff3d56",
      "bfb98e4ef98747748671813d4939caf4",
      "d794b5721c4f49b489db182dc6fd5e29",
      "e0c76b63af374152b12c5b26203c42f2",
      "9a37e6b423864effa8768ec16470916a",
      "dd762c4deef848fe9c04e5b3ad3def06"
     ]
    },
    "id": "TFc7XkGbtclt",
    "outputId": "86f286fa-47e3-44ee-cf98-e0212ef5de02"
   },
   "outputs": [
    {
     "data": {
      "application/vnd.jupyter.widget-view+json": {
       "model_id": "05b18c97da9d4d05b9280df006a5fb82",
       "version_major": 2,
       "version_minor": 0
      },
      "text/plain": [
       " 0%| | 0/1088 [00:00<?, ?it/s]"
      ]
     },
     "metadata": {},
     "output_type": "display_data"
    }
   ],
   "source": [
    "# Set the batch size to the number of documents\n",
    "batch_size = 100 # Batch size (BS) in number of documents\n",
    "\n",
    "# Run model\n",
    "if __name__ == '__main__':\n",
    "    import torch\n",
    "    torch.multiprocessing.set_start_method('spawn', force=True)\n",
    "    results = cat.multiprocessing_pipe(in_data, # Formatted data\n",
    "                                       batch_size = batch_size,\n",
    "                                       nproc=2) # Increase it when having more cores available"
   ]
  },
  {
   "cell_type": "markdown",
   "metadata": {
    "id": "p3ykzPULg8Y4"
   },
   "source": [
    "For a quick sanity check. Let's inspect a document and the annotations that our unsupervised model has produced."
   ]
  },
  {
   "cell_type": "code",
   "execution_count": 24,
   "metadata": {
    "colab": {
     "base_uri": "https://localhost:8080/",
     "height": 80
    },
    "id": "7PxUejjbgWAX",
    "outputId": "9ae304d7-93aa-4cda-ad49-80bb0cb505c6"
   },
   "outputs": [
    {
     "data": {
      "application/vnd.google.colaboratory.intrinsic+json": {
       "type": "string"
      },
      "text/plain": [
       "\"HISTORY OF PRESENT ILLNESS:, The patient is a 71-year-old Caucasian female with a history of diabetes, osteoarthritis, atrial fibrillation, hypertension, asthma, obstructive sleep apnea on CPAP, diabetic foot ulcer, anemia and left lower extremity cellulitis. She was brought in by the EMS service to Erlanger emergency department with pulseless electrical activity. Her husband states that he was at home with his wife, when she presented to him complaining of fever and chills. She became acutely unresponsive. She was noted to have worsening of her breathing. She took several of her MDIs and then was placed on her CPAP. He went to notify EMS and when he returned, she was found to not be breathing. He stated that she was noted to have no breathing in excess of 10 minutes. He states that the EMS system arrived at the home and she was found not breathing. The patient was intubated at the scene and upon arrival to Erlanger Medical Center, she was found to have pupils fixed and dilated. She was seen by me in the emergency department and was on Neo-Synephrine, dopamine with a blood pressure of 97/22 with a rapid heart rate and again, in an unresponsive state.,REVIEW OF SYSTEMS:, Review of systems was not obtainable.,PAST MEDICAL HISTORY:, Diabetes, osteoarthritis, hypertension, asthma, atrial fibrillation, diabetic foot ulcer and anemia.,PAST SURGICAL HISTORY:, Noncontributory to above.,FAMILY HISTORY:, Mother with history of coronary artery disease.,SOCIAL HISTORY:, The patient is married. She uses no ethanol, no tobacco and no illicits. She has a very support family unit.,MEDICATIONS:, Augmentin; Detrol LA; lisinopril.,IMMUNIZATIONS:, Immunizations were up to date for influenza, negative for Pneumovax.,ALLERGIES:, PENICILLIN.,LABORATORY AT PRESENTATION:, White blood cell count 11, hemoglobin 10.5, hematocrit 32.2, platelets 175,000. Sodium 148, potassium 5.2, BUN 30, creatinine 2.2 and glucose 216. PT was 22.4.,RADIOLOGIC DATA:, Chest x-ray revealed a diffuse pulmonary edema.,PHYSICAL EXAMINATION:,VITAL SIGNS: Blood pressure 97/52, pulse of 79, respirations 16, O2 sat 100%.,HEENT: The patient's pupils were again, fixed and dilated and intubated on the monitor.,CHEST: Poor air movement bilateral with bilateral rales.,CARDIOVASCULAR: Regular rate and rhythm.,ABDOMEN: The abdomen was obese, nondistended and nontender.,EXTREMITIES: Left diabetic foot had oozing pus drainage from the foot.,GU: Foley catheter was in place.,IMPRESSION AND PLAN:,1. Acute cardiac arrest with pulseless electrical activity with hypotensive shock and respiratory failure: Will continue ventilator support. Will rule out pulmonary embolus, rule out myocardial infarction. Continue pressors. The patient is currently on dopamine, Neo-Synephrine and Levophed.,2. Acute respiratory distress syndrome: Will continue ventilatory support.,3. Questionable sepsis: Will obtain blood cultures, intravenous vancomycin and Rocephin given.,4. Hypotensive shock: Will continue pressors. Will check random cortisol. Hydrocortisone was added.,Further inpatient management for this patient will be provided by Dr. R. The patient's status was discussed with her daughter and her husband. The husband states that his wife has been very ill in the past with multiple admissions, but he had never seen her as severely ill as with this event. He states that she completely was not breathing at all and he is aware of the severity of her illness and the gravity of her current prognosis. Will obtain the assistance with cardiology with this admission and will continue pressors and supportive therapy. The family will make an assessment and final decision concerning her long-term management after a 24 hour period.\""
      ]
     },
     "execution_count": 24,
     "metadata": {},
     "output_type": "execute_result"
    }
   ],
   "source": [
    "# Check one of the returned results, just in case\n",
    "data.iloc[0]['text']"
   ]
  },
  {
   "cell_type": "code",
   "execution_count": 25,
   "metadata": {
    "colab": {
     "base_uri": "https://localhost:8080/"
    },
    "id": "IKBEPp2aR265",
    "outputId": "744897ee-1f12-40d1-d1c3-04d4e3a70b2f"
   },
   "outputs": [
    {
     "name": "stdout",
     "output_type": "stream",
     "text": [
      "C0011847 Diabetes\n",
      "\n",
      "C0029408 Degenerative polyarthritis\n",
      "\n",
      "C0004238 Atrial Fibrillation\n",
      "\n",
      "C0020538 Hypertensive disease\n",
      "\n",
      "C0004096 Asthma\n",
      "\n",
      "C0520679 Sleep Apnea, Obstructive\n",
      "\n",
      "C1456868 Diabetic foot ulcer\n",
      "\n",
      "C0002871 Anemia\n",
      "\n",
      "C0020538 Hypertensive disease\n",
      "\n",
      "C0011847 Diabetes\n",
      "\n",
      "C0029408 Degenerative polyarthritis\n",
      "\n",
      "C0020538 Hypertensive disease\n",
      "\n",
      "C0004096 Asthma\n",
      "\n",
      "C0004238 Atrial Fibrillation\n",
      "\n",
      "C1456868 Diabetic foot ulcer\n",
      "\n",
      "C0002871 Anemia\n",
      "\n",
      "C0010054 Coronary Arteriosclerosis\n",
      "\n",
      "C0018790 Cardiac Arrest\n",
      "\n",
      "C1145670 Respiratory Failure\n",
      "\n",
      "C0034065 Pulmonary Embolism\n",
      "\n",
      "C0027051 Myocardial Infarction\n",
      "\n",
      "C0035222 Respiratory Distress Syndrome, Adult\n",
      "\n",
      "C0243026 Sepsis\n",
      "\n"
     ]
    }
   ],
   "source": [
    "# See all annotations based on the filter set above. \n",
    "# Notice that entities not present in the filter are filtered out.\n",
    "cui_list = []\n",
    "for annotation in list(results[0]['entities'].values()):\n",
    "    print(annotation['cui'], annotation['pretty_name'])\n",
    "    print()"
   ]
  },
  {
   "cell_type": "markdown",
   "metadata": {
    "id": "AuTcMJWlmLiX"
   },
   "source": [
    "For an unsupervised model, not too bad right?\n",
    "\n",
    "Later we'll explore how we can boost the models performance even further through providing annotation labels created via the annotation tool: MedCATtrainer!"
   ]
  },
  {
   "cell_type": "code",
   "execution_count": 26,
   "metadata": {
    "colab": {
     "base_uri": "https://localhost:8080/",
     "height": 35
    },
    "id": "0IN7FeHbhF5Y",
    "outputId": "21b11802-13dc-4998-a6e4-de2ae725b3b4"
   },
   "outputs": [
    {
     "data": {
      "application/vnd.google.colaboratory.intrinsic+json": {
       "type": "string"
      },
      "text/plain": [
       "'Erythema'"
      ]
     },
     "execution_count": 26,
     "metadata": {},
     "output_type": "execute_result"
    }
   ],
   "source": [
    "# If we want to convert a CUI back to its name\n",
    "cat.cdb.cui2preferred_name['C0041834']"
   ]
  },
  {
   "cell_type": "code",
   "execution_count": 27,
   "metadata": {
    "colab": {
     "base_uri": "https://localhost:8080/"
    },
    "id": "FvkndApC_0eU",
    "outputId": "0bbaac99-8163-4bcb-fc83-0ac4335b085f"
   },
   "outputs": [
    {
     "data": {
      "text/plain": [
       "{'erythema', 'erythematous', 'redness'}"
      ]
     },
     "execution_count": 27,
     "metadata": {},
     "output_type": "execute_result"
    }
   ],
   "source": [
    "# To see all names in the concept db\n",
    "cat.cdb.cui2names['C0041834']"
   ]
  },
  {
   "cell_type": "code",
   "execution_count": 28,
   "metadata": {
    "colab": {
     "base_uri": "https://localhost:8080/"
    },
    "id": "q5w8Y9Aqw1FY",
    "outputId": "33d2ed13-e2ee-4f17-e82e-8293decaa81e"
   },
   "outputs": [
    {
     "data": {
      "text/plain": [
       "{'T047'}"
      ]
     },
     "execution_count": 28,
     "metadata": {},
     "output_type": "execute_result"
    }
   ],
   "source": [
    "# If we want to see the type_ids\n",
    "cat.cdb.cui2type_ids['C0041834']"
   ]
  },
  {
   "cell_type": "markdown",
   "metadata": {
    "id": "dzXf2V9PkaEj"
   },
   "source": [
    "Now that you have created a structured annotation dataset you can now use this for any number of downstream applications! \n",
    "\n",
    "But for now let's continue on with the task and explore the annotations by finding the UMLS cui and type_ids (TUI as it is from UMLS) and their corresponding list of documents in which they are mentioned."
   ]
  },
  {
   "cell_type": "code",
   "execution_count": 29,
   "metadata": {
    "id": "X1n4f9HTy3di"
   },
   "outputs": [],
   "source": [
    "# This will be a map from CUI to a list of documents where it appears: {\"cui\": [<doc_id>, <doc_id>, ...], ..}\n",
    "cui_location = {}\n",
    "# Let's also save the type_ids location\n",
    "type_ids_location = {}"
   ]
  },
  {
   "cell_type": "code",
   "execution_count": 30,
   "metadata": {
    "id": "sJaXR6rto5Tl"
   },
   "outputs": [],
   "source": [
    "# For the cui and thier corresponding documents\n",
    "for doc in list(results.keys()):\n",
    "    for annotation in list(results[doc]['entities'].values()):\n",
    "        if annotation['cui'] in cui_location:\n",
    "            cui_location[annotation['cui']].append(doc)\n",
    "        else:\n",
    "            cui_location[annotation['cui']] = [doc]"
   ]
  },
  {
   "cell_type": "code",
   "execution_count": 31,
   "metadata": {
    "id": "AltdvluPvoaa"
   },
   "outputs": [],
   "source": [
    "# For the type_ids and their corresponding documents\n",
    "# Remember that a cui may map to more than one type_ids (one to many mapping)\n",
    "for cui in cui_location.keys():\n",
    "    type_ids_location[list(cat.cdb.cui2type_ids[cui])[0]] = cui_location[cui]"
   ]
  },
  {
   "cell_type": "code",
   "execution_count": 32,
   "metadata": {
    "id": "_7lSXtHEVfgA"
   },
   "outputs": [],
   "source": [
    "# Save the data so that we don't have to do the annotation again\n",
    "pickle.dump(cui_location, open(DATA_DIR + \"cui_location.dat\", 'wb'))\n",
    "pickle.dump(type_ids_location, open(DATA_DIR + \"type_ids_location.dat\", 'wb'))"
   ]
  },
  {
   "cell_type": "code",
   "execution_count": 33,
   "metadata": {
    "id": "Am1xTX25VfgC"
   },
   "outputs": [],
   "source": [
    "# Load\n",
    "cui_location = pickle.load(open(DATA_DIR + \"cui_location.dat\", 'rb'))\n",
    "type_ids_location = pickle.load(open(DATA_DIR + \"type_ids_location.dat\", 'rb'))"
   ]
  },
  {
   "cell_type": "markdown",
   "metadata": {
    "id": "1fkbtINHVfgF"
   },
   "source": [
    "## Visualise the annotation frequency\n",
    "Let's explore the annotation counts visually to double check that everything makes sense."
   ]
  },
  {
   "cell_type": "code",
   "execution_count": 34,
   "metadata": {
    "id": "8lrAhiODVfgF"
   },
   "outputs": [],
   "source": [
    "# We are going to count the number of subjects (patients) for each CUI\n",
    "cui_subjects = {}\n",
    "cui_subjects_unique = {}\n",
    "for cui in cui_location:\n",
    "    for location in cui_location[cui]:\n",
    "        subject_id = data.iat[location, list(data.columns).index('subject_id')]\n",
    "        if cui in cui_subjects:\n",
    "            cui_subjects[cui].append(subject_id)\n",
    "            cui_subjects_unique[cui].add(subject_id)\n",
    "        else:\n",
    "            cui_subjects[cui] = [subject_id]\n",
    "            cui_subjects_unique[cui] = {subject_id}"
   ]
  },
  {
   "cell_type": "code",
   "execution_count": 35,
   "metadata": {
    "id": "8u6jOrsJVfgH"
   },
   "outputs": [],
   "source": [
    "cui_nsubjects = [('cui', 'nsubjects')]\n",
    "for cui in cui_subjects_unique.keys():\n",
    "    cui_nsubjects.append((cui, len(cui_subjects_unique[cui])))\n",
    "df_cui_nsubjects = pd.DataFrame(cui_nsubjects[1:], columns=cui_nsubjects[0])"
   ]
  },
  {
   "cell_type": "markdown",
   "metadata": {
    "id": "0P1YlxKwVfgJ"
   },
   "source": [
    "Add a couple of columns that can be useful"
   ]
  },
  {
   "cell_type": "code",
   "execution_count": 36,
   "metadata": {
    "id": "bgMVLkQLVfgK"
   },
   "outputs": [],
   "source": [
    "df_cui_nsubjects = df_cui_nsubjects.sort_values('nsubjects', ascending=False)\n",
    "# Add type_ids for each CUI\n",
    "df_cui_nsubjects['type_ids'] = ['unk'] * len(df_cui_nsubjects)\n",
    "cols = list(df_cui_nsubjects.columns)\n",
    "for i in range(len(df_cui_nsubjects)):\n",
    "    cui = df_cui_nsubjects.iat[i, cols.index('cui')]\n",
    "    type_ids = cat.cdb.cui2type_ids.get(cui, 'unk')\n",
    "    df_cui_nsubjects.iat[i, cols.index('type_ids')] = type_ids\n",
    "    \n",
    "# Add name for each CUI\n",
    "df_cui_nsubjects['name'] = ['unk'] * len(df_cui_nsubjects)\n",
    "cols = list(df_cui_nsubjects.columns)\n",
    "for i in range(len(df_cui_nsubjects)):\n",
    "    cui = df_cui_nsubjects.iat[i, cols.index('cui')]\n",
    "    name = cat.cdb.cui2preferred_name.get(cui, 'unk')\n",
    "    df_cui_nsubjects.iat[i, cols.index('name')] = name\n",
    "\n",
    "\n",
    "# Add the percentage column\n",
    "total_subjects = len(data['subject_id'].unique())\n",
    "df_cui_nsubjects['perc_subjects'] = (df_cui_nsubjects['nsubjects'] / total_subjects) * 100\n",
    "\n",
    "df_cui_nsubjects.reset_index(drop=True, inplace=True)"
   ]
  },
  {
   "cell_type": "code",
   "execution_count": 37,
   "metadata": {
    "colab": {
     "base_uri": "https://localhost:8080/",
     "height": 169
    },
    "id": "xsaOGdQFgkFG",
    "outputId": "d20e6d33-4004-4209-9625-62e345b2a71e"
   },
   "outputs": [
    {
     "data": {
      "text/html": [
       "\n",
       " <div id=\"df-801cd7ee-78b4-4d36-8981-bd4d990f1a9e\">\n",
       " <div class=\"colab-df-container\">\n",
       " <div>\n",
       "<style scoped>\n",
       " .dataframe tbody tr th:only-of-type {\n",
       " vertical-align: middle;\n",
       " }\n",
       "\n",
       " .dataframe tbody tr th {\n",
       " vertical-align: top;\n",
       " }\n",
       "\n",
       " .dataframe thead th {\n",
       " text-align: right;\n",
       " }\n",
       "</style>\n",
       "<table border=\"1\" class=\"dataframe\">\n",
       " <thead>\n",
       " <tr style=\"text-align: right;\">\n",
       " <th></th>\n",
       " <th>cui</th>\n",
       " <th>nsubjects</th>\n",
       " <th>type_ids</th>\n",
       " <th>name</th>\n",
       " <th>perc_subjects</th>\n",
       " </tr>\n",
       " </thead>\n",
       " <tbody>\n",
       " <tr>\n",
       " <th>0</th>\n",
       " <td>C0020538</td>\n",
       " <td>123</td>\n",
       " <td>{T047}</td>\n",
       " <td>Hypertensive disease</td>\n",
       " <td>67.582418</td>\n",
       " </tr>\n",
       " <tr>\n",
       " <th>1</th>\n",
       " <td>C0028754</td>\n",
       " <td>83</td>\n",
       " <td>{T047}</td>\n",
       " <td>Obesity</td>\n",
       " <td>45.604396</td>\n",
       " </tr>\n",
       " <tr>\n",
       " <th>2</th>\n",
       " <td>C0038454</td>\n",
       " <td>64</td>\n",
       " <td>{T047}</td>\n",
       " <td>Cerebrovascular accident</td>\n",
       " <td>35.164835</td>\n",
       " </tr>\n",
       " <tr>\n",
       " <th>3</th>\n",
       " <td>C0011847</td>\n",
       " <td>61</td>\n",
       " <td>{T047}</td>\n",
       " <td>Diabetes</td>\n",
       " <td>33.516484</td>\n",
       " </tr>\n",
       " <tr>\n",
       " <th>4</th>\n",
       " <td>C0085762</td>\n",
       " <td>54</td>\n",
       " <td>{T048}</td>\n",
       " <td>Alcohol abuse</td>\n",
       " <td>29.670330</td>\n",
       " </tr>\n",
       " </tbody>\n",
       "</table>\n",
       "</div>\n",
       " <button class=\"colab-df-convert\" onclick=\"convertToInteractive('df-801cd7ee-78b4-4d36-8981-bd4d990f1a9e')\"\n",
       " title=\"Convert this dataframe to an interactive table.\"\n",
       " style=\"display:none;\">\n",
       " \n",
       " <svg xmlns=\"http://www.w3.org/2000/svg\" height=\"24px\"viewBox=\"0 0 24 24\"\n",
       " width=\"24px\">\n",
       " <path d=\"M0 0h24v24H0V0z\" fill=\"none\"/>\n",
       " <path d=\"M18.56 5.44l.94 2.06.94-2.06 2.06-.94-2.06-.94-.94-2.06-.94 2.06-2.06.94zm-11 1L8.5 8.5l.94-2.06 2.06-.94-2.06-.94L8.5 2.5l-.94 2.06-2.06.94zm10 10l.94 2.06.94-2.06 2.06-.94-2.06-.94-.94-2.06-.94 2.06-2.06.94z\"/><path d=\"M17.41 7.96l-1.37-1.37c-.4-.4-.92-.59-1.43-.59-.52 0-1.04.2-1.43.59L10.3 9.45l-7.72 7.72c-.78.78-.78 2.05 0 2.83L4 21.41c.39.39.9.59 1.41.59.51 0 1.02-.2 1.41-.59l7.78-7.78 2.81-2.81c.8-.78.8-2.07 0-2.86zM5.41 20L4 18.59l7.72-7.72 1.47 1.35L5.41 20z\"/>\n",
       " </svg>\n",
       " </button>\n",
       " \n",
       " <style>\n",
       " .colab-df-container {\n",
       " display:flex;\n",
       " flex-wrap:wrap;\n",
       " gap: 12px;\n",
       " }\n",
       "\n",
       " .colab-df-convert {\n",
       " background-color: #E8F0FE;\n",
       " border: none;\n",
       " border-radius: 50%;\n",
       " cursor: pointer;\n",
       " display: none;\n",
       " fill: #1967D2;\n",
       " height: 32px;\n",
       " padding: 0 0 0 0;\n",
       " width: 32px;\n",
       " }\n",
       "\n",
       " .colab-df-convert:hover {\n",
       " background-color: #E2EBFA;\n",
       " box-shadow: 0px 1px 2px rgba(60, 64, 67, 0.3), 0px 1px 3px 1px rgba(60, 64, 67, 0.15);\n",
       " fill: #174EA6;\n",
       " }\n",
       "\n",
       " [theme=dark] .colab-df-convert {\n",
       " background-color: #3B4455;\n",
       " fill: #D2E3FC;\n",
       " }\n",
       "\n",
       " [theme=dark] .colab-df-convert:hover {\n",
       " background-color: #434B5C;\n",
       " box-shadow: 0px 1px 3px 1px rgba(0, 0, 0, 0.15);\n",
       " filter: drop-shadow(0px 1px 2px rgba(0, 0, 0, 0.3));\n",
       " fill: #FFFFFF;\n",
       " }\n",
       " </style>\n",
       "\n",
       " <script>\n",
       " const buttonEl =\n",
       " document.querySelector('#df-801cd7ee-78b4-4d36-8981-bd4d990f1a9e button.colab-df-convert');\n",
       " buttonEl.style.display =\n",
       " google.colab.kernel.accessAllowed ? 'block' : 'none';\n",
       "\n",
       " async function convertToInteractive(key) {\n",
       " const element = document.querySelector('#df-801cd7ee-78b4-4d36-8981-bd4d990f1a9e');\n",
       " const dataTable =\n",
       " await google.colab.kernel.invokeFunction('convertToInteractive',\n",
       " [key], {});\n",
       " if (!dataTable) return;\n",
       "\n",
       " const docLinkHtml = 'Like what you see? Visit the ' +\n",
       " '<a target=\"_blank\" href=https://colab.research.google.com/notebooks/data_table.ipynb>data table notebook</a>'\n",
       " + ' to learn more about interactive tables.';\n",
       " element.innerHTML = '';\n",
       " dataTable['output_type'] = 'display_data';\n",
       " await google.colab.output.renderOutput(dataTable, element);\n",
       " const docLink = document.createElement('div');\n",
       " docLink.innerHTML = docLinkHtml;\n",
       " element.appendChild(docLink);\n",
       " }\n",
       " </script>\n",
       " </div>\n",
       " </div>\n",
       " "
      ],
      "text/plain": [
       " cui nsubjects type_ids name perc_subjects\n",
       "0 C0020538 123 {T047} Hypertensive disease 67.582418\n",
       "1 C0028754 83 {T047} Obesity 45.604396\n",
       "2 C0038454 64 {T047} Cerebrovascular accident 35.164835\n",
       "3 C0011847 61 {T047} Diabetes 33.516484\n",
       "4 C0085762 54 {T048} Alcohol abuse 29.670330"
      ]
     },
     "execution_count": 37,
     "metadata": {},
     "output_type": "execute_result"
    }
   ],
   "source": [
    "# Inspect newly created df\n",
    "df_cui_nsubjects.head()"
   ]
  },
  {
   "cell_type": "code",
   "execution_count": 38,
   "metadata": {
    "colab": {
     "base_uri": "https://localhost:8080/",
     "height": 1000
    },
    "id": "TupbSS6OVfgM",
    "outputId": "8cc5d466-7883-482f-a3c3-30fec6391380"
   },
   "outputs": [
    {
     "data": {
      "image/png": "[encoded data removed]",
      "text/plain": [
       "<Figure size 500x1200 with 1 Axes>"
      ]
     },
     "metadata": {},
     "output_type": "display_data"
    }
   ],
   "source": [
    "# Plot the top 30 diseases\n",
    "sns.reset_defaults()\n",
    "sns.set(\n",
    "    rc={'figure.figsize':(5,12)}, \n",
    "    style=\"whitegrid\",\n",
    "    palette='pastel'\n",
    ")\n",
    "f, ax = plt.subplots()\n",
    "_data = df_cui_nsubjects.iloc[0:30]\n",
    "sns.barplot(x=\"perc_subjects\", y=\"name\", data=_data, label=\"Disorder Name\", color=\"b\")\n",
    "_ = ax.set(xlim=(0, 70), ylabel=\"Disease Name\", xlabel=\"Percentage of patients with disease\")\n",
    "plt.show()"
   ]
  },
  {
   "cell_type": "markdown",
   "metadata": {
    "id": "-ChkW6MiVfgO"
   },
   "source": [
    "# Preparing data for supervised training (MedCATtrainer)\n",
    "\n",
    "As we want to do some fine-tuning on the models and also some meta-annotations (e.g. Status and Temporality), we'll take the top 100 CUIs from each TUI and for each take 2 examples. We'll do this because randomly choosing documents will give us only (most likely) the concepts on the very top by frequency (especially when there is a large drop between the top concepts).\n",
    "\n",
    "The required output format for supervised training via MedCATtrainer is CSV with `columns=(name, text)`"
   ]
  },
  {
   "cell_type": "code",
   "execution_count": 39,
   "metadata": {
    "colab": {
     "base_uri": "https://localhost:8080/",
     "height": 169
    },
    "id": "9rp0fn5MfUQS",
    "outputId": "4a386627-27d9-4f1b-ec11-1300175dc0b1"
   },
   "outputs": [
    {
     "data": {
      "text/html": [
       "\n",
       " <div id=\"df-c3fb62b0-8679-4636-abcc-6e27792ac702\">\n",
       " <div class=\"colab-df-container\">\n",
       " <div>\n",
       "<style scoped>\n",
       " .dataframe tbody tr th:only-of-type {\n",
       " vertical-align: middle;\n",
       " }\n",
       "\n",
       " .dataframe tbody tr th {\n",
       " vertical-align: top;\n",
       " }\n",
       "\n",
       " .dataframe thead th {\n",
       " text-align: right;\n",
       " }\n",
       "</style>\n",
       "<table border=\"1\" class=\"dataframe\">\n",
       " <thead>\n",
       " <tr style=\"text-align: right;\">\n",
       " <th></th>\n",
       " <th>cui</th>\n",
       " <th>nsubjects</th>\n",
       " <th>type_ids</th>\n",
       " <th>name</th>\n",
       " <th>perc_subjects</th>\n",
       " </tr>\n",
       " </thead>\n",
       " <tbody>\n",
       " <tr>\n",
       " <th>0</th>\n",
       " <td>C0020538</td>\n",
       " <td>123</td>\n",
       " <td>{T047}</td>\n",
       " <td>Hypertensive disease</td>\n",
       " <td>67.582418</td>\n",
       " </tr>\n",
       " <tr>\n",
       " <th>1</th>\n",
       " <td>C0028754</td>\n",
       " <td>83</td>\n",
       " <td>{T047}</td>\n",
       " <td>Obesity</td>\n",
       " <td>45.604396</td>\n",
       " </tr>\n",
       " <tr>\n",
       " <th>2</th>\n",
       " <td>C0038454</td>\n",
       " <td>64</td>\n",
       " <td>{T047}</td>\n",
       " <td>Cerebrovascular accident</td>\n",
       " <td>35.164835</td>\n",
       " </tr>\n",
       " <tr>\n",
       " <th>3</th>\n",
       " <td>C0011847</td>\n",
       " <td>61</td>\n",
       " <td>{T047}</td>\n",
       " <td>Diabetes</td>\n",
       " <td>33.516484</td>\n",
       " </tr>\n",
       " <tr>\n",
       " <th>4</th>\n",
       " <td>C0085762</td>\n",
       " <td>54</td>\n",
       " <td>{T048}</td>\n",
       " <td>Alcohol abuse</td>\n",
       " <td>29.670330</td>\n",
       " </tr>\n",
       " </tbody>\n",
       "</table>\n",
       "</div>\n",
       " <button class=\"colab-df-convert\" onclick=\"convertToInteractive('df-c3fb62b0-8679-4636-abcc-6e27792ac702')\"\n",
       " title=\"Convert this dataframe to an interactive table.\"\n",
       " style=\"display:none;\">\n",
       " \n",
       " <svg xmlns=\"http://www.w3.org/2000/svg\" height=\"24px\"viewBox=\"0 0 24 24\"\n",
       " width=\"24px\">\n",
       " <path d=\"M0 0h24v24H0V0z\" fill=\"none\"/>\n",
       " <path d=\"M18.56 5.44l.94 2.06.94-2.06 2.06-.94-2.06-.94-.94-2.06-.94 2.06-2.06.94zm-11 1L8.5 8.5l.94-2.06 2.06-.94-2.06-.94L8.5 2.5l-.94 2.06-2.06.94zm10 10l.94 2.06.94-2.06 2.06-.94-2.06-.94-.94-2.06-.94 2.06-2.06.94z\"/><path d=\"M17.41 7.96l-1.37-1.37c-.4-.4-.92-.59-1.43-.59-.52 0-1.04.2-1.43.59L10.3 9.45l-7.72 7.72c-.78.78-.78 2.05 0 2.83L4 21.41c.39.39.9.59 1.41.59.51 0 1.02-.2 1.41-.59l7.78-7.78 2.81-2.81c.8-.78.8-2.07 0-2.86zM5.41 20L4 18.59l7.72-7.72 1.47 1.35L5.41 20z\"/>\n",
       " </svg>\n",
       " </button>\n",
       " \n",
       " <style>\n",
       " .colab-df-container {\n",
       " display:flex;\n",
       " flex-wrap:wrap;\n",
       " gap: 12px;\n",
       " }\n",
       "\n",
       " .colab-df-convert {\n",
       " background-color: #E8F0FE;\n",
       " border: none;\n",
       " border-radius: 50%;\n",
       " cursor: pointer;\n",
       " display: none;\n",
       " fill: #1967D2;\n",
       " height: 32px;\n",
       " padding: 0 0 0 0;\n",
       " width: 32px;\n",
       " }\n",
       "\n",
       " .colab-df-convert:hover {\n",
       " background-color: #E2EBFA;\n",
       " box-shadow: 0px 1px 2px rgba(60, 64, 67, 0.3), 0px 1px 3px 1px rgba(60, 64, 67, 0.15);\n",
       " fill: #174EA6;\n",
       " }\n",
       "\n",
       " [theme=dark] .colab-df-convert {\n",
       " background-color: #3B4455;\n",
       " fill: #D2E3FC;\n",
       " }\n",
       "\n",
       " [theme=dark] .colab-df-convert:hover {\n",
       " background-color: #434B5C;\n",
       " box-shadow: 0px 1px 3px 1px rgba(0, 0, 0, 0.15);\n",
       " filter: drop-shadow(0px 1px 2px rgba(0, 0, 0, 0.3));\n",
       " fill: #FFFFFF;\n",
       " }\n",
       " </style>\n",
       "\n",
       " <script>\n",
       " const buttonEl =\n",
       " document.querySelector('#df-c3fb62b0-8679-4636-abcc-6e27792ac702 button.colab-df-convert');\n",
       " buttonEl.style.display =\n",
       " google.colab.kernel.accessAllowed ? 'block' : 'none';\n",
       "\n",
       " async function convertToInteractive(key) {\n",
       " const element = document.querySelector('#df-c3fb62b0-8679-4636-abcc-6e27792ac702');\n",
       " const dataTable =\n",
       " await google.colab.kernel.invokeFunction('convertToInteractive',\n",
       " [key], {});\n",
       " if (!dataTable) return;\n",
       "\n",
       " const docLinkHtml = 'Like what you see? Visit the ' +\n",
       " '<a target=\"_blank\" href=https://colab.research.google.com/notebooks/data_table.ipynb>data table notebook</a>'\n",
       " + ' to learn more about interactive tables.';\n",
       " element.innerHTML = '';\n",
       " dataTable['output_type'] = 'display_data';\n",
       " await google.colab.output.renderOutput(dataTable, element);\n",
       " const docLink = document.createElement('div');\n",
       " docLink.innerHTML = docLinkHtml;\n",
       " element.appendChild(docLink);\n",
       " }\n",
       " </script>\n",
       " </div>\n",
       " </div>\n",
       " "
      ],
      "text/plain": [
       " cui nsubjects type_ids name perc_subjects\n",
       "0 C0020538 123 {T047} Hypertensive disease 67.582418\n",
       "1 C0028754 83 {T047} Obesity 45.604396\n",
       "2 C0038454 64 {T047} Cerebrovascular accident 35.164835\n",
       "3 C0011847 61 {T047} Diabetes 33.516484\n",
       "4 C0085762 54 {T048} Alcohol abuse 29.670330"
      ]
     },
     "execution_count": 39,
     "metadata": {},
     "output_type": "execute_result"
    }
   ],
   "source": [
    "df_cui_nsubjects.head()"
   ]
  },
  {
   "cell_type": "code",
   "execution_count": 40,
   "metadata": {
    "id": "ghSpoAbJVfgO"
   },
   "outputs": [],
   "source": [
    "# For each of the top 30 diseases/mental_disorders take 2 examples of documents/text\n",
    "#where they appear\n",
    "nexamples = 2\n",
    "size = 40\n",
    "loc_047_top = []\n",
    "loc_048_top = []\n",
    "\n",
    "for cui in df_cui_nsubjects[df_cui_nsubjects['type_ids'].apply(lambda x: 'T047' in x)]['cui'].values[0:size]:\n",
    "    loc_047_top.extend(np.array(cui_location[cui])[np.random.randint(0, len(cui_location[cui]), nexamples)])\n",
    "    \n",
    "for cui in df_cui_nsubjects[df_cui_nsubjects['type_ids'].apply(lambda x: 'T048' in x)]['cui'].values[0:size]:\n",
    "    loc_048_top.extend(np.array(cui_location[cui])[np.random.randint(0, len(cui_location[cui]), nexamples)])\n",
    "\n",
    "data_047_top = data.iloc[loc_047_top]\n",
    "data_048_top = data.iloc[loc_048_top]"
   ]
  },
  {
   "cell_type": "code",
   "execution_count": 41,
   "metadata": {
    "id": "7L8UhCSsVfgQ"
   },
   "outputs": [],
   "source": [
    "# Combine everything\n",
    "train_data = pd.concat([data_047_top, data_048_top])"
   ]
  },
  {
   "cell_type": "code",
   "execution_count": 42,
   "metadata": {
    "colab": {
     "base_uri": "https://localhost:8080/",
     "height": 169
    },
    "id": "kUsJajw8fOMe",
    "outputId": "6c2e13b6-0cd7-4146-bbfa-447adb963e2a"
   },
   "outputs": [
    {
     "data": {
      "text/html": [
       "\n",
       " <div id=\"df-0bb9e713-a3c1-4dd5-8371-1babf8243d31\">\n",
       " <div class=\"colab-df-container\">\n",
       " <div>\n",
       "<style scoped>\n",
       " .dataframe tbody tr th:only-of-type {\n",
       " vertical-align: middle;\n",
       " }\n",
       "\n",
       " .dataframe tbody tr th {\n",
       " vertical-align: top;\n",
       " }\n",
       "\n",
       " .dataframe thead th {\n",
       " text-align: right;\n",
       " }\n",
       "</style>\n",
       "<table border=\"1\" class=\"dataframe\">\n",
       " <thead>\n",
       " <tr style=\"text-align: right;\">\n",
       " <th></th>\n",
       " <th>Unnamed: 0_x</th>\n",
       " <th>subject_id</th>\n",
       " <th>chartdate</th>\n",
       " <th>category</th>\n",
       " <th>text</th>\n",
       " <th>create_year</th>\n",
       " <th>Unnamed: 0_y</th>\n",
       " <th>gender</th>\n",
       " <th>dob</th>\n",
       " <th>dob_year</th>\n",
       " <th>age_year</th>\n",
       " </tr>\n",
       " </thead>\n",
       " <tbody>\n",
       " <tr>\n",
       " <th>282</th>\n",
       " <td>549</td>\n",
       " <td>76</td>\n",
       " <td>2055-01-01</td>\n",
       " <td>Consult - History and Phy.</td>\n",
       " <td>REASON FOR CONSULTATION: ,Followup of seizure...</td>\n",
       " <td>2055</td>\n",
       " <td>76</td>\n",
       " <td>F</td>\n",
       " <td>2018-01-01</td>\n",
       " <td>2018</td>\n",
       " <td>37</td>\n",
       " </tr>\n",
       " <tr>\n",
       " <th>123</th>\n",
       " <td>254</td>\n",
       " <td>32</td>\n",
       " <td>2069-01-01</td>\n",
       " <td>Cardiovascular / Pulmonary</td>\n",
       " <td>CHIEF COMPLAINT:, Rule out obstructive sleep ...</td>\n",
       " <td>2069</td>\n",
       " <td>32</td>\n",
       " <td>M</td>\n",
       " <td>2018-01-01</td>\n",
       " <td>2018</td>\n",
       " <td>51</td>\n",
       " </tr>\n",
       " <tr>\n",
       " <th>170</th>\n",
       " <td>320</td>\n",
       " <td>43</td>\n",
       " <td>2063-01-01</td>\n",
       " <td>Consult - History and Phy.</td>\n",
       " <td>HISTORY OF PRESENT ILLNESS:, This is a 55-yea...</td>\n",
       " <td>2063</td>\n",
       " <td>43</td>\n",
       " <td>F</td>\n",
       " <td>2018-01-01</td>\n",
       " <td>2018</td>\n",
       " <td>45</td>\n",
       " </tr>\n",
       " <tr>\n",
       " <th>24</th>\n",
       " <td>34</td>\n",
       " <td>6</td>\n",
       " <td>2088-01-01</td>\n",
       " <td>Gastroenterology</td>\n",
       " <td>CHIEF COMPLAINT:, GI bleed.,HISTORY OF PRESEN...</td>\n",
       " <td>2088</td>\n",
       " <td>6</td>\n",
       " <td>F</td>\n",
       " <td>2018-01-01</td>\n",
       " <td>2018</td>\n",
       " <td>70</td>\n",
       " </tr>\n",
       " <tr>\n",
       " <th>809</th>\n",
       " <td>1563</td>\n",
       " <td>219</td>\n",
       " <td>2077-01-01</td>\n",
       " <td>General Medicine</td>\n",
       " <td>CHIEF COMPLAINT:, Altered mental status.,HISTO...</td>\n",
       " <td>2077</td>\n",
       " <td>219</td>\n",
       " <td>M</td>\n",
       " <td>2018-01-01</td>\n",
       " <td>2018</td>\n",
       " <td>59</td>\n",
       " </tr>\n",
       " </tbody>\n",
       "</table>\n",
       "</div>\n",
       " <button class=\"colab-df-convert\" onclick=\"convertToInteractive('df-0bb9e713-a3c1-4dd5-8371-1babf8243d31')\"\n",
       " title=\"Convert this dataframe to an interactive table.\"\n",
       " style=\"display:none;\">\n",
       " \n",
       " <svg xmlns=\"http://www.w3.org/2000/svg\" height=\"24px\"viewBox=\"0 0 24 24\"\n",
       " width=\"24px\">\n",
       " <path d=\"M0 0h24v24H0V0z\" fill=\"none\"/>\n",
       " <path d=\"M18.56 5.44l.94 2.06.94-2.06 2.06-.94-2.06-.94-.94-2.06-.94 2.06-2.06.94zm-11 1L8.5 8.5l.94-2.06 2.06-.94-2.06-.94L8.5 2.5l-.94 2.06-2.06.94zm10 10l.94 2.06.94-2.06 2.06-.94-2.06-.94-.94-2.06-.94 2.06-2.06.94z\"/><path d=\"M17.41 7.96l-1.37-1.37c-.4-.4-.92-.59-1.43-.59-.52 0-1.04.2-1.43.59L10.3 9.45l-7.72 7.72c-.78.78-.78 2.05 0 2.83L4 21.41c.39.39.9.59 1.41.59.51 0 1.02-.2 1.41-.59l7.78-7.78 2.81-2.81c.8-.78.8-2.07 0-2.86zM5.41 20L4 18.59l7.72-7.72 1.47 1.35L5.41 20z\"/>\n",
       " </svg>\n",
       " </button>\n",
       " \n",
       " <style>\n",
       " .colab-df-container {\n",
       " display:flex;\n",
       " flex-wrap:wrap;\n",
       " gap: 12px;\n",
       " }\n",
       "\n",
       " .colab-df-convert {\n",
       " background-color: #E8F0FE;\n",
       " border: none;\n",
       " border-radius: 50%;\n",
       " cursor: pointer;\n",
       " display: none;\n",
       " fill: #1967D2;\n",
       " height: 32px;\n",
       " padding: 0 0 0 0;\n",
       " width: 32px;\n",
       " }\n",
       "\n",
       " .colab-df-convert:hover {\n",
       " background-color: #E2EBFA;\n",
       " box-shadow: 0px 1px 2px rgba(60, 64, 67, 0.3), 0px 1px 3px 1px rgba(60, 64, 67, 0.15);\n",
       " fill: #174EA6;\n",
       " }\n",
       "\n",
       " [theme=dark] .colab-df-convert {\n",
       " background-color: #3B4455;\n",
       " fill: #D2E3FC;\n",
       " }\n",
       "\n",
       " [theme=dark] .colab-df-convert:hover {\n",
       " background-color: #434B5C;\n",
       " box-shadow: 0px 1px 3px 1px rgba(0, 0, 0, 0.15);\n",
       " filter: drop-shadow(0px 1px 2px rgba(0, 0, 0, 0.3));\n",
       " fill: #FFFFFF;\n",
       " }\n",
       " </style>\n",
       "\n",
       " <script>\n",
       " const buttonEl =\n",
       " document.querySelector('#df-0bb9e713-a3c1-4dd5-8371-1babf8243d31 button.colab-df-convert');\n",
       " buttonEl.style.display =\n",
       " google.colab.kernel.accessAllowed ? 'block' : 'none';\n",
       "\n",
       " async function convertToInteractive(key) {\n",
       " const element = document.querySelector('#df-0bb9e713-a3c1-4dd5-8371-1babf8243d31');\n",
       " const dataTable =\n",
       " await google.colab.kernel.invokeFunction('convertToInteractive',\n",
       " [key], {});\n",
       " if (!dataTable) return;\n",
       "\n",
       " const docLinkHtml = 'Like what you see? Visit the ' +\n",
       " '<a target=\"_blank\" href=https://colab.research.google.com/notebooks/data_table.ipynb>data table notebook</a>'\n",
       " + ' to learn more about interactive tables.';\n",
       " element.innerHTML = '';\n",
       " dataTable['output_type'] = 'display_data';\n",
       " await google.colab.output.renderOutput(dataTable, element);\n",
       " const docLink = document.createElement('div');\n",
       " docLink.innerHTML = docLinkHtml;\n",
       " element.appendChild(docLink);\n",
       " }\n",
       " </script>\n",
       " </div>\n",
       " </div>\n",
       " "
      ],
      "text/plain": [
       " Unnamed: 0_x subject_id chartdate category \\\n",
       "282 549 76 2055-01-01 Consult - History and Phy. \n",
       "123 254 32 2069-01-01 Cardiovascular / Pulmonary \n",
       "170 320 43 2063-01-01 Consult - History and Phy. \n",
       "24 34 6 2088-01-01 Gastroenterology \n",
       "809 1563 219 2077-01-01 General Medicine \n",
       "\n",
       " text create_year \\\n",
       "282 REASON FOR CONSULTATION: ,Followup of seizure... 2055 \n",
       "123 CHIEF COMPLAINT:, Rule out obstructive sleep ... 2069 \n",
       "170 HISTORY OF PRESENT ILLNESS:, This is a 55-yea... 2063 \n",
       "24 CHIEF COMPLAINT:, GI bleed.,HISTORY OF PRESEN... 2088 \n",
       "809 CHIEF COMPLAINT:, Altered mental status.,HISTO... 2077 \n",
       "\n",
       " Unnamed: 0_y gender dob dob_year age_year \n",
       "282 76 F 2018-01-01 2018 37 \n",
       "123 32 M 2018-01-01 2018 51 \n",
       "170 43 F 2018-01-01 2018 45 \n",
       "24 6 F 2018-01-01 2018 70 \n",
       "809 219 M 2018-01-01 2018 59 "
      ]
     },
     "execution_count": 42,
     "metadata": {},
     "output_type": "execute_result"
    }
   ],
   "source": [
    "train_data.head()"
   ]
  },
  {
   "cell_type": "code",
   "execution_count": 43,
   "metadata": {
    "colab": {
     "base_uri": "https://localhost:8080/",
     "height": 169
    },
    "id": "n-ds8nosVfgR",
    "outputId": "c647cdab-e4ff-4b85-f8df-670d7478f3f5"
   },
   "outputs": [
    {
     "data": {
      "text/html": [
       "\n",
       " <div id=\"df-68a84209-fa12-4244-8a3d-1861ecbe7689\">\n",
       " <div class=\"colab-df-container\">\n",
       " <div>\n",
       "<style scoped>\n",
       " .dataframe tbody tr th:only-of-type {\n",
       " vertical-align: middle;\n",
       " }\n",
       "\n",
       " .dataframe tbody tr th {\n",
       " vertical-align: top;\n",
       " }\n",
       "\n",
       " .dataframe thead th {\n",
       " text-align: right;\n",
       " }\n",
       "</style>\n",
       "<table border=\"1\" class=\"dataframe\">\n",
       " <thead>\n",
       " <tr style=\"text-align: right;\">\n",
       " <th></th>\n",
       " <th>name</th>\n",
       " <th>text</th>\n",
       " </tr>\n",
       " </thead>\n",
       " <tbody>\n",
       " <tr>\n",
       " <th>0</th>\n",
       " <td>549</td>\n",
       " <td>REASON FOR CONSULTATION: ,Followup of seizure...</td>\n",
       " </tr>\n",
       " <tr>\n",
       " <th>1</th>\n",
       " <td>254</td>\n",
       " <td>CHIEF COMPLAINT:, Rule out obstructive sleep ...</td>\n",
       " </tr>\n",
       " <tr>\n",
       " <th>2</th>\n",
       " <td>320</td>\n",
       " <td>HISTORY OF PRESENT ILLNESS:, This is a 55-yea...</td>\n",
       " </tr>\n",
       " <tr>\n",
       " <th>3</th>\n",
       " <td>34</td>\n",
       " <td>CHIEF COMPLAINT:, GI bleed.,HISTORY OF PRESEN...</td>\n",
       " </tr>\n",
       " <tr>\n",
       " <th>4</th>\n",
       " <td>1563</td>\n",
       " <td>CHIEF COMPLAINT:, Altered mental status.,HISTO...</td>\n",
       " </tr>\n",
       " </tbody>\n",
       "</table>\n",
       "</div>\n",
       " <button class=\"colab-df-convert\" onclick=\"convertToInteractive('df-68a84209-fa12-4244-8a3d-1861ecbe7689')\"\n",
       " title=\"Convert this dataframe to an interactive table.\"\n",
       " style=\"display:none;\">\n",
       " \n",
       " <svg xmlns=\"http://www.w3.org/2000/svg\" height=\"24px\"viewBox=\"0 0 24 24\"\n",
       " width=\"24px\">\n",
       " <path d=\"M0 0h24v24H0V0z\" fill=\"none\"/>\n",
       " <path d=\"M18.56 5.44l.94 2.06.94-2.06 2.06-.94-2.06-.94-.94-2.06-.94 2.06-2.06.94zm-11 1L8.5 8.5l.94-2.06 2.06-.94-2.06-.94L8.5 2.5l-.94 2.06-2.06.94zm10 10l.94 2.06.94-2.06 2.06-.94-2.06-.94-.94-2.06-.94 2.06-2.06.94z\"/><path d=\"M17.41 7.96l-1.37-1.37c-.4-.4-.92-.59-1.43-.59-.52 0-1.04.2-1.43.59L10.3 9.45l-7.72 7.72c-.78.78-.78 2.05 0 2.83L4 21.41c.39.39.9.59 1.41.59.51 0 1.02-.2 1.41-.59l7.78-7.78 2.81-2.81c.8-.78.8-2.07 0-2.86zM5.41 20L4 18.59l7.72-7.72 1.47 1.35L5.41 20z\"/>\n",
       " </svg>\n",
       " </button>\n",
       " \n",
       " <style>\n",
       " .colab-df-container {\n",
       " display:flex;\n",
       " flex-wrap:wrap;\n",
       " gap: 12px;\n",
       " }\n",
       "\n",
       " .colab-df-convert {\n",
       " background-color: #E8F0FE;\n",
       " border: none;\n",
       " border-radius: 50%;\n",
       " cursor: pointer;\n",
       " display: none;\n",
       " fill: #1967D2;\n",
       " height: 32px;\n",
       " padding: 0 0 0 0;\n",
       " width: 32px;\n",
       " }\n",
       "\n",
       " .colab-df-convert:hover {\n",
       " background-color: #E2EBFA;\n",
       " box-shadow: 0px 1px 2px rgba(60, 64, 67, 0.3), 0px 1px 3px 1px rgba(60, 64, 67, 0.15);\n",
       " fill: #174EA6;\n",
       " }\n",
       "\n",
       " [theme=dark] .colab-df-convert {\n",
       " background-color: #3B4455;\n",
       " fill: #D2E3FC;\n",
       " }\n",
       "\n",
       " [theme=dark] .colab-df-convert:hover {\n",
       " background-color: #434B5C;\n",
       " box-shadow: 0px 1px 3px 1px rgba(0, 0, 0, 0.15);\n",
       " filter: drop-shadow(0px 1px 2px rgba(0, 0, 0, 0.3));\n",
       " fill: #FFFFFF;\n",
       " }\n",
       " </style>\n",
       "\n",
       " <script>\n",
       " const buttonEl =\n",
       " document.querySelector('#df-68a84209-fa12-4244-8a3d-1861ecbe7689 button.colab-df-convert');\n",
       " buttonEl.style.display =\n",
       " google.colab.kernel.accessAllowed ? 'block' : 'none';\n",
       "\n",
       " async function convertToInteractive(key) {\n",
       " const element = document.querySelector('#df-68a84209-fa12-4244-8a3d-1861ecbe7689');\n",
       " const dataTable =\n",
       " await google.colab.kernel.invokeFunction('convertToInteractive',\n",
       " [key], {});\n",
       " if (!dataTable) return;\n",
       "\n",
       " const docLinkHtml = 'Like what you see? Visit the ' +\n",
       " '<a target=\"_blank\" href=https://colab.research.google.com/notebooks/data_table.ipynb>data table notebook</a>'\n",
       " + ' to learn more about interactive tables.';\n",
       " element.innerHTML = '';\n",
       " dataTable['output_type'] = 'display_data';\n",
       " await google.colab.output.renderOutput(dataTable, element);\n",
       " const docLink = document.createElement('div');\n",
       " docLink.innerHTML = docLinkHtml;\n",
       " element.appendChild(docLink);\n",
       " }\n",
       " </script>\n",
       " </div>\n",
       " </div>\n",
       " "
      ],
      "text/plain": [
       " name text\n",
       "0 549 REASON FOR CONSULTATION: ,Followup of seizure...\n",
       "1 254 CHIEF COMPLAINT:, Rule out obstructive sleep ...\n",
       "2 320 HISTORY OF PRESENT ILLNESS:, This is a 55-yea...\n",
       "3 34 CHIEF COMPLAINT:, GI bleed.,HISTORY OF PRESEN...\n",
       "4 1563 CHIEF COMPLAINT:, Altered mental status.,HISTO..."
      ]
     },
     "execution_count": 43,
     "metadata": {},
     "output_type": "execute_result"
    }
   ],
   "source": [
    "train_data = train_data.rename(columns={'Unnamed: 0_x': \"name\"})\n",
    "train_data = train_data[['name', 'text']]\n",
    "train_data.reset_index(drop=True, inplace=True)\n",
    "train_data.head()"
   ]
  },
  {
   "cell_type": "code",
   "execution_count": 44,
   "metadata": {
    "id": "HvrkaDbBVfgU"
   },
   "outputs": [],
   "source": [
    "# Remove duplicates if we have them. \n",
    "train_data = train_data.drop_duplicates(['text'])\n",
    "\n",
    "# Save the data so that it can be imported into MedCATtrainer\n",
    "train_data.to_csv(DATA_DIR + \"train_data.csv\", index=False)"
   ]
  },
  {
   "cell_type": "markdown",
   "metadata": {
    "id": "dMyoHDjPxxAH"
   },
   "source": [
    "End of Tutorial"
   ]
  }
 ],
 "metadata": {
  "colab": {
   "collapsed_sections": [],
   "name": "MedCAT Tutorial | Part 3.2 - Extracting Diseases from Electronic Health Records.ipynb",
   "provenance": []
  },
  "kernelspec": {
   "display_name": "Python 3.8.5 ('.venv': venv)",
   "language": "python",
   "name": "python3"
  },
  "language_info": {
   "codemirror_mode": {
    "name": "ipython",
    "version": 3
   },
   "file_extension": ".py",
   "mimetype": "text/x-python",
   "name": "python",
   "nbconvert_exporter": "python",
   "pygments_lexer": "ipython3",
   "version": "3.8.5"
  },
  "vscode": {
   "interpreter": {
    "hash": "60954f76b319195d8b66f263176ecf047c3a086773bff2d42e03144b47421836"
   }
  }
 },
 "nbformat": 4,
 "nbformat_minor": 0
}
