{
 "cells": [
  {
   "cell_type": "code",
   "execution_count": null,
   "metadata": {
    "colab": {
     "base_uri": "https://localhost:8080/",
     "height": 1000
    },
    "id": "UTJY-domGPZZ",
    "outputId": "c1b89967-4940-477b-d31a-754a2b127f10"
   },
   "outputs": [],
   "source": [
    "# Install medcat\n",
    "! pip install medcat==1.2.7"
   ]
  },
  {
   "cell_type": "markdown",
   "metadata": {
    "id": "Noh6usuqGUQW"
   },
   "source": [
    "**Restart the runtime if on colab, sometimes necessary after installing models**"
   ]
  },
  {
   "cell_type": "code",
   "execution_count": null,
   "metadata": {
    "colab": {
     "base_uri": "https://localhost:8080/"
    },
    "id": "qafNvStbABXQ",
    "outputId": "4ac6c79c-9191-45f8-fd89-4ae9bc334314"
   },
   "outputs": [],
   "source": [
    "import pandas as pd\n",
    "import numpy as np\n",
    "import seaborn as sns\n",
    "import json \n",
    "\n",
    "from matplotlib import pyplot as plt\n",
    "from medcat.cat import CAT"
   ]
  },
  {
   "cell_type": "code",
   "execution_count": null,
   "metadata": {
    "id": "3KJqn8o6FTz0"
   },
   "outputs": [],
   "source": [
    "DATA_DIR = \"./data/\"\n",
    "model_pack_path = DATA_DIR + \"medmen_wstatus_2021_oct.zip\""
   ]
  },
  {
   "cell_type": "markdown",
   "metadata": {
    "id": "hYk0c5LRRi5S"
   },
   "source": [
    "### Download and load the data"
   ]
  },
  {
   "cell_type": "code",
   "execution_count": null,
   "metadata": {
    "colab": {
     "base_uri": "https://localhost:8080/"
    },
    "id": "zB8KpUDmANlA",
    "outputId": "8b0ea957-539c-4557-814a-101086927ed9"
   },
   "outputs": [],
   "source": [
    "# Download the models and required data\n",
    "!wget https://raw.githubusercontent.com/CogStack/MedCATtutorials/main/notebooks/introductory/data/pt_notes.csv -P ./data/\n",
    "!wget https://raw.githubusercontent.com/CogStack/MedCATtutorials/main/notebooks/introductory/data/MedCAT_Export.json -P ./data/\n",
    "!wget https://raw.githubusercontent.com/CogStack/MedCATtutorials/main/notebooks/introductory/data/cui_location.json -P ./data/\n",
    "\n",
    "!wget https://medcat.rosalind.kcl.ac.uk/media/medmen_wstatus_2021_oct.zip -P ./data/"
   ]
  },
  {
   "cell_type": "code",
   "execution_count": null,
   "metadata": {
    "colab": {
     "base_uri": "https://localhost:8080/"
    },
    "id": "4V455nicFcmH",
    "outputId": "2dc92728-7f68-4219-e72e-1e88f9f23246"
   },
   "outputs": [],
   "source": [
    "# Load the cui_location dictionary\n",
    "cui_location = json.load(open(DATA_DIR + \"cui_location.json\"))\n",
    "# Load the pt_notes\n",
    "data = pd.read_csv(DATA_DIR + \"pt_notes.csv\")\n",
    "# Get the model\n",
    "cat = CAT.load_model_pack(model_pack_path)"
   ]
  },
  {
   "cell_type": "markdown",
   "metadata": {
    "id": "Lxptym9LRok1"
   },
   "source": [
    "## Calculate the required maps\n",
    "\n",
    "`CUI` - Disease identifier\n",
    "\n",
    "`cui_subjects_cnts` - Used to calculate the number of occurances of a disease for a certain patient (in his text records). \n",
    "\n",
    "`cui_subjects` - Map from cui to patientId\n",
    "\n",
    "`subject2gender` - Map from patientId to gender\n",
    "`subject2agegroup` - Map from patientId to agegroup (defined [here](https://www.researchgate.net/publication/232746130_Automated_Medical_Literature_Retrieval)\n",
    "\n",
    "`subject2age` - Map from patientId to age\n",
    "\n",
    "`subject2cuis` - Map from patientId to list of CUIs"
   ]
  },
  {
   "cell_type": "code",
   "execution_count": null,
   "metadata": {
    "id": "YOUkjo4IFIrx"
   },
   "outputs": [],
   "source": [
    "# We are only going to keep those subjects that have at least two appearances of a concept\n",
    "cui_subjects_cnts = {}\n",
    "cui_subjects = {}\n",
    "subject2gender = {}\n",
    "subject2agegroup = {}\n",
    "subject2age = {}\n",
    "subject2cuis = {}\n",
    "\n",
    "for cui in cui_location:\n",
    "    cui_subjects_cnts[cui] = {}\n",
    "    cui_subjects[cui] = set()\n",
    "    \n",
    "     \n",
    "    for location in cui_location[cui]:\n",
    "        subject_id = data.iat[location, list(data.columns).index('subject_id')]\n",
    "        gender  = data.iat[location, list(data.columns).index('gender')]\n",
    "        age = data.iat[location, list(data.columns).index('age_year')]\n",
    "        agegroup = \"UNK\"\n",
    "        \n",
    "        if subject_id not in subject2cuis:\n",
    "            subject2cuis[subject_id] = set()\n",
    "\n",
    "        subject2cuis[subject_id].add(cui)\n",
    "        \n",
    "        if age >= 13 and age <= 18:\n",
    "            agegroup = 'Adolescent'\n",
    "        elif age >= 19 and age <= 24:\n",
    "            agegroup = \"Young Adult\"\n",
    "        elif age >= 25 and age <= 44:\n",
    "            agegroup = 'Adult'\n",
    "        elif age >= 45 and age <= 64:\n",
    "            agegroup = \"Middle Aged\"\n",
    "        elif age >= 64:\n",
    "            agegroup = \"Aged\"\n",
    "        \n",
    "        if subject_id in cui_subjects_cnts[cui]:\n",
    "            cui_subjects_cnts[cui][subject_id] += 1\n",
    "        else:\n",
    "            cui_subjects_cnts[cui][subject_id] = 1\n",
    "\n",
    "        if cui_subjects_cnts[cui][subject_id] == 2:\n",
    "            cui_subjects[cui].add(subject_id)\n",
    "            \n",
    "            subject2gender[subject_id] = gender\n",
    "            subject2agegroup[subject_id] = agegroup\n",
    "            subject2age[subject_id] = age"
   ]
  },
  {
   "cell_type": "markdown",
   "metadata": {
    "id": "3sZj9XMMSpkC"
   },
   "source": [
    "# Calculate total number of patients in each group:\n",
    "\n",
    "`pt_total` - Total number (all patients together)\n",
    "\n",
    "`pt_male` - Number of male patients\n",
    "\n",
    "`pt_female` - Number of female patients\n",
    "\n",
    "`pt_adl` - Number of Adolescents\n",
    "\n",
    "`pt_yadult` - Number of Young Adults\n",
    "\n",
    "`pt_adult` - Number of Adults\n",
    "\n",
    "`pt_maged` - Number of Middle Aged\n",
    "\n",
    "`pt_aged` - Number of Aged"
   ]
  },
  {
   "cell_type": "code",
   "execution_count": null,
   "metadata": {
    "id": "a5rnpOn8FsC6"
   },
   "outputs": [],
   "source": [
    "pt_total = len(subject2age)\n",
    "pt_male = len([x for x in subject2gender if subject2gender[x] == \"M\"])\n",
    "pt_female = len([x for x in subject2gender if subject2gender[x] == \"F\"])\n",
    "pt_adl = len([x for x in subject2agegroup if subject2agegroup[x] == \"Adolescent\"])\n",
    "pt_yadult = len([x for x in subject2agegroup if subject2agegroup[x] == \"Young Adult\"])\n",
    "pt_adult = len([x for x in subject2agegroup if subject2agegroup[x] == \"Adult\"])\n",
    "pt_maged = len([x for x in subject2agegroup if subject2agegroup[x] == \"Middle Aged\"])\n",
    "pt_aged = len([x for x in subject2agegroup if subject2agegroup[x] == \"Aged\"])"
   ]
  },
  {
   "cell_type": "markdown",
   "metadata": {
    "id": "B3ymd2k-TQuh"
   },
   "source": [
    "### Create the header of our CSV that will contain all information for one disease"
   ]
  },
  {
   "cell_type": "code",
   "execution_count": null,
   "metadata": {
    "id": "CKIqvlWbFwwO"
   },
   "outputs": [],
   "source": [
    "dt = [['disease', 'cui', 'tui', 'total', 'male', 'female', 'Adolescent', 'Young Adult', \"Adult\", \"Middle Aged\", \"Aged\"]]"
   ]
  },
  {
   "cell_type": "markdown",
   "metadata": {
    "id": "Fz1up9xlTWlb"
   },
   "source": [
    "### Fill the array with data"
   ]
  },
  {
   "cell_type": "code",
   "execution_count": null,
   "metadata": {
    "id": "EwgjkiG1GBGU"
   },
   "outputs": [],
   "source": [
    "for cui in cui_subjects:\n",
    "    d = cat.cdb.cui2preferred_name.get(cui, 'unk')\n",
    "    t = (len(cui_subjects[cui]) / pt_total) * 100\n",
    "    m = (len([x for x in cui_subjects[cui] if subject2gender[x] == 'M']) / pt_male) * 100\n",
    "    f = (len([x for x in cui_subjects[cui] if subject2gender[x] == 'F']) / pt_female) * 100\n",
    "    \n",
    "    adl =  (len([x for x in cui_subjects[cui] if subject2agegroup[x] == 'Adolescent']) / pt_adl) * 100\n",
    "    yadult =  (len([x for x in cui_subjects[cui] if subject2agegroup[x] == 'Young Adult']) / pt_yadult) * 100\n",
    "    adult = (len([x for x in cui_subjects[cui] if subject2agegroup[x] == 'Adult']) / pt_adult) * 100\n",
    "    maged = (len([x for x in cui_subjects[cui] if subject2agegroup[x] == 'Middle Aged']) / pt_maged) * 100\n",
    "    aged = (len([x for x in cui_subjects[cui] if subject2agegroup[x] == 'Aged']) / pt_aged) * 100\n",
    "    \n",
    "    tui = cat.cdb.cui2type_ids.get(cui, 'unk')\n",
    "    dt.append([d, cui, tui, t, m, f, adl, yadult, adult, maged, aged])\n",
    "    #dt.append([d, cui, tui, t, m, f, adl, yadult, adult, maged, aged, m_adl, m_yadult, m_adult, m_maged, m_aged,\n",
    "            #  f_adl, f_yadult, f_adult, f_maged, f_aged])"
   ]
  },
  {
   "cell_type": "markdown",
   "metadata": {
    "id": "0WqMymWrTbHz"
   },
   "source": [
    "### Convert to dataframe"
   ]
  },
  {
   "cell_type": "code",
   "execution_count": null,
   "metadata": {
    "id": "LuZ_Nbj9G595"
   },
   "outputs": [],
   "source": [
    "df = pd.DataFrame(dt[1:], columns=dt[0])\n",
    "df = df.sort_values(by=['total'], ascending=True)\n",
    "df.reset_index(drop=True, inplace=True)"
   ]
  },
  {
   "cell_type": "markdown",
   "metadata": {
    "id": "ZimukKX_TgQ4"
   },
   "source": [
    "# Plot top 30 diseases for the type T047: Physical Disorders"
   ]
  },
  {
   "cell_type": "code",
   "execution_count": null,
   "metadata": {
    "colab": {
     "base_uri": "https://localhost:8080/",
     "height": 858
    },
    "id": "LHN3a1uiP__F",
    "outputId": "c6c18f9c-9cd5-4c0d-a3d4-8cc6943683af"
   },
   "outputs": [],
   "source": [
    "sns.reset_defaults()\n",
    "sns.set(\n",
    "    rc={'figure.figsize':(5,10)}, \n",
    "    style=\"whitegrid\",\n",
    "    palette='pastel'\n",
    ")\n",
    "# Subset the data and chose only T047, top 30\n",
    "_data = df[df['tui'].apply(lambda x: 'T047' in x)].iloc[-30:]\n",
    "\n",
    "# Create the plot\n",
    "ax = _data.plot(y=['total'], x=\"disease\", kind=\"barh\")\n",
    "# Legend position and label names\n",
    "ax.legend(loc='lower right')\n",
    "_ = ax.set(xlim=(0, 15), ylabel=\"Disease Name\", xlabel=\"Percentage of patients with disease\", )\n",
    "# Show\n",
    "plt.show()"
   ]
  },
  {
   "cell_type": "code",
   "execution_count": null,
   "metadata": {
    "id": "KAdYV95aTy09"
   },
   "outputs": [],
   "source": []
  },
  {
   "cell_type": "markdown",
   "metadata": {
    "id": "DFLGpy_0alFN"
   },
   "source": [
    "End of tutorial "
   ]
  }
 ],
 "metadata": {
  "colab": {
   "collapsed_sections": [],
   "name": "MedCAT Tutorial  | Part 5 - Prevalence of Physical and Mental Diseases.ipynb",
   "provenance": []
  },
  "kernelspec": {
   "display_name": "Python 3",
   "language": "python",
   "name": "python3"
  },
  "language_info": {
   "codemirror_mode": {
    "name": "ipython",
    "version": 3
   },
   "file_extension": ".py",
   "mimetype": "text/x-python",
   "name": "python",
   "nbconvert_exporter": "python",
   "pygments_lexer": "ipython3",
   "version": "3.7.0"
  }
 },
 "nbformat": 4,
 "nbformat_minor": 0
}
