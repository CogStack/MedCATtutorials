{
 "cells": [
  {
   "cell_type": "code",
   "execution_count": null,
   "metadata": {
    "id": "MfFCiVQi6pGs"
   },
   "outputs": [],
   "source": [
    "! pip install medcat==1.2.3"
   ]
  },
  {
   "cell_type": "markdown",
   "metadata": {
    "id": "8dFRtweUVdBI"
   },
   "source": [
    "**Restart the runtime if on colab, sometimes necessary after installing models**"
   ]
  },
  {
   "cell_type": "code",
   "execution_count": null,
   "metadata": {
    "colab": {
     "base_uri": "https://localhost:8080/"
    },
    "id": "z1g2XnneVUc8",
    "outputId": "c61697f5-15ca-4dfc-f76e-751d1a40ae30"
   },
   "outputs": [
    {
     "name": "stderr",
     "output_type": "stream",
     "text": [
      "/usr/local/lib/python3.7/dist-packages/medcat/cat.py:10: TqdmExperimentalWarning: Using `tqdm.autonotebook.tqdm` in notebook mode. Use `tqdm.tqdm` instead to force console mode (e.g. in jupyter console)\n",
      "  from tqdm.autonotebook import tqdm\n"
     ]
    }
   ],
   "source": [
    "import pandas as pd\n",
    "import numpy as np\n",
    "import seaborn as sns\n",
    "from matplotlib import pyplot as plt\n",
    "import json \n",
    "\n",
    "from medcat.cat import CAT\n",
    "from medcat.cdb import CDB\n",
    "from medcat.config import Config\n",
    "from medcat.vocab import Vocab\n",
    "from medcat.meta_cat import MetaCAT\n",
    "from medcat.preprocessing.tokenizers import TokenizerWrapperBPE\n",
    "from tokenizers import ByteLevelBPETokenizer"
   ]
  },
  {
   "cell_type": "code",
   "execution_count": null,
   "metadata": {
    "id": "hbSB48yrVW10"
   },
   "outputs": [],
   "source": [
    "DATA_DIR = \"./data/\"\n",
    "MODEL_DIR = \"./models/\"\n",
    "model_pack_path = MODEL_DIR + \"medmen_wstatus_2021_oct.zip\""
   ]
  },
  {
   "cell_type": "code",
   "execution_count": null,
   "metadata": {
    "colab": {
     "base_uri": "https://localhost:8080/"
    },
    "id": "PF6oNFg7VY-b",
    "outputId": "84f6ba4d-9a15-4020-9697-e527f9836be8"
   },
   "outputs": [
    {
     "name": "stdout",
     "output_type": "stream",
     "text": [
      "medmen_wstatus_2021 100%[===================>] 535.92M  27.2MB/s    in 29s     \n",
      "\n",
      "2021-10-24 21:01:49 (18.3 MB/s) - ‘./models/medmen_wstatus_2021_oct.zip’ saved [561947681/561947681]\n",
      "\n"
     ]
    }
   ],
   "source": [
    "# Download the models and required data\n",
    "!wget https://raw.githubusercontent.com/CogStack/MedCATtutorials/main/notebooks/introductory/data/pt_notes.csv -P ./data/\n",
    "!wget https://raw.githubusercontent.com/CogStack/MedCATtutorials/main/notebooks/introductory/data/MedCAT_Export.json -P ./data/\n",
    "\n",
    "# Download the medcat modelpack\n",
    "!wget https://medcat.rosalind.kcl.ac.uk/media/medmen_wstatus_2021_oct.zip -P ./models/\n"
   ]
  },
  {
   "cell_type": "code",
   "execution_count": null,
   "metadata": {
    "colab": {
     "base_uri": "https://localhost:8080/"
    },
    "id": "hWM07g5xatHO",
    "outputId": "7b8c7baf-ebd4-429c-de8d-450da8a5f8a9"
   },
   "outputs": [
    {
     "name": "stdout",
     "output_type": "stream",
     "text": [
      "Unziping the model pack and loading models.\n"
     ]
    }
   ],
   "source": [
    "# Load model pack and Create CAT - the main class from medcat used for concept annotation\n",
    "# Create the full pipeline with models for meta-annotations\n",
    "cat = CAT.load_model_pack(model_pack_path)"
   ]
  },
  {
   "cell_type": "code",
   "execution_count": null,
   "metadata": {
    "id": "TvvCIyv0afMZ"
   },
   "outputs": [],
   "source": [
    "# Detect only Disease and Mental Disorders\n",
    "# |T047|Disease or Syndrome\n",
    "# |T048|Mental or Behavioral Dysfunction\n",
    "type_ids_filter = ['T047', 'T048']\n",
    "cui_filters = set()\n",
    "for type_ids in type_ids_filter:\n",
    "  cui_filters.update(cat.cdb.addl_info['type_id2cuis'][type_ids])\n",
    "cat.cdb.config.linking['filters']['cuis'] = cui_filters"
   ]
  },
  {
   "cell_type": "code",
   "execution_count": null,
   "metadata": {
    "colab": {
     "base_uri": "https://localhost:8080/"
    },
    "id": "c486q-1ybHnB",
    "outputId": "d14619f3-81e4-40c9-a430-12c2108638c1"
   },
   "outputs": [
    {
     "name": "stdout",
     "output_type": "stream",
     "text": [
      "--2021-10-24 21:05:03--  https://raw.githubusercontent.com/CogStack/MedCAT/master/tutorial/data/pt_notes.csv\n",
      "Resolving raw.githubusercontent.com (raw.githubusercontent.com)... 185.199.108.133, 185.199.109.133, 185.199.110.133, ...\n",
      "Connecting to raw.githubusercontent.com (raw.githubusercontent.com)|185.199.108.133|:443... connected.\n",
      "HTTP request sent, awaiting response... 200 OK\n",
      "Length: 3644222 (3.5M) [text/plain]\n",
      "Saving to: ‘./data/pt_notes.csv.1’\n",
      "\n",
      "pt_notes.csv.1      100%[===================>]   3.47M  --.-KB/s    in 0.07s   \n",
      "\n",
      "2021-10-24 21:05:03 (48.7 MB/s) - ‘./data/pt_notes.csv.1’ saved [3644222/3644222]\n",
      "\n"
     ]
    }
   ],
   "source": [
    "!wget https://raw.githubusercontent.com/CogStack/MedCAT/master/tutorial/data/pt_notes.csv -P ./data/"
   ]
  },
  {
   "cell_type": "markdown",
   "metadata": {
    "id": "fD81Ymjpbxys"
   },
   "source": [
    "## Document annotation\n",
    "\n",
    "The following is a replica of the document annotation code done in [Part 3.2.](https://colab.research.google.com/drive/1q29RbHlZoFK7TcvMKITi3ABbE-E_fw30), with the only change that we have meta-annotations in the pipeline now."
   ]
  },
  {
   "cell_type": "code",
   "execution_count": null,
   "metadata": {
    "colab": {
     "base_uri": "https://localhost:8080/",
     "height": 306
    },
    "id": "ZwZZc6JEcHda",
    "outputId": "9652f623-12a3-4041-d709-1e125a12b541"
   },
   "outputs": [
    {
     "data": {
      "text/html": [
       "<div>\n",
       "<style scoped>\n",
       "    .dataframe tbody tr th:only-of-type {\n",
       "        vertical-align: middle;\n",
       "    }\n",
       "\n",
       "    .dataframe tbody tr th {\n",
       "        vertical-align: top;\n",
       "    }\n",
       "\n",
       "    .dataframe thead th {\n",
       "        text-align: right;\n",
       "    }\n",
       "</style>\n",
       "<table border=\"1\" class=\"dataframe\">\n",
       "  <thead>\n",
       "    <tr style=\"text-align: right;\">\n",
       "      <th></th>\n",
       "      <th>Unnamed: 0_x</th>\n",
       "      <th>subject_id</th>\n",
       "      <th>chartdate</th>\n",
       "      <th>category</th>\n",
       "      <th>text</th>\n",
       "      <th>create_year</th>\n",
       "      <th>Unnamed: 0_y</th>\n",
       "      <th>gender</th>\n",
       "      <th>dob</th>\n",
       "      <th>dob_year</th>\n",
       "      <th>age_year</th>\n",
       "    </tr>\n",
       "  </thead>\n",
       "  <tbody>\n",
       "    <tr>\n",
       "      <th>0</th>\n",
       "      <td>6</td>\n",
       "      <td>1</td>\n",
       "      <td>2079-01-01</td>\n",
       "      <td>General Medicine</td>\n",
       "      <td>HISTORY OF PRESENT ILLNESS:, The patient is a ...</td>\n",
       "      <td>2079</td>\n",
       "      <td>1</td>\n",
       "      <td>F</td>\n",
       "      <td>2018-01-01</td>\n",
       "      <td>2018</td>\n",
       "      <td>61</td>\n",
       "    </tr>\n",
       "    <tr>\n",
       "      <th>1</th>\n",
       "      <td>7</td>\n",
       "      <td>1</td>\n",
       "      <td>2079-01-01</td>\n",
       "      <td>Rheumatology</td>\n",
       "      <td>HISTORY OF PRESENT ILLNESS: , A 71-year-old fe...</td>\n",
       "      <td>2079</td>\n",
       "      <td>1</td>\n",
       "      <td>F</td>\n",
       "      <td>2018-01-01</td>\n",
       "      <td>2018</td>\n",
       "      <td>61</td>\n",
       "    </tr>\n",
       "    <tr>\n",
       "      <th>2</th>\n",
       "      <td>8</td>\n",
       "      <td>1</td>\n",
       "      <td>2079-01-01</td>\n",
       "      <td>Consult - History and Phy.</td>\n",
       "      <td>HISTORY OF PRESENT ILLNESS:, The patient is a ...</td>\n",
       "      <td>2079</td>\n",
       "      <td>1</td>\n",
       "      <td>F</td>\n",
       "      <td>2018-01-01</td>\n",
       "      <td>2018</td>\n",
       "      <td>61</td>\n",
       "    </tr>\n",
       "    <tr>\n",
       "      <th>3</th>\n",
       "      <td>9</td>\n",
       "      <td>2</td>\n",
       "      <td>2037-01-01</td>\n",
       "      <td>Consult - History and Phy.</td>\n",
       "      <td>CHIEF COMPLAINT:,1.  Infection.,2.  Pelvic pai...</td>\n",
       "      <td>2037</td>\n",
       "      <td>2</td>\n",
       "      <td>F</td>\n",
       "      <td>2018-01-01</td>\n",
       "      <td>2018</td>\n",
       "      <td>19</td>\n",
       "    </tr>\n",
       "    <tr>\n",
       "      <th>4</th>\n",
       "      <td>10</td>\n",
       "      <td>2</td>\n",
       "      <td>2037-01-01</td>\n",
       "      <td>Dermatology</td>\n",
       "      <td>SUBJECTIVE:,  This is a 29-year-old Vietnamese...</td>\n",
       "      <td>2037</td>\n",
       "      <td>2</td>\n",
       "      <td>F</td>\n",
       "      <td>2018-01-01</td>\n",
       "      <td>2018</td>\n",
       "      <td>19</td>\n",
       "    </tr>\n",
       "  </tbody>\n",
       "</table>\n",
       "</div>"
      ],
      "text/plain": [
       "   Unnamed: 0_x  subject_id   chartdate  ...         dob dob_year  age_year\n",
       "0             6           1  2079-01-01  ...  2018-01-01     2018        61\n",
       "1             7           1  2079-01-01  ...  2018-01-01     2018        61\n",
       "2             8           1  2079-01-01  ...  2018-01-01     2018        61\n",
       "3             9           2  2037-01-01  ...  2018-01-01     2018        19\n",
       "4            10           2  2037-01-01  ...  2018-01-01     2018        19\n",
       "\n",
       "[5 rows x 11 columns]"
      ]
     },
     "execution_count": 12,
     "metadata": {},
     "output_type": "execute_result"
    }
   ],
   "source": [
    "# Load the data \n",
    "data = pd.read_csv(DATA_DIR + \"pt_notes.csv\")\n",
    "data.head()"
   ]
  },
  {
   "cell_type": "code",
   "execution_count": null,
   "metadata": {
    "colab": {
     "base_uri": "https://localhost:8080/"
    },
    "id": "8Nw6WVwCOu8j",
    "outputId": "b72c67cd-a604-4791-f1ff-833eb2678779"
   },
   "outputs": [
    {
     "data": {
      "text/plain": [
       "(1088, 11)"
      ]
     },
     "execution_count": 13,
     "metadata": {},
     "output_type": "execute_result"
    }
   ],
   "source": [
    "data.shape"
   ]
  },
  {
   "cell_type": "code",
   "execution_count": null,
   "metadata": {
    "id": "ewlrc6NTs-gq"
   },
   "outputs": [],
   "source": [
    "# format the df to match: required input data for multiprocessing = [(doc_id, doc_text), (doc_id, doc_text), ...]\n",
    "def data_iterator(data):\n",
    "    for id, row in data[['text']].iterrows():\n",
    "        yield (id, str(row['text']))"
   ]
  },
  {
   "cell_type": "code",
   "execution_count": null,
   "metadata": {
    "id": "ksIzKv2ibQe2"
   },
   "outputs": [],
   "source": [
    "# Set a batch size to control for the variablity between document sizes\n",
    "batch_size_chars = 500000 # Batch size (BS) in number of characters\n",
    "\n",
    "# Run model\n",
    "results = cat.multiprocessing(data_iterator(data),  # Formatted data\n",
    "                              batch_size_chars = batch_size_chars,\n",
    "                              nproc=8) # Number of processors"
   ]
  },
  {
   "cell_type": "code",
   "execution_count": null,
   "metadata": {
    "id": "LTo-MMIFbmQn"
   },
   "outputs": [],
   "source": [
    "# This will be a map from CUI to a list of documents where it appears: {\"cui\": [<doc_id>, <doc_id>, ...], ..}\n",
    "cui_location = {}\n",
    "# Let's also save the TUI location (semantic type)\n",
    "type_ids_location = {}"
   ]
  },
  {
   "cell_type": "code",
   "execution_count": null,
   "metadata": {
    "id": "MNErNGOLIOrS"
   },
   "outputs": [],
   "source": [
    "# Select only cui's with the Status Meta-annotation \"Affirmed\" and thier corresponding documents\n",
    "for doc in list(results.keys()):\n",
    "  for annotation in list(results[doc]['entities'].values()):\n",
    "    if annotation['cui'] in cui_location:\n",
    "      if annotation['meta_anns']['Status']['value'] == 'Affirmed':\n",
    "        cui_location[annotation['cui']].append(doc)\n",
    "    else:\n",
    "      if annotation['meta_anns']['Status']['value'] == 'Affirmed':\n",
    "        cui_location[annotation['cui']] = [doc]"
   ]
  },
  {
   "cell_type": "code",
   "execution_count": null,
   "metadata": {
    "id": "8-8IlDaBKKi4"
   },
   "outputs": [],
   "source": [
    "# For the type_ids and their corresponding documents\n",
    "# Remember that a cui may map to more than one type_ids (one to many mapping)\n",
    "for cui in cui_location.keys():\n",
    "  type_ids_location[list(cat.cdb.cui2type_ids[cui])[0]] = cui_location[cui]"
   ]
  },
  {
   "cell_type": "markdown",
   "metadata": {
    "id": "jn6Ay2abd1Ud"
   },
   "source": [
    "## Done\n",
    "\n",
    "We have now annotated all documents in our dataset and for each CUI (Concept identifier) we know in which document it appers. We also know that all the detected entities have the status \"Affirmed\". \n",
    "\n",
    "---\n",
    "\n",
    "Please note that the number of examples I have provided is not enough to fully train the \"Status\" meta-annotation and one would need to provide more."
   ]
  },
  {
   "cell_type": "code",
   "execution_count": null,
   "metadata": {
    "id": "xJ4-NFEjeslB"
   },
   "outputs": [],
   "source": [
    "# For example, the concept with CUI: C0020538 (hypertension) appears in\n",
    "set(cui_location['C0020538'])"
   ]
  },
  {
   "cell_type": "code",
   "execution_count": null,
   "metadata": {
    "id": "qfGq51rsAVur"
   },
   "outputs": [],
   "source": [
    "# Save concept location in corpus\n",
    "import json\n",
    "json.dump(cui_location, open(\"./cui_location.json\", 'w'))"
   ]
  },
  {
   "cell_type": "markdown",
   "metadata": {
    "id": "5fX7MjSnbsBi"
   },
   "source": [
    "End of tutorial"
   ]
  }
 ],
 "metadata": {
  "accelerator": "TPU",
  "colab": {
   "collapsed_sections": [],
   "name": "MedCAT Tutorial  | Part 4.3 - Annotating documents with the full MedCAT pipeline with MetaAnnotations.ipynb",
   "provenance": []
  },
  "kernelspec": {
   "display_name": "Python 3",
   "language": "python",
   "name": "python3"
  },
  "language_info": {
   "codemirror_mode": {
    "name": "ipython",
    "version": 3
   },
   "file_extension": ".py",
   "mimetype": "text/x-python",
   "name": "python",
   "nbconvert_exporter": "python",
   "pygments_lexer": "ipython3",
   "version": "3.7.0"
  }
 },
 "nbformat": 4,
 "nbformat_minor": 4
}
