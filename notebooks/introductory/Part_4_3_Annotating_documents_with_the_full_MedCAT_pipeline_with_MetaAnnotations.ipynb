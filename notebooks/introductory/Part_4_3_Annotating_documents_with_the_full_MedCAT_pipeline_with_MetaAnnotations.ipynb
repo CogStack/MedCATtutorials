{
 "cells": [
  {
   "cell_type": "code",
   "execution_count": null,
   "metadata": {
    "colab": {
     "base_uri": "https://localhost:8080/",
     "height": 1000
    },
    "id": "MfFCiVQi6pGs",
    "outputId": "1d062685-e30e-4512-b6a5-6ae14c876a39"
   },
   "outputs": [],
   "source": [
    "! pip install medcat==1.2.7"
   ]
  },
  {
   "cell_type": "markdown",
   "metadata": {
    "id": "8dFRtweUVdBI"
   },
   "source": [
    "**Restart the runtime if on colab, sometimes necessary after installing models**"
   ]
  },
  {
   "cell_type": "code",
   "execution_count": null,
   "metadata": {
    "colab": {
     "base_uri": "https://localhost:8080/"
    },
    "id": "z1g2XnneVUc8",
    "outputId": "a979646e-697a-4967-9b5e-7eb24250be76"
   },
   "outputs": [],
   "source": [
    "import pandas as pd\n",
    "import numpy as np\n",
    "import seaborn as sns\n",
    "import json \n",
    "\n",
    "from matplotlib import pyplot as plt\n",
    "from medcat.cat import CAT\n",
    "from medcat.cdb import CDB\n",
    "from medcat.config import Config\n",
    "from medcat.vocab import Vocab\n",
    "from medcat.meta_cat import MetaCAT\n",
    "from medcat.preprocessing.tokenizers import TokenizerWrapperBPE\n",
    "from tokenizers import ByteLevelBPETokenizer"
   ]
  },
  {
   "cell_type": "code",
   "execution_count": null,
   "metadata": {
    "id": "hbSB48yrVW10"
   },
   "outputs": [],
   "source": [
    "DATA_DIR = \"./data/\"\n",
    "MODEL_DIR = \"./models/\"\n",
    "model_pack_path = MODEL_DIR + \"medmen_wstatus_2021_oct.zip\""
   ]
  },
  {
   "cell_type": "code",
   "execution_count": null,
   "metadata": {
    "colab": {
     "base_uri": "https://localhost:8080/"
    },
    "id": "PF6oNFg7VY-b",
    "outputId": "327b6c93-ef0b-457f-a16d-78029b915084"
   },
   "outputs": [],
   "source": [
    "# Download the models and required data\n",
    "!wget https://raw.githubusercontent.com/CogStack/MedCATtutorials/main/notebooks/introductory/data/pt_notes.csv -P ./data/\n",
    "!wget https://raw.githubusercontent.com/CogStack/MedCATtutorials/main/notebooks/introductory/data/MedCAT_Export.json -P ./data/\n",
    "\n",
    "# Download the medcat modelpack\n",
    "!wget https://medcat.rosalind.kcl.ac.uk/media/medmen_wstatus_2021_oct.zip -P ./models/\n"
   ]
  },
  {
   "cell_type": "code",
   "execution_count": null,
   "metadata": {
    "colab": {
     "base_uri": "https://localhost:8080/"
    },
    "id": "hWM07g5xatHO",
    "outputId": "ba41a8c0-a49a-4ecf-c57b-d17b744eaaf8"
   },
   "outputs": [],
   "source": [
    "# Load model pack and Create CAT - the main class from medcat used for concept annotation\n",
    "# Create the full pipeline with models for meta-annotations\n",
    "cat = CAT.load_model_pack(model_pack_path)"
   ]
  },
  {
   "cell_type": "code",
   "execution_count": null,
   "metadata": {
    "id": "TvvCIyv0afMZ"
   },
   "outputs": [],
   "source": [
    "# Detect only Disease and Mental Disorders\n",
    "# |T047|Disease or Syndrome\n",
    "# |T048|Mental or Behavioral Dysfunction\n",
    "type_ids_filter = ['T047', 'T048']\n",
    "cui_filters = set()\n",
    "for type_ids in type_ids_filter:\n",
    "  cui_filters.update(cat.cdb.addl_info['type_id2cuis'][type_ids])\n",
    "cat.cdb.config.linking['filters']['cuis'] = cui_filters"
   ]
  },
  {
   "cell_type": "code",
   "execution_count": null,
   "metadata": {
    "colab": {
     "base_uri": "https://localhost:8080/"
    },
    "id": "c486q-1ybHnB",
    "outputId": "9ef71763-7ff9-434d-a528-4b3dac3a6049"
   },
   "outputs": [],
   "source": [
    "!wget https://raw.githubusercontent.com/CogStack/MedCAT/master/tutorial/data/pt_notes.csv -P ./data/"
   ]
  },
  {
   "cell_type": "markdown",
   "metadata": {
    "id": "fD81Ymjpbxys"
   },
   "source": [
    "## Document annotation\n",
    "\n",
    "The following is a replica of the document annotation code done in [Part 3.2.](https://colab.research.google.com/drive/1q29RbHlZoFK7TcvMKITi3ABbE-E_fw30), with the only change that we have meta-annotations in the pipeline now."
   ]
  },
  {
   "cell_type": "code",
   "execution_count": null,
   "metadata": {
    "colab": {
     "base_uri": "https://localhost:8080/",
     "height": 354
    },
    "id": "ZwZZc6JEcHda",
    "outputId": "e88361f3-951b-4b34-feb0-deab80128e5d"
   },
   "outputs": [],
   "source": [
    "# Load the data \n",
    "data = pd.read_csv(DATA_DIR + \"pt_notes.csv\")\n",
    "data.head()"
   ]
  },
  {
   "cell_type": "code",
   "execution_count": null,
   "metadata": {
    "colab": {
     "base_uri": "https://localhost:8080/"
    },
    "id": "8Nw6WVwCOu8j",
    "outputId": "ad4723bc-22aa-4da6-916c-caf6c06b0958"
   },
   "outputs": [],
   "source": [
    "data.shape"
   ]
  },
  {
   "cell_type": "code",
   "execution_count": null,
   "metadata": {
    "id": "ewlrc6NTs-gq"
   },
   "outputs": [],
   "source": [
    "# format the df to match: required input data for multiprocessing = [(doc_id, doc_text), (doc_id, doc_text), ...]\n",
    "def data_iterator(data):\n",
    "    for id, row in data[['text']].iterrows():\n",
    "        yield (id, str(row['text']))"
   ]
  },
  {
   "cell_type": "code",
   "execution_count": null,
   "metadata": {
    "colab": {
     "base_uri": "https://localhost:8080/"
    },
    "id": "ksIzKv2ibQe2",
    "outputId": "606c8722-d72d-46e5-cf7b-234fd0637d5e"
   },
   "outputs": [],
   "source": [
    "# Set a batch size to control for the variablity between document sizes\n",
    "batch_size_chars = 500000 # Batch size (BS) in number of characters\n",
    "\n",
    "# Run model\n",
    "results = cat.multiprocessing(data_iterator(data),  # Formatted data\n",
    "                              batch_size_chars = batch_size_chars,\n",
    "                              nproc=8) # Number of processors"
   ]
  },
  {
   "cell_type": "code",
   "execution_count": null,
   "metadata": {
    "id": "LTo-MMIFbmQn"
   },
   "outputs": [],
   "source": [
    "# This will be a map from CUI to a list of documents where it appears: {\"cui\": [<doc_id>, <doc_id>, ...], ..}\n",
    "cui_location = {}\n",
    "# Let's also save the TUI location (semantic type)\n",
    "type_ids_location = {}"
   ]
  },
  {
   "cell_type": "code",
   "execution_count": null,
   "metadata": {
    "id": "MNErNGOLIOrS"
   },
   "outputs": [],
   "source": [
    "# Select only cui's with the Status Meta-annotation \"Affirmed\" and thier corresponding documents\n",
    "for doc in list(results.keys()):\n",
    "  for annotation in list(results[doc]['entities'].values()):\n",
    "    if annotation['cui'] in cui_location:\n",
    "      if annotation['meta_anns']['Status']['value'] == 'Affirmed':\n",
    "        cui_location[annotation['cui']].append(doc)\n",
    "    else:\n",
    "      if annotation['meta_anns']['Status']['value'] == 'Affirmed':\n",
    "        cui_location[annotation['cui']] = [doc]"
   ]
  },
  {
   "cell_type": "code",
   "execution_count": null,
   "metadata": {
    "id": "8-8IlDaBKKi4"
   },
   "outputs": [],
   "source": [
    "# For the type_ids and their corresponding documents\n",
    "# Remember that a cui may map to more than one type_ids (one to many mapping)\n",
    "for cui in cui_location.keys():\n",
    "  type_ids_location[list(cat.cdb.cui2type_ids[cui])[0]] = cui_location[cui]"
   ]
  },
  {
   "cell_type": "markdown",
   "metadata": {
    "id": "jn6Ay2abd1Ud"
   },
   "source": [
    "## Done\n",
    "\n",
    "We have now annotated all documents in our dataset and for each CUI (Concept identifier) we know in which document it appers. We also know that all the detected entities have the status \"Affirmed\". \n",
    "\n",
    "---\n",
    "\n",
    "Please note that the number of examples I have provided is not enough to fully train the \"Status\" meta-annotation and one would need to provide more."
   ]
  },
  {
   "cell_type": "code",
   "execution_count": null,
   "metadata": {
    "colab": {
     "base_uri": "https://localhost:8080/"
    },
    "id": "xJ4-NFEjeslB",
    "outputId": "1412fbbb-4641-4108-c76e-9f1d5c0b4b21"
   },
   "outputs": [],
   "source": [
    "# For example, the concept with CUI: C0020538 (hypertension) appears in\n",
    "set(cui_location['C0020538'])"
   ]
  },
  {
   "cell_type": "code",
   "execution_count": null,
   "metadata": {
    "id": "qfGq51rsAVur"
   },
   "outputs": [],
   "source": [
    "# Save concept location in corpus\n",
    "import json\n",
    "json.dump(cui_location, open(\"./cui_location.json\", 'w'))"
   ]
  },
  {
   "cell_type": "markdown",
   "metadata": {
    "id": "5fX7MjSnbsBi"
   },
   "source": [
    "End of tutorial"
   ]
  }
 ],
 "metadata": {
  "accelerator": "TPU",
  "colab": {
   "collapsed_sections": [],
   "name": "MedCAT Tutorial  | Part 4.3 - Annotating documents with the full MedCAT pipeline with MetaAnnotations.ipynb",
   "provenance": []
  },
  "kernelspec": {
   "display_name": "Python 3",
   "language": "python",
   "name": "python3"
  },
  "language_info": {
   "codemirror_mode": {
    "name": "ipython",
    "version": 3
   },
   "file_extension": ".py",
   "mimetype": "text/x-python",
   "name": "python",
   "nbconvert_exporter": "python",
   "pygments_lexer": "ipython3",
   "version": "3.7.0"
  }
 },
 "nbformat": 4,
 "nbformat_minor": 0
}
