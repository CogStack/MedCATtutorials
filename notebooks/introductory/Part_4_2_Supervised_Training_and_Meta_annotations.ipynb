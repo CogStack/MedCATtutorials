{
 "cells": [
  {
   "cell_type": "code",
   "execution_count": null,
   "metadata": {
    "colab": {
     "base_uri": "https://localhost:8080/"
    },
    "id": "4F4bit_i6lnY",
    "outputId": "68c02443-d38f-4f00-e16a-9a964b4c5790"
   },
   "outputs": [
    {
     "name": "stdout",
     "output_type": "stream",
     "text": [
      "Collecting medcat\n",
      "  Downloading medcat-1.2.3-py3-none-any.whl (123 kB)\n",
      "\u001b[K     |████████████████████████████████| 123 kB 7.7 MB/s \n",
      "\u001b[?25hCollecting elasticsearch>=7.10\n",
      "  Downloading elasticsearch-7.15.1-py2.py3-none-any.whl (378 kB)\n",
      "\u001b[K     |████████████████████████████████| 378 kB 43.7 MB/s \n",
      "\u001b[?25hRequirement already satisfied: numpy<1.21.0,>=1.19.0 in /usr/local/lib/python3.7/dist-packages (from medcat) (1.19.5)\n",
      "Collecting scipy<=1.7.1,>=1.5.4\n",
      "  Downloading scipy-1.7.1-cp37-cp37m-manylinux_2_5_x86_64.manylinux1_x86_64.whl (28.5 MB)\n",
      "\u001b[K     |████████████████████████████████| 28.5 MB 49 kB/s \n",
      "\u001b[?25hCollecting transformers~=4.11.3\n",
      "  Downloading transformers-4.11.3-py3-none-any.whl (2.9 MB)\n",
      "\u001b[K     |████████████████████████████████| 2.9 MB 42.2 MB/s \n",
      "\u001b[?25hRequirement already satisfied: pandas<=1.3.4,>=1.1.5 in /usr/local/lib/python3.7/dist-packages (from medcat) (1.1.5)\n",
      "Collecting spacy<3.1.4,>=3.0.1\n",
      "  Downloading spacy-3.1.3-cp37-cp37m-manylinux_2_17_x86_64.manylinux2014_x86_64.whl (5.9 MB)\n",
      "\u001b[K     |████████████████████████████████| 5.9 MB 46.9 MB/s \n",
      "\u001b[?25hCollecting jsonpickle~=2.0.0\n",
      "  Downloading jsonpickle-2.0.0-py2.py3-none-any.whl (37 kB)\n",
      "Collecting datasets~=1.14.0\n",
      "  Downloading datasets-1.14.0-py3-none-any.whl (290 kB)\n",
      "\u001b[K     |████████████████████████████████| 290 kB 59.0 MB/s \n",
      "\u001b[?25hRequirement already satisfied: torch<1.10,>=1.0 in /usr/local/lib/python3.7/dist-packages (from medcat) (1.9.0+cu111)\n",
      "Collecting gensim~=4.1.2\n",
      "  Downloading gensim-4.1.2-cp37-cp37m-manylinux_2_12_x86_64.manylinux2010_x86_64.whl (24.1 MB)\n",
      "\u001b[K     |████████████████████████████████| 24.1 MB 1.8 MB/s \n",
      "\u001b[?25hRequirement already satisfied: sklearn~=0.0 in /usr/local/lib/python3.7/dist-packages (from medcat) (0.0)\n",
      "Requirement already satisfied: tqdm>=4.27 in /usr/local/lib/python3.7/dist-packages (from medcat) (4.62.3)\n",
      "Requirement already satisfied: dill~=0.3.4 in /usr/local/lib/python3.7/dist-packages (from medcat) (0.3.4)\n",
      "Requirement already satisfied: multiprocess in /usr/local/lib/python3.7/dist-packages (from datasets~=1.14.0->medcat) (0.70.12.2)\n",
      "Collecting aiohttp\n",
      "  Downloading aiohttp-3.7.4.post0-cp37-cp37m-manylinux2014_x86_64.whl (1.3 MB)\n",
      "\u001b[K     |████████████████████████████████| 1.3 MB 39.6 MB/s \n",
      "\u001b[?25hRequirement already satisfied: importlib-metadata in /usr/local/lib/python3.7/dist-packages (from datasets~=1.14.0->medcat) (4.8.1)\n",
      "Requirement already satisfied: requests>=2.19.0 in /usr/local/lib/python3.7/dist-packages (from datasets~=1.14.0->medcat) (2.23.0)\n",
      "Collecting huggingface-hub<0.1.0,>=0.0.19\n",
      "  Downloading huggingface_hub-0.0.19-py3-none-any.whl (56 kB)\n",
      "\u001b[K     |████████████████████████████████| 56 kB 5.6 MB/s \n",
      "\u001b[?25hRequirement already satisfied: pyarrow!=4.0.0,>=1.0.0 in /usr/local/lib/python3.7/dist-packages (from datasets~=1.14.0->medcat) (3.0.0)\n",
      "Collecting xxhash\n",
      "  Downloading xxhash-2.0.2-cp37-cp37m-manylinux2010_x86_64.whl (243 kB)\n",
      "\u001b[K     |████████████████████████████████| 243 kB 59.7 MB/s \n",
      "\u001b[?25hRequirement already satisfied: packaging in /usr/local/lib/python3.7/dist-packages (from datasets~=1.14.0->medcat) (21.0)\n",
      "Collecting fsspec[http]>=2021.05.0\n",
      "  Downloading fsspec-2021.10.1-py3-none-any.whl (125 kB)\n",
      "\u001b[K     |████████████████████████████████| 125 kB 55.8 MB/s \n",
      "\u001b[?25hRequirement already satisfied: certifi in /usr/local/lib/python3.7/dist-packages (from elasticsearch>=7.10->medcat) (2021.5.30)\n",
      "Requirement already satisfied: urllib3<2,>=1.21.1 in /usr/local/lib/python3.7/dist-packages (from elasticsearch>=7.10->medcat) (1.24.3)\n",
      "Requirement already satisfied: smart-open>=1.8.1 in /usr/local/lib/python3.7/dist-packages (from gensim~=4.1.2->medcat) (5.2.1)\n",
      "Requirement already satisfied: filelock in /usr/local/lib/python3.7/dist-packages (from huggingface-hub<0.1.0,>=0.0.19->datasets~=1.14.0->medcat) (3.3.0)\n",
      "Requirement already satisfied: typing-extensions in /usr/local/lib/python3.7/dist-packages (from huggingface-hub<0.1.0,>=0.0.19->datasets~=1.14.0->medcat) (3.7.4.3)\n",
      "Requirement already satisfied: pyyaml in /usr/local/lib/python3.7/dist-packages (from huggingface-hub<0.1.0,>=0.0.19->datasets~=1.14.0->medcat) (3.13)\n",
      "Requirement already satisfied: pyparsing>=2.0.2 in /usr/local/lib/python3.7/dist-packages (from packaging->datasets~=1.14.0->medcat) (2.4.7)\n",
      "Requirement already satisfied: pytz>=2017.2 in /usr/local/lib/python3.7/dist-packages (from pandas<=1.3.4,>=1.1.5->medcat) (2018.9)\n",
      "Requirement already satisfied: python-dateutil>=2.7.3 in /usr/local/lib/python3.7/dist-packages (from pandas<=1.3.4,>=1.1.5->medcat) (2.8.2)\n",
      "Requirement already satisfied: six>=1.5 in /usr/local/lib/python3.7/dist-packages (from python-dateutil>=2.7.3->pandas<=1.3.4,>=1.1.5->medcat) (1.15.0)\n",
      "Requirement already satisfied: idna<3,>=2.5 in /usr/local/lib/python3.7/dist-packages (from requests>=2.19.0->datasets~=1.14.0->medcat) (2.10)\n",
      "Requirement already satisfied: chardet<4,>=3.0.2 in /usr/local/lib/python3.7/dist-packages (from requests>=2.19.0->datasets~=1.14.0->medcat) (3.0.4)\n",
      "Requirement already satisfied: scikit-learn in /usr/local/lib/python3.7/dist-packages (from sklearn~=0.0->medcat) (0.22.2.post1)\n",
      "Collecting srsly<3.0.0,>=2.4.1\n",
      "  Downloading srsly-2.4.2-cp37-cp37m-manylinux_2_17_x86_64.manylinux2014_x86_64.whl (451 kB)\n",
      "\u001b[K     |████████████████████████████████| 451 kB 43.6 MB/s \n",
      "\u001b[?25hRequirement already satisfied: blis<0.8.0,>=0.4.0 in /usr/local/lib/python3.7/dist-packages (from spacy<3.1.4,>=3.0.1->medcat) (0.4.1)\n",
      "Requirement already satisfied: jinja2 in /usr/local/lib/python3.7/dist-packages (from spacy<3.1.4,>=3.0.1->medcat) (2.11.3)\n",
      "Collecting pydantic!=1.8,!=1.8.1,<1.9.0,>=1.7.4\n",
      "  Downloading pydantic-1.8.2-cp37-cp37m-manylinux2014_x86_64.whl (10.1 MB)\n",
      "\u001b[K     |████████████████████████████████| 10.1 MB 23.8 MB/s \n",
      "\u001b[?25hRequirement already satisfied: preshed<3.1.0,>=3.0.2 in /usr/local/lib/python3.7/dist-packages (from spacy<3.1.4,>=3.0.1->medcat) (3.0.5)\n",
      "Requirement already satisfied: wasabi<1.1.0,>=0.8.1 in /usr/local/lib/python3.7/dist-packages (from spacy<3.1.4,>=3.0.1->medcat) (0.8.2)\n",
      "Collecting catalogue<2.1.0,>=2.0.6\n",
      "  Downloading catalogue-2.0.6-py3-none-any.whl (17 kB)\n",
      "Requirement already satisfied: cymem<2.1.0,>=2.0.2 in /usr/local/lib/python3.7/dist-packages (from spacy<3.1.4,>=3.0.1->medcat) (2.0.5)\n",
      "Requirement already satisfied: setuptools in /usr/local/lib/python3.7/dist-packages (from spacy<3.1.4,>=3.0.1->medcat) (57.4.0)\n",
      "Collecting thinc<8.1.0,>=8.0.9\n",
      "  Downloading thinc-8.0.11-cp37-cp37m-manylinux_2_17_x86_64.manylinux2014_x86_64.whl (627 kB)\n",
      "\u001b[K     |████████████████████████████████| 627 kB 70.1 MB/s \n",
      "\u001b[?25hRequirement already satisfied: murmurhash<1.1.0,>=0.28.0 in /usr/local/lib/python3.7/dist-packages (from spacy<3.1.4,>=3.0.1->medcat) (1.0.5)\n",
      "Collecting pathy>=0.3.5\n",
      "  Downloading pathy-0.6.0-py3-none-any.whl (42 kB)\n",
      "\u001b[K     |████████████████████████████████| 42 kB 1.6 MB/s \n",
      "\u001b[?25hCollecting typer<0.5.0,>=0.3.0\n",
      "  Downloading typer-0.4.0-py3-none-any.whl (27 kB)\n",
      "Collecting spacy-legacy<3.1.0,>=3.0.8\n",
      "  Downloading spacy_legacy-3.0.8-py2.py3-none-any.whl (14 kB)\n",
      "Requirement already satisfied: zipp>=0.5 in /usr/local/lib/python3.7/dist-packages (from catalogue<2.1.0,>=2.0.6->spacy<3.1.4,>=3.0.1->medcat) (3.6.0)\n",
      "Collecting sacremoses\n",
      "  Downloading sacremoses-0.0.46-py3-none-any.whl (895 kB)\n",
      "\u001b[K     |████████████████████████████████| 895 kB 52.7 MB/s \n",
      "\u001b[?25hCollecting pyyaml\n",
      "  Downloading PyYAML-6.0-cp37-cp37m-manylinux_2_5_x86_64.manylinux1_x86_64.manylinux_2_12_x86_64.manylinux2010_x86_64.whl (596 kB)\n",
      "\u001b[K     |████████████████████████████████| 596 kB 56.4 MB/s \n",
      "\u001b[?25hRequirement already satisfied: regex!=2019.12.17 in /usr/local/lib/python3.7/dist-packages (from transformers~=4.11.3->medcat) (2019.12.20)\n",
      "Collecting tokenizers<0.11,>=0.10.1\n",
      "  Downloading tokenizers-0.10.3-cp37-cp37m-manylinux_2_5_x86_64.manylinux1_x86_64.manylinux_2_12_x86_64.manylinux2010_x86_64.whl (3.3 MB)\n",
      "\u001b[K     |████████████████████████████████| 3.3 MB 44.7 MB/s \n",
      "\u001b[?25hRequirement already satisfied: click<9.0.0,>=7.1.1 in /usr/local/lib/python3.7/dist-packages (from typer<0.5.0,>=0.3.0->spacy<3.1.4,>=3.0.1->medcat) (7.1.2)\n",
      "Collecting yarl<2.0,>=1.0\n",
      "  Downloading yarl-1.7.0-cp37-cp37m-manylinux_2_5_x86_64.manylinux1_x86_64.manylinux_2_12_x86_64.manylinux2010_x86_64.whl (271 kB)\n",
      "\u001b[K     |████████████████████████████████| 271 kB 63.1 MB/s \n",
      "\u001b[?25hCollecting async-timeout<4.0,>=3.0\n",
      "  Downloading async_timeout-3.0.1-py3-none-any.whl (8.2 kB)\n",
      "Collecting multidict<7.0,>=4.5\n",
      "  Downloading multidict-5.2.0-cp37-cp37m-manylinux_2_5_x86_64.manylinux1_x86_64.manylinux_2_12_x86_64.manylinux2010_x86_64.whl (160 kB)\n",
      "\u001b[K     |████████████████████████████████| 160 kB 59.5 MB/s \n",
      "\u001b[?25hRequirement already satisfied: attrs>=17.3.0 in /usr/local/lib/python3.7/dist-packages (from aiohttp->datasets~=1.14.0->medcat) (21.2.0)\n",
      "Requirement already satisfied: MarkupSafe>=0.23 in /usr/local/lib/python3.7/dist-packages (from jinja2->spacy<3.1.4,>=3.0.1->medcat) (2.0.1)\n",
      "Requirement already satisfied: joblib in /usr/local/lib/python3.7/dist-packages (from sacremoses->transformers~=4.11.3->medcat) (1.0.1)\n",
      "Installing collected packages: multidict, yarl, catalogue, async-timeout, typer, srsly, scipy, pyyaml, pydantic, fsspec, aiohttp, xxhash, tokenizers, thinc, spacy-legacy, sacremoses, pathy, huggingface-hub, transformers, spacy, jsonpickle, gensim, elasticsearch, datasets, medcat\n",
      "  Attempting uninstall: catalogue\n",
      "    Found existing installation: catalogue 1.0.0\n",
      "    Uninstalling catalogue-1.0.0:\n",
      "      Successfully uninstalled catalogue-1.0.0\n",
      "  Attempting uninstall: srsly\n",
      "    Found existing installation: srsly 1.0.5\n",
      "    Uninstalling srsly-1.0.5:\n",
      "      Successfully uninstalled srsly-1.0.5\n",
      "  Attempting uninstall: scipy\n",
      "    Found existing installation: scipy 1.4.1\n",
      "    Uninstalling scipy-1.4.1:\n",
      "      Successfully uninstalled scipy-1.4.1\n",
      "  Attempting uninstall: pyyaml\n",
      "    Found existing installation: PyYAML 3.13\n",
      "    Uninstalling PyYAML-3.13:\n",
      "      Successfully uninstalled PyYAML-3.13\n",
      "  Attempting uninstall: thinc\n",
      "    Found existing installation: thinc 7.4.0\n",
      "    Uninstalling thinc-7.4.0:\n",
      "      Successfully uninstalled thinc-7.4.0\n",
      "  Attempting uninstall: spacy\n",
      "    Found existing installation: spacy 2.2.4\n",
      "    Uninstalling spacy-2.2.4:\n",
      "      Successfully uninstalled spacy-2.2.4\n",
      "  Attempting uninstall: gensim\n",
      "    Found existing installation: gensim 3.6.0\n",
      "    Uninstalling gensim-3.6.0:\n",
      "      Successfully uninstalled gensim-3.6.0\n",
      "\u001b[31mERROR: pip's dependency resolver does not currently take into account all the packages that are installed. This behaviour is the source of the following dependency conflicts.\n",
      "albumentations 0.1.12 requires imgaug<0.2.7,>=0.2.5, but you have imgaug 0.2.9 which is incompatible.\u001b[0m\n",
      "Successfully installed aiohttp-3.7.4.post0 async-timeout-3.0.1 catalogue-2.0.6 datasets-1.14.0 elasticsearch-7.15.1 fsspec-2021.10.1 gensim-4.1.2 huggingface-hub-0.0.19 jsonpickle-2.0.0 medcat-1.2.3 multidict-5.2.0 pathy-0.6.0 pydantic-1.8.2 pyyaml-6.0 sacremoses-0.0.46 scipy-1.7.1 spacy-3.1.3 spacy-legacy-3.0.8 srsly-2.4.2 thinc-8.0.11 tokenizers-0.10.3 transformers-4.11.3 typer-0.4.0 xxhash-2.0.2 yarl-1.7.0\n",
      "Collecting en-core-web-md==3.1.0\n",
      "  Downloading https://github.com/explosion/spacy-models/releases/download/en_core_web_md-3.1.0/en_core_web_md-3.1.0-py3-none-any.whl (45.4 MB)\n",
      "\u001b[K     |████████████████████████████████| 45.4 MB 17 kB/s \n",
      "\u001b[?25hRequirement already satisfied: spacy<3.2.0,>=3.1.0 in /usr/local/lib/python3.7/dist-packages (from en-core-web-md==3.1.0) (3.1.3)\n",
      "Requirement already satisfied: pathy>=0.3.5 in /usr/local/lib/python3.7/dist-packages (from spacy<3.2.0,>=3.1.0->en-core-web-md==3.1.0) (0.6.0)\n",
      "Requirement already satisfied: spacy-legacy<3.1.0,>=3.0.8 in /usr/local/lib/python3.7/dist-packages (from spacy<3.2.0,>=3.1.0->en-core-web-md==3.1.0) (3.0.8)\n",
      "Requirement already satisfied: numpy>=1.15.0 in /usr/local/lib/python3.7/dist-packages (from spacy<3.2.0,>=3.1.0->en-core-web-md==3.1.0) (1.19.5)\n",
      "Requirement already satisfied: packaging>=20.0 in /usr/local/lib/python3.7/dist-packages (from spacy<3.2.0,>=3.1.0->en-core-web-md==3.1.0) (21.0)\n",
      "Requirement already satisfied: typer<0.5.0,>=0.3.0 in /usr/local/lib/python3.7/dist-packages (from spacy<3.2.0,>=3.1.0->en-core-web-md==3.1.0) (0.4.0)\n",
      "Requirement already satisfied: typing-extensions<4.0.0.0,>=3.7.4 in /usr/local/lib/python3.7/dist-packages (from spacy<3.2.0,>=3.1.0->en-core-web-md==3.1.0) (3.7.4.3)\n",
      "Requirement already satisfied: thinc<8.1.0,>=8.0.9 in /usr/local/lib/python3.7/dist-packages (from spacy<3.2.0,>=3.1.0->en-core-web-md==3.1.0) (8.0.11)\n",
      "Requirement already satisfied: catalogue<2.1.0,>=2.0.6 in /usr/local/lib/python3.7/dist-packages (from spacy<3.2.0,>=3.1.0->en-core-web-md==3.1.0) (2.0.6)\n",
      "Requirement already satisfied: jinja2 in /usr/local/lib/python3.7/dist-packages (from spacy<3.2.0,>=3.1.0->en-core-web-md==3.1.0) (2.11.3)\n",
      "Requirement already satisfied: setuptools in /usr/local/lib/python3.7/dist-packages (from spacy<3.2.0,>=3.1.0->en-core-web-md==3.1.0) (57.4.0)\n",
      "Requirement already satisfied: pydantic!=1.8,!=1.8.1,<1.9.0,>=1.7.4 in /usr/local/lib/python3.7/dist-packages (from spacy<3.2.0,>=3.1.0->en-core-web-md==3.1.0) (1.8.2)\n",
      "Requirement already satisfied: murmurhash<1.1.0,>=0.28.0 in /usr/local/lib/python3.7/dist-packages (from spacy<3.2.0,>=3.1.0->en-core-web-md==3.1.0) (1.0.5)\n",
      "Requirement already satisfied: srsly<3.0.0,>=2.4.1 in /usr/local/lib/python3.7/dist-packages (from spacy<3.2.0,>=3.1.0->en-core-web-md==3.1.0) (2.4.2)\n",
      "Requirement already satisfied: preshed<3.1.0,>=3.0.2 in /usr/local/lib/python3.7/dist-packages (from spacy<3.2.0,>=3.1.0->en-core-web-md==3.1.0) (3.0.5)\n",
      "Requirement already satisfied: tqdm<5.0.0,>=4.38.0 in /usr/local/lib/python3.7/dist-packages (from spacy<3.2.0,>=3.1.0->en-core-web-md==3.1.0) (4.62.3)\n",
      "Requirement already satisfied: cymem<2.1.0,>=2.0.2 in /usr/local/lib/python3.7/dist-packages (from spacy<3.2.0,>=3.1.0->en-core-web-md==3.1.0) (2.0.5)\n",
      "Requirement already satisfied: requests<3.0.0,>=2.13.0 in /usr/local/lib/python3.7/dist-packages (from spacy<3.2.0,>=3.1.0->en-core-web-md==3.1.0) (2.23.0)\n",
      "Requirement already satisfied: blis<0.8.0,>=0.4.0 in /usr/local/lib/python3.7/dist-packages (from spacy<3.2.0,>=3.1.0->en-core-web-md==3.1.0) (0.4.1)\n",
      "Requirement already satisfied: wasabi<1.1.0,>=0.8.1 in /usr/local/lib/python3.7/dist-packages (from spacy<3.2.0,>=3.1.0->en-core-web-md==3.1.0) (0.8.2)\n",
      "Requirement already satisfied: zipp>=0.5 in /usr/local/lib/python3.7/dist-packages (from catalogue<2.1.0,>=2.0.6->spacy<3.2.0,>=3.1.0->en-core-web-md==3.1.0) (3.6.0)\n",
      "Requirement already satisfied: pyparsing>=2.0.2 in /usr/local/lib/python3.7/dist-packages (from packaging>=20.0->spacy<3.2.0,>=3.1.0->en-core-web-md==3.1.0) (2.4.7)\n",
      "Requirement already satisfied: smart-open<6.0.0,>=5.0.0 in /usr/local/lib/python3.7/dist-packages (from pathy>=0.3.5->spacy<3.2.0,>=3.1.0->en-core-web-md==3.1.0) (5.2.1)\n",
      "Requirement already satisfied: chardet<4,>=3.0.2 in /usr/local/lib/python3.7/dist-packages (from requests<3.0.0,>=2.13.0->spacy<3.2.0,>=3.1.0->en-core-web-md==3.1.0) (3.0.4)\n",
      "Requirement already satisfied: idna<3,>=2.5 in /usr/local/lib/python3.7/dist-packages (from requests<3.0.0,>=2.13.0->spacy<3.2.0,>=3.1.0->en-core-web-md==3.1.0) (2.10)\n",
      "Requirement already satisfied: urllib3!=1.25.0,!=1.25.1,<1.26,>=1.21.1 in /usr/local/lib/python3.7/dist-packages (from requests<3.0.0,>=2.13.0->spacy<3.2.0,>=3.1.0->en-core-web-md==3.1.0) (1.24.3)\n",
      "Requirement already satisfied: certifi>=2017.4.17 in /usr/local/lib/python3.7/dist-packages (from requests<3.0.0,>=2.13.0->spacy<3.2.0,>=3.1.0->en-core-web-md==3.1.0) (2021.5.30)\n",
      "Requirement already satisfied: click<9.0.0,>=7.1.1 in /usr/local/lib/python3.7/dist-packages (from typer<0.5.0,>=0.3.0->spacy<3.2.0,>=3.1.0->en-core-web-md==3.1.0) (7.1.2)\n",
      "Requirement already satisfied: MarkupSafe>=0.23 in /usr/local/lib/python3.7/dist-packages (from jinja2->spacy<3.2.0,>=3.1.0->en-core-web-md==3.1.0) (2.0.1)\n",
      "Installing collected packages: en-core-web-md\n",
      "Successfully installed en-core-web-md-3.1.0\n",
      "\u001b[38;5;2m✔ Download and installation successful\u001b[0m\n",
      "You can now load the package via spacy.load('en_core_web_md')\n"
     ]
    }
   ],
   "source": [
    "# Install medcat\n",
    "! pip install medcat==1.2.3\n",
    "# Get the spacy model\n",
    "! python -m spacy download en_core_web_md"
   ]
  },
  {
   "cell_type": "markdown",
   "metadata": {
    "id": "-K9kAaWzJWJa"
   },
   "source": [
    "**Restart the runtime if on colab, sometimes necessary after installing models**"
   ]
  },
  {
   "cell_type": "code",
   "execution_count": null,
   "metadata": {
    "id": "rkTLkCS-8h7A"
   },
   "outputs": [],
   "source": [
    "import pandas as pd\n",
    "import numpy as np\n",
    "import seaborn as sns\n",
    "from matplotlib import pyplot as plt\n",
    "import json \n",
    "\n",
    "from medcat.cat import CAT\n",
    "from medcat.cdb import CDB\n",
    "from medcat.config import Config\n",
    "from medcat.vocab import Vocab\n",
    "from medcat.meta_cat import MetaCAT\n",
    "from medcat.config_meta_cat import ConfigMetaCAT\n",
    "from medcat.preprocessing.tokenizers import TokenizerWrapperBPE, TokenizerWrapperBERT\n",
    "from tokenizers import ByteLevelBPETokenizer\n"
   ]
  },
  {
   "cell_type": "code",
   "execution_count": null,
   "metadata": {
    "id": "QEPH7cAF8iEr"
   },
   "outputs": [],
   "source": [
    "DATA_DIR = \"./data/\"\n",
    "vocab_path = DATA_DIR + \"vocab.dat\"\n",
    "cdb_path = DATA_DIR + \"cdb-medmen-v1_2.dat\""
   ]
  },
  {
   "cell_type": "code",
   "execution_count": null,
   "metadata": {
    "colab": {
     "base_uri": "https://localhost:8080/"
    },
    "id": "Sj29auXV8iPZ",
    "outputId": "6fde77f1-abd1-4e3a-ba40-faba07878fad"
   },
   "outputs": [
    {
     "name": "stdout",
     "output_type": "stream",
     "text": [
      "--2021-10-25 13:08:19--  https://raw.githubusercontent.com/CogStack/MedCAT/master/tutorial/data/MedCAT_Export.json\n",
      "Resolving raw.githubusercontent.com (raw.githubusercontent.com)... 185.199.109.133, 185.199.108.133, 185.199.110.133, ...\n",
      "Connecting to raw.githubusercontent.com (raw.githubusercontent.com)|185.199.109.133|:443... connected.\n",
      "HTTP request sent, awaiting response... 200 OK\n",
      "Length: 272538 (266K) [text/plain]\n",
      "Saving to: ‘./data/MedCAT_Export.json’\n",
      "\n",
      "MedCAT_Export.json  100%[===================>] 266.15K  --.-KB/s    in 0.02s   \n",
      "\n",
      "2021-10-25 13:08:20 (13.0 MB/s) - ‘./data/MedCAT_Export.json’ saved [272538/272538]\n",
      "\n",
      "--2021-10-25 13:08:20--  https://medcat.rosalind.kcl.ac.uk/media/mc_status.zip\n",
      "Resolving medcat.rosalind.kcl.ac.uk (medcat.rosalind.kcl.ac.uk)... 193.61.202.225\n",
      "Connecting to medcat.rosalind.kcl.ac.uk (medcat.rosalind.kcl.ac.uk)|193.61.202.225|:443... connected.\n",
      "HTTP request sent, awaiting response... 200 OK\n",
      "Length: 37947480 (36M) [application/zip]\n",
      "Saving to: ‘./data/mc_status.zip’\n",
      "\n",
      "mc_status.zip       100%[===================>]  36.19M  13.1MB/s    in 2.8s    \n",
      "\n",
      "2021-10-25 13:08:24 (13.1 MB/s) - ‘./data/mc_status.zip’ saved [37947480/37947480]\n",
      "\n",
      "--2021-10-25 13:08:24--  https://medcat.rosalind.kcl.ac.uk/media/vocab.dat\n",
      "Resolving medcat.rosalind.kcl.ac.uk (medcat.rosalind.kcl.ac.uk)... 193.61.202.225\n",
      "Connecting to medcat.rosalind.kcl.ac.uk (medcat.rosalind.kcl.ac.uk)|193.61.202.225|:443... connected.\n",
      "HTTP request sent, awaiting response... 200 OK\n",
      "Length: 274445907 (262M) [application/octet-stream]\n",
      "Saving to: ‘./data/vocab.dat’\n",
      "\n",
      "vocab.dat           100%[===================>] 261.73M  19.3MB/s    in 14s     \n",
      "\n",
      "2021-10-25 13:08:39 (18.1 MB/s) - ‘./data/vocab.dat’ saved [274445907/274445907]\n",
      "\n",
      "--2021-10-25 13:08:39--  https://medcat.rosalind.kcl.ac.uk/media/cdb-medmen-v1_2.dat\n",
      "Resolving medcat.rosalind.kcl.ac.uk (medcat.rosalind.kcl.ac.uk)... 193.61.202.225\n",
      "Connecting to medcat.rosalind.kcl.ac.uk (medcat.rosalind.kcl.ac.uk)|193.61.202.225|:443... connected.\n",
      "HTTP request sent, awaiting response... 200 OK\n",
      "Length: 356502941 (340M) [application/octet-stream]\n",
      "Saving to: ‘./data/cdb-medmen-v1_2.dat’\n",
      "\n",
      "cdb-medmen-v1_2.dat 100%[===================>] 339.99M  19.4MB/s    in 18s     \n",
      "\n",
      "2021-10-25 13:08:58 (18.4 MB/s) - ‘./data/cdb-medmen-v1_2.dat’ saved [356502941/356502941]\n",
      "\n"
     ]
    }
   ],
   "source": [
    "# Download the models and required data\n",
    "!wget https://raw.githubusercontent.com/CogStack/MedCAT/master/tutorial/data/MedCAT_Export.json -P ./data/\n",
    "# You can also use the models created in Part 4.1 of the Tutorial\n",
    "!wget https://medcat.rosalind.kcl.ac.uk/media/mc_status.zip -P ./data/\n",
    "\n",
    "# Get MedCAT models components (Alternatively you can use a previously created MedCAT model packs)\n",
    "!wget https://medcat.rosalind.kcl.ac.uk/media/vocab.dat -P ./data/\n",
    "!wget https://medcat.rosalind.kcl.ac.uk/media/cdb-medmen-v1_2.dat -P ./data/"
   ]
  },
  {
   "cell_type": "markdown",
   "metadata": {
    "id": "8v3KJC2k_ZS-"
   },
   "source": [
    "## MedCATtrainer Export"
   ]
  },
  {
   "cell_type": "code",
   "execution_count": null,
   "metadata": {
    "id": "Fb10uxr4_eTl"
   },
   "outputs": [],
   "source": [
    "#@title\n",
    "data = json.load(open(DATA_DIR + \"MedCAT_Export.json\"))"
   ]
  },
  {
   "cell_type": "code",
   "execution_count": null,
   "metadata": {
    "colab": {
     "base_uri": "https://localhost:8080/"
    },
    "id": "6u6DacUh_efl",
    "outputId": "60c3e4e0-8a47-40ca-9610-3135802fa23d"
   },
   "outputs": [
    {
     "name": "stdout",
     "output_type": "stream",
     "text": [
      "dict_keys(['projects'])\n"
     ]
    }
   ],
   "source": [
    "#@title\n",
    "print(data.keys())"
   ]
  },
  {
   "cell_type": "code",
   "execution_count": null,
   "metadata": {
    "colab": {
     "base_uri": "https://localhost:8080/"
    },
    "id": "iYrNUm60AB4_",
    "outputId": "936c8460-55c6-4006-8d98-d4920254caca"
   },
   "outputs": [
    {
     "data": {
      "text/plain": [
       "dict_keys(['name', 'id', 'cuis', 'tuis', 'documents'])"
      ]
     },
     "execution_count": 8,
     "metadata": {},
     "output_type": "execute_result"
    }
   ],
   "source": [
    "#@title\n",
    "data['projects'][0].keys()"
   ]
  },
  {
   "cell_type": "code",
   "execution_count": null,
   "metadata": {
    "colab": {
     "base_uri": "https://localhost:8080/"
    },
    "id": "3Hh8nskZAFBw",
    "outputId": "9c84ff67-68c1-4600-91f3-28467bdbe352"
   },
   "outputs": [
    {
     "data": {
      "text/plain": [
       "dict_keys(['id', 'name', 'text', 'last_modified', 'annotations'])"
      ]
     },
     "execution_count": 9,
     "metadata": {},
     "output_type": "execute_result"
    }
   ],
   "source": [
    "#@title\n",
    "data['projects'][0]['documents'][0].keys()"
   ]
  },
  {
   "cell_type": "code",
   "execution_count": null,
   "metadata": {
    "colab": {
     "base_uri": "https://localhost:8080/"
    },
    "id": "l2YFT3XcAI_b",
    "outputId": "92e5c95b-48b2-42b4-dbd9-8950889fb8b0"
   },
   "outputs": [
    {
     "data": {
      "text/plain": [
       "dict_keys(['id', 'user', 'cui', 'value', 'start', 'end', 'validated', 'correct', 'deleted', 'alternative', 'killed', 'last_modified', 'manually_created', 'acc', 'meta_anns'])"
      ]
     },
     "execution_count": 10,
     "metadata": {},
     "output_type": "execute_result"
    }
   ],
   "source": [
    "#@title\n",
    "data['projects'][0]['documents'][0]['annotations'][0].keys()"
   ]
  },
  {
   "cell_type": "code",
   "execution_count": null,
   "metadata": {
    "colab": {
     "base_uri": "https://localhost:8080/"
    },
    "id": "E_pqC6JIBIZe",
    "outputId": "a76a7857-cd94-4130-89e7-a6da6bc10441"
   },
   "outputs": [
    {
     "data": {
      "text/plain": [
       "dict_keys(['name', 'value', 'acc', 'validated'])"
      ]
     },
     "execution_count": 11,
     "metadata": {},
     "output_type": "execute_result"
    }
   ],
   "source": [
    "#@title\n",
    "data['projects'][0]['documents'][0]['annotations'][0]['meta_anns'][0].keys()"
   ]
  },
  {
   "cell_type": "markdown",
   "metadata": {
    "id": "I7OPn3rU_Aj2"
   },
   "source": [
    "##Fine-tuning the NER+L model"
   ]
  },
  {
   "cell_type": "markdown",
   "metadata": {
    "id": "I29GH4oUC8Xg"
   },
   "source": [
    "First we load the existing MedCAT models that we will fine-tune.\n",
    "\n"
   ]
  },
  {
   "cell_type": "code",
   "execution_count": null,
   "metadata": {
    "id": "X3UTLqpJB7Z8"
   },
   "outputs": [],
   "source": [
    "# Create and load the CDB (Concept Database)\n",
    "cdb = CDB.load(cdb_path)\n",
    "\n",
    "# Create and load the Vocabulary\n",
    "vocab = Vocab.load(vocab_path)\n",
    "\n",
    "# Setup config\n",
    "config = Config()\n",
    "config.general['spacy_model'] = 'en_core_web_md'\n",
    "\n",
    "# Create CAT - the main class from medcat used for concept annotation\n",
    "cat = CAT(cdb=cdb, config=config, vocab=vocab)"
   ]
  },
  {
   "cell_type": "markdown",
   "metadata": {
    "id": "OTR2bcSZDP5V"
   },
   "source": [
    "To fine-tune the existing models we use the `train_supervised()` method from MedCAT. The method has the following options:\n",
    "\n",
    "\n",
    "---\n",
    "\n",
    "\n",
    "\n",
    "`data_path` - Path to the JSON file exported from MedCATtrainer\n",
    "\n",
    "`reset_cui_count` - Each cui has an internal counter that is used for weight decay, this will reset it.\n",
    "\n",
    "`nepochs` - Numeber of epochs\n",
    "\n",
    "`reset_cui_count` - Used for training with weight_decay (annealing). Each concept has a count that is there from the beginning of the CDB, that count is used for annealing. Resetting the count will significantly increase the training impact. This will reset the count only for concepts that exist in the the training data.\n",
    "\n",
    "`print_stats` - Print statistics during training (F1/P/R)\n",
    "\n",
    "`test_set` - Provide another file for testing\n",
    "\n",
    "`use_filters` - During the training do you want to set the cui/tui filters from the medcattrainer project configuration. \n",
    "\n",
    "`never_terminate` - If True no termination of concepts will be applied\n",
    "          \n",
    "`terminate_last` - If true, concept termination will be done after all training.\n",
    "\n",
    "`use_groups` - If True concepts that have groups will be combined and stats will be reported on groups.\n",
    "\n",
    "`use_overlaps` - Allow overlapping entites, nearly always False as it is very difficult to annotate overlapping entites.\n",
    "            \n",
    "`use_cui_doc_limit` - If True the metrics for a CUI will be only calculated if that CUI appears in a document.\n",
    "            \n",
    "`train_from_false_positives` - If True it will use false positive examples detected by medcat and train from them as negative examples.\n",
    "\n"
   ]
  },
  {
   "cell_type": "code",
   "execution_count": null,
   "metadata": {
    "id": "LSwFORnCB7jZ"
   },
   "outputs": [],
   "source": [
    "cat.train_supervised(data_path=DATA_DIR + \"MedCAT_Export.json\", \n",
    "                     nepochs=1,\n",
    "                     reset_cui_count=False,\n",
    "                     print_stats=True, \n",
    "                     use_filters=True) "
   ]
  },
  {
   "cell_type": "code",
   "execution_count": null,
   "metadata": {
    "colab": {
     "base_uri": "https://localhost:8080/",
     "height": 931,
     "referenced_widgets": [
      "762c53cab7634d089f8623942d27de35",
      "10c74428299648f8a1c1f1ac2981fda5",
      "19bffd0e227f4272b47b789e3ef955e0",
      "c5ce44731a1d44519fd4814e5c59e31c",
      "74db9e7724694fa78ff589222172949b",
      "408b153dc0f648a2a15927dbf7748e3d",
      "a634e3a1b7734d42bd442b207a259633",
      "bada64e3ab6948f1ab1ff0a3c7951699",
      "a9da7f112fa54dc7bc7dd556dcf8b4d9",
      "2209d7930d27492e81a8828504b7e6f7",
      "f0916cafb02c4642806f6dfaeada3f5f",
      "1a63dae2c997472e8d97668360341779",
      "7b9c3d2e96424c8284f051bab4209307",
      "bf694a43169243f9a660d5e04311b36f",
      "ca2f08ba373f4e75a9079fbd8aa40843",
      "c8a956007a784a67baac301fb4fe1f25",
      "ae1fd688662e4a8082c08d780a820d7e",
      "9fd47f5cbd474f8d825e87b8cd820764",
      "a452547ac5d942748eff0d3022e5c54a",
      "139129db6c9b4c509ed214de4c4bdea7",
      "33ab6c2d9ffe43b3b87eed14397c3ca0",
      "4cec4f118de7498cb34ae8502d6ca5ab"
     ]
    },
    "id": "CuhAE0dmRvPH",
    "outputId": "49c63c6a-37fb-4824-8683-883e6880054a"
   },
   "outputs": [
    {
     "data": {
      "application/vnd.jupyter.widget-view+json": {
       "model_id": "762c53cab7634d089f8623942d27de35",
       "version_major": 2,
       "version_minor": 0
      },
      "text/plain": [
       "Stats project:   0%|          | 0/1 [00:00<?, ?it/s]"
      ]
     },
     "metadata": {},
     "output_type": "display_data"
    },
    {
     "data": {
      "application/vnd.jupyter.widget-view+json": {
       "model_id": "1a63dae2c997472e8d97668360341779",
       "version_major": 2,
       "version_minor": 0
      },
      "text/plain": [
       "Stats document:   0%|          | 0/27 [00:00<?, ?it/s]"
      ]
     },
     "metadata": {},
     "output_type": "display_data"
    },
    {
     "name": "stdout",
     "output_type": "stream",
     "text": [
      "Epoch: 0, Prec: 0.0678230364451374, Rec: 0.8635235732009926, F1: 0.12576797976147452\n",
      "\n",
      "Docs with false positives: 1070; 899; 1737; 605; 611; 716; 1734; 1687; 1694; 323\n",
      "\n",
      "Docs with false negatives: 1070; 1737; 611; 716; 1694; 323; 1383; 73; 688; 496\n",
      "\n",
      "\n",
      "\n",
      "False Positives\n",
      "\n",
      "Patients                                                               - C0030705             -        199\n",
      "Normal                                                                 - C0205307             -         71\n",
      "Medical History                                                        - C0262926             -         59\n",
      "Daily                                                                  - C0332173             -         47\n",
      "Bilateral                                                              - C0238767             -         43\n",
      "year                                                                   - C0439234             -         41\n",
      "Right                                                                  - C0205090             -         36\n",
      "Time                                                                   - C0040223             -         27\n",
      "Pain                                                                   - C0030193             -         27\n",
      "Physical Examination                                                   - C0031809             -         27\n",
      "\n",
      "\n",
      "False Negatives\n",
      "\n",
      "Diabetes Mellitus, Non-Insulin-Dependent                               - C0011860             -          9\n",
      "Diabetes Mellitus                                                      - C0011849             -          7\n",
      "disorder lesions skin                                                  - C0037284             -          4\n",
      "Pulmonary Embolism                                                     - C0034065             -          3\n",
      "Coronary heart disease                                                 - C0010068             -          2\n",
      "Arthritis                                                              - C0003864             -          2\n",
      "C1561826                                                               - C1561826             -          2\n",
      "Drug abuse                                                             - C0013146             -          2\n",
      "Syndrome                                                               - C0039082             -          2\n",
      "Pseudomonas aeruginosa infection                                       - C0854135             -          2\n",
      "\n",
      "\n",
      "True Positives\n",
      "\n",
      "Hypertensive disease                                                   - C0020538             -         43\n",
      "disorder lesions skin                                                  - C0037284             -         17\n",
      "Hyperlipidemia                                                         - C0020473             -         12\n",
      "Coronary Arteriosclerosis                                              - C0010054             -         10\n",
      "Lymphadenopathy                                                        - C0497156             -         10\n",
      "Mental Depression                                                      - C0011570             -         10\n",
      "Erythema                                                               - C0041834             -          9\n",
      "Congestive heart failure                                               - C0018802             -          8\n",
      "Chronic Obstructive Airway Disease                                     - C0024117             -          7\n",
      "Renal Insufficiency                                                    - C1565489             -          7\n",
      "**************************************************************************************************************\n",
      "\n"
     ]
    }
   ],
   "source": [
    "# If we want to know the F1, P, R for each cui, we can call the stats method\n",
    "data = json.load(open(DATA_DIR + \"MedCAT_Export.json\"))\n",
    "fps, fns, tps, cui_prec, cui_rec, cui_f1, cui_counts, examples = cat._print_stats(data, extra_cui_filter=True)"
   ]
  },
  {
   "cell_type": "code",
   "execution_count": null,
   "metadata": {
    "colab": {
     "base_uri": "https://localhost:8080/"
    },
    "id": "hqArsu2--hzX",
    "outputId": "cb8cfb26-33b8-4571-ec39-45c7bbf51c63"
   },
   "outputs": [
    {
     "name": "stdout",
     "output_type": "stream",
     "text": [
      "0.945054945054945 0.8958333333333334 1.0\n"
     ]
    }
   ],
   "source": [
    "# Now we can check F1/P/R for a cui using\n",
    "cui = \"C0020538\" # Hypertension\n",
    "print(cui_f1[cui], cui_prec[cui], cui_rec[cui])"
   ]
  },
  {
   "cell_type": "code",
   "execution_count": null,
   "metadata": {
    "colab": {
     "base_uri": "https://localhost:8080/"
    },
    "id": "WqN1tGZH2Bux",
    "outputId": "991961ba-1d46-49b0-9d77-32902f21ff8d"
   },
   "outputs": [
    {
     "data": {
      "text/plain": [
       "[{'acc': 1,\n",
       "  'cui': 'C0010068',\n",
       "  'document inedex': 1,\n",
       "  'project index': 0,\n",
       "  'source value': 'coronary artery disease',\n",
       "  'text': ' appendectomy, oophorectomy.,FAMILY HISTORY: , Positive for coronary artery disease in her father and brother in their 40s.,SOCIAL HISTORY: , S'},\n",
       " {'acc': 1,\n",
       "  'cui': 'C0010068',\n",
       "  'document inedex': 25,\n",
       "  'project index': 0,\n",
       "  'source value': 'coronary artery disease',\n",
       "  'text': 'on fraction of 20%-25% in December 2005, COPD, mild diffuse coronary artery disease, and renal insufficiency.,ALLERGIES:, NO KNOWN DRUG ALLERGI'}]"
      ]
     },
     "execution_count": 16,
     "metadata": {},
     "output_type": "execute_result"
    }
   ],
   "source": [
    "# inspect fn, fp examples for specific CUIs of interest...\n",
    "examples['fn']['C0010068']"
   ]
  },
  {
   "cell_type": "code",
   "execution_count": null,
   "metadata": {
    "id": "Iu5q5VBe1I26"
   },
   "outputs": [],
   "source": [
    "# annotations inside first projects...\n",
    "[anno for d in data['projects'][0]['documents'] for anno in d['annotations']][0:5]"
   ]
  },
  {
   "cell_type": "markdown",
   "metadata": {
    "id": "NAjFXkNHB7z-"
   },
   "source": [
    "##MetaAnnotations\n",
    "\n",
    "During the annotation process we have created only one meta-annotation called \"Status\". Here we are going to train a BiLSTM to detect that meta-annotation."
   ]
  },
  {
   "cell_type": "markdown",
   "metadata": {
    "id": "duJXZbHsDqBP"
   },
   "source": [
    "### MetaCAT\n",
    "\n",
    "The class we are going to use to train meta-annotations is called MetaCAT. As input it takes:\n",
    "\n",
    "`tokenizer` - A BBPE tokenizer from [huggingface](https://github.com/huggingface/tokenizers)\n",
    "\n",
    "`embeddings` - The precalculated embeddings for the tokens produced by the tokenizer. Can be anything from Word2Vec to BERT. This is a numpy matrix, or python list of embeddings. \n",
    "\n",
    "`cntx_left` - Size of context from the left side of the entity that will be taken into account.\n",
    "\n",
    "`cntx_right` - Size of context from the right side of the entity that will be taken into account.\n",
    "\n",
    "`save_dir` - Where do we want to save the trained models.\n",
    "\n",
    "`pad_id` - Padding index in the embeddings matrix. \n",
    "\n",
    "`device` - On which device to run this `cpu` or `cuda`"
   ]
  },
  {
   "cell_type": "code",
   "execution_count": null,
   "metadata": {
    "colab": {
     "base_uri": "https://localhost:8080/"
    },
    "id": "4MNfvfo0Aak5",
    "outputId": "384a1bb9-a2a8-4dff-9849-84057d12ff6b"
   },
   "outputs": [
    {
     "name": "stdout",
     "output_type": "stream",
     "text": [
      "Archive:  data/mc_status.zip\n",
      "   creating: Status/\n",
      "  inflating: Status/model.dat        \n",
      "  inflating: Status/config.json      \n",
      "  inflating: Status/bbpe-vocab.json  \n",
      "  inflating: Status/bbpe-merges.txt  \n"
     ]
    }
   ],
   "source": [
    "!unzip data/mc_status.zip"
   ]
  },
  {
   "cell_type": "code",
   "execution_count": null,
   "metadata": {
    "id": "1BHoTeWax0P8"
   },
   "outputs": [],
   "source": [
    "# Get the required tokenizer (note that we have already downloaded the required models)\n",
    "mc = MetaCAT.load('Status')"
   ]
  },
  {
   "cell_type": "markdown",
   "metadata": {
    "id": "0Ot86LnkurRY"
   },
   "source": [
    "### MetaCAT configuration\n",
    "\n",
    "For a full list of all the configurable parameter. Follow this [link](https://github.com/CogStack/MedCAT/blob/master/medcat/config_meta_cat.py).\n",
    "\n",
    "Some noteable parameters:\n",
    "\n",
    "`category_name` - What is the name of this meta-annotation (same as the name in the MedCATtrainer)\n",
    "\n",
    "`model_name` - for now only `lstm`\n",
    "\n",
    "`lr` - Learning rate\n",
    "\n",
    "`test_size` - Proportion of the test set\n",
    "\n",
    "`bach_size` - Batch size\n",
    "\n",
    "`nepochs` - Number of epochs to run for\n",
    "\n",
    "`lowercase` - Do you want to lowercase the text\n",
    "\n",
    "`class_weights` - Pytorch LSTM parameter for unbalanced classes\n",
    "\n",
    "`ignore_cpos` - The position of the entity will be ignored, do not use this.\n",
    "\n",
    "`auto_save_model` - This will autosave the top performing epoch during the training process"
   ]
  },
  {
   "cell_type": "code",
   "execution_count": null,
   "metadata": {
    "colab": {
     "base_uri": "https://localhost:8080/"
    },
    "id": "cU_-YanPscLw",
    "outputId": "dda273cc-103d-4a62-f694-7a9bbde2d743"
   },
   "outputs": [
    {
     "data": {
      "text/plain": [
       "dict_keys(['model_name', 'num_layers', 'input_size', 'hidden_size', 'dropout', 'num_directions', 'nclasses', 'padding_idx', 'emb_grad', 'ignore_cpos'])"
      ]
     },
     "execution_count": 67,
     "metadata": {},
     "output_type": "execute_result"
    }
   ],
   "source": [
    "# Example of how to change parameters\n",
    "mc.config.model['input_size'] = 768\n",
    "mc.config.model['hidden_size'] = 300\n",
    "\n",
    "mc.config.train['nepochs'] = 55\n",
    "mc.config.train['auto_save_model'] = True"
   ]
  },
  {
   "cell_type": "markdown",
   "metadata": {
    "id": "W3J58QdIFZzZ"
   },
   "source": [
    "### Train MetaCAT\n",
    "To run the training we use the `train` method that allows us to specify:\n",
    "\n",
    "`json_path`: Path to a MedCATtrainer export containing the meta_annotations we want to train for.\n",
    "\n",
    "\n",
    "`save_dir_path`: (optional, defaults to `None`): In case we have auto_save_model (meaning during the training the best model will be saved) we need to set a save path.\n"
   ]
  },
  {
   "cell_type": "code",
   "execution_count": null,
   "metadata": {
    "id": "luZv-DUWnRwF"
   },
   "outputs": [],
   "source": [
    "mc.train(json_path= DATA_DIR+\"MedCAT_Export.json\", save_dir_path='status')\n",
    "# Saving the model this way will only save the model epoch with the best performance"
   ]
  },
  {
   "cell_type": "markdown",
   "metadata": {
    "id": "_wy0I5pTHUKq"
   },
   "source": [
    "We can now save the models using the `save` function. It has only one argument `full_save` if `True` it will also save the embeddings and tokenizers (note that this is slightly redundant, as we no training was done on the embeddings/tokenizers). "
   ]
  },
  {
   "cell_type": "code",
   "execution_count": null,
   "metadata": {
    "id": "jaanqPcrMutt"
   },
   "outputs": [],
   "source": [
    "# Alternative way to save\n",
    "mc.save(\"alternative_status_metamodel\")"
   ]
  },
  {
   "cell_type": "markdown",
   "metadata": {
    "id": "1hWuby0hJH1v"
   },
   "source": [
    "## Test of the whole pipeline"
   ]
  },
  {
   "cell_type": "code",
   "execution_count": null,
   "metadata": {
    "id": "lWsswV9eIABE"
   },
   "outputs": [],
   "source": [
    "# Set filter\n",
    "tui_filter = ['T047'] # Detect only diseases\n",
    "cui_filters = set()\n",
    "for tui in tui_filter:\n",
    "  cui_filters.update(cdb.addl_info['type_id2cuis'][tui])\n",
    "cdb.config.linking['filters']['cuis'] = cui_filters\n",
    "\n",
    "# To add the meta-annotation model to the medcat pipeline\n",
    "cat = CAT(cdb=cdb, config=config, vocab=vocab, meta_cats=[mc])"
   ]
  },
  {
   "cell_type": "code",
   "execution_count": null,
   "metadata": {
    "colab": {
     "base_uri": "https://localhost:8080/"
    },
    "id": "Wpeuh1nLoY6x",
    "outputId": "05cf54a4-68a8-490d-a479-bfe0887054eb"
   },
   "outputs": [
    {
     "data": {
      "text/plain": [
       "True"
      ]
     },
     "execution_count": 35,
     "metadata": {},
     "output_type": "execute_result"
    }
   ],
   "source": [
    "\"C0035078\" in cui_filters"
   ]
  },
  {
   "cell_type": "code",
   "execution_count": null,
   "metadata": {
    "id": "Wpmm9ESKnqj_"
   },
   "outputs": [],
   "source": [
    "text = \"John Doe has epilepsy and hypertention but does not suffer from hypertension\"\n",
    "doc = cat(text)"
   ]
  },
  {
   "cell_type": "code",
   "execution_count": null,
   "metadata": {
    "colab": {
     "base_uri": "https://localhost:8080/"
    },
    "id": "iAzO1MGrIdQ-",
    "outputId": "5160833d-8ae9-4d20-a29c-1ebf1d10deb3"
   },
   "outputs": [
    {
     "name": "stdout",
     "output_type": "stream",
     "text": [
      "Entity: epilepsy\n",
      "Meta Annotations: {'Status': {'value': 'Confirmed', 'confidence': 0.9999226927757263, 'name': 'Status'}}\n",
      "\n",
      "\n",
      "Entity: hypertention\n",
      "Meta Annotations: {'Status': {'value': 'Confirmed', 'confidence': 0.9990968108177185, 'name': 'Status'}}\n",
      "\n",
      "\n",
      "Entity: suffer\n",
      "Meta Annotations: {'Status': {'value': 'Other', 'confidence': 0.9998617172241211, 'name': 'Status'}}\n",
      "\n",
      "\n",
      "Entity: hypertension\n",
      "Meta Annotations: {'Status': {'value': 'Other', 'confidence': 0.9998865127563477, 'name': 'Status'}}\n",
      "\n",
      "\n"
     ]
    }
   ],
   "source": [
    "for ent in doc.ents:\n",
    "  print(\"Entity: \" + ent.text)\n",
    "  print(\"Meta Annotations: \" + str(ent._.meta_anns))\n",
    "  print(\"\\n\")"
   ]
  },
  {
   "cell_type": "markdown",
   "metadata": {
    "id": "bdZR7TnNqj2K"
   },
   "source": [
    "Notice how the medcat metamodel labels John Doe with entities: \"epilepsy\", \"hypertension\" as __\"Confirmed\"__.\n",
    "\n",
    "Whilst \"suffer\" and \"hypertension\" is labelled as __\"Other\"__.\n",
    "\n",
    "This is extremely useful when conducting a context-based extract of concepts from text."
   ]
  },
  {
   "cell_type": "code",
   "execution_count": null,
   "metadata": {
    "id": "WaqfpZNUwedZ"
   },
   "outputs": [],
   "source": []
  },
  {
   "cell_type": "code",
   "execution_count": null,
   "metadata": {
    "id": "PJHlVdYewef6"
   },
   "outputs": [],
   "source": []
  },
  {
   "cell_type": "markdown",
   "metadata": {
    "id": "Qejc7qE4aTYZ"
   },
   "source": [
    "End of Tutorial"
   ]
  }
 ],
 "metadata": {
  "colab": {
   "collapsed_sections": [
    "8v3KJC2k_ZS-"
   ],
   "name": "MedCAT Tutorial  | Part 4.2 - Supervised Training and Meta-annotations.ipynb",
   "provenance": [],
   "toc_visible": true
  },
  "kernelspec": {
   "display_name": "Python 3 (ipykernel)",
   "language": "python",
   "name": "python3"
  },
  "language_info": {
   "codemirror_mode": {
    "name": "ipython",
    "version": 3
   },
   "file_extension": ".py",
   "mimetype": "text/x-python",
   "name": "python",
   "nbconvert_exporter": "python",
   "pygments_lexer": "ipython3",
   "version": "3.8.9"
  },
  "widgets": {
   "application/vnd.jupyter.widget-state+json": {
    "10c74428299648f8a1c1f1ac2981fda5": {
     "model_module": "@jupyter-widgets/base",
     "model_module_version": "1.2.0",
     "model_name": "LayoutModel",
     "state": {
      "_model_module": "@jupyter-widgets/base",
      "_model_module_version": "1.2.0",
      "_model_name": "LayoutModel",
      "_view_count": null,
      "_view_module": "@jupyter-widgets/base",
      "_view_module_version": "1.2.0",
      "_view_name": "LayoutView",
      "align_content": null,
      "align_items": null,
      "align_self": null,
      "border": null,
      "bottom": null,
      "display": null,
      "flex": null,
      "flex_flow": null,
      "grid_area": null,
      "grid_auto_columns": null,
      "grid_auto_flow": null,
      "grid_auto_rows": null,
      "grid_column": null,
      "grid_gap": null,
      "grid_row": null,
      "grid_template_areas": null,
      "grid_template_columns": null,
      "grid_template_rows": null,
      "height": null,
      "justify_content": null,
      "justify_items": null,
      "left": null,
      "margin": null,
      "max_height": null,
      "max_width": null,
      "min_height": null,
      "min_width": null,
      "object_fit": null,
      "object_position": null,
      "order": null,
      "overflow": null,
      "overflow_x": null,
      "overflow_y": null,
      "padding": null,
      "right": null,
      "top": null,
      "visibility": null,
      "width": null
     }
    },
    "139129db6c9b4c509ed214de4c4bdea7": {
     "model_module": "@jupyter-widgets/base",
     "model_module_version": "1.2.0",
     "model_name": "LayoutModel",
     "state": {
      "_model_module": "@jupyter-widgets/base",
      "_model_module_version": "1.2.0",
      "_model_name": "LayoutModel",
      "_view_count": null,
      "_view_module": "@jupyter-widgets/base",
      "_view_module_version": "1.2.0",
      "_view_name": "LayoutView",
      "align_content": null,
      "align_items": null,
      "align_self": null,
      "border": null,
      "bottom": null,
      "display": null,
      "flex": null,
      "flex_flow": null,
      "grid_area": null,
      "grid_auto_columns": null,
      "grid_auto_flow": null,
      "grid_auto_rows": null,
      "grid_column": null,
      "grid_gap": null,
      "grid_row": null,
      "grid_template_areas": null,
      "grid_template_columns": null,
      "grid_template_rows": null,
      "height": null,
      "justify_content": null,
      "justify_items": null,
      "left": null,
      "margin": null,
      "max_height": null,
      "max_width": null,
      "min_height": null,
      "min_width": null,
      "object_fit": null,
      "object_position": null,
      "order": null,
      "overflow": null,
      "overflow_x": null,
      "overflow_y": null,
      "padding": null,
      "right": null,
      "top": null,
      "visibility": null,
      "width": null
     }
    },
    "19bffd0e227f4272b47b789e3ef955e0": {
     "model_module": "@jupyter-widgets/controls",
     "model_module_version": "1.5.0",
     "model_name": "HTMLModel",
     "state": {
      "_dom_classes": [],
      "_model_module": "@jupyter-widgets/controls",
      "_model_module_version": "1.5.0",
      "_model_name": "HTMLModel",
      "_view_count": null,
      "_view_module": "@jupyter-widgets/controls",
      "_view_module_version": "1.5.0",
      "_view_name": "HTMLView",
      "description": "",
      "description_tooltip": null,
      "layout": "IPY_MODEL_a634e3a1b7734d42bd442b207a259633",
      "placeholder": "​",
      "style": "IPY_MODEL_408b153dc0f648a2a15927dbf7748e3d",
      "value": "Stats project: 100%"
     }
    },
    "1a63dae2c997472e8d97668360341779": {
     "model_module": "@jupyter-widgets/controls",
     "model_module_version": "1.5.0",
     "model_name": "HBoxModel",
     "state": {
      "_dom_classes": [],
      "_model_module": "@jupyter-widgets/controls",
      "_model_module_version": "1.5.0",
      "_model_name": "HBoxModel",
      "_view_count": null,
      "_view_module": "@jupyter-widgets/controls",
      "_view_module_version": "1.5.0",
      "_view_name": "HBoxView",
      "box_style": "",
      "children": [
       "IPY_MODEL_bf694a43169243f9a660d5e04311b36f",
       "IPY_MODEL_ca2f08ba373f4e75a9079fbd8aa40843",
       "IPY_MODEL_c8a956007a784a67baac301fb4fe1f25"
      ],
      "layout": "IPY_MODEL_7b9c3d2e96424c8284f051bab4209307"
     }
    },
    "2209d7930d27492e81a8828504b7e6f7": {
     "model_module": "@jupyter-widgets/controls",
     "model_module_version": "1.5.0",
     "model_name": "DescriptionStyleModel",
     "state": {
      "_model_module": "@jupyter-widgets/controls",
      "_model_module_version": "1.5.0",
      "_model_name": "DescriptionStyleModel",
      "_view_count": null,
      "_view_module": "@jupyter-widgets/base",
      "_view_module_version": "1.2.0",
      "_view_name": "StyleView",
      "description_width": ""
     }
    },
    "33ab6c2d9ffe43b3b87eed14397c3ca0": {
     "model_module": "@jupyter-widgets/controls",
     "model_module_version": "1.5.0",
     "model_name": "DescriptionStyleModel",
     "state": {
      "_model_module": "@jupyter-widgets/controls",
      "_model_module_version": "1.5.0",
      "_model_name": "DescriptionStyleModel",
      "_view_count": null,
      "_view_module": "@jupyter-widgets/base",
      "_view_module_version": "1.2.0",
      "_view_name": "StyleView",
      "description_width": ""
     }
    },
    "408b153dc0f648a2a15927dbf7748e3d": {
     "model_module": "@jupyter-widgets/controls",
     "model_module_version": "1.5.0",
     "model_name": "DescriptionStyleModel",
     "state": {
      "_model_module": "@jupyter-widgets/controls",
      "_model_module_version": "1.5.0",
      "_model_name": "DescriptionStyleModel",
      "_view_count": null,
      "_view_module": "@jupyter-widgets/base",
      "_view_module_version": "1.2.0",
      "_view_name": "StyleView",
      "description_width": ""
     }
    },
    "4cec4f118de7498cb34ae8502d6ca5ab": {
     "model_module": "@jupyter-widgets/base",
     "model_module_version": "1.2.0",
     "model_name": "LayoutModel",
     "state": {
      "_model_module": "@jupyter-widgets/base",
      "_model_module_version": "1.2.0",
      "_model_name": "LayoutModel",
      "_view_count": null,
      "_view_module": "@jupyter-widgets/base",
      "_view_module_version": "1.2.0",
      "_view_name": "LayoutView",
      "align_content": null,
      "align_items": null,
      "align_self": null,
      "border": null,
      "bottom": null,
      "display": null,
      "flex": null,
      "flex_flow": null,
      "grid_area": null,
      "grid_auto_columns": null,
      "grid_auto_flow": null,
      "grid_auto_rows": null,
      "grid_column": null,
      "grid_gap": null,
      "grid_row": null,
      "grid_template_areas": null,
      "grid_template_columns": null,
      "grid_template_rows": null,
      "height": null,
      "justify_content": null,
      "justify_items": null,
      "left": null,
      "margin": null,
      "max_height": null,
      "max_width": null,
      "min_height": null,
      "min_width": null,
      "object_fit": null,
      "object_position": null,
      "order": null,
      "overflow": null,
      "overflow_x": null,
      "overflow_y": null,
      "padding": null,
      "right": null,
      "top": null,
      "visibility": null,
      "width": null
     }
    },
    "74db9e7724694fa78ff589222172949b": {
     "model_module": "@jupyter-widgets/controls",
     "model_module_version": "1.5.0",
     "model_name": "HTMLModel",
     "state": {
      "_dom_classes": [],
      "_model_module": "@jupyter-widgets/controls",
      "_model_module_version": "1.5.0",
      "_model_name": "HTMLModel",
      "_view_count": null,
      "_view_module": "@jupyter-widgets/controls",
      "_view_module_version": "1.5.0",
      "_view_name": "HTMLView",
      "description": "",
      "description_tooltip": null,
      "layout": "IPY_MODEL_f0916cafb02c4642806f6dfaeada3f5f",
      "placeholder": "​",
      "style": "IPY_MODEL_2209d7930d27492e81a8828504b7e6f7",
      "value": " 1/1 [00:13&lt;00:00, 13.01s/it]"
     }
    },
    "762c53cab7634d089f8623942d27de35": {
     "model_module": "@jupyter-widgets/controls",
     "model_module_version": "1.5.0",
     "model_name": "HBoxModel",
     "state": {
      "_dom_classes": [],
      "_model_module": "@jupyter-widgets/controls",
      "_model_module_version": "1.5.0",
      "_model_name": "HBoxModel",
      "_view_count": null,
      "_view_module": "@jupyter-widgets/controls",
      "_view_module_version": "1.5.0",
      "_view_name": "HBoxView",
      "box_style": "",
      "children": [
       "IPY_MODEL_19bffd0e227f4272b47b789e3ef955e0",
       "IPY_MODEL_c5ce44731a1d44519fd4814e5c59e31c",
       "IPY_MODEL_74db9e7724694fa78ff589222172949b"
      ],
      "layout": "IPY_MODEL_10c74428299648f8a1c1f1ac2981fda5"
     }
    },
    "7b9c3d2e96424c8284f051bab4209307": {
     "model_module": "@jupyter-widgets/base",
     "model_module_version": "1.2.0",
     "model_name": "LayoutModel",
     "state": {
      "_model_module": "@jupyter-widgets/base",
      "_model_module_version": "1.2.0",
      "_model_name": "LayoutModel",
      "_view_count": null,
      "_view_module": "@jupyter-widgets/base",
      "_view_module_version": "1.2.0",
      "_view_name": "LayoutView",
      "align_content": null,
      "align_items": null,
      "align_self": null,
      "border": null,
      "bottom": null,
      "display": null,
      "flex": null,
      "flex_flow": null,
      "grid_area": null,
      "grid_auto_columns": null,
      "grid_auto_flow": null,
      "grid_auto_rows": null,
      "grid_column": null,
      "grid_gap": null,
      "grid_row": null,
      "grid_template_areas": null,
      "grid_template_columns": null,
      "grid_template_rows": null,
      "height": null,
      "justify_content": null,
      "justify_items": null,
      "left": null,
      "margin": null,
      "max_height": null,
      "max_width": null,
      "min_height": null,
      "min_width": null,
      "object_fit": null,
      "object_position": null,
      "order": null,
      "overflow": null,
      "overflow_x": null,
      "overflow_y": null,
      "padding": null,
      "right": null,
      "top": null,
      "visibility": null,
      "width": null
     }
    },
    "9fd47f5cbd474f8d825e87b8cd820764": {
     "model_module": "@jupyter-widgets/base",
     "model_module_version": "1.2.0",
     "model_name": "LayoutModel",
     "state": {
      "_model_module": "@jupyter-widgets/base",
      "_model_module_version": "1.2.0",
      "_model_name": "LayoutModel",
      "_view_count": null,
      "_view_module": "@jupyter-widgets/base",
      "_view_module_version": "1.2.0",
      "_view_name": "LayoutView",
      "align_content": null,
      "align_items": null,
      "align_self": null,
      "border": null,
      "bottom": null,
      "display": null,
      "flex": null,
      "flex_flow": null,
      "grid_area": null,
      "grid_auto_columns": null,
      "grid_auto_flow": null,
      "grid_auto_rows": null,
      "grid_column": null,
      "grid_gap": null,
      "grid_row": null,
      "grid_template_areas": null,
      "grid_template_columns": null,
      "grid_template_rows": null,
      "height": null,
      "justify_content": null,
      "justify_items": null,
      "left": null,
      "margin": null,
      "max_height": null,
      "max_width": null,
      "min_height": null,
      "min_width": null,
      "object_fit": null,
      "object_position": null,
      "order": null,
      "overflow": null,
      "overflow_x": null,
      "overflow_y": null,
      "padding": null,
      "right": null,
      "top": null,
      "visibility": null,
      "width": null
     }
    },
    "a452547ac5d942748eff0d3022e5c54a": {
     "model_module": "@jupyter-widgets/controls",
     "model_module_version": "1.5.0",
     "model_name": "ProgressStyleModel",
     "state": {
      "_model_module": "@jupyter-widgets/controls",
      "_model_module_version": "1.5.0",
      "_model_name": "ProgressStyleModel",
      "_view_count": null,
      "_view_module": "@jupyter-widgets/base",
      "_view_module_version": "1.2.0",
      "_view_name": "StyleView",
      "bar_color": null,
      "description_width": ""
     }
    },
    "a634e3a1b7734d42bd442b207a259633": {
     "model_module": "@jupyter-widgets/base",
     "model_module_version": "1.2.0",
     "model_name": "LayoutModel",
     "state": {
      "_model_module": "@jupyter-widgets/base",
      "_model_module_version": "1.2.0",
      "_model_name": "LayoutModel",
      "_view_count": null,
      "_view_module": "@jupyter-widgets/base",
      "_view_module_version": "1.2.0",
      "_view_name": "LayoutView",
      "align_content": null,
      "align_items": null,
      "align_self": null,
      "border": null,
      "bottom": null,
      "display": null,
      "flex": null,
      "flex_flow": null,
      "grid_area": null,
      "grid_auto_columns": null,
      "grid_auto_flow": null,
      "grid_auto_rows": null,
      "grid_column": null,
      "grid_gap": null,
      "grid_row": null,
      "grid_template_areas": null,
      "grid_template_columns": null,
      "grid_template_rows": null,
      "height": null,
      "justify_content": null,
      "justify_items": null,
      "left": null,
      "margin": null,
      "max_height": null,
      "max_width": null,
      "min_height": null,
      "min_width": null,
      "object_fit": null,
      "object_position": null,
      "order": null,
      "overflow": null,
      "overflow_x": null,
      "overflow_y": null,
      "padding": null,
      "right": null,
      "top": null,
      "visibility": null,
      "width": null
     }
    },
    "a9da7f112fa54dc7bc7dd556dcf8b4d9": {
     "model_module": "@jupyter-widgets/base",
     "model_module_version": "1.2.0",
     "model_name": "LayoutModel",
     "state": {
      "_model_module": "@jupyter-widgets/base",
      "_model_module_version": "1.2.0",
      "_model_name": "LayoutModel",
      "_view_count": null,
      "_view_module": "@jupyter-widgets/base",
      "_view_module_version": "1.2.0",
      "_view_name": "LayoutView",
      "align_content": null,
      "align_items": null,
      "align_self": null,
      "border": null,
      "bottom": null,
      "display": null,
      "flex": null,
      "flex_flow": null,
      "grid_area": null,
      "grid_auto_columns": null,
      "grid_auto_flow": null,
      "grid_auto_rows": null,
      "grid_column": null,
      "grid_gap": null,
      "grid_row": null,
      "grid_template_areas": null,
      "grid_template_columns": null,
      "grid_template_rows": null,
      "height": null,
      "justify_content": null,
      "justify_items": null,
      "left": null,
      "margin": null,
      "max_height": null,
      "max_width": null,
      "min_height": null,
      "min_width": null,
      "object_fit": null,
      "object_position": null,
      "order": null,
      "overflow": null,
      "overflow_x": null,
      "overflow_y": null,
      "padding": null,
      "right": null,
      "top": null,
      "visibility": null,
      "width": null
     }
    },
    "ae1fd688662e4a8082c08d780a820d7e": {
     "model_module": "@jupyter-widgets/controls",
     "model_module_version": "1.5.0",
     "model_name": "DescriptionStyleModel",
     "state": {
      "_model_module": "@jupyter-widgets/controls",
      "_model_module_version": "1.5.0",
      "_model_name": "DescriptionStyleModel",
      "_view_count": null,
      "_view_module": "@jupyter-widgets/base",
      "_view_module_version": "1.2.0",
      "_view_name": "StyleView",
      "description_width": ""
     }
    },
    "bada64e3ab6948f1ab1ff0a3c7951699": {
     "model_module": "@jupyter-widgets/controls",
     "model_module_version": "1.5.0",
     "model_name": "ProgressStyleModel",
     "state": {
      "_model_module": "@jupyter-widgets/controls",
      "_model_module_version": "1.5.0",
      "_model_name": "ProgressStyleModel",
      "_view_count": null,
      "_view_module": "@jupyter-widgets/base",
      "_view_module_version": "1.2.0",
      "_view_name": "StyleView",
      "bar_color": null,
      "description_width": ""
     }
    },
    "bf694a43169243f9a660d5e04311b36f": {
     "model_module": "@jupyter-widgets/controls",
     "model_module_version": "1.5.0",
     "model_name": "HTMLModel",
     "state": {
      "_dom_classes": [],
      "_model_module": "@jupyter-widgets/controls",
      "_model_module_version": "1.5.0",
      "_model_name": "HTMLModel",
      "_view_count": null,
      "_view_module": "@jupyter-widgets/controls",
      "_view_module_version": "1.5.0",
      "_view_name": "HTMLView",
      "description": "",
      "description_tooltip": null,
      "layout": "IPY_MODEL_9fd47f5cbd474f8d825e87b8cd820764",
      "placeholder": "​",
      "style": "IPY_MODEL_ae1fd688662e4a8082c08d780a820d7e",
      "value": "Stats document: 100%"
     }
    },
    "c5ce44731a1d44519fd4814e5c59e31c": {
     "model_module": "@jupyter-widgets/controls",
     "model_module_version": "1.5.0",
     "model_name": "FloatProgressModel",
     "state": {
      "_dom_classes": [],
      "_model_module": "@jupyter-widgets/controls",
      "_model_module_version": "1.5.0",
      "_model_name": "FloatProgressModel",
      "_view_count": null,
      "_view_module": "@jupyter-widgets/controls",
      "_view_module_version": "1.5.0",
      "_view_name": "ProgressView",
      "bar_style": "",
      "description": "",
      "description_tooltip": null,
      "layout": "IPY_MODEL_a9da7f112fa54dc7bc7dd556dcf8b4d9",
      "max": 1,
      "min": 0,
      "orientation": "horizontal",
      "style": "IPY_MODEL_bada64e3ab6948f1ab1ff0a3c7951699",
      "value": 1
     }
    },
    "c8a956007a784a67baac301fb4fe1f25": {
     "model_module": "@jupyter-widgets/controls",
     "model_module_version": "1.5.0",
     "model_name": "HTMLModel",
     "state": {
      "_dom_classes": [],
      "_model_module": "@jupyter-widgets/controls",
      "_model_module_version": "1.5.0",
      "_model_name": "HTMLModel",
      "_view_count": null,
      "_view_module": "@jupyter-widgets/controls",
      "_view_module_version": "1.5.0",
      "_view_name": "HTMLView",
      "description": "",
      "description_tooltip": null,
      "layout": "IPY_MODEL_4cec4f118de7498cb34ae8502d6ca5ab",
      "placeholder": "​",
      "style": "IPY_MODEL_33ab6c2d9ffe43b3b87eed14397c3ca0",
      "value": " 27/27 [00:12&lt;00:00,  2.41it/s]"
     }
    },
    "ca2f08ba373f4e75a9079fbd8aa40843": {
     "model_module": "@jupyter-widgets/controls",
     "model_module_version": "1.5.0",
     "model_name": "FloatProgressModel",
     "state": {
      "_dom_classes": [],
      "_model_module": "@jupyter-widgets/controls",
      "_model_module_version": "1.5.0",
      "_model_name": "FloatProgressModel",
      "_view_count": null,
      "_view_module": "@jupyter-widgets/controls",
      "_view_module_version": "1.5.0",
      "_view_name": "ProgressView",
      "bar_style": "",
      "description": "",
      "description_tooltip": null,
      "layout": "IPY_MODEL_139129db6c9b4c509ed214de4c4bdea7",
      "max": 27,
      "min": 0,
      "orientation": "horizontal",
      "style": "IPY_MODEL_a452547ac5d942748eff0d3022e5c54a",
      "value": 27
     }
    },
    "f0916cafb02c4642806f6dfaeada3f5f": {
     "model_module": "@jupyter-widgets/base",
     "model_module_version": "1.2.0",
     "model_name": "LayoutModel",
     "state": {
      "_model_module": "@jupyter-widgets/base",
      "_model_module_version": "1.2.0",
      "_model_name": "LayoutModel",
      "_view_count": null,
      "_view_module": "@jupyter-widgets/base",
      "_view_module_version": "1.2.0",
      "_view_name": "LayoutView",
      "align_content": null,
      "align_items": null,
      "align_self": null,
      "border": null,
      "bottom": null,
      "display": null,
      "flex": null,
      "flex_flow": null,
      "grid_area": null,
      "grid_auto_columns": null,
      "grid_auto_flow": null,
      "grid_auto_rows": null,
      "grid_column": null,
      "grid_gap": null,
      "grid_row": null,
      "grid_template_areas": null,
      "grid_template_columns": null,
      "grid_template_rows": null,
      "height": null,
      "justify_content": null,
      "justify_items": null,
      "left": null,
      "margin": null,
      "max_height": null,
      "max_width": null,
      "min_height": null,
      "min_width": null,
      "object_fit": null,
      "object_position": null,
      "order": null,
      "overflow": null,
      "overflow_x": null,
      "overflow_y": null,
      "padding": null,
      "right": null,
      "top": null,
      "visibility": null,
      "width": null
     }
    }
   }
  }
 },
 "nbformat": 4,
 "nbformat_minor": 4
}
