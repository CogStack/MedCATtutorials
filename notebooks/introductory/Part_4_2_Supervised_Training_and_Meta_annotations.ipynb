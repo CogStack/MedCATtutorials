{
 "cells": [
  {
   "cell_type": "code",
   "execution_count": null,
   "metadata": {
    "colab": {
     "base_uri": "https://localhost:8080/",
     "height": 1000
    },
    "id": "4F4bit_i6lnY",
    "outputId": "6e3bc9f6-e7cf-4cb7-8a0b-78c640cfecc2"
   },
   "outputs": [],
   "source": [
    "# Install medcat\n",
    "! pip install medcat==1.2.7\n",
    "# Get the spacy model\n",
    "! python -m spacy download en_core_web_md"
   ]
  },
  {
   "cell_type": "markdown",
   "metadata": {
    "id": "-K9kAaWzJWJa"
   },
   "source": [
    "**Restart the runtime if on colab, sometimes necessary after installing models**"
   ]
  },
  {
   "cell_type": "code",
   "execution_count": null,
   "metadata": {
    "colab": {
     "base_uri": "https://localhost:8080/"
    },
    "id": "rkTLkCS-8h7A",
    "outputId": "30a4bc94-f785-497f-bc7d-9504c3403de2"
   },
   "outputs": [],
   "source": [
    "import pandas as pd\n",
    "import numpy as np\n",
    "import seaborn as sns\n",
    "import json \n",
    "\n",
    "from matplotlib import pyplot as plt\n",
    "from medcat.cat import CAT\n",
    "from medcat.cdb import CDB\n",
    "from medcat.config import Config\n",
    "from medcat.vocab import Vocab\n",
    "from medcat.meta_cat import MetaCAT\n",
    "from medcat.config_meta_cat import ConfigMetaCAT\n",
    "from medcat.preprocessing.tokenizers import TokenizerWrapperBPE, TokenizerWrapperBERT\n",
    "from tokenizers import ByteLevelBPETokenizer\n"
   ]
  },
  {
   "cell_type": "code",
   "execution_count": null,
   "metadata": {
    "id": "QEPH7cAF8iEr"
   },
   "outputs": [],
   "source": [
    "DATA_DIR = \"./data/\"\n",
    "vocab_path = DATA_DIR + \"vocab.dat\"\n",
    "cdb_path = DATA_DIR + \"cdb-medmen-v1_2.dat\""
   ]
  },
  {
   "cell_type": "code",
   "execution_count": null,
   "metadata": {
    "colab": {
     "base_uri": "https://localhost:8080/"
    },
    "id": "Sj29auXV8iPZ",
    "outputId": "bc7d21f0-a0c2-4134-adfe-b5502959895e"
   },
   "outputs": [],
   "source": [
    "# Download the models and required data\n",
    "!wget https://raw.githubusercontent.com/CogStack/MedCATtutorials/main/notebooks/introductory/data/MedCAT_Export.json -P ./data/\n",
    "# You can also use the models created in Part 4.1 of the Tutorial\n",
    "!wget https://medcat.rosalind.kcl.ac.uk/media/mc_status.zip -P ./data/\n",
    "\n",
    "# Get MedCAT models components (Alternatively you can use a previously created MedCAT model packs)\n",
    "!wget https://medcat.rosalind.kcl.ac.uk/media/vocab.dat -P ./data/\n",
    "!wget https://medcat.rosalind.kcl.ac.uk/media/cdb-medmen-v1_2.dat -P ./data/"
   ]
  },
  {
   "cell_type": "markdown",
   "metadata": {
    "id": "8v3KJC2k_ZS-"
   },
   "source": [
    "## MedCATtrainer Export"
   ]
  },
  {
   "cell_type": "code",
   "execution_count": null,
   "metadata": {
    "id": "Fb10uxr4_eTl"
   },
   "outputs": [],
   "source": [
    "#@title\n",
    "data = json.load(open(DATA_DIR + \"MedCAT_Export.json\"))"
   ]
  },
  {
   "cell_type": "code",
   "execution_count": null,
   "metadata": {
    "colab": {
     "base_uri": "https://localhost:8080/"
    },
    "id": "6u6DacUh_efl",
    "outputId": "b3068dc5-2127-4eae-d1d2-7654aeb629a6"
   },
   "outputs": [],
   "source": [
    "#@title\n",
    "print(data.keys())"
   ]
  },
  {
   "cell_type": "code",
   "execution_count": null,
   "metadata": {
    "colab": {
     "base_uri": "https://localhost:8080/"
    },
    "id": "iYrNUm60AB4_",
    "outputId": "39cd7b23-7c94-4dfb-8520-e29d9a51a8d9"
   },
   "outputs": [],
   "source": [
    "#@title\n",
    "data['projects'][0].keys()"
   ]
  },
  {
   "cell_type": "code",
   "execution_count": null,
   "metadata": {
    "colab": {
     "base_uri": "https://localhost:8080/"
    },
    "id": "3Hh8nskZAFBw",
    "outputId": "ce0127f8-d8b9-4292-c0a5-68ad261424c2"
   },
   "outputs": [],
   "source": [
    "#@title\n",
    "data['projects'][0]['documents'][0].keys()"
   ]
  },
  {
   "cell_type": "code",
   "execution_count": null,
   "metadata": {
    "colab": {
     "base_uri": "https://localhost:8080/"
    },
    "id": "l2YFT3XcAI_b",
    "outputId": "75c14eb1-7477-4a71-d7bf-447302bfa6c4"
   },
   "outputs": [],
   "source": [
    "#@title\n",
    "data['projects'][0]['documents'][0]['annotations'][0].keys()"
   ]
  },
  {
   "cell_type": "code",
   "execution_count": null,
   "metadata": {
    "colab": {
     "base_uri": "https://localhost:8080/"
    },
    "id": "E_pqC6JIBIZe",
    "outputId": "acbf6b05-a5d7-4a2b-c7e6-f97d04b112d0"
   },
   "outputs": [],
   "source": [
    "#@title\n",
    "data['projects'][0]['documents'][0]['annotations'][0]['meta_anns'][0].keys()"
   ]
  },
  {
   "cell_type": "markdown",
   "metadata": {
    "id": "I7OPn3rU_Aj2"
   },
   "source": [
    "##Fine-tuning the NER+L model"
   ]
  },
  {
   "cell_type": "markdown",
   "metadata": {
    "id": "I29GH4oUC8Xg"
   },
   "source": [
    "First we load the existing MedCAT models that we will fine-tune.\n",
    "\n"
   ]
  },
  {
   "cell_type": "code",
   "execution_count": null,
   "metadata": {
    "id": "X3UTLqpJB7Z8"
   },
   "outputs": [],
   "source": [
    "# Create and load the CDB (Concept Database)\n",
    "cdb = CDB.load(cdb_path)\n",
    "\n",
    "# Create and load the Vocabulary\n",
    "vocab = Vocab.load(vocab_path)\n",
    "\n",
    "# Setup config\n",
    "config = Config()\n",
    "config.general['spacy_model'] = 'en_core_web_md'\n",
    "\n",
    "# Create CAT - the main class from medcat used for concept annotation\n",
    "cat = CAT(cdb=cdb, config=config, vocab=vocab)"
   ]
  },
  {
   "cell_type": "markdown",
   "metadata": {
    "id": "OTR2bcSZDP5V"
   },
   "source": [
    "To fine-tune the existing models we use the `train_supervised()` method from MedCAT. The method has the following options:\n",
    "\n",
    "\n",
    "---\n",
    "\n",
    "\n",
    "\n",
    "`data_path` - Path to the JSON file exported from MedCATtrainer\n",
    "\n",
    "`reset_cui_count` - Each cui has an internal counter that is used for weight decay, this will reset it.\n",
    "\n",
    "`nepochs` - Numeber of epochs\n",
    "\n",
    "`reset_cui_count` - Used for training with weight_decay (annealing). Each concept has a count that is there from the beginning of the CDB, that count is used for annealing. Resetting the count will significantly increase the training impact. This will reset the count only for concepts that exist in the the training data.\n",
    "\n",
    "`print_stats` - Print statistics during training (F1/P/R)\n",
    "\n",
    "`test_set` - Provide another file for testing\n",
    "\n",
    "`use_filters` - During the training do you want to set the cui/tui filters from the medcattrainer project configuration. \n",
    "\n",
    "`never_terminate` - If True no termination of concepts will be applied\n",
    "          \n",
    "`terminate_last` - If true, concept termination will be done after all training.\n",
    "\n",
    "`use_groups` - If True concepts that have groups will be combined and stats will be reported on groups.\n",
    "\n",
    "`use_overlaps` - Allow overlapping entites, nearly always False as it is very difficult to annotate overlapping entites.\n",
    "            \n",
    "`use_cui_doc_limit` - If True the metrics for a CUI will be only calculated if that CUI appears in a document.\n",
    "            \n",
    "`train_from_false_positives` - If True it will use false positive examples detected by medcat and train from them as negative examples.\n",
    "\n"
   ]
  },
  {
   "cell_type": "code",
   "execution_count": null,
   "metadata": {
    "colab": {
     "base_uri": "https://localhost:8080/",
     "height": 1000
    },
    "id": "LSwFORnCB7jZ",
    "outputId": "c6ee0442-c250-4a90-9db5-fd403d27fa78"
   },
   "outputs": [],
   "source": [
    "cat.train_supervised(data_path=DATA_DIR + \"MedCAT_Export.json\", \n",
    "                     nepochs=1,\n",
    "                     reset_cui_count=False,\n",
    "                     print_stats=True, \n",
    "                     use_filters=True) "
   ]
  },
  {
   "cell_type": "code",
   "execution_count": null,
   "metadata": {
    "colab": {
     "base_uri": "https://localhost:8080/",
     "height": 955
    },
    "id": "CuhAE0dmRvPH",
    "outputId": "bb1602dc-6a6a-4083-f46b-facc23c0a653"
   },
   "outputs": [],
   "source": [
    "# If we want to know the F1, P, R for each cui, we can call the stats method\n",
    "data = json.load(open(DATA_DIR + \"MedCAT_Export.json\"))\n",
    "fps, fns, tps, cui_prec, cui_rec, cui_f1, cui_counts, examples = cat._print_stats(data, extra_cui_filter=True)"
   ]
  },
  {
   "cell_type": "code",
   "execution_count": null,
   "metadata": {
    "colab": {
     "base_uri": "https://localhost:8080/"
    },
    "id": "hqArsu2--hzX",
    "outputId": "5276a0b7-398a-465e-f0a7-3c5166ad85c1"
   },
   "outputs": [],
   "source": [
    "# Now we can check F1/P/R for a cui using\n",
    "cui = \"C0020538\" # Hypertension\n",
    "print(cui_f1[cui], cui_prec[cui], cui_rec[cui])"
   ]
  },
  {
   "cell_type": "code",
   "execution_count": null,
   "metadata": {
    "colab": {
     "base_uri": "https://localhost:8080/"
    },
    "id": "WqN1tGZH2Bux",
    "outputId": "4c98e1a4-d5f6-49a4-ec0b-8b4b52696e71"
   },
   "outputs": [],
   "source": [
    "# inspect fn, fp examples for specific CUIs of interest...\n",
    "examples['fn']['C0010068']"
   ]
  },
  {
   "cell_type": "code",
   "execution_count": null,
   "metadata": {
    "colab": {
     "base_uri": "https://localhost:8080/"
    },
    "id": "Iu5q5VBe1I26",
    "outputId": "9a8cb60b-1eb5-45e2-bb06-a413ad674f9c"
   },
   "outputs": [],
   "source": [
    "# annotations inside first projects...\n",
    "[anno for d in data['projects'][0]['documents'] for anno in d['annotations']][0:5]"
   ]
  },
  {
   "cell_type": "markdown",
   "metadata": {
    "id": "NAjFXkNHB7z-"
   },
   "source": [
    "##MetaAnnotations\n",
    "\n",
    "During the annotation process we have created only one meta-annotation called \"Status\". Here we are going to train a BiLSTM to detect that meta-annotation."
   ]
  },
  {
   "cell_type": "markdown",
   "metadata": {
    "id": "duJXZbHsDqBP"
   },
   "source": [
    "### MetaCAT\n",
    "\n",
    "The class we are going to use to train meta-annotations is called MetaCAT. As input it takes:\n",
    "\n",
    "`tokenizer` - A BBPE tokenizer from [huggingface](https://github.com/huggingface/tokenizers)\n",
    "\n",
    "`embeddings` - The precalculated embeddings for the tokens produced by the tokenizer. Can be anything from Word2Vec to BERT. This is a numpy matrix, or python list of embeddings. \n",
    "\n",
    "`cntx_left` - Size of context from the left side of the entity that will be taken into account.\n",
    "\n",
    "`cntx_right` - Size of context from the right side of the entity that will be taken into account.\n",
    "\n",
    "`save_dir` - Where do we want to save the trained models.\n",
    "\n",
    "`pad_id` - Padding index in the embeddings matrix. \n",
    "\n",
    "`device` - On which device to run this `cpu` or `cuda`"
   ]
  },
  {
   "cell_type": "code",
   "execution_count": null,
   "metadata": {
    "colab": {
     "base_uri": "https://localhost:8080/"
    },
    "id": "4MNfvfo0Aak5",
    "outputId": "cafaed4d-4d0b-4f41-d476-8175d5505804"
   },
   "outputs": [],
   "source": [
    "!unzip data/mc_status.zip"
   ]
  },
  {
   "cell_type": "code",
   "execution_count": null,
   "metadata": {
    "id": "1BHoTeWax0P8"
   },
   "outputs": [],
   "source": [
    "# Get the required tokenizer (note that we have already downloaded the required models)\n",
    "mc = MetaCAT.load('Status')"
   ]
  },
  {
   "cell_type": "markdown",
   "metadata": {
    "id": "0Ot86LnkurRY"
   },
   "source": [
    "### MetaCAT configuration\n",
    "\n",
    "For a full list of all the configurable parameter. Follow this [link](https://github.com/CogStack/MedCAT/blob/master/medcat/config_meta_cat.py).\n",
    "\n",
    "Some noteable parameters:\n",
    "\n",
    "`category_name` - What is the name of this meta-annotation (same as the name in the MedCATtrainer)\n",
    "\n",
    "`model_name` - for now only `lstm`\n",
    "\n",
    "`lr` - Learning rate\n",
    "\n",
    "`test_size` - Proportion of the test set\n",
    "\n",
    "`bach_size` - Batch size\n",
    "\n",
    "`nepochs` - Number of epochs to run for\n",
    "\n",
    "`lowercase` - Do you want to lowercase the text\n",
    "\n",
    "`class_weights` - Pytorch LSTM parameter for unbalanced classes\n",
    "\n",
    "`ignore_cpos` - The position of the entity will be ignored, do not use this.\n",
    "\n",
    "`auto_save_model` - This will autosave the top performing epoch during the training process"
   ]
  },
  {
   "cell_type": "code",
   "execution_count": null,
   "metadata": {
    "id": "cU_-YanPscLw"
   },
   "outputs": [],
   "source": [
    "# Example of how to change parameters\n",
    "mc.config.model['input_size'] = 768\n",
    "mc.config.model['hidden_size'] = 300\n",
    "\n",
    "mc.config.train['nepochs'] = 55\n",
    "mc.config.train['auto_save_model'] = True"
   ]
  },
  {
   "cell_type": "markdown",
   "metadata": {
    "id": "W3J58QdIFZzZ"
   },
   "source": [
    "### Train MetaCAT\n",
    "To run the training we use the `train` method that allows us to specify:\n",
    "\n",
    "`json_path`: Path to a MedCATtrainer export containing the meta_annotations we want to train for.\n",
    "\n",
    "\n",
    "`save_dir_path`: (optional, defaults to `None`): In case we have auto_save_model (meaning during the training the best model will be saved) we need to set a save path.\n"
   ]
  },
  {
   "cell_type": "code",
   "execution_count": null,
   "metadata": {
    "colab": {
     "base_uri": "https://localhost:8080/"
    },
    "id": "luZv-DUWnRwF",
    "outputId": "b0502350-0181-41de-e0f3-9b054cb41816"
   },
   "outputs": [],
   "source": [
    "mc.train(json_path= DATA_DIR+\"MedCAT_Export.json\", save_dir_path='status')\n",
    "# Saving the model this way will only save the model epoch with the best performance"
   ]
  },
  {
   "cell_type": "markdown",
   "metadata": {
    "id": "_wy0I5pTHUKq"
   },
   "source": [
    "We can now save the models using the `save` function. It has only one argument `full_save` if `True` it will also save the embeddings and tokenizers (note that this is slightly redundant, as we no training was done on the embeddings/tokenizers). "
   ]
  },
  {
   "cell_type": "code",
   "execution_count": null,
   "metadata": {
    "id": "jaanqPcrMutt"
   },
   "outputs": [],
   "source": [
    "# Alternative way to save\n",
    "mc.save(\"alternative_status_metamodel\")"
   ]
  },
  {
   "cell_type": "markdown",
   "metadata": {
    "id": "1hWuby0hJH1v"
   },
   "source": [
    "## Test of the whole pipeline"
   ]
  },
  {
   "cell_type": "code",
   "execution_count": null,
   "metadata": {
    "id": "lWsswV9eIABE"
   },
   "outputs": [],
   "source": [
    "# Set filter\n",
    "tui_filter = ['T047'] # Detect only diseases\n",
    "cui_filters = set()\n",
    "for tui in tui_filter:\n",
    "  cui_filters.update(cdb.addl_info['type_id2cuis'][tui])\n",
    "cdb.config.linking['filters']['cuis'] = cui_filters\n",
    "\n",
    "# To add the meta-annotation model to the medcat pipeline\n",
    "cat = CAT(cdb=cdb, config=config, vocab=vocab, meta_cats=[mc])"
   ]
  },
  {
   "cell_type": "code",
   "execution_count": null,
   "metadata": {
    "colab": {
     "base_uri": "https://localhost:8080/"
    },
    "id": "Wpeuh1nLoY6x",
    "outputId": "b216946a-bb55-4a23-9f98-8b479e321ed1"
   },
   "outputs": [],
   "source": [
    "\"C0035078\" in cui_filters"
   ]
  },
  {
   "cell_type": "code",
   "execution_count": null,
   "metadata": {
    "id": "Wpmm9ESKnqj_"
   },
   "outputs": [],
   "source": [
    "text = \"John Doe has epilepsy and hypertention but does not suffer from hypertension\"\n",
    "doc = cat(text)"
   ]
  },
  {
   "cell_type": "code",
   "execution_count": null,
   "metadata": {
    "colab": {
     "base_uri": "https://localhost:8080/"
    },
    "id": "iAzO1MGrIdQ-",
    "outputId": "9f036a82-5b78-4d4c-e1f0-0581584f91e3"
   },
   "outputs": [],
   "source": [
    "for ent in doc.ents:\n",
    "  print(\"Entity: \" + ent.text)\n",
    "  print(\"Meta Annotations: \" + str(ent._.meta_anns))\n",
    "  print(\"\\n\")"
   ]
  },
  {
   "cell_type": "markdown",
   "metadata": {
    "id": "bdZR7TnNqj2K"
   },
   "source": [
    "Notice how the medcat metamodel labels John Doe with entities: \"epilepsy\", \"hypertension\" as __\"Confirmed\"__.\n",
    "\n",
    "Whilst \"suffer\" and \"hypertension\" is labelled as __\"Other\"__.\n",
    "\n",
    "This is extremely useful when conducting a context-based extract of concepts from text."
   ]
  },
  {
   "cell_type": "code",
   "execution_count": null,
   "metadata": {
    "id": "WaqfpZNUwedZ"
   },
   "outputs": [],
   "source": []
  },
  {
   "cell_type": "code",
   "execution_count": null,
   "metadata": {
    "id": "PJHlVdYewef6"
   },
   "outputs": [],
   "source": []
  },
  {
   "cell_type": "markdown",
   "metadata": {
    "id": "Qejc7qE4aTYZ"
   },
   "source": [
    "End of Tutorial"
   ]
  }
 ],
 "metadata": {
  "colab": {
   "collapsed_sections": [
    "8v3KJC2k_ZS-"
   ],
   "name": "MedCAT Tutorial  | Part 4.2 - Supervised Training and Meta-annotations.ipynb",
   "provenance": [],
   "toc_visible": true
  },
  "kernelspec": {
   "display_name": "Python 3",
   "language": "python",
   "name": "python3"
  },
  "language_info": {
   "codemirror_mode": {
    "name": "ipython",
    "version": 3
   },
   "file_extension": ".py",
   "mimetype": "text/x-python",
   "name": "python",
   "nbconvert_exporter": "python",
   "pygments_lexer": "ipython3",
   "version": "3.7.0"
  }
 },
 "nbformat": 4,
 "nbformat_minor": 0
}
