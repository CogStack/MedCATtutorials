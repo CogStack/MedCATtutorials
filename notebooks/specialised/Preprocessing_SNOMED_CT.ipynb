{
 "cells": [
  {
   "cell_type": "markdown",
   "metadata": {
    "id": "bwcw90RnbHbq"
   },
   "source": [
    "# SNOMED\n",
    "\n",
    "SNOMED CT is a standarised clinical terminology consisting of >350,000 unique concepts. It is owned, maintained and distributed by SNOMED International.\n",
    "\n",
    "Please visit and explore https://www.snomed.org/ to find out further information about the various SNOMED CT products and services which they offer.\n",
    "\n",
    "--------"
   ]
  },
  {
   "cell_type": "markdown",
   "metadata": {
    "id": "T5UYwR1rYa3v"
   },
   "source": [
    "## What is SNOMED CT?\n",
    "\n",
    "SNOMED CT is a clinical terminology containing concepts with unique meanings and formal logic based definitions organised into hierarchies. For further information please see: https://confluence.ihtsdotools.org/display/DOCSTART/4.+SNOMED+CT+Basics\n",
    "\n",
    "## SNOMED CT Design\n",
    "SNOMED CT content is represented into 3 main types of components:\n",
    "\n",
    "- Concepts representing clinical meanings that are organised into hierarchies.\n",
    "- Descriptions which link appropriate human readable terms to concepts\n",
    "- Relationships which link each concept to other related concepts\n",
    "\n",
    "It also contains mappings to classification systems such as:\n",
    "- ICD (International classifications of diseases)\n",
    "- OPCS (Office of Population Censuses and Surveys) (SNOMED UK extension only)\n",
    "\n",
    "---------"
   ]
  },
  {
   "cell_type": "markdown",
   "metadata": {
    "id": "_2lNUPp7ZPq0"
   },
   "source": [
    "<a name=\"access_to_snomed_ct\"></a>\n",
    "## Access to SNOMED CT release files\n",
    "\n",
    "You may download SNOMED CT at the Member country’s designated website. The use of SNOMED CT in Member countries is free. Follow this [link](https://www.snomed.org/our-stakeholders/members) to find out if your country is a member state and explore the website to find directions to where to your national SNOMED CT distribution is held.\n",
    "\n",
    "E.g. \n",
    "* UK -> [NHS TRUD](https://isd.digital.nhs.uk/trud3/user/guest/group/0/home)\n",
    "\n",
    "* US -> [NIH National Library of Medicine](https://www.nlm.nih.gov/healthit/snomedct/international.html) Alternative clinical terminologies such as UMLS can be found here.\n",
    "\n",
    "\n",
    "The following Steps are to services provided by SNOMED International for organizations and individuals to request use and access to the International Release of SNOMED CT for use in non-Member countries\n",
    "\n",
    "__To access SNOMED CT files from non-member contries:__\n",
    "\n",
    "1.   Please visit the SNOMED [Member Licensing and Distribution Service.](https://mlds.ihtsdotools.org/#/landing) and read their terms and conditions for use.\n",
    "\n",
    "2.   Login or Register for an account and wait to be granted access.\n",
    "\n",
    "3.   Once you have been granted access. Logged in and visit the tab [\"Release Packages\"](https://mlds.ihtsdotools.org/#/viewReleases) and retrieve the release of SNOMED CT that you would like to have. Alternatively, for the international SNOMED release simply visit the [International releases](https://mlds.ihtsdotools.org/#/viewReleases/viewRelease/167).\n",
    "\n",
    "----------"
   ]
  },
  {
   "cell_type": "markdown",
   "metadata": {
    "id": "MMAs7FlRXWuu"
   },
   "source": [
    "# Part 1: Preprocessing SNOMED CT for MedCAT\n",
    "\n",
    "Once you have downloaded a SNOMED release of interest. Store the zipped folder containing your respective SNOMED release in the current colab working directory.\n",
    "\n",
    "The folder name should look like: `SnomedCT_InternationalRF2_PRODUCTION_20210131T120000Z.zip\n",
    "`\n"
   ]
  },
  {
   "cell_type": "markdown",
   "metadata": {
    "id": "braN0yz7qXMu"
   },
   "source": [
    "### Install and import required packages"
   ]
  },
  {
   "cell_type": "code",
   "execution_count": null,
   "metadata": {
    "colab": {
     "base_uri": "https://localhost:8080/"
    },
    "id": "PQNeFWOZXXaQ",
    "outputId": "3cc80bdb-4c8c-40d9-e325-caf8609cb193"
   },
   "outputs": [
    {
     "name": "stdout",
     "output_type": "stream",
     "text": [
      "Requirement already satisfied: medcat in /usr/local/lib/python3.7/dist-packages (1.1.1)\n",
      "Requirement already satisfied: spacy<3.1.0,>=3.0.1 in /usr/local/lib/python3.7/dist-packages (from medcat) (3.0.7)\n",
      "Requirement already satisfied: gensim~=3.8 in /usr/local/lib/python3.7/dist-packages (from medcat) (3.8.3)\n",
      "Requirement already satisfied: pandas~=1.0 in /usr/local/lib/python3.7/dist-packages (from medcat) (1.1.5)\n",
      "Requirement already satisfied: numpy<1.21.0,>=1.19.0 in /usr/local/lib/python3.7/dist-packages (from medcat) (1.19.5)\n",
      "Requirement already satisfied: transformers~=4.5.1 in /usr/local/lib/python3.7/dist-packages (from medcat) (4.5.1)\n",
      "Requirement already satisfied: tqdm<4.50.0,>=4.27 in /usr/local/lib/python3.7/dist-packages (from medcat) (4.49.0)\n",
      "Requirement already satisfied: elasticsearch~=7.10 in /usr/local/lib/python3.7/dist-packages (from medcat) (7.14.0)\n",
      "Requirement already satisfied: scipy~=1.5 in /usr/local/lib/python3.7/dist-packages (from medcat) (1.7.1)\n",
      "Requirement already satisfied: torch~=1.8.1 in /usr/local/lib/python3.7/dist-packages (from medcat) (1.8.1)\n",
      "Requirement already satisfied: jsonpickle~=2.0.0 in /usr/local/lib/python3.7/dist-packages (from medcat) (2.0.0)\n",
      "Requirement already satisfied: datasets~=1.6.0 in /usr/local/lib/python3.7/dist-packages (from medcat) (1.6.2)\n",
      "Requirement already satisfied: sklearn~=0.0 in /usr/local/lib/python3.7/dist-packages (from medcat) (0.0)\n",
      "Requirement already satisfied: dill~=0.3.3 in /usr/local/lib/python3.7/dist-packages (from medcat) (0.3.4)\n",
      "Requirement already satisfied: pyarrow>=1.0.0<4.0.0 in /usr/local/lib/python3.7/dist-packages (from datasets~=1.6.0->medcat) (3.0.0)\n",
      "Requirement already satisfied: xxhash in /usr/local/lib/python3.7/dist-packages (from datasets~=1.6.0->medcat) (2.0.2)\n",
      "Requirement already satisfied: requests>=2.19.0 in /usr/local/lib/python3.7/dist-packages (from datasets~=1.6.0->medcat) (2.23.0)\n",
      "Requirement already satisfied: huggingface-hub<0.1.0 in /usr/local/lib/python3.7/dist-packages (from datasets~=1.6.0->medcat) (0.0.15)\n",
      "Requirement already satisfied: multiprocess in /usr/local/lib/python3.7/dist-packages (from datasets~=1.6.0->medcat) (0.70.12.2)\n",
      "Requirement already satisfied: fsspec in /usr/local/lib/python3.7/dist-packages (from datasets~=1.6.0->medcat) (2021.7.0)\n",
      "Requirement already satisfied: packaging in /usr/local/lib/python3.7/dist-packages (from datasets~=1.6.0->medcat) (21.0)\n",
      "Requirement already satisfied: importlib-metadata in /usr/local/lib/python3.7/dist-packages (from datasets~=1.6.0->medcat) (4.6.4)\n",
      "Requirement already satisfied: certifi in /usr/local/lib/python3.7/dist-packages (from elasticsearch~=7.10->medcat) (2021.5.30)\n",
      "Requirement already satisfied: urllib3<2,>=1.21.1 in /usr/local/lib/python3.7/dist-packages (from elasticsearch~=7.10->medcat) (1.24.3)\n",
      "Requirement already satisfied: six>=1.5.0 in /usr/local/lib/python3.7/dist-packages (from gensim~=3.8->medcat) (1.15.0)\n",
      "Requirement already satisfied: smart-open>=1.8.1 in /usr/local/lib/python3.7/dist-packages (from gensim~=3.8->medcat) (5.1.0)\n",
      "Requirement already satisfied: filelock in /usr/local/lib/python3.7/dist-packages (from huggingface-hub<0.1.0->datasets~=1.6.0->medcat) (3.0.12)\n",
      "Requirement already satisfied: typing-extensions in /usr/local/lib/python3.7/dist-packages (from huggingface-hub<0.1.0->datasets~=1.6.0->medcat) (3.7.4.3)\n",
      "Requirement already satisfied: pyparsing>=2.0.2 in /usr/local/lib/python3.7/dist-packages (from packaging->datasets~=1.6.0->medcat) (2.4.7)\n",
      "Requirement already satisfied: pytz>=2017.2 in /usr/local/lib/python3.7/dist-packages (from pandas~=1.0->medcat) (2018.9)\n",
      "Requirement already satisfied: python-dateutil>=2.7.3 in /usr/local/lib/python3.7/dist-packages (from pandas~=1.0->medcat) (2.8.2)\n",
      "Requirement already satisfied: chardet<4,>=3.0.2 in /usr/local/lib/python3.7/dist-packages (from requests>=2.19.0->datasets~=1.6.0->medcat) (3.0.4)\n",
      "Requirement already satisfied: idna<3,>=2.5 in /usr/local/lib/python3.7/dist-packages (from requests>=2.19.0->datasets~=1.6.0->medcat) (2.10)\n",
      "Requirement already satisfied: scikit-learn in /usr/local/lib/python3.7/dist-packages (from sklearn~=0.0->medcat) (0.22.2.post1)\n",
      "Requirement already satisfied: spacy-legacy<3.1.0,>=3.0.5 in /usr/local/lib/python3.7/dist-packages (from spacy<3.1.0,>=3.0.1->medcat) (3.0.8)\n",
      "Requirement already satisfied: wasabi<1.1.0,>=0.8.1 in /usr/local/lib/python3.7/dist-packages (from spacy<3.1.0,>=3.0.1->medcat) (0.8.2)\n",
      "Requirement already satisfied: blis<0.8.0,>=0.4.0 in /usr/local/lib/python3.7/dist-packages (from spacy<3.1.0,>=3.0.1->medcat) (0.4.1)\n",
      "Requirement already satisfied: thinc<8.1.0,>=8.0.3 in /usr/local/lib/python3.7/dist-packages (from spacy<3.1.0,>=3.0.1->medcat) (8.0.8)\n",
      "Requirement already satisfied: preshed<3.1.0,>=3.0.2 in /usr/local/lib/python3.7/dist-packages (from spacy<3.1.0,>=3.0.1->medcat) (3.0.5)\n",
      "Requirement already satisfied: cymem<2.1.0,>=2.0.2 in /usr/local/lib/python3.7/dist-packages (from spacy<3.1.0,>=3.0.1->medcat) (2.0.5)\n",
      "Requirement already satisfied: catalogue<2.1.0,>=2.0.4 in /usr/local/lib/python3.7/dist-packages (from spacy<3.1.0,>=3.0.1->medcat) (2.0.6)\n",
      "Requirement already satisfied: typer<0.4.0,>=0.3.0 in /usr/local/lib/python3.7/dist-packages (from spacy<3.1.0,>=3.0.1->medcat) (0.3.2)\n",
      "Requirement already satisfied: pydantic!=1.8,!=1.8.1,<1.9.0,>=1.7.4 in /usr/local/lib/python3.7/dist-packages (from spacy<3.1.0,>=3.0.1->medcat) (1.8.2)\n",
      "Requirement already satisfied: jinja2 in /usr/local/lib/python3.7/dist-packages (from spacy<3.1.0,>=3.0.1->medcat) (2.11.3)\n",
      "Requirement already satisfied: setuptools in /usr/local/lib/python3.7/dist-packages (from spacy<3.1.0,>=3.0.1->medcat) (57.4.0)\n",
      "Requirement already satisfied: pathy>=0.3.5 in /usr/local/lib/python3.7/dist-packages (from spacy<3.1.0,>=3.0.1->medcat) (0.6.0)\n",
      "Requirement already satisfied: srsly<3.0.0,>=2.4.1 in /usr/local/lib/python3.7/dist-packages (from spacy<3.1.0,>=3.0.1->medcat) (2.4.1)\n",
      "Requirement already satisfied: murmurhash<1.1.0,>=0.28.0 in /usr/local/lib/python3.7/dist-packages (from spacy<3.1.0,>=3.0.1->medcat) (1.0.5)\n",
      "Requirement already satisfied: zipp>=0.5 in /usr/local/lib/python3.7/dist-packages (from catalogue<2.1.0,>=2.0.4->spacy<3.1.0,>=3.0.1->medcat) (3.5.0)\n",
      "Requirement already satisfied: tokenizers<0.11,>=0.10.1 in /usr/local/lib/python3.7/dist-packages (from transformers~=4.5.1->medcat) (0.10.3)\n",
      "Requirement already satisfied: sacremoses in /usr/local/lib/python3.7/dist-packages (from transformers~=4.5.1->medcat) (0.0.45)\n",
      "Requirement already satisfied: regex!=2019.12.17 in /usr/local/lib/python3.7/dist-packages (from transformers~=4.5.1->medcat) (2019.12.20)\n",
      "Requirement already satisfied: click<7.2.0,>=7.1.1 in /usr/local/lib/python3.7/dist-packages (from typer<0.4.0,>=0.3.0->spacy<3.1.0,>=3.0.1->medcat) (7.1.2)\n",
      "Requirement already satisfied: MarkupSafe>=0.23 in /usr/local/lib/python3.7/dist-packages (from jinja2->spacy<3.1.0,>=3.0.1->medcat) (2.0.1)\n",
      "Requirement already satisfied: joblib in /usr/local/lib/python3.7/dist-packages (from sacremoses->transformers~=4.5.1->medcat) (1.0.1)\n"
     ]
    }
   ],
   "source": [
    "# Install medcat\n",
    "!pip install --upgrade medcat"
   ]
  },
  {
   "cell_type": "code",
   "execution_count": null,
   "metadata": {
    "id": "E5NQ-vaa2D89"
   },
   "outputs": [],
   "source": [
    "from medcat.utils.preprocess_snomed import Snomed"
   ]
  },
  {
   "cell_type": "markdown",
   "metadata": {
    "id": "KTGrQPLf1u6s"
   },
   "source": [
    "### Load the data\n",
    "Please see the section: [Access to SNOMED CT release files](#access_to_snomed_ct) for how to retrieve the zipped SNOMED CT release."
   ]
  },
  {
   "cell_type": "code",
   "execution_count": null,
   "metadata": {
    "id": "7EDR9ysfqx0X"
   },
   "outputs": [],
   "source": [
    "# Assign a path to the zipped SNOMED CT release download.\n",
    "snomed_path = \"SnomedCT_InternationalRF2_PRODUCTION_20210131T120000Z.zip\"  # Enter your zipped Snomed folder here"
   ]
  },
  {
   "cell_type": "code",
   "execution_count": null,
   "metadata": {
    "id": "EWRQDnDiqe3c"
   },
   "outputs": [],
   "source": [
    "!unzip '/content/{snomed_path}' -d snomed_folder"
   ]
  },
  {
   "cell_type": "markdown",
   "metadata": {
    "id": "npcye6KV14xT"
   },
   "source": [
    "### Preprocess the release for MedCAT"
   ]
  },
  {
   "cell_type": "code",
   "execution_count": null,
   "metadata": {
    "id": "CqUmB-ZH13zB"
   },
   "outputs": [],
   "source": [
    "# Initialise\n",
    "snomed = Snomed(\"snomed_folder\")"
   ]
  },
  {
   "cell_type": "code",
   "execution_count": null,
   "metadata": {
    "id": "A7NGM-6xwt8p"
   },
   "outputs": [],
   "source": [
    "### Skip this step if your version of snomed is not the UK extension released >2021.\n",
    "### Note: this step will only work with MedCAT v1.2.7+\n",
    "\n",
    "# snomed.uk_ext = True"
   ]
  },
  {
   "cell_type": "markdown",
   "metadata": {
    "id": "rGgAJ0Cn6SrW"
   },
   "source": [
    "#### Create a SNOMED DataFrame\n",
    "\n",
    "We first preprocess SNOMED to fit the following format:\n",
    "\n",
    "\n",
    "|cui|name|ontologies|name_status|description_type_ids|type_ids|\n",
    "|--|--|--|:--:|:--:|--|\n",
    "|101009|Quilonia ethiopica (organism)|SNOMED|P|organism|81102976|\n",
    ".\n",
    ".\n",
    ".\n",
    "\n",
    "`cui` - The concept unique identifier, this is simply the `SCTID`.\n",
    "\n",
    "`name` - This include the name of the concept. The status of the name is given in `name_status`\n",
    "\n",
    "`ontologies` - Always SNOMED. Alternatively you can change it to your specific edition.\n",
    "\n",
    "`name_status` - The Fully specified name or FSN is denoted with a `P` - Primary Name. Each concept must be assigned only one Primary Name. These should be unique across all SCTID/cui to avoid confusion. A synonym or other description type is represented as a `A` - Alternative Name. This can be enriched with all possible names and abbreviations for a concept of interest.\n",
    "\n",
    "`description_type_ids` - These are processed to be the Semantic Tags of the concept.\n",
    "\n",
    "`type_ids` - This is simply a 10 digit Hash of the Semantic Tags\n",
    "\n",
    "\n"
   ]
  },
  {
   "cell_type": "code",
   "execution_count": null,
   "metadata": {
    "id": "1GyTnm4-132D"
   },
   "outputs": [],
   "source": [
    "# Create SNOMED DataFrame \n",
    "df = snomed.to_concept_df()"
   ]
  },
  {
   "cell_type": "code",
   "execution_count": null,
   "metadata": {
    "colab": {
     "base_uri": "https://localhost:8080/",
     "height": 204.0
    },
    "id": "90MrBSbC41b_",
    "outputId": "769df727-fce9-485e-fa79-eaefdd36468c"
   },
   "outputs": [
    {
     "data": {
      "text/html": [
       "<div>\n",
       "<style scoped>\n",
       "    .dataframe tbody tr th:only-of-type {\n",
       "        vertical-align: middle;\n",
       "    }\n",
       "\n",
       "    .dataframe tbody tr th {\n",
       "        vertical-align: top;\n",
       "    }\n",
       "\n",
       "    .dataframe thead th {\n",
       "        text-align: right;\n",
       "    }\n",
       "</style>\n",
       "<table border=\"1\" class=\"dataframe\">\n",
       "  <thead>\n",
       "    <tr style=\"text-align: right;\">\n",
       "      <th></th>\n",
       "      <th>cui</th>\n",
       "      <th>name</th>\n",
       "      <th>name_status</th>\n",
       "      <th>ontologies</th>\n",
       "      <th>description_type_ids</th>\n",
       "      <th>type_ids</th>\n",
       "    </tr>\n",
       "  </thead>\n",
       "  <tbody>\n",
       "    <tr>\n",
       "      <th>0</th>\n",
       "      <td>101009</td>\n",
       "      <td>Quilonia ethiopica (organism)</td>\n",
       "      <td>P</td>\n",
       "      <td>SNOMED-CT</td>\n",
       "      <td>organism</td>\n",
       "      <td>81102976</td>\n",
       "    </tr>\n",
       "    <tr>\n",
       "      <th>1</th>\n",
       "      <td>102002</td>\n",
       "      <td>Hemoglobin Okaloosa (substance)</td>\n",
       "      <td>P</td>\n",
       "      <td>SNOMED-CT</td>\n",
       "      <td>substance</td>\n",
       "      <td>91187746</td>\n",
       "    </tr>\n",
       "    <tr>\n",
       "      <th>2</th>\n",
       "      <td>103007</td>\n",
       "      <td>Squirrel fibroma virus (organism)</td>\n",
       "      <td>P</td>\n",
       "      <td>SNOMED-CT</td>\n",
       "      <td>organism</td>\n",
       "      <td>81102976</td>\n",
       "    </tr>\n",
       "    <tr>\n",
       "      <th>3</th>\n",
       "      <td>104001</td>\n",
       "      <td>Excision of lesion of patella (procedure)</td>\n",
       "      <td>P</td>\n",
       "      <td>SNOMED-CT</td>\n",
       "      <td>procedure</td>\n",
       "      <td>28321150</td>\n",
       "    </tr>\n",
       "    <tr>\n",
       "      <th>4</th>\n",
       "      <td>106004</td>\n",
       "      <td>Structure of posterior carpal region (body str...</td>\n",
       "      <td>P</td>\n",
       "      <td>SNOMED-CT</td>\n",
       "      <td>body structure</td>\n",
       "      <td>37552161</td>\n",
       "    </tr>\n",
       "  </tbody>\n",
       "</table>\n",
       "</div>"
      ],
      "text/plain": [
       "      cui  ...  type_ids\n",
       "0  101009  ...  81102976\n",
       "1  102002  ...  91187746\n",
       "2  103007  ...  81102976\n",
       "3  104001  ...  28321150\n",
       "4  106004  ...  37552161\n",
       "\n",
       "[5 rows x 6 columns]"
      ]
     },
     "execution_count": 8,
     "metadata": {},
     "output_type": "execute_result"
    }
   ],
   "source": [
    "df.head()"
   ]
  },
  {
   "cell_type": "code",
   "execution_count": null,
   "metadata": {
    "colab": {
     "base_uri": "https://localhost:8080/",
     "height": 111.0
    },
    "id": "JnOEep66_zzz",
    "outputId": "25d9f9ef-2991-409b-ab25-b337af4d2f36"
   },
   "outputs": [
    {
     "data": {
      "text/html": [
       "<div>\n",
       "<style scoped>\n",
       "    .dataframe tbody tr th:only-of-type {\n",
       "        vertical-align: middle;\n",
       "    }\n",
       "\n",
       "    .dataframe tbody tr th {\n",
       "        vertical-align: top;\n",
       "    }\n",
       "\n",
       "    .dataframe thead th {\n",
       "        text-align: right;\n",
       "    }\n",
       "</style>\n",
       "<table border=\"1\" class=\"dataframe\">\n",
       "  <thead>\n",
       "    <tr style=\"text-align: right;\">\n",
       "      <th></th>\n",
       "      <th>cui</th>\n",
       "      <th>name</th>\n",
       "      <th>name_status</th>\n",
       "      <th>ontologies</th>\n",
       "      <th>description_type_ids</th>\n",
       "      <th>type_ids</th>\n",
       "    </tr>\n",
       "  </thead>\n",
       "  <tbody>\n",
       "    <tr>\n",
       "      <th>0</th>\n",
       "      <td>101009</td>\n",
       "      <td>Quilonia ethiopica (organism)</td>\n",
       "      <td>P</td>\n",
       "      <td>SNOMED-CT</td>\n",
       "      <td>organism</td>\n",
       "      <td>81102976</td>\n",
       "    </tr>\n",
       "    <tr>\n",
       "      <th>354448</th>\n",
       "      <td>101009</td>\n",
       "      <td>Quilonia ethiopica</td>\n",
       "      <td>A</td>\n",
       "      <td>SNOMED-CT</td>\n",
       "      <td>organism</td>\n",
       "      <td>81102976</td>\n",
       "    </tr>\n",
       "  </tbody>\n",
       "</table>\n",
       "</div>"
      ],
      "text/plain": [
       "           cui                           name  ... description_type_ids  type_ids\n",
       "0       101009  Quilonia ethiopica (organism)  ...             organism  81102976\n",
       "354448  101009             Quilonia ethiopica  ...             organism  81102976\n",
       "\n",
       "[2 rows x 6 columns]"
      ]
     },
     "execution_count": 9,
     "metadata": {},
     "output_type": "execute_result"
    }
   ],
   "source": [
    "# inspect\n",
    "df[df['cui'] == '101009']"
   ]
  },
  {
   "cell_type": "code",
   "execution_count": null,
   "metadata": {
    "id": "Kkl4Ng6s6Q4R"
   },
   "outputs": [],
   "source": [
    "# Optional - Create a SCTID to FSN dictionary\n",
    "primary_names_only = df[df[\"name_status\"] == 'P']\n",
    "sctid2name = dict(zip(primary_names_only['cui'], primary_names_only['name']))\n",
    "del primary_names_only"
   ]
  },
  {
   "cell_type": "code",
   "execution_count": null,
   "metadata": {
    "colab": {
     "base_uri": "https://localhost:8080/",
     "height": 35.0
    },
    "id": "W-TFxoaC6Q7a",
    "outputId": "37789a2b-91c3-4bcb-8a25-bc8c909e86b7"
   },
   "outputs": [
    {
     "data": {
      "text/plain": [
       "'Quilonia ethiopica (organism)'"
      ]
     },
     "execution_count": 11,
     "metadata": {},
     "output_type": "execute_result"
    }
   ],
   "source": [
    "sctid2name['101009']"
   ]
  },
  {
   "cell_type": "markdown",
   "metadata": {
    "id": "v_tZ5FG19V-V"
   },
   "source": [
    "#### SNOMED Relationships"
   ]
  },
  {
   "cell_type": "code",
   "execution_count": null,
   "metadata": {
    "id": "o-TxIJ4N9T4Q"
   },
   "outputs": [],
   "source": [
    "all_snomed_relationships = snomed.list_all_relationships()"
   ]
  },
  {
   "cell_type": "code",
   "execution_count": null,
   "metadata": {
    "id": "CL2GlkR0-Hwz"
   },
   "outputs": [],
   "source": [
    "# List of the SCTID of all snomed relationships\n",
    "all_snomed_relationships"
   ]
  },
  {
   "cell_type": "code",
   "execution_count": null,
   "metadata": {
    "id": "HTE8R6akD1nP"
   },
   "outputs": [],
   "source": [
    "# Using the SCTID to name to inspect what the FSN (fully specified names) are:\n",
    "for sctid in all_snomed_relationships:\n",
    "    print(sctid2name[sctid])"
   ]
  },
  {
   "cell_type": "code",
   "execution_count": null,
   "metadata": {
    "id": "vmK7YEy49T8T"
   },
   "outputs": [],
   "source": [
    "# save a specific relationship to json\n",
    "# In the example we save the \"IS a (attribute)\" hierarchical relationship.\n",
    "snomed.relationship2json(\"116680003\", \"ISA_relationship.json\")"
   ]
  },
  {
   "cell_type": "markdown",
   "metadata": {
    "id": "mSKWrO7L9f4Z"
   },
   "source": [
    "#### Mappings to inbuilt external terminologies \n",
    "\n",
    "Create a dictionary map to add to the medcat concept database additional information"
   ]
  },
  {
   "cell_type": "markdown",
   "metadata": {
    "id": "f3C3JaRbvhsw"
   },
   "source": [
    "##### ICD-10\n",
    "For SNOMED to ICD-10 mapping read more on:\n",
    "Map Blocks, Map Groups and Map Priorities, for correct official mapping methodology."
   ]
  },
  {
   "cell_type": "code",
   "execution_count": null,
   "metadata": {
    "id": "UAdHeWRe9c9J"
   },
   "outputs": [],
   "source": [
    "# ICD-10\n",
    "icd_df = snomed.map_snomed2icd10()"
   ]
  },
  {
   "cell_type": "code",
   "execution_count": null,
   "metadata": {
    "colab": {
     "base_uri": "https://localhost:8080/",
     "height": 496.0
    },
    "id": "SynBfXCi-Zpb",
    "outputId": "f3cde34a-c5f9-428c-874a-01516832f4a1"
   },
   "outputs": [
    {
     "data": {
      "text/html": [
       "<div>\n",
       "<style scoped>\n",
       "    .dataframe tbody tr th:only-of-type {\n",
       "        vertical-align: middle;\n",
       "    }\n",
       "\n",
       "    .dataframe tbody tr th {\n",
       "        vertical-align: top;\n",
       "    }\n",
       "\n",
       "    .dataframe thead th {\n",
       "        text-align: right;\n",
       "    }\n",
       "</style>\n",
       "<table border=\"1\" class=\"dataframe\">\n",
       "  <thead>\n",
       "    <tr style=\"text-align: right;\">\n",
       "      <th></th>\n",
       "      <th>id</th>\n",
       "      <th>effectiveTime</th>\n",
       "      <th>active</th>\n",
       "      <th>moduleId</th>\n",
       "      <th>refsetId</th>\n",
       "      <th>referencedComponentId</th>\n",
       "      <th>mapGroup</th>\n",
       "      <th>mapPriority</th>\n",
       "      <th>mapRule</th>\n",
       "      <th>mapAdvice</th>\n",
       "      <th>mapTarget</th>\n",
       "      <th>correlationId</th>\n",
       "      <th>mapCategoryId</th>\n",
       "    </tr>\n",
       "  </thead>\n",
       "  <tbody>\n",
       "    <tr>\n",
       "      <th>0</th>\n",
       "      <td>49b07dca-0559-59d9-8c85-3198c941a813</td>\n",
       "      <td>20130731</td>\n",
       "      <td>1</td>\n",
       "      <td>449080006</td>\n",
       "      <td>447562003</td>\n",
       "      <td>10000006</td>\n",
       "      <td>1</td>\n",
       "      <td>1</td>\n",
       "      <td>TRUE</td>\n",
       "      <td>ALWAYS R07.4</td>\n",
       "      <td>R07.4</td>\n",
       "      <td>447561005</td>\n",
       "      <td>447637006</td>\n",
       "    </tr>\n",
       "    <tr>\n",
       "      <th>1</th>\n",
       "      <td>2c141272-bbc0-5c34-aa48-72f2dc370ead</td>\n",
       "      <td>20150131</td>\n",
       "      <td>1</td>\n",
       "      <td>449080006</td>\n",
       "      <td>447562003</td>\n",
       "      <td>10001005</td>\n",
       "      <td>1</td>\n",
       "      <td>1</td>\n",
       "      <td>TRUE</td>\n",
       "      <td>ALWAYS A41.9</td>\n",
       "      <td>A41.9</td>\n",
       "      <td>447561005</td>\n",
       "      <td>447637006</td>\n",
       "    </tr>\n",
       "    <tr>\n",
       "      <th>2</th>\n",
       "      <td>47cf847c-c85c-5979-8129-98475d4ab274</td>\n",
       "      <td>20190731</td>\n",
       "      <td>1</td>\n",
       "      <td>449080006</td>\n",
       "      <td>447562003</td>\n",
       "      <td>10007009</td>\n",
       "      <td>1</td>\n",
       "      <td>1</td>\n",
       "      <td>TRUE</td>\n",
       "      <td>ALWAYS Q87.1 | POSSIBLE REQUIREMENT FOR ADDITI...</td>\n",
       "      <td>Q87.1</td>\n",
       "      <td>447561005</td>\n",
       "      <td>447637006</td>\n",
       "    </tr>\n",
       "    <tr>\n",
       "      <th>3</th>\n",
       "      <td>4cd08e27-0417-5c5d-8873-6a72d130e918</td>\n",
       "      <td>20140731</td>\n",
       "      <td>1</td>\n",
       "      <td>449080006</td>\n",
       "      <td>447562003</td>\n",
       "      <td>1001000119102</td>\n",
       "      <td>1</td>\n",
       "      <td>1</td>\n",
       "      <td>TRUE</td>\n",
       "      <td>ALWAYS I26.9 | MAPPED FOLLOWING WHO GUIDANCE</td>\n",
       "      <td>I26.9</td>\n",
       "      <td>447561005</td>\n",
       "      <td>447637006</td>\n",
       "    </tr>\n",
       "    <tr>\n",
       "      <th>4</th>\n",
       "      <td>ca792560-1589-5f24-9126-b040e8ea2b2d</td>\n",
       "      <td>20180731</td>\n",
       "      <td>1</td>\n",
       "      <td>449080006</td>\n",
       "      <td>447562003</td>\n",
       "      <td>10017004</td>\n",
       "      <td>1</td>\n",
       "      <td>1</td>\n",
       "      <td>TRUE</td>\n",
       "      <td>ALWAYS K03.0</td>\n",
       "      <td>K03.0</td>\n",
       "      <td>447561005</td>\n",
       "      <td>447637006</td>\n",
       "    </tr>\n",
       "  </tbody>\n",
       "</table>\n",
       "</div>"
      ],
      "text/plain": [
       "                                     id  ... mapCategoryId\n",
       "0  49b07dca-0559-59d9-8c85-3198c941a813  ...     447637006\n",
       "1  2c141272-bbc0-5c34-aa48-72f2dc370ead  ...     447637006\n",
       "2  47cf847c-c85c-5979-8129-98475d4ab274  ...     447637006\n",
       "3  4cd08e27-0417-5c5d-8873-6a72d130e918  ...     447637006\n",
       "4  ca792560-1589-5f24-9126-b040e8ea2b2d  ...     447637006\n",
       "\n",
       "[5 rows x 13 columns]"
      ]
     },
     "execution_count": 104,
     "metadata": {},
     "output_type": "execute_result"
    }
   ],
   "source": [
    "icd_df.head()"
   ]
  },
  {
   "cell_type": "code",
   "execution_count": null,
   "metadata": {
    "id": "WU7POE3iOOTB"
   },
   "outputs": [],
   "source": [
    "sctid2icd10 = {k: g[\"mapTarget\"].tolist() for k,g in icd_df[['referencedComponentId',\n",
    "                                                              'mapTarget']].groupby(\"referencedComponentId\")}"
   ]
  },
  {
   "cell_type": "code",
   "execution_count": null,
   "metadata": {
    "colab": {
     "base_uri": "https://localhost:8080/"
    },
    "id": "pOMDPJEKoC3r",
    "outputId": "7d0f1876-8410-46a1-b42d-913dc2ce22e0"
   },
   "outputs": [
    {
     "data": {
      "text/plain": [
       "['G40.9', 'G93.8']"
      ]
     },
     "execution_count": 151,
     "metadata": {},
     "output_type": "execute_result"
    }
   ],
   "source": [
    "# To view the SNOMED to ICD-10 Map structure\n",
    "sctid2icd10"
   ]
  },
  {
   "cell_type": "markdown",
   "metadata": {
    "id": "Sa9yVsTwvolS"
   },
   "source": [
    "##### OPCS\n",
    "Office of Population Censuses and Surveys\n",
    "\n",
    "\n",
    "__Note:__ only the SNOMED UK extension edition contains this information\n",
    "Skip if your version is not a UK extension"
   ]
  },
  {
   "cell_type": "code",
   "execution_count": null,
   "metadata": {
    "id": "EJFu0lTq9c6u"
   },
   "outputs": [],
   "source": [
    "opcs_df = snomed.map_snomed2opcs4()"
   ]
  },
  {
   "cell_type": "code",
   "execution_count": null,
   "metadata": {
    "id": "nINW3byN-dd5"
   },
   "outputs": [],
   "source": [
    "opcs_df.head()"
   ]
  },
  {
   "cell_type": "markdown",
   "metadata": {
    "id": "f1fK6WTqKw4_"
   },
   "source": [
    "### Save for MedCAT"
   ]
  },
  {
   "cell_type": "code",
   "execution_count": null,
   "metadata": {
    "id": "VgYR_xxAK0ws"
   },
   "outputs": [],
   "source": [
    "# Save to CSV for medcat CDB creation\n",
    "df.to_csv(\"preprocessed_snomed.csv\", index=False)"
   ]
  },
  {
   "cell_type": "markdown",
   "metadata": {
    "id": "SVVJLuSEU4FS"
   },
   "source": [
    "--------"
   ]
  },
  {
   "cell_type": "markdown",
   "metadata": {
    "id": "8TTgKmDCx2R7"
   },
   "source": [
    "# Part 2: Create a MedCAT CDB using SNOMED CT release files\n",
    "\n",
    "\n",
    "These steps are also convered in the tutorial: [Part 3.1 Building a Concept Database and Vocabulary](https://colab.research.google.com/drive/1s1QXJ2E76sZLm5P0Lremw8-kWWXxX_w2#scrollTo=KByaUPYNk7gk)"
   ]
  },
  {
   "cell_type": "code",
   "execution_count": null,
   "metadata": {
    "colab": {
     "base_uri": "https://localhost:8080/"
    },
    "id": "YnFcUQZnyuFb",
    "outputId": "9da58693-31be-4360-bc58-361ebdb97b35"
   },
   "outputs": [
    {
     "name": "stdout",
     "output_type": "stream",
     "text": [
      "Collecting https://s3-us-west-2.amazonaws.com/ai2-s2-scispacy/releases/v0.4.0/en_core_sci_md-0.4.0.tar.gz\n",
      "  Downloading https://s3-us-west-2.amazonaws.com/ai2-s2-scispacy/releases/v0.4.0/en_core_sci_md-0.4.0.tar.gz (125.2 MB)\n",
      "\u001b[K     |████████████████████████████████| 125.2 MB 33 kB/s \n",
      "\u001b[?25hRequirement already satisfied: spacy<3.1.0,>=3.0.1 in /usr/local/lib/python3.7/dist-packages (from en-core-sci-md==0.4.0) (3.0.7)\n",
      "Requirement already satisfied: pydantic!=1.8,!=1.8.1,<1.9.0,>=1.7.4 in /usr/local/lib/python3.7/dist-packages (from spacy<3.1.0,>=3.0.1->en-core-sci-md==0.4.0) (1.8.2)\n",
      "Requirement already satisfied: thinc<8.1.0,>=8.0.3 in /usr/local/lib/python3.7/dist-packages (from spacy<3.1.0,>=3.0.1->en-core-sci-md==0.4.0) (8.0.8)\n",
      "Requirement already satisfied: srsly<3.0.0,>=2.4.1 in /usr/local/lib/python3.7/dist-packages (from spacy<3.1.0,>=3.0.1->en-core-sci-md==0.4.0) (2.4.1)\n",
      "Requirement already satisfied: setuptools in /usr/local/lib/python3.7/dist-packages (from spacy<3.1.0,>=3.0.1->en-core-sci-md==0.4.0) (57.4.0)\n",
      "Requirement already satisfied: cymem<2.1.0,>=2.0.2 in /usr/local/lib/python3.7/dist-packages (from spacy<3.1.0,>=3.0.1->en-core-sci-md==0.4.0) (2.0.5)\n",
      "Requirement already satisfied: requests<3.0.0,>=2.13.0 in /usr/local/lib/python3.7/dist-packages (from spacy<3.1.0,>=3.0.1->en-core-sci-md==0.4.0) (2.23.0)\n",
      "Requirement already satisfied: murmurhash<1.1.0,>=0.28.0 in /usr/local/lib/python3.7/dist-packages (from spacy<3.1.0,>=3.0.1->en-core-sci-md==0.4.0) (1.0.5)\n",
      "Requirement already satisfied: packaging>=20.0 in /usr/local/lib/python3.7/dist-packages (from spacy<3.1.0,>=3.0.1->en-core-sci-md==0.4.0) (21.0)\n",
      "Requirement already satisfied: typer<0.4.0,>=0.3.0 in /usr/local/lib/python3.7/dist-packages (from spacy<3.1.0,>=3.0.1->en-core-sci-md==0.4.0) (0.3.2)\n",
      "Requirement already satisfied: blis<0.8.0,>=0.4.0 in /usr/local/lib/python3.7/dist-packages (from spacy<3.1.0,>=3.0.1->en-core-sci-md==0.4.0) (0.4.1)\n",
      "Requirement already satisfied: pathy>=0.3.5 in /usr/local/lib/python3.7/dist-packages (from spacy<3.1.0,>=3.0.1->en-core-sci-md==0.4.0) (0.6.0)\n",
      "Requirement already satisfied: preshed<3.1.0,>=3.0.2 in /usr/local/lib/python3.7/dist-packages (from spacy<3.1.0,>=3.0.1->en-core-sci-md==0.4.0) (3.0.5)\n",
      "Requirement already satisfied: wasabi<1.1.0,>=0.8.1 in /usr/local/lib/python3.7/dist-packages (from spacy<3.1.0,>=3.0.1->en-core-sci-md==0.4.0) (0.8.2)\n",
      "Requirement already satisfied: spacy-legacy<3.1.0,>=3.0.5 in /usr/local/lib/python3.7/dist-packages (from spacy<3.1.0,>=3.0.1->en-core-sci-md==0.4.0) (3.0.8)\n",
      "Requirement already satisfied: typing-extensions<4.0.0.0,>=3.7.4 in /usr/local/lib/python3.7/dist-packages (from spacy<3.1.0,>=3.0.1->en-core-sci-md==0.4.0) (3.7.4.3)\n",
      "Requirement already satisfied: tqdm<5.0.0,>=4.38.0 in /usr/local/lib/python3.7/dist-packages (from spacy<3.1.0,>=3.0.1->en-core-sci-md==0.4.0) (4.49.0)\n",
      "Requirement already satisfied: numpy>=1.15.0 in /usr/local/lib/python3.7/dist-packages (from spacy<3.1.0,>=3.0.1->en-core-sci-md==0.4.0) (1.19.5)\n",
      "Requirement already satisfied: jinja2 in /usr/local/lib/python3.7/dist-packages (from spacy<3.1.0,>=3.0.1->en-core-sci-md==0.4.0) (2.11.3)\n",
      "Requirement already satisfied: catalogue<2.1.0,>=2.0.4 in /usr/local/lib/python3.7/dist-packages (from spacy<3.1.0,>=3.0.1->en-core-sci-md==0.4.0) (2.0.6)\n",
      "Requirement already satisfied: zipp>=0.5 in /usr/local/lib/python3.7/dist-packages (from catalogue<2.1.0,>=2.0.4->spacy<3.1.0,>=3.0.1->en-core-sci-md==0.4.0) (3.5.0)\n",
      "Requirement already satisfied: pyparsing>=2.0.2 in /usr/local/lib/python3.7/dist-packages (from packaging>=20.0->spacy<3.1.0,>=3.0.1->en-core-sci-md==0.4.0) (2.4.7)\n",
      "Requirement already satisfied: smart-open<6.0.0,>=5.0.0 in /usr/local/lib/python3.7/dist-packages (from pathy>=0.3.5->spacy<3.1.0,>=3.0.1->en-core-sci-md==0.4.0) (5.1.0)\n",
      "Requirement already satisfied: certifi>=2017.4.17 in /usr/local/lib/python3.7/dist-packages (from requests<3.0.0,>=2.13.0->spacy<3.1.0,>=3.0.1->en-core-sci-md==0.4.0) (2021.5.30)\n",
      "Requirement already satisfied: idna<3,>=2.5 in /usr/local/lib/python3.7/dist-packages (from requests<3.0.0,>=2.13.0->spacy<3.1.0,>=3.0.1->en-core-sci-md==0.4.0) (2.10)\n",
      "Requirement already satisfied: chardet<4,>=3.0.2 in /usr/local/lib/python3.7/dist-packages (from requests<3.0.0,>=2.13.0->spacy<3.1.0,>=3.0.1->en-core-sci-md==0.4.0) (3.0.4)\n",
      "Requirement already satisfied: urllib3!=1.25.0,!=1.25.1,<1.26,>=1.21.1 in /usr/local/lib/python3.7/dist-packages (from requests<3.0.0,>=2.13.0->spacy<3.1.0,>=3.0.1->en-core-sci-md==0.4.0) (1.24.3)\n",
      "Requirement already satisfied: click<7.2.0,>=7.1.1 in /usr/local/lib/python3.7/dist-packages (from typer<0.4.0,>=0.3.0->spacy<3.1.0,>=3.0.1->en-core-sci-md==0.4.0) (7.1.2)\n",
      "Requirement already satisfied: MarkupSafe>=0.23 in /usr/local/lib/python3.7/dist-packages (from jinja2->spacy<3.1.0,>=3.0.1->en-core-sci-md==0.4.0) (2.0.1)\n",
      "Building wheels for collected packages: en-core-sci-md\n",
      "  Building wheel for en-core-sci-md (setup.py) ... \u001b[?25l\u001b[?25hdone\n",
      "  Created wheel for en-core-sci-md: filename=en_core_sci_md-0.4.0-py3-none-any.whl size=125733930 sha256=2b5ae33ca2617bc5d309dcdaf1cbb3308698d655892465353e2655eb07536370\n",
      "  Stored in directory: /root/.cache/pip/wheels/43/54/a8/27fc51c81ba9feda7ba7f9031eb81e33429840cd79d141c88c\n",
      "Successfully built en-core-sci-md\n",
      "Installing collected packages: en-core-sci-md\n",
      "Successfully installed en-core-sci-md-0.4.0\n"
     ]
    }
   ],
   "source": [
    "# Get the scispacy model.\n",
    "!pip install https://s3-us-west-2.amazonaws.com/ai2-s2-scispacy/releases/v0.4.0/en_core_sci_md-0.4.0.tar.gz"
   ]
  },
  {
   "cell_type": "markdown",
   "metadata": {
    "id": "LeDNloFRyuwl"
   },
   "source": [
    "**Restart the runtime if on colab, sometimes necessary after installing models**"
   ]
  },
  {
   "cell_type": "code",
   "execution_count": null,
   "metadata": {
    "id": "3xE_gUDQXw3o"
   },
   "outputs": [],
   "source": [
    "# Import required packages\n",
    "from medcat.cdb import CDB\n",
    "from medcat.config import Config\n",
    "from medcat.cdb_maker import CDBMaker"
   ]
  },
  {
   "cell_type": "markdown",
   "metadata": {
    "id": "E7d1mvyzLBXo"
   },
   "source": [
    "#### Create concept database (cdb)"
   ]
  },
  {
   "cell_type": "code",
   "execution_count": null,
   "metadata": {
    "id": "BOJqQnzYoku6"
   },
   "outputs": [],
   "source": [
    "# First initialise the default configuration\n",
    "config = Config()\n",
    "config.general['spacy_model'] = 'en_core_sci_md'\n",
    "maker = CDBMaker(config)"
   ]
  },
  {
   "cell_type": "code",
   "execution_count": null,
   "metadata": {
    "colab": {
     "base_uri": "https://localhost:8080/"
    },
    "id": "6B4eOk-F-3F_",
    "outputId": "ea2b87f8-7b46-4fe6-cb93-ae565be6f9ce"
   },
   "outputs": [
    {
     "name": "stderr",
     "output_type": "stream",
     "text": [
      "Started importing concepts from: preprocessed_snomed.csv\n",
      "Current progress: 0% at 0.000s per 9231 rows\n",
      "Current progress: 1% at 55.210s per 9231 rows\n",
      "Current progress: 2% at 53.859s per 9231 rows\n",
      "Current progress: 3% at 53.306s per 9231 rows\n",
      "Current progress: 4% at 52.994s per 9231 rows\n",
      "Current progress: 5% at 53.183s per 9231 rows\n",
      "Current progress: 6% at 52.772s per 9231 rows\n",
      "Current progress: 7% at 53.400s per 9231 rows\n",
      "Current progress: 8% at 53.544s per 9231 rows\n",
      "Current progress: 9% at 53.441s per 9231 rows\n",
      "Current progress: 10% at 53.373s per 9231 rows\n",
      "Current progress: 11% at 53.139s per 9231 rows\n",
      "Current progress: 12% at 53.432s per 9231 rows\n",
      "Current progress: 13% at 54.119s per 9231 rows\n",
      "Current progress: 14% at 57.038s per 9231 rows\n",
      "Current progress: 15% at 52.765s per 9231 rows\n",
      "Current progress: 16% at 53.870s per 9231 rows\n",
      "Current progress: 17% at 52.843s per 9231 rows\n",
      "Current progress: 18% at 52.480s per 9231 rows\n",
      "Current progress: 19% at 53.725s per 9231 rows\n",
      "Current progress: 20% at 51.605s per 9231 rows\n",
      "Current progress: 21% at 51.518s per 9231 rows\n",
      "Current progress: 22% at 52.093s per 9231 rows\n",
      "Current progress: 23% at 55.296s per 9231 rows\n",
      "Current progress: 24% at 57.431s per 9231 rows\n",
      "Current progress: 25% at 54.461s per 9231 rows\n",
      "Current progress: 26% at 54.331s per 9231 rows\n",
      "Current progress: 27% at 53.020s per 9231 rows\n",
      "Current progress: 28% at 53.901s per 9231 rows\n",
      "Current progress: 29% at 53.801s per 9231 rows\n",
      "Current progress: 30% at 54.598s per 9231 rows\n",
      "Current progress: 31% at 55.406s per 9231 rows\n",
      "Current progress: 32% at 54.040s per 9231 rows\n",
      "Current progress: 33% at 55.327s per 9231 rows\n",
      "Current progress: 34% at 53.733s per 9231 rows\n",
      "Current progress: 35% at 56.794s per 9231 rows\n",
      "Current progress: 36% at 57.681s per 9231 rows\n",
      "Current progress: 37% at 57.643s per 9231 rows\n",
      "Current progress: 38% at 55.093s per 9231 rows\n",
      "Current progress: 39% at 37.171s per 9231 rows\n",
      "Current progress: 40% at 25.026s per 9231 rows\n",
      "Current progress: 41% at 26.463s per 9231 rows\n",
      "Current progress: 42% at 25.014s per 9231 rows\n",
      "Current progress: 43% at 25.232s per 9231 rows\n",
      "Current progress: 44% at 25.494s per 9231 rows\n",
      "Current progress: 45% at 24.800s per 9231 rows\n",
      "Current progress: 46% at 25.182s per 9231 rows\n",
      "Current progress: 47% at 25.173s per 9231 rows\n",
      "Current progress: 48% at 25.426s per 9231 rows\n",
      "Current progress: 49% at 25.611s per 9231 rows\n",
      "Current progress: 50% at 25.003s per 9231 rows\n",
      "Current progress: 51% at 25.017s per 9231 rows\n",
      "Current progress: 52% at 25.014s per 9231 rows\n",
      "Current progress: 53% at 25.083s per 9231 rows\n",
      "Current progress: 54% at 24.947s per 9231 rows\n",
      "Current progress: 55% at 25.621s per 9231 rows\n",
      "Current progress: 56% at 25.706s per 9231 rows\n",
      "Current progress: 57% at 25.613s per 9231 rows\n",
      "Current progress: 58% at 25.828s per 9231 rows\n",
      "Current progress: 59% at 25.326s per 9231 rows\n",
      "Current progress: 60% at 24.827s per 9231 rows\n",
      "Current progress: 61% at 26.253s per 9231 rows\n",
      "Current progress: 62% at 26.208s per 9231 rows\n",
      "Current progress: 63% at 27.473s per 9231 rows\n",
      "Current progress: 64% at 25.096s per 9231 rows\n",
      "Current progress: 65% at 25.642s per 9231 rows\n",
      "Current progress: 66% at 25.526s per 9231 rows\n",
      "Current progress: 67% at 25.227s per 9231 rows\n",
      "Current progress: 68% at 25.584s per 9231 rows\n",
      "Current progress: 69% at 24.345s per 9231 rows\n",
      "Current progress: 70% at 25.192s per 9231 rows\n",
      "Current progress: 71% at 25.546s per 9231 rows\n",
      "Current progress: 72% at 25.602s per 9231 rows\n",
      "Current progress: 73% at 24.551s per 9231 rows\n",
      "Current progress: 74% at 24.943s per 9231 rows\n",
      "Current progress: 75% at 24.805s per 9231 rows\n",
      "Current progress: 76% at 25.794s per 9231 rows\n",
      "Current progress: 77% at 25.876s per 9231 rows\n",
      "Current progress: 78% at 26.088s per 9231 rows\n",
      "Current progress: 79% at 25.277s per 9231 rows\n",
      "Current progress: 80% at 26.565s per 9231 rows\n",
      "Current progress: 81% at 25.703s per 9231 rows\n",
      "Current progress: 82% at 25.643s per 9231 rows\n",
      "Current progress: 83% at 24.959s per 9231 rows\n",
      "Current progress: 84% at 24.800s per 9231 rows\n",
      "Current progress: 85% at 25.392s per 9231 rows\n",
      "Current progress: 86% at 26.113s per 9231 rows\n",
      "Current progress: 87% at 26.089s per 9231 rows\n",
      "Current progress: 88% at 25.346s per 9231 rows\n",
      "Current progress: 89% at 25.667s per 9231 rows\n",
      "Current progress: 90% at 25.072s per 9231 rows\n",
      "Current progress: 91% at 26.609s per 9231 rows\n",
      "Current progress: 92% at 26.163s per 9231 rows\n",
      "Current progress: 93% at 25.331s per 9231 rows\n",
      "Current progress: 94% at 26.538s per 9231 rows\n",
      "Current progress: 95% at 26.680s per 9231 rows\n",
      "Current progress: 96% at 27.022s per 9231 rows\n",
      "Current progress: 97% at 26.182s per 9231 rows\n",
      "Current progress: 98% at 26.465s per 9231 rows\n",
      "Current progress: 99% at 26.286s per 9231 rows\n"
     ]
    }
   ],
   "source": [
    "# Create an array containing CSV files that will be used to build our CDB\n",
    "csv_path = ['preprocessed_snomed.csv']\n",
    "\n",
    "# Create your CDB\n",
    "cdb = maker.prepare_csvs(csv_path, full_build=True)"
   ]
  },
  {
   "cell_type": "markdown",
   "metadata": {
    "id": "XbHFpPVK_OWD"
   },
   "source": [
    "### Inspect your cdb"
   ]
  },
  {
   "cell_type": "code",
   "execution_count": null,
   "metadata": {
    "colab": {
     "base_uri": "https://localhost:8080/"
    },
    "id": "QLXUdQc6_Lj1",
    "outputId": "d9a768d1-7f08-4790-adfe-3d3005315e29"
   },
   "outputs": [
    {
     "name": "stdout",
     "output_type": "stream",
     "text": [
      "['84757009']\n"
     ]
    }
   ],
   "source": [
    "print(cdb.name2cuis['epilepsy'])"
   ]
  },
  {
   "cell_type": "code",
   "execution_count": null,
   "metadata": {
    "colab": {
     "base_uri": "https://localhost:8080/"
    },
    "id": "sNT_y2FK_fpF",
    "outputId": "dbd6cdf2-aa8f-40b1-d073-3e99733e8749"
   },
   "outputs": [
    {
     "name": "stdout",
     "output_type": "stream",
     "text": [
      "Epilepsy\n"
     ]
    }
   ],
   "source": [
    "print(cdb.cui2preferred_name['84757009'])"
   ]
  },
  {
   "cell_type": "code",
   "execution_count": null,
   "metadata": {
    "colab": {
     "base_uri": "https://localhost:8080/"
    },
    "id": "DGVBBaVRa_ov",
    "outputId": "d00ba1db-55fc-4fbd-a588-c8d937c31d7c"
   },
   "outputs": [
    {
     "name": "stdout",
     "output_type": "stream",
     "text": [
      "{'ep~epilepsy', 'epileptic~disorder', 'epileptic', 'epilepsy~disorder', 'epilepsy'}\n"
     ]
    }
   ],
   "source": [
    "print(cdb.cui2names['84757009'])"
   ]
  },
  {
   "cell_type": "markdown",
   "metadata": {
    "id": "_gBLnMVjNfo1"
   },
   "source": [
    "#### Enrich with extra information and mapping\n",
    "\n",
    "Mapping was created in [Mappings to inbuilt external terminologies](https://colab.research.google.com/drive/1yesqjMQwQH20Kl9w7siRGVaSWU0uI84W#scrollTo=Mappings_to_inbuilt_external_terminologies).\n",
    "Here we use [ICD-10](https://colab.research.google.com/drive/1yesqjMQwQH20Kl9w7siRGVaSWU0uI84W#scrollTo=ICD_10) as an example."
   ]
  },
  {
   "cell_type": "code",
   "execution_count": null,
   "metadata": {
    "id": "bYWF15_MNldA"
   },
   "outputs": [],
   "source": [
    "cdb.addl_info['cui2icd10'] = sctid2icd10"
   ]
  },
  {
   "cell_type": "markdown",
   "metadata": {
    "id": "Z8tL87pW_RGq"
   },
   "source": [
    "### Save your new SNOMED cdb\n",
    "\n",
    "__tip:__ good practise to include the snomed release edition file name"
   ]
  },
  {
   "cell_type": "code",
   "execution_count": null,
   "metadata": {
    "id": "wWYFAaPNvTea"
   },
   "outputs": [],
   "source": [
    "cdb.save(\"SNOMED_cdb.dat\")"
   ]
  },
  {
   "cell_type": "code",
   "execution_count": null,
   "metadata": {
    "id": "oIwALCwI4dJu"
   },
   "outputs": [],
   "source": []
  }
 ],
 "metadata": {
  "colab": {
   "collapsed_sections": [],
   "name": "Preprocessing SNOMED CT.ipynb",
   "provenance": [],
   "toc_visible": true
  },
  "kernelspec": {
   "display_name": "Python 3 (ipykernel)",
   "language": "python",
   "name": "python3"
  },
  "language_info": {
   "codemirror_mode": {
    "name": "ipython",
    "version": 3
   },
   "file_extension": ".py",
   "mimetype": "text/x-python",
   "name": "python",
   "nbconvert_exporter": "python",
   "pygments_lexer": "ipython3",
   "version": "3.8.9"
  }
 },
 "nbformat": 4,
 "nbformat_minor": 4
}
